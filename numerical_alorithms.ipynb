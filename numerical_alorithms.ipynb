{
 "cells": [
  {
   "cell_type": "markdown",
   "metadata": {},
   "source": [
    "# Определение стоимости автомобилей"
   ]
  },
  {
   "cell_type": "markdown",
   "metadata": {},
   "source": [
    "Сервис по продаже автомобилей с пробегом «Не бит, не крашен» разрабатывает приложение для привлечения новых клиентов. В нём можно быстро узнать рыночную стоимость своего автомобиля. В вашем распоряжении исторические данные: технические характеристики, комплектации и цены автомобилей. Вам нужно построить модель для определения стоимости. \n",
    "\n",
    "Заказчику важны:\n",
    "\n",
    "- качество предсказания;\n",
    "- скорость предсказания;\n",
    "- время обучения."
   ]
  },
  {
   "cell_type": "markdown",
   "metadata": {},
   "source": [
    "Добавим необходимые библиотеки."
   ]
  },
  {
   "cell_type": "code",
   "execution_count": 1,
   "metadata": {},
   "outputs": [
    {
     "name": "stdout",
     "output_type": "stream",
     "text": [
      "Note: you may need to restart the kernel to use updated packages.\n"
     ]
    }
   ],
   "source": [
    "pip install phik -q"
   ]
  },
  {
   "cell_type": "code",
   "execution_count": 2,
   "metadata": {},
   "outputs": [
    {
     "name": "stdout",
     "output_type": "stream",
     "text": [
      "Note: you may need to restart the kernel to use updated packages.\n"
     ]
    }
   ],
   "source": [
    "pip install scikit-learn -q"
   ]
  },
  {
   "cell_type": "code",
   "execution_count": 3,
   "metadata": {},
   "outputs": [],
   "source": [
    "#pandas для работы с датафреймами\n",
    "import pandas as pd\n",
    "#математические библиотеки\n",
    "import math\n",
    "import numpy as np\n",
    "#графики\n",
    "from scipy import stats as st\n",
    "import matplotlib.pyplot as plt\n",
    "import seaborn as sns\n",
    "#phik\n",
    "import phik\n",
    "#sklearn\n",
    "from sklearn.linear_model import LinearRegression\n",
    "from sklearn.model_selection import train_test_split, GridSearchCV\n",
    "from sklearn.preprocessing import StandardScaler, OrdinalEncoder\n",
    "from sklearn.tree import DecisionTreeRegressor\n",
    "from sklearn.metrics import (\n",
    "    mean_squared_error,\n",
    "    make_scorer\n",
    ")\n",
    "\n",
    "from sklearn.pipeline import Pipeline\n",
    "from sklearn.compose import ColumnTransformer\n",
    "\n",
    "from sklearn.impute import SimpleImputer\n",
    "#lgmb\n",
    "from lightgbm import LGBMRegressor\n",
    "# регулярные выражения\n",
    "import re"
   ]
  },
  {
   "cell_type": "markdown",
   "metadata": {},
   "source": [
    "## Подготовка данных"
   ]
  },
  {
   "cell_type": "markdown",
   "metadata": {},
   "source": [
    "Загрузим данные."
   ]
  },
  {
   "cell_type": "code",
   "execution_count": 4,
   "metadata": {},
   "outputs": [
    {
     "data": {
      "text/html": [
       "<div>\n",
       "<style scoped>\n",
       "    .dataframe tbody tr th:only-of-type {\n",
       "        vertical-align: middle;\n",
       "    }\n",
       "\n",
       "    .dataframe tbody tr th {\n",
       "        vertical-align: top;\n",
       "    }\n",
       "\n",
       "    .dataframe thead th {\n",
       "        text-align: right;\n",
       "    }\n",
       "</style>\n",
       "<table border=\"1\" class=\"dataframe\">\n",
       "  <thead>\n",
       "    <tr style=\"text-align: right;\">\n",
       "      <th></th>\n",
       "      <th>DateCrawled</th>\n",
       "      <th>Price</th>\n",
       "      <th>VehicleType</th>\n",
       "      <th>RegistrationYear</th>\n",
       "      <th>Gearbox</th>\n",
       "      <th>Power</th>\n",
       "      <th>Model</th>\n",
       "      <th>Kilometer</th>\n",
       "      <th>RegistrationMonth</th>\n",
       "      <th>FuelType</th>\n",
       "      <th>Brand</th>\n",
       "      <th>Repaired</th>\n",
       "      <th>DateCreated</th>\n",
       "      <th>NumberOfPictures</th>\n",
       "      <th>PostalCode</th>\n",
       "      <th>LastSeen</th>\n",
       "    </tr>\n",
       "  </thead>\n",
       "  <tbody>\n",
       "    <tr>\n",
       "      <th>0</th>\n",
       "      <td>2016-03-24 11:52:17</td>\n",
       "      <td>480</td>\n",
       "      <td>NaN</td>\n",
       "      <td>1993</td>\n",
       "      <td>manual</td>\n",
       "      <td>0</td>\n",
       "      <td>golf</td>\n",
       "      <td>150000</td>\n",
       "      <td>0</td>\n",
       "      <td>petrol</td>\n",
       "      <td>volkswagen</td>\n",
       "      <td>NaN</td>\n",
       "      <td>2016-03-24 00:00:00</td>\n",
       "      <td>0</td>\n",
       "      <td>70435</td>\n",
       "      <td>2016-04-07 03:16:57</td>\n",
       "    </tr>\n",
       "    <tr>\n",
       "      <th>1</th>\n",
       "      <td>2016-03-24 10:58:45</td>\n",
       "      <td>18300</td>\n",
       "      <td>coupe</td>\n",
       "      <td>2011</td>\n",
       "      <td>manual</td>\n",
       "      <td>190</td>\n",
       "      <td>NaN</td>\n",
       "      <td>125000</td>\n",
       "      <td>5</td>\n",
       "      <td>gasoline</td>\n",
       "      <td>audi</td>\n",
       "      <td>yes</td>\n",
       "      <td>2016-03-24 00:00:00</td>\n",
       "      <td>0</td>\n",
       "      <td>66954</td>\n",
       "      <td>2016-04-07 01:46:50</td>\n",
       "    </tr>\n",
       "    <tr>\n",
       "      <th>2</th>\n",
       "      <td>2016-03-14 12:52:21</td>\n",
       "      <td>9800</td>\n",
       "      <td>suv</td>\n",
       "      <td>2004</td>\n",
       "      <td>auto</td>\n",
       "      <td>163</td>\n",
       "      <td>grand</td>\n",
       "      <td>125000</td>\n",
       "      <td>8</td>\n",
       "      <td>gasoline</td>\n",
       "      <td>jeep</td>\n",
       "      <td>NaN</td>\n",
       "      <td>2016-03-14 00:00:00</td>\n",
       "      <td>0</td>\n",
       "      <td>90480</td>\n",
       "      <td>2016-04-05 12:47:46</td>\n",
       "    </tr>\n",
       "    <tr>\n",
       "      <th>3</th>\n",
       "      <td>2016-03-17 16:54:04</td>\n",
       "      <td>1500</td>\n",
       "      <td>small</td>\n",
       "      <td>2001</td>\n",
       "      <td>manual</td>\n",
       "      <td>75</td>\n",
       "      <td>golf</td>\n",
       "      <td>150000</td>\n",
       "      <td>6</td>\n",
       "      <td>petrol</td>\n",
       "      <td>volkswagen</td>\n",
       "      <td>no</td>\n",
       "      <td>2016-03-17 00:00:00</td>\n",
       "      <td>0</td>\n",
       "      <td>91074</td>\n",
       "      <td>2016-03-17 17:40:17</td>\n",
       "    </tr>\n",
       "    <tr>\n",
       "      <th>4</th>\n",
       "      <td>2016-03-31 17:25:20</td>\n",
       "      <td>3600</td>\n",
       "      <td>small</td>\n",
       "      <td>2008</td>\n",
       "      <td>manual</td>\n",
       "      <td>69</td>\n",
       "      <td>fabia</td>\n",
       "      <td>90000</td>\n",
       "      <td>7</td>\n",
       "      <td>gasoline</td>\n",
       "      <td>skoda</td>\n",
       "      <td>no</td>\n",
       "      <td>2016-03-31 00:00:00</td>\n",
       "      <td>0</td>\n",
       "      <td>60437</td>\n",
       "      <td>2016-04-06 10:17:21</td>\n",
       "    </tr>\n",
       "  </tbody>\n",
       "</table>\n",
       "</div>"
      ],
      "text/plain": [
       "           DateCrawled  Price VehicleType  RegistrationYear Gearbox  Power  \\\n",
       "0  2016-03-24 11:52:17    480         NaN              1993  manual      0   \n",
       "1  2016-03-24 10:58:45  18300       coupe              2011  manual    190   \n",
       "2  2016-03-14 12:52:21   9800         suv              2004    auto    163   \n",
       "3  2016-03-17 16:54:04   1500       small              2001  manual     75   \n",
       "4  2016-03-31 17:25:20   3600       small              2008  manual     69   \n",
       "\n",
       "   Model  Kilometer  RegistrationMonth  FuelType       Brand Repaired  \\\n",
       "0   golf     150000                  0    petrol  volkswagen      NaN   \n",
       "1    NaN     125000                  5  gasoline        audi      yes   \n",
       "2  grand     125000                  8  gasoline        jeep      NaN   \n",
       "3   golf     150000                  6    petrol  volkswagen       no   \n",
       "4  fabia      90000                  7  gasoline       skoda       no   \n",
       "\n",
       "           DateCreated  NumberOfPictures  PostalCode             LastSeen  \n",
       "0  2016-03-24 00:00:00                 0       70435  2016-04-07 03:16:57  \n",
       "1  2016-03-24 00:00:00                 0       66954  2016-04-07 01:46:50  \n",
       "2  2016-03-14 00:00:00                 0       90480  2016-04-05 12:47:46  \n",
       "3  2016-03-17 00:00:00                 0       91074  2016-03-17 17:40:17  \n",
       "4  2016-03-31 00:00:00                 0       60437  2016-04-06 10:17:21  "
      ]
     },
     "execution_count": 4,
     "metadata": {},
     "output_type": "execute_result"
    }
   ],
   "source": [
    "data = pd.read_csv('/datasets/autos.csv')\n",
    "data.head()"
   ]
  },
  {
   "cell_type": "markdown",
   "metadata": {},
   "source": [
    "Приведём столбцы к змеиному регистру."
   ]
  },
  {
   "cell_type": "code",
   "execution_count": 5,
   "metadata": {},
   "outputs": [],
   "source": [
    "# код ревьюера\n",
    "data = data.rename(columns=lambda x: re.sub(r'(?<!^)([A-Z])', r'_\\1', x).lower()) "
   ]
  },
  {
   "cell_type": "markdown",
   "metadata": {},
   "source": [
    "Рассмотрим датафрейм методом info."
   ]
  },
  {
   "cell_type": "code",
   "execution_count": 6,
   "metadata": {},
   "outputs": [
    {
     "name": "stdout",
     "output_type": "stream",
     "text": [
      "<class 'pandas.core.frame.DataFrame'>\n",
      "RangeIndex: 354369 entries, 0 to 354368\n",
      "Data columns (total 16 columns):\n",
      " #   Column              Non-Null Count   Dtype \n",
      "---  ------              --------------   ----- \n",
      " 0   date_crawled        354369 non-null  object\n",
      " 1   price               354369 non-null  int64 \n",
      " 2   vehicle_type        316879 non-null  object\n",
      " 3   registration_year   354369 non-null  int64 \n",
      " 4   gearbox             334536 non-null  object\n",
      " 5   power               354369 non-null  int64 \n",
      " 6   model               334664 non-null  object\n",
      " 7   kilometer           354369 non-null  int64 \n",
      " 8   registration_month  354369 non-null  int64 \n",
      " 9   fuel_type           321474 non-null  object\n",
      " 10  brand               354369 non-null  object\n",
      " 11  repaired            283215 non-null  object\n",
      " 12  date_created        354369 non-null  object\n",
      " 13  number_of_pictures  354369 non-null  int64 \n",
      " 14  postal_code         354369 non-null  int64 \n",
      " 15  last_seen           354369 non-null  object\n",
      "dtypes: int64(7), object(9)\n",
      "memory usage: 43.3+ MB\n"
     ]
    }
   ],
   "source": [
    "data.info()"
   ]
  },
  {
   "cell_type": "markdown",
   "metadata": {},
   "source": [
    "Проверим уникальные значения столбцов VehicleType, Gearbox, FuelType и Brand на уникальные значения чтобы привести похожие названия к одному виду."
   ]
  },
  {
   "cell_type": "code",
   "execution_count": 7,
   "metadata": {},
   "outputs": [
    {
     "data": {
      "text/plain": [
       "array([nan, 'coupe', 'suv', 'small', 'sedan', 'convertible', 'bus',\n",
       "       'wagon', 'other'], dtype=object)"
      ]
     },
     "execution_count": 7,
     "metadata": {},
     "output_type": "execute_result"
    }
   ],
   "source": [
    "data['vehicle_type'].unique()"
   ]
  },
  {
   "cell_type": "code",
   "execution_count": 8,
   "metadata": {},
   "outputs": [
    {
     "data": {
      "text/plain": [
       "array(['manual', 'auto', nan], dtype=object)"
      ]
     },
     "execution_count": 8,
     "metadata": {},
     "output_type": "execute_result"
    }
   ],
   "source": [
    "data['gearbox'].unique()"
   ]
  },
  {
   "cell_type": "code",
   "execution_count": 9,
   "metadata": {},
   "outputs": [
    {
     "data": {
      "text/plain": [
       "array(['petrol', 'gasoline', nan, 'lpg', 'other', 'hybrid', 'cng',\n",
       "       'electric'], dtype=object)"
      ]
     },
     "execution_count": 9,
     "metadata": {},
     "output_type": "execute_result"
    }
   ],
   "source": [
    "data['fuel_type'].unique()"
   ]
  },
  {
   "cell_type": "markdown",
   "metadata": {},
   "source": [
    "Petrol и gasoline это бензин, в разных странах используют разные термины, поэтому заменим petrol на gasoline."
   ]
  },
  {
   "cell_type": "code",
   "execution_count": 10,
   "metadata": {},
   "outputs": [
    {
     "data": {
      "text/plain": [
       "array(['gasoline', nan, 'lpg', 'other', 'hybrid', 'cng', 'electric'],\n",
       "      dtype=object)"
      ]
     },
     "execution_count": 10,
     "metadata": {},
     "output_type": "execute_result"
    }
   ],
   "source": [
    "data.loc[data['fuel_type'] == 'petrol', 'fuel_type'] = 'gasoline'\n",
    "data['fuel_type'].unique()"
   ]
  },
  {
   "cell_type": "code",
   "execution_count": 11,
   "metadata": {},
   "outputs": [
    {
     "data": {
      "text/plain": [
       "array(['volkswagen', 'audi', 'jeep', 'skoda', 'bmw', 'peugeot', 'ford',\n",
       "       'mazda', 'nissan', 'renault', 'mercedes_benz', 'opel', 'seat',\n",
       "       'citroen', 'honda', 'fiat', 'mini', 'smart', 'hyundai',\n",
       "       'sonstige_autos', 'alfa_romeo', 'subaru', 'volvo', 'mitsubishi',\n",
       "       'kia', 'suzuki', 'lancia', 'toyota', 'chevrolet', 'dacia',\n",
       "       'daihatsu', 'trabant', 'saab', 'chrysler', 'jaguar', 'daewoo',\n",
       "       'porsche', 'rover', 'land_rover', 'lada'], dtype=object)"
      ]
     },
     "execution_count": 11,
     "metadata": {},
     "output_type": "execute_result"
    }
   ],
   "source": [
    "data['brand'].unique()"
   ]
  },
  {
   "cell_type": "markdown",
   "metadata": {},
   "source": [
    "Видно что есть одинаковые названия у rover и land_rover, заменим rover на land_rover"
   ]
  },
  {
   "cell_type": "code",
   "execution_count": 12,
   "metadata": {},
   "outputs": [
    {
     "data": {
      "text/plain": [
       "array(['volkswagen', 'audi', 'jeep', 'skoda', 'bmw', 'peugeot', 'ford',\n",
       "       'mazda', 'nissan', 'renault', 'mercedes_benz', 'opel', 'seat',\n",
       "       'citroen', 'honda', 'fiat', 'mini', 'smart', 'hyundai',\n",
       "       'sonstige_autos', 'alfa_romeo', 'subaru', 'volvo', 'mitsubishi',\n",
       "       'kia', 'suzuki', 'lancia', 'toyota', 'chevrolet', 'dacia',\n",
       "       'daihatsu', 'trabant', 'saab', 'chrysler', 'jaguar', 'daewoo',\n",
       "       'porsche', 'land_rover', 'lada'], dtype=object)"
      ]
     },
     "execution_count": 12,
     "metadata": {},
     "output_type": "execute_result"
    }
   ],
   "source": [
    "data.loc[data['brand'] == 'rover', 'brand'] = 'land_rover'\n",
    "data['brand'].unique()"
   ]
  },
  {
   "cell_type": "code",
   "execution_count": 13,
   "metadata": {},
   "outputs": [
    {
     "data": {
      "text/plain": [
       "array([nan, 'yes', 'no'], dtype=object)"
      ]
     },
     "execution_count": 13,
     "metadata": {},
     "output_type": "execute_result"
    }
   ],
   "source": [
    "data['repaired'].unique()"
   ]
  },
  {
   "cell_type": "markdown",
   "metadata": {},
   "source": [
    "Найдём количетво пропусков."
   ]
  },
  {
   "cell_type": "code",
   "execution_count": 14,
   "metadata": {},
   "outputs": [
    {
     "data": {
      "text/plain": [
       "date_crawled              0\n",
       "price                     0\n",
       "vehicle_type          37490\n",
       "registration_year         0\n",
       "gearbox               19833\n",
       "power                     0\n",
       "model                 19705\n",
       "kilometer                 0\n",
       "registration_month        0\n",
       "fuel_type             32895\n",
       "brand                     0\n",
       "repaired              71154\n",
       "date_created              0\n",
       "number_of_pictures        0\n",
       "postal_code               0\n",
       "last_seen                 0\n",
       "dtype: int64"
      ]
     },
     "execution_count": 14,
     "metadata": {},
     "output_type": "execute_result"
    }
   ],
   "source": [
    "data.isna().sum()"
   ]
  },
  {
   "cell_type": "markdown",
   "metadata": {},
   "source": [
    "Чтобы заполнить пропуски необходимо проанализировать каждый столбец."
   ]
  },
  {
   "cell_type": "markdown",
   "metadata": {},
   "source": [
    "Рассмотрим столбцы VehicleType. Разные компании делают разные автомобили, поэтому нельзя заменить эти столбцы каким-то одним типом. Можно составить сводную таблицу, найти какой тип компания делает больше всего и заменить на этот тип."
   ]
  },
  {
   "cell_type": "markdown",
   "metadata": {},
   "source": [
    "Поступим так для колонки VehicleType."
   ]
  },
  {
   "cell_type": "code",
   "execution_count": 15,
   "metadata": {},
   "outputs": [
    {
     "data": {
      "text/html": [
       "<div>\n",
       "<style scoped>\n",
       "    .dataframe tbody tr th:only-of-type {\n",
       "        vertical-align: middle;\n",
       "    }\n",
       "\n",
       "    .dataframe tbody tr th {\n",
       "        vertical-align: top;\n",
       "    }\n",
       "\n",
       "    .dataframe thead th {\n",
       "        text-align: right;\n",
       "    }\n",
       "</style>\n",
       "<table border=\"1\" class=\"dataframe\">\n",
       "  <thead>\n",
       "    <tr style=\"text-align: right;\">\n",
       "      <th>brand</th>\n",
       "      <th>alfa_romeo</th>\n",
       "      <th>audi</th>\n",
       "      <th>bmw</th>\n",
       "      <th>chevrolet</th>\n",
       "      <th>chrysler</th>\n",
       "      <th>citroen</th>\n",
       "      <th>dacia</th>\n",
       "      <th>daewoo</th>\n",
       "      <th>daihatsu</th>\n",
       "      <th>fiat</th>\n",
       "      <th>...</th>\n",
       "      <th>seat</th>\n",
       "      <th>skoda</th>\n",
       "      <th>smart</th>\n",
       "      <th>sonstige_autos</th>\n",
       "      <th>subaru</th>\n",
       "      <th>suzuki</th>\n",
       "      <th>toyota</th>\n",
       "      <th>trabant</th>\n",
       "      <th>volkswagen</th>\n",
       "      <th>volvo</th>\n",
       "    </tr>\n",
       "    <tr>\n",
       "      <th>vehicle_type</th>\n",
       "      <th></th>\n",
       "      <th></th>\n",
       "      <th></th>\n",
       "      <th></th>\n",
       "      <th></th>\n",
       "      <th></th>\n",
       "      <th></th>\n",
       "      <th></th>\n",
       "      <th></th>\n",
       "      <th></th>\n",
       "      <th></th>\n",
       "      <th></th>\n",
       "      <th></th>\n",
       "      <th></th>\n",
       "      <th></th>\n",
       "      <th></th>\n",
       "      <th></th>\n",
       "      <th></th>\n",
       "      <th></th>\n",
       "      <th></th>\n",
       "      <th></th>\n",
       "    </tr>\n",
       "  </thead>\n",
       "  <tbody>\n",
       "    <tr>\n",
       "      <th>bus</th>\n",
       "      <td>NaN</td>\n",
       "      <td>10.0</td>\n",
       "      <td>7.0</td>\n",
       "      <td>159.0</td>\n",
       "      <td>436.0</td>\n",
       "      <td>1262.0</td>\n",
       "      <td>50.0</td>\n",
       "      <td>27.0</td>\n",
       "      <td>36.0</td>\n",
       "      <td>833.0</td>\n",
       "      <td>...</td>\n",
       "      <td>614.0</td>\n",
       "      <td>231.0</td>\n",
       "      <td>1.0</td>\n",
       "      <td>202.0</td>\n",
       "      <td>17.0</td>\n",
       "      <td>28.0</td>\n",
       "      <td>447.0</td>\n",
       "      <td>NaN</td>\n",
       "      <td>9536.0</td>\n",
       "      <td>NaN</td>\n",
       "    </tr>\n",
       "    <tr>\n",
       "      <th>convertible</th>\n",
       "      <td>180.0</td>\n",
       "      <td>1627.0</td>\n",
       "      <td>3266.0</td>\n",
       "      <td>17.0</td>\n",
       "      <td>238.0</td>\n",
       "      <td>114.0</td>\n",
       "      <td>NaN</td>\n",
       "      <td>1.0</td>\n",
       "      <td>17.0</td>\n",
       "      <td>520.0</td>\n",
       "      <td>...</td>\n",
       "      <td>NaN</td>\n",
       "      <td>4.0</td>\n",
       "      <td>1132.0</td>\n",
       "      <td>330.0</td>\n",
       "      <td>1.0</td>\n",
       "      <td>36.0</td>\n",
       "      <td>65.0</td>\n",
       "      <td>37.0</td>\n",
       "      <td>2963.0</td>\n",
       "      <td>75.0</td>\n",
       "    </tr>\n",
       "    <tr>\n",
       "      <th>coupe</th>\n",
       "      <td>229.0</td>\n",
       "      <td>1499.0</td>\n",
       "      <td>3809.0</td>\n",
       "      <td>90.0</td>\n",
       "      <td>48.0</td>\n",
       "      <td>152.0</td>\n",
       "      <td>NaN</td>\n",
       "      <td>8.0</td>\n",
       "      <td>NaN</td>\n",
       "      <td>177.0</td>\n",
       "      <td>...</td>\n",
       "      <td>87.0</td>\n",
       "      <td>10.0</td>\n",
       "      <td>341.0</td>\n",
       "      <td>230.0</td>\n",
       "      <td>8.0</td>\n",
       "      <td>8.0</td>\n",
       "      <td>232.0</td>\n",
       "      <td>4.0</td>\n",
       "      <td>1784.0</td>\n",
       "      <td>69.0</td>\n",
       "    </tr>\n",
       "    <tr>\n",
       "      <th>other</th>\n",
       "      <td>15.0</td>\n",
       "      <td>110.0</td>\n",
       "      <td>242.0</td>\n",
       "      <td>46.0</td>\n",
       "      <td>10.0</td>\n",
       "      <td>121.0</td>\n",
       "      <td>6.0</td>\n",
       "      <td>5.0</td>\n",
       "      <td>12.0</td>\n",
       "      <td>184.0</td>\n",
       "      <td>...</td>\n",
       "      <td>74.0</td>\n",
       "      <td>26.0</td>\n",
       "      <td>9.0</td>\n",
       "      <td>256.0</td>\n",
       "      <td>6.0</td>\n",
       "      <td>14.0</td>\n",
       "      <td>21.0</td>\n",
       "      <td>7.0</td>\n",
       "      <td>760.0</td>\n",
       "      <td>5.0</td>\n",
       "    </tr>\n",
       "    <tr>\n",
       "      <th>sedan</th>\n",
       "      <td>945.0</td>\n",
       "      <td>10965.0</td>\n",
       "      <td>17585.0</td>\n",
       "      <td>231.0</td>\n",
       "      <td>295.0</td>\n",
       "      <td>714.0</td>\n",
       "      <td>103.0</td>\n",
       "      <td>107.0</td>\n",
       "      <td>47.0</td>\n",
       "      <td>904.0</td>\n",
       "      <td>...</td>\n",
       "      <td>1781.0</td>\n",
       "      <td>911.0</td>\n",
       "      <td>29.0</td>\n",
       "      <td>486.0</td>\n",
       "      <td>168.0</td>\n",
       "      <td>183.0</td>\n",
       "      <td>895.0</td>\n",
       "      <td>230.0</td>\n",
       "      <td>19738.0</td>\n",
       "      <td>643.0</td>\n",
       "    </tr>\n",
       "    <tr>\n",
       "      <th>small</th>\n",
       "      <td>239.0</td>\n",
       "      <td>1571.0</td>\n",
       "      <td>448.0</td>\n",
       "      <td>582.0</td>\n",
       "      <td>12.0</td>\n",
       "      <td>1590.0</td>\n",
       "      <td>223.0</td>\n",
       "      <td>268.0</td>\n",
       "      <td>527.0</td>\n",
       "      <td>5308.0</td>\n",
       "      <td>...</td>\n",
       "      <td>3119.0</td>\n",
       "      <td>1124.0</td>\n",
       "      <td>3267.0</td>\n",
       "      <td>261.0</td>\n",
       "      <td>119.0</td>\n",
       "      <td>985.0</td>\n",
       "      <td>1588.0</td>\n",
       "      <td>58.0</td>\n",
       "      <td>18531.0</td>\n",
       "      <td>7.0</td>\n",
       "    </tr>\n",
       "    <tr>\n",
       "      <th>suv</th>\n",
       "      <td>1.0</td>\n",
       "      <td>180.0</td>\n",
       "      <td>818.0</td>\n",
       "      <td>384.0</td>\n",
       "      <td>23.0</td>\n",
       "      <td>36.0</td>\n",
       "      <td>215.0</td>\n",
       "      <td>1.0</td>\n",
       "      <td>49.0</td>\n",
       "      <td>24.0</td>\n",
       "      <td>...</td>\n",
       "      <td>4.0</td>\n",
       "      <td>173.0</td>\n",
       "      <td>NaN</td>\n",
       "      <td>429.0</td>\n",
       "      <td>62.0</td>\n",
       "      <td>749.0</td>\n",
       "      <td>445.0</td>\n",
       "      <td>1.0</td>\n",
       "      <td>1331.0</td>\n",
       "      <td>221.0</td>\n",
       "    </tr>\n",
       "    <tr>\n",
       "      <th>wagon</th>\n",
       "      <td>457.0</td>\n",
       "      <td>11081.0</td>\n",
       "      <td>7929.0</td>\n",
       "      <td>110.0</td>\n",
       "      <td>244.0</td>\n",
       "      <td>629.0</td>\n",
       "      <td>252.0</td>\n",
       "      <td>47.0</td>\n",
       "      <td>17.0</td>\n",
       "      <td>455.0</td>\n",
       "      <td>...</td>\n",
       "      <td>399.0</td>\n",
       "      <td>2709.0</td>\n",
       "      <td>9.0</td>\n",
       "      <td>139.0</td>\n",
       "      <td>300.0</td>\n",
       "      <td>89.0</td>\n",
       "      <td>572.0</td>\n",
       "      <td>79.0</td>\n",
       "      <td>12660.0</td>\n",
       "      <td>1989.0</td>\n",
       "    </tr>\n",
       "  </tbody>\n",
       "</table>\n",
       "<p>8 rows × 39 columns</p>\n",
       "</div>"
      ],
      "text/plain": [
       "brand         alfa_romeo     audi      bmw  chevrolet  chrysler  citroen  \\\n",
       "vehicle_type                                                               \n",
       "bus                  NaN     10.0      7.0      159.0     436.0   1262.0   \n",
       "convertible        180.0   1627.0   3266.0       17.0     238.0    114.0   \n",
       "coupe              229.0   1499.0   3809.0       90.0      48.0    152.0   \n",
       "other               15.0    110.0    242.0       46.0      10.0    121.0   \n",
       "sedan              945.0  10965.0  17585.0      231.0     295.0    714.0   \n",
       "small              239.0   1571.0    448.0      582.0      12.0   1590.0   \n",
       "suv                  1.0    180.0    818.0      384.0      23.0     36.0   \n",
       "wagon              457.0  11081.0   7929.0      110.0     244.0    629.0   \n",
       "\n",
       "brand         dacia  daewoo  daihatsu    fiat  ...    seat   skoda   smart  \\\n",
       "vehicle_type                                   ...                           \n",
       "bus            50.0    27.0      36.0   833.0  ...   614.0   231.0     1.0   \n",
       "convertible     NaN     1.0      17.0   520.0  ...     NaN     4.0  1132.0   \n",
       "coupe           NaN     8.0       NaN   177.0  ...    87.0    10.0   341.0   \n",
       "other           6.0     5.0      12.0   184.0  ...    74.0    26.0     9.0   \n",
       "sedan         103.0   107.0      47.0   904.0  ...  1781.0   911.0    29.0   \n",
       "small         223.0   268.0     527.0  5308.0  ...  3119.0  1124.0  3267.0   \n",
       "suv           215.0     1.0      49.0    24.0  ...     4.0   173.0     NaN   \n",
       "wagon         252.0    47.0      17.0   455.0  ...   399.0  2709.0     9.0   \n",
       "\n",
       "brand         sonstige_autos  subaru  suzuki  toyota  trabant  volkswagen  \\\n",
       "vehicle_type                                                                \n",
       "bus                    202.0    17.0    28.0   447.0      NaN      9536.0   \n",
       "convertible            330.0     1.0    36.0    65.0     37.0      2963.0   \n",
       "coupe                  230.0     8.0     8.0   232.0      4.0      1784.0   \n",
       "other                  256.0     6.0    14.0    21.0      7.0       760.0   \n",
       "sedan                  486.0   168.0   183.0   895.0    230.0     19738.0   \n",
       "small                  261.0   119.0   985.0  1588.0     58.0     18531.0   \n",
       "suv                    429.0    62.0   749.0   445.0      1.0      1331.0   \n",
       "wagon                  139.0   300.0    89.0   572.0     79.0     12660.0   \n",
       "\n",
       "brand          volvo  \n",
       "vehicle_type          \n",
       "bus              NaN  \n",
       "convertible     75.0  \n",
       "coupe           69.0  \n",
       "other            5.0  \n",
       "sedan          643.0  \n",
       "small            7.0  \n",
       "suv            221.0  \n",
       "wagon         1989.0  \n",
       "\n",
       "[8 rows x 39 columns]"
      ]
     },
     "execution_count": 15,
     "metadata": {},
     "output_type": "execute_result"
    }
   ],
   "source": [
    "data_pivot_brand = data.pivot_table(index='vehicle_type', columns='brand', values='registration_year', aggfunc='count')\n",
    "data_pivot_brand"
   ]
  },
  {
   "cell_type": "markdown",
   "metadata": {},
   "source": [
    "Найдём тип кузова для каждого бренда."
   ]
  },
  {
   "cell_type": "code",
   "execution_count": 16,
   "metadata": {},
   "outputs": [
    {
     "data": {
      "text/plain": [
       "brand\n",
       "alfa_romeo              sedan\n",
       "audi                    wagon\n",
       "bmw                     sedan\n",
       "chevrolet               small\n",
       "chrysler                  bus\n",
       "citroen                 small\n",
       "dacia                   wagon\n",
       "daewoo                  small\n",
       "daihatsu                small\n",
       "fiat                    small\n",
       "ford                    small\n",
       "honda                   sedan\n",
       "hyundai                 small\n",
       "jaguar                  sedan\n",
       "jeep                      suv\n",
       "kia                       suv\n",
       "lada                      suv\n",
       "lancia                  small\n",
       "land_rover                suv\n",
       "mazda                   sedan\n",
       "mercedes_benz           sedan\n",
       "mini                    small\n",
       "mitsubishi              sedan\n",
       "nissan                  small\n",
       "opel                    small\n",
       "peugeot                 small\n",
       "porsche           convertible\n",
       "renault                 small\n",
       "saab                    sedan\n",
       "seat                    small\n",
       "skoda                   wagon\n",
       "smart                   small\n",
       "sonstige_autos          sedan\n",
       "subaru                  wagon\n",
       "suzuki                  small\n",
       "toyota                  small\n",
       "trabant                 sedan\n",
       "volkswagen              sedan\n",
       "volvo                   wagon\n",
       "dtype: object"
      ]
     },
     "execution_count": 16,
     "metadata": {},
     "output_type": "execute_result"
    }
   ],
   "source": [
    "data_brand_max = data_pivot_brand.idxmax()\n",
    "data_brand_max"
   ]
  },
  {
   "cell_type": "markdown",
   "metadata": {},
   "source": [
    "Преобразуем эту переменную в словарь."
   ]
  },
  {
   "cell_type": "code",
   "execution_count": 17,
   "metadata": {},
   "outputs": [
    {
     "data": {
      "text/plain": [
       "{'alfa_romeo': 'sedan',\n",
       " 'audi': 'wagon',\n",
       " 'bmw': 'sedan',\n",
       " 'chevrolet': 'small',\n",
       " 'chrysler': 'bus',\n",
       " 'citroen': 'small',\n",
       " 'dacia': 'wagon',\n",
       " 'daewoo': 'small',\n",
       " 'daihatsu': 'small',\n",
       " 'fiat': 'small',\n",
       " 'ford': 'small',\n",
       " 'honda': 'sedan',\n",
       " 'hyundai': 'small',\n",
       " 'jaguar': 'sedan',\n",
       " 'jeep': 'suv',\n",
       " 'kia': 'suv',\n",
       " 'lada': 'suv',\n",
       " 'lancia': 'small',\n",
       " 'land_rover': 'suv',\n",
       " 'mazda': 'sedan',\n",
       " 'mercedes_benz': 'sedan',\n",
       " 'mini': 'small',\n",
       " 'mitsubishi': 'sedan',\n",
       " 'nissan': 'small',\n",
       " 'opel': 'small',\n",
       " 'peugeot': 'small',\n",
       " 'porsche': 'convertible',\n",
       " 'renault': 'small',\n",
       " 'saab': 'sedan',\n",
       " 'seat': 'small',\n",
       " 'skoda': 'wagon',\n",
       " 'smart': 'small',\n",
       " 'sonstige_autos': 'sedan',\n",
       " 'subaru': 'wagon',\n",
       " 'suzuki': 'small',\n",
       " 'toyota': 'small',\n",
       " 'trabant': 'sedan',\n",
       " 'volkswagen': 'sedan',\n",
       " 'volvo': 'wagon'}"
      ]
     },
     "execution_count": 17,
     "metadata": {},
     "output_type": "execute_result"
    }
   ],
   "source": [
    "data_brand_dict = data_brand_max.to_dict()\n",
    "data_brand_dict"
   ]
  },
  {
   "cell_type": "markdown",
   "metadata": {},
   "source": [
    "Заполним пропуски для каждого бренда."
   ]
  },
  {
   "cell_type": "code",
   "execution_count": 18,
   "metadata": {},
   "outputs": [],
   "source": [
    "for br in data['brand'].unique(): #возможно это антипаттерн, но я не понял как сделать лучше\n",
    "    data.loc[data['brand'] == br, 'vehicle_type'] = data.loc[data['brand'] == br, 'vehicle_type'].fillna(data_brand_dict[br])"
   ]
  },
  {
   "cell_type": "code",
   "execution_count": 19,
   "metadata": {},
   "outputs": [
    {
     "data": {
      "text/plain": [
       "0"
      ]
     },
     "execution_count": 19,
     "metadata": {},
     "output_type": "execute_result"
    }
   ],
   "source": [
    "data['vehicle_type'].isna().sum()"
   ]
  },
  {
   "cell_type": "markdown",
   "metadata": {},
   "source": [
    "Рассмотрим столбец FuelType. Чаще всего машины используют бензин, поэтому заполним пропуски бензином."
   ]
  },
  {
   "cell_type": "code",
   "execution_count": 20,
   "metadata": {},
   "outputs": [
    {
     "data": {
      "text/plain": [
       "0"
      ]
     },
     "execution_count": 20,
     "metadata": {},
     "output_type": "execute_result"
    }
   ],
   "source": [
    "data['fuel_type'] = data['fuel_type'].fillna('gasoline')\n",
    "data['fuel_type'].isna().sum()"
   ]
  },
  {
   "cell_type": "code",
   "execution_count": 21,
   "metadata": {},
   "outputs": [
    {
     "data": {
      "text/plain": [
       "date_crawled              0\n",
       "price                     0\n",
       "vehicle_type              0\n",
       "registration_year         0\n",
       "gearbox               19833\n",
       "power                     0\n",
       "model                 19705\n",
       "kilometer                 0\n",
       "registration_month        0\n",
       "fuel_type                 0\n",
       "brand                     0\n",
       "repaired              71154\n",
       "date_created              0\n",
       "number_of_pictures        0\n",
       "postal_code               0\n",
       "last_seen                 0\n",
       "dtype: int64"
      ]
     },
     "execution_count": 21,
     "metadata": {},
     "output_type": "execute_result"
    }
   ],
   "source": [
    "data.isna().sum()"
   ]
  },
  {
   "cell_type": "markdown",
   "metadata": {},
   "source": [
    "Рассмотрим столбец Gearbox. Посмотрим тип коробки передач, которой больше."
   ]
  },
  {
   "cell_type": "code",
   "execution_count": 22,
   "metadata": {},
   "outputs": [
    {
     "data": {
      "text/plain": [
       "manual    268251\n",
       "auto       66285\n",
       "Name: gearbox, dtype: int64"
      ]
     },
     "execution_count": 22,
     "metadata": {},
     "output_type": "execute_result"
    }
   ],
   "source": [
    "data['gearbox'].value_counts()"
   ]
  },
  {
   "cell_type": "markdown",
   "metadata": {},
   "source": [
    "Больше механической, поэтому заменим пропуски на manual."
   ]
  },
  {
   "cell_type": "code",
   "execution_count": 23,
   "metadata": {},
   "outputs": [
    {
     "data": {
      "text/plain": [
       "0"
      ]
     },
     "execution_count": 23,
     "metadata": {},
     "output_type": "execute_result"
    }
   ],
   "source": [
    "data['gearbox'] = data['gearbox'].fillna('manual')\n",
    "data['gearbox'].isna().sum()"
   ]
  },
  {
   "cell_type": "markdown",
   "metadata": {},
   "source": [
    "Рассмотрим столбец Repaired. Скорее всего пропуски означают, что машина не ремонтировалась, поэтому заменим пропуски на no."
   ]
  },
  {
   "cell_type": "code",
   "execution_count": 24,
   "metadata": {},
   "outputs": [
    {
     "data": {
      "text/plain": [
       "0"
      ]
     },
     "execution_count": 24,
     "metadata": {},
     "output_type": "execute_result"
    }
   ],
   "source": [
    "data['repaired'] = data['repaired'].fillna('no')\n",
    "data['repaired'].isna().sum()"
   ]
  },
  {
   "cell_type": "markdown",
   "metadata": {},
   "source": [
    "Остался столбец Model, неизвестно какая конкретно модель у каждого автомобиля, поэтому пропуски придётся оставить."
   ]
  },
  {
   "cell_type": "markdown",
   "metadata": {},
   "source": [
    "Найдём аномалии в количественных переменных с помощью гистограмм."
   ]
  },
  {
   "cell_type": "markdown",
   "metadata": {},
   "source": [
    "Рассмотрим столбец Power."
   ]
  },
  {
   "cell_type": "code",
   "execution_count": 25,
   "metadata": {},
   "outputs": [
    {
     "data": {
      "image/png": "[encoded data removed]",
      "text/plain": [
       "<Figure size 864x504 with 1 Axes>"
      ]
     },
     "metadata": {
      "needs_background": "light"
     },
     "output_type": "display_data"
    }
   ],
   "source": [
    "ax = data['power'].hist(\n",
    "    bins=50,\n",
    "    figsize=(12, 7)\n",
    ")\n",
    "ax.set_xlabel('Мощность');"
   ]
  },
  {
   "cell_type": "markdown",
   "metadata": {},
   "source": [
    "Виднеется аномалия, удалим её"
   ]
  },
  {
   "cell_type": "code",
   "execution_count": 26,
   "metadata": {},
   "outputs": [],
   "source": [
    "data = data.query('power < 600')"
   ]
  },
  {
   "cell_type": "markdown",
   "metadata": {},
   "source": [
    "Построим гистограмму для новых данных"
   ]
  },
  {
   "cell_type": "code",
   "execution_count": 27,
   "metadata": {},
   "outputs": [
    {
     "data": {
      "image/png": "[encoded data removed]",
      "text/plain": [
       "<Figure size 864x504 with 1 Axes>"
      ]
     },
     "metadata": {
      "needs_background": "light"
     },
     "output_type": "display_data"
    }
   ],
   "source": [
    "ax = data['power'].hist(\n",
    "    bins=50,\n",
    "    figsize=(12, 7)\n",
    ")\n",
    "ax.set_xlabel('Мощность');"
   ]
  },
  {
   "cell_type": "markdown",
   "metadata": {},
   "source": [
    "Очевидно мощность не может равняться нулю, исправим это"
   ]
  },
  {
   "cell_type": "code",
   "execution_count": 28,
   "metadata": {},
   "outputs": [],
   "source": [
    "data = data.query('power > 0')"
   ]
  },
  {
   "cell_type": "code",
   "execution_count": 29,
   "metadata": {},
   "outputs": [
    {
     "data": {
      "image/png": "[encoded data removed]",
      "text/plain": [
       "<Figure size 864x504 with 1 Axes>"
      ]
     },
     "metadata": {
      "needs_background": "light"
     },
     "output_type": "display_data"
    }
   ],
   "source": [
    "ax = data['power'].hist(\n",
    "    bins=50,\n",
    "    figsize=(12, 7)\n",
    ")\n",
    "ax.set_xlabel('Мощность');"
   ]
  },
  {
   "cell_type": "markdown",
   "metadata": {},
   "source": [
    "Рассмотрим пробег."
   ]
  },
  {
   "cell_type": "code",
   "execution_count": 30,
   "metadata": {},
   "outputs": [
    {
     "data": {
      "image/png": "[encoded data removed]",
      "text/plain": [
       "<Figure size 864x576 with 1 Axes>"
      ]
     },
     "metadata": {
      "needs_background": "light"
     },
     "output_type": "display_data"
    }
   ],
   "source": [
    "plt.figure(figsize=(12, 8))\n",
    "ax = sns.countplot(data=data, x='kilometer')\n",
    "ax.set_xlabel('Пробег');"
   ]
  },
  {
   "cell_type": "markdown",
   "metadata": {},
   "source": [
    "Рассмотрим дату регистрации"
   ]
  },
  {
   "cell_type": "code",
   "execution_count": 31,
   "metadata": {},
   "outputs": [
    {
     "data": {
      "image/png": "[encoded data removed]",
      "text/plain": [
       "<Figure size 864x504 with 1 Axes>"
      ]
     },
     "metadata": {
      "needs_background": "light"
     },
     "output_type": "display_data"
    }
   ],
   "source": [
    "ax = data['registration_year'].hist(\n",
    "    bins=50,\n",
    "    figsize=(12, 7)\n",
    ")\n",
    "ax.set_xlabel('Дата регистрации');"
   ]
  },
  {
   "cell_type": "markdown",
   "metadata": {},
   "source": [
    "Дата не может быть больше 2016, исправим это."
   ]
  },
  {
   "cell_type": "code",
   "execution_count": 32,
   "metadata": {},
   "outputs": [],
   "source": [
    "data = data.query('registration_year < 2016')"
   ]
  },
  {
   "cell_type": "code",
   "execution_count": 33,
   "metadata": {},
   "outputs": [
    {
     "data": {
      "image/png": "[encoded data removed]",
      "text/plain": [
       "<Figure size 864x504 with 1 Axes>"
      ]
     },
     "metadata": {
      "needs_background": "light"
     },
     "output_type": "display_data"
    }
   ],
   "source": [
    "ax = data['registration_year'].hist(\n",
    "    bins=50,\n",
    "    figsize=(12, 7)\n",
    ")\n",
    "ax.set_xlabel('Дата регистрации');"
   ]
  },
  {
   "cell_type": "code",
   "execution_count": 34,
   "metadata": {},
   "outputs": [],
   "source": [
    "data = data.query('registration_year > 1950')"
   ]
  },
  {
   "cell_type": "code",
   "execution_count": 35,
   "metadata": {},
   "outputs": [
    {
     "data": {
      "image/png": "[encoded data removed]",
      "text/plain": [
       "<Figure size 864x504 with 1 Axes>"
      ]
     },
     "metadata": {
      "needs_background": "light"
     },
     "output_type": "display_data"
    }
   ],
   "source": [
    "ax = data['registration_year'].hist(\n",
    "    bins=50,\n",
    "    figsize=(12, 7)\n",
    ")\n",
    "ax.set_xlabel('Дата регистрации');"
   ]
  },
  {
   "cell_type": "markdown",
   "metadata": {},
   "source": [
    "Была выполнена предобработка, в столбцах brand и fuel_type были разные значения, которые по смыслу являлись одинаковыми, я это исправил. В количественных признаках виднелись аномалии, они были удалены."
   ]
  },
  {
   "cell_type": "markdown",
   "metadata": {},
   "source": [
    "## Обучение моделей"
   ]
  },
  {
   "cell_type": "markdown",
   "metadata": {},
   "source": [
    "Рассмотрим входные признаки и отберём среди них те, которые подходят для машинного обучения."
   ]
  },
  {
   "cell_type": "markdown",
   "metadata": {},
   "source": [
    "<font color='red'>\n",
    "1. DateCrawled. Цена не зависит от даты скачивания анкеты. Не подходит.\n",
    "    </font>\n",
    "    <br />\n",
    "    \n",
    "<font color='green'>\n",
    "2. VehicleType. Тип кузова влияет на цену. Подходит.\n",
    "    </font>\n",
    "    <br />\n",
    "    \n",
    "<font color='green'>\n",
    "3. RegistrationYear. Год выпуска должен влиять на цену. Подходит.\n",
    "    </font>\n",
    "    <br />\n",
    "    \n",
    "<font color='green'>\n",
    "4. Gearbox . Так же влияет на цену. Подходит.\n",
    "    </font>\n",
    "    <br />\n",
    "\n",
    "<font color='green'>\n",
    "5. Power. Мощность прямо пропорциональна цене. Подходит.\n",
    "    </font>\n",
    "    <br />\n",
    " \n",
    "<font color='red'>\n",
    "6. Model. Моделей автомобилей очень много, к тому же это категориальный признак, это может значительно увеличить время обучения модели. Не подходит.\n",
    "    </font>\n",
    "    <br />\n",
    "  \n",
    "<font color='green'>\n",
    "7. Kilometer. Пробег будет влиять на цену так как б/у машины дешевле. Подходит.\n",
    "    </font>\n",
    "    <br />\n",
    "  \n",
    "<font color='red'>\n",
    "8. RegistrationMonth. Без привязки к году непонятно как месяц повлияет на модель. Не подходит.\n",
    "    </font>\n",
    "    <br />\n",
    "    \n",
    "<font color='green'>\n",
    "9. FuelType. Разные типы топлива должны влиять на цену. Подходит.\n",
    "    </font>\n",
    "    <br />\n",
    "    \n",
    "<font color='green'>\n",
    "10. Brand. Очевидно подходит.\n",
    "    </font>\n",
    "    <br />\n",
    "    \n",
    "<font color='green'>\n",
    "11. Repaired. Б/у автомобили дешевле. Подходит.\n",
    "    </font>\n",
    "    <br />\n",
    "    \n",
    "<font color='red'>\n",
    "12. DateCreated. Показывает данные пользователя, а не автомобиля. Не подходит.\n",
    "    </font>\n",
    "    <br />\n",
    "    \n",
    "<font color='red'>\n",
    "13. NumberOfPictures. Показывает сколько фотографий сделал владелец. Не подходит.\n",
    "    </font>\n",
    "    <br />\n",
    "    \n",
    "<font color='red'>\n",
    "14. PostalCode. Без привязке к стране почтовых индексов много, это говорит только о пользователе. Не подходит.\n",
    "    </font>\n",
    "    <br />\n",
    "    \n",
    "<font color='red'>\n",
    "15. LastSeen. Информация только о пользователе. Не подходит.\n",
    "    </font>\n",
    "    <br />"
   ]
  },
  {
   "cell_type": "markdown",
   "metadata": {},
   "source": [
    "Удалим ненужные столбцы."
   ]
  },
  {
   "cell_type": "code",
   "execution_count": 36,
   "metadata": {},
   "outputs": [
    {
     "name": "stdout",
     "output_type": "stream",
     "text": [
      "<class 'pandas.core.frame.DataFrame'>\n",
      "Int64Index: 296130 entries, 1 to 354368\n",
      "Data columns (total 16 columns):\n",
      " #   Column              Non-Null Count   Dtype \n",
      "---  ------              --------------   ----- \n",
      " 0   date_crawled        296130 non-null  object\n",
      " 1   price               296130 non-null  int64 \n",
      " 2   vehicle_type        296130 non-null  object\n",
      " 3   registration_year   296130 non-null  int64 \n",
      " 4   gearbox             296130 non-null  object\n",
      " 5   power               296130 non-null  int64 \n",
      " 6   model               284995 non-null  object\n",
      " 7   kilometer           296130 non-null  int64 \n",
      " 8   registration_month  296130 non-null  int64 \n",
      " 9   fuel_type           296130 non-null  object\n",
      " 10  brand               296130 non-null  object\n",
      " 11  repaired            296130 non-null  object\n",
      " 12  date_created        296130 non-null  object\n",
      " 13  number_of_pictures  296130 non-null  int64 \n",
      " 14  postal_code         296130 non-null  int64 \n",
      " 15  last_seen           296130 non-null  object\n",
      "dtypes: int64(7), object(9)\n",
      "memory usage: 38.4+ MB\n"
     ]
    }
   ],
   "source": [
    "data.info()"
   ]
  },
  {
   "cell_type": "code",
   "execution_count": 37,
   "metadata": {},
   "outputs": [
    {
     "data": {
      "text/html": [
       "<div>\n",
       "<style scoped>\n",
       "    .dataframe tbody tr th:only-of-type {\n",
       "        vertical-align: middle;\n",
       "    }\n",
       "\n",
       "    .dataframe tbody tr th {\n",
       "        vertical-align: top;\n",
       "    }\n",
       "\n",
       "    .dataframe thead th {\n",
       "        text-align: right;\n",
       "    }\n",
       "</style>\n",
       "<table border=\"1\" class=\"dataframe\">\n",
       "  <thead>\n",
       "    <tr style=\"text-align: right;\">\n",
       "      <th></th>\n",
       "      <th>price</th>\n",
       "      <th>vehicle_type</th>\n",
       "      <th>registration_year</th>\n",
       "      <th>gearbox</th>\n",
       "      <th>power</th>\n",
       "      <th>kilometer</th>\n",
       "      <th>fuel_type</th>\n",
       "      <th>brand</th>\n",
       "      <th>repaired</th>\n",
       "    </tr>\n",
       "  </thead>\n",
       "  <tbody>\n",
       "    <tr>\n",
       "      <th>1</th>\n",
       "      <td>18300</td>\n",
       "      <td>coupe</td>\n",
       "      <td>2011</td>\n",
       "      <td>manual</td>\n",
       "      <td>190</td>\n",
       "      <td>125000</td>\n",
       "      <td>gasoline</td>\n",
       "      <td>audi</td>\n",
       "      <td>yes</td>\n",
       "    </tr>\n",
       "    <tr>\n",
       "      <th>2</th>\n",
       "      <td>9800</td>\n",
       "      <td>suv</td>\n",
       "      <td>2004</td>\n",
       "      <td>auto</td>\n",
       "      <td>163</td>\n",
       "      <td>125000</td>\n",
       "      <td>gasoline</td>\n",
       "      <td>jeep</td>\n",
       "      <td>no</td>\n",
       "    </tr>\n",
       "    <tr>\n",
       "      <th>3</th>\n",
       "      <td>1500</td>\n",
       "      <td>small</td>\n",
       "      <td>2001</td>\n",
       "      <td>manual</td>\n",
       "      <td>75</td>\n",
       "      <td>150000</td>\n",
       "      <td>gasoline</td>\n",
       "      <td>volkswagen</td>\n",
       "      <td>no</td>\n",
       "    </tr>\n",
       "    <tr>\n",
       "      <th>4</th>\n",
       "      <td>3600</td>\n",
       "      <td>small</td>\n",
       "      <td>2008</td>\n",
       "      <td>manual</td>\n",
       "      <td>69</td>\n",
       "      <td>90000</td>\n",
       "      <td>gasoline</td>\n",
       "      <td>skoda</td>\n",
       "      <td>no</td>\n",
       "    </tr>\n",
       "    <tr>\n",
       "      <th>5</th>\n",
       "      <td>650</td>\n",
       "      <td>sedan</td>\n",
       "      <td>1995</td>\n",
       "      <td>manual</td>\n",
       "      <td>102</td>\n",
       "      <td>150000</td>\n",
       "      <td>gasoline</td>\n",
       "      <td>bmw</td>\n",
       "      <td>yes</td>\n",
       "    </tr>\n",
       "  </tbody>\n",
       "</table>\n",
       "</div>"
      ],
      "text/plain": [
       "   price vehicle_type  registration_year gearbox  power  kilometer fuel_type  \\\n",
       "1  18300        coupe               2011  manual    190     125000  gasoline   \n",
       "2   9800          suv               2004    auto    163     125000  gasoline   \n",
       "3   1500        small               2001  manual     75     150000  gasoline   \n",
       "4   3600        small               2008  manual     69      90000  gasoline   \n",
       "5    650        sedan               1995  manual    102     150000  gasoline   \n",
       "\n",
       "        brand repaired  \n",
       "1        audi      yes  \n",
       "2        jeep       no  \n",
       "3  volkswagen       no  \n",
       "4       skoda       no  \n",
       "5         bmw      yes  "
      ]
     },
     "execution_count": 37,
     "metadata": {},
     "output_type": "execute_result"
    }
   ],
   "source": [
    "good_data = data.drop(\n",
    "    ['date_crawled', 'model', 'registration_month', 'date_created', 'number_of_pictures', 'postal_code', 'last_seen'], axis=1\n",
    ")\n",
    "good_data.head()"
   ]
  },
  {
   "cell_type": "markdown",
   "metadata": {},
   "source": [
    "Построим матрицу корреляции между входными признаками."
   ]
  },
  {
   "cell_type": "code",
   "execution_count": 38,
   "metadata": {},
   "outputs": [
    {
     "name": "stdout",
     "output_type": "stream",
     "text": [
      "interval columns not set, guessing: ['registration_year', 'power', 'kilometer']\n"
     ]
    },
    {
     "data": {
      "image/png": "[encoded data removed]",
      "text/plain": [
       "<Figure size 864x720 with 2 Axes>"
      ]
     },
     "metadata": {
      "needs_background": "light"
     },
     "output_type": "display_data"
    }
   ],
   "source": [
    "#cat_name = ['vehicle_type', 'gearbox', 'fuel_type', 'brand', 'repaired']\n",
    "\n",
    "cm = good_data.drop('price', axis=1).phik_matrix()\n",
    "plt.figure(figsize=(12, 10)),\n",
    "sns.heatmap(cm, annot=True, fmt='.2f');"
   ]
  },
  {
   "cell_type": "markdown",
   "metadata": {},
   "source": [
    "Среди входных признаков нет сильной корреляции между входными признаками."
   ]
  },
  {
   "cell_type": "markdown",
   "metadata": {},
   "source": [
    "Разделим данные."
   ]
  },
  {
   "cell_type": "code",
   "execution_count": 39,
   "metadata": {},
   "outputs": [],
   "source": [
    "X_train, X_test, y_train, y_test = train_test_split(\n",
    "    good_data.drop(['price'], axis=1),\n",
    "    good_data['price'],\n",
    "    random_state = 42\n",
    ")"
   ]
  },
  {
   "cell_type": "markdown",
   "metadata": {},
   "source": [
    "Создадим пайплайны для моделей."
   ]
  },
  {
   "cell_type": "markdown",
   "metadata": {},
   "source": [
    "Выпишем количественные и категориальные признаки для моделей."
   ]
  },
  {
   "cell_type": "code",
   "execution_count": 40,
   "metadata": {},
   "outputs": [
    {
     "name": "stdout",
     "output_type": "stream",
     "text": [
      "<class 'pandas.core.frame.DataFrame'>\n",
      "Int64Index: 222097 entries, 156680 to 145820\n",
      "Data columns (total 8 columns):\n",
      " #   Column             Non-Null Count   Dtype \n",
      "---  ------             --------------   ----- \n",
      " 0   vehicle_type       222097 non-null  object\n",
      " 1   registration_year  222097 non-null  int64 \n",
      " 2   gearbox            222097 non-null  object\n",
      " 3   power              222097 non-null  int64 \n",
      " 4   kilometer          222097 non-null  int64 \n",
      " 5   fuel_type          222097 non-null  object\n",
      " 6   brand              222097 non-null  object\n",
      " 7   repaired           222097 non-null  object\n",
      "dtypes: int64(3), object(5)\n",
      "memory usage: 15.3+ MB\n"
     ]
    }
   ],
   "source": [
    "X_train.info()"
   ]
  },
  {
   "cell_type": "code",
   "execution_count": 41,
   "metadata": {},
   "outputs": [],
   "source": [
    "cat_name = ['vehicle_type', 'gearbox', 'fuel_type', 'brand', 'repaired']\n",
    "num_name = ['kilometer', 'registration_year', 'power']"
   ]
  },
  {
   "cell_type": "markdown",
   "metadata": {},
   "source": [
    "Создадим пайплайн для категориальных признаков."
   ]
  },
  {
   "cell_type": "code",
   "execution_count": 42,
   "metadata": {},
   "outputs": [],
   "source": [
    "ord_pipe = Pipeline(\n",
    "    [('simpleImputer_before_ord', SimpleImputer(missing_values=np.nan, strategy='most_frequent')),\n",
    "     ('ord',  OrdinalEncoder( \n",
    "                handle_unknown='use_encoded_value', unknown_value=np.nan\n",
    "            )\n",
    "        ),\n",
    "     ('simpleImputer_after_ord', SimpleImputer(missing_values=np.nan, strategy='most_frequent'))\n",
    "    ]\n",
    ")"
   ]
  },
  {
   "cell_type": "markdown",
   "metadata": {},
   "source": [
    "Создадим пайплайн для обработки данных."
   ]
  },
  {
   "cell_type": "code",
   "execution_count": 43,
   "metadata": {},
   "outputs": [],
   "source": [
    "data_preprocessor = ColumnTransformer(\n",
    "    [('ohe', ord_pipe, cat_name),\n",
    "     ('num', 'passthrough', num_name)\n",
    "    ], \n",
    "    remainder='passthrough'\n",
    ")"
   ]
  },
  {
   "cell_type": "markdown",
   "metadata": {},
   "source": [
    "<div class=\"alert alert-info\"> <b>Комментарии студентаV3:</b> Посоветуй пожалуйста материалы для пайплайнов, я с ними не очень разобрался.  </div>"
   ]
  },
  {
   "cell_type": "markdown",
   "metadata": {},
   "source": [
    "Создадим пайплайн для поиска лучшей модели."
   ]
  },
  {
   "cell_type": "markdown",
   "metadata": {},
   "source": [
    "Рассмотрим модель DecisionTreeRegressor."
   ]
  },
  {
   "cell_type": "code",
   "execution_count": 44,
   "metadata": {},
   "outputs": [],
   "source": [
    "pipe_final_tree = Pipeline([\n",
    "    ('preprocessor', data_preprocessor),\n",
    "    ('model', DecisionTreeRegressor(random_state = 42)\n",
    "    )\n",
    "])"
   ]
  },
  {
   "cell_type": "code",
   "execution_count": 45,
   "metadata": {},
   "outputs": [],
   "source": [
    "param_grid_tree = {\n",
    "        'model__min_samples_split': range(2, 5),\n",
    "        'model__min_samples_leaf': range(1, 5)\n",
    "    }"
   ]
  },
  {
   "cell_type": "code",
   "execution_count": 46,
   "metadata": {},
   "outputs": [],
   "source": [
    "gs_tree = GridSearchCV(\n",
    "    pipe_final_tree,\n",
    "    param_grid_tree,\n",
    "    n_jobs=-1,\n",
    "    cv=5,\n",
    "    scoring='neg_root_mean_squared_error',\n",
    "    verbose=10\n",
    ")"
   ]
  },
  {
   "cell_type": "code",
   "execution_count": 47,
   "metadata": {
    "scrolled": true
   },
   "outputs": [
    {
     "name": "stdout",
     "output_type": "stream",
     "text": [
      "Fitting 5 folds for each of 12 candidates, totalling 60 fits\n",
      "[CV 1/5; 1/12] START model__min_samples_leaf=1, model__min_samples_split=2......\n"
     ]
    },
    {
     "name": "stderr",
     "output_type": "stream",
     "text": [
      "/opt/conda/lib/python3.9/site-packages/sklearn/impute/_base.py:49: FutureWarning: Unlike other reduction functions (e.g. `skew`, `kurtosis`), the default behavior of `mode` typically preserves the axis it acts along. In SciPy 1.11.0, this behavior will change: the default value of `keepdims` will become False, the `axis` over which the statistic is taken will be eliminated, and the value None will no longer be accepted. Set `keepdims` to True or False to avoid this warning.\n",
      "  mode = stats.mode(array)\n"
     ]
    },
    {
     "name": "stdout",
     "output_type": "stream",
     "text": [
      "[CV 1/5; 1/12] END model__min_samples_leaf=1, model__min_samples_split=2; total time=   1.0s\n",
      "[CV 2/5; 1/12] START model__min_samples_leaf=1, model__min_samples_split=2......\n"
     ]
    },
    {
     "name": "stderr",
     "output_type": "stream",
     "text": [
      "/opt/conda/lib/python3.9/site-packages/sklearn/impute/_base.py:49: FutureWarning: Unlike other reduction functions (e.g. `skew`, `kurtosis`), the default behavior of `mode` typically preserves the axis it acts along. In SciPy 1.11.0, this behavior will change: the default value of `keepdims` will become False, the `axis` over which the statistic is taken will be eliminated, and the value None will no longer be accepted. Set `keepdims` to True or False to avoid this warning.\n",
      "  mode = stats.mode(array)\n"
     ]
    },
    {
     "name": "stdout",
     "output_type": "stream",
     "text": [
      "[CV 2/5; 1/12] END model__min_samples_leaf=1, model__min_samples_split=2; total time=   1.0s\n",
      "[CV 3/5; 1/12] START model__min_samples_leaf=1, model__min_samples_split=2......\n"
     ]
    },
    {
     "name": "stderr",
     "output_type": "stream",
     "text": [
      "/opt/conda/lib/python3.9/site-packages/sklearn/impute/_base.py:49: FutureWarning: Unlike other reduction functions (e.g. `skew`, `kurtosis`), the default behavior of `mode` typically preserves the axis it acts along. In SciPy 1.11.0, this behavior will change: the default value of `keepdims` will become False, the `axis` over which the statistic is taken will be eliminated, and the value None will no longer be accepted. Set `keepdims` to True or False to avoid this warning.\n",
      "  mode = stats.mode(array)\n"
     ]
    },
    {
     "name": "stdout",
     "output_type": "stream",
     "text": [
      "[CV 3/5; 1/12] END model__min_samples_leaf=1, model__min_samples_split=2; total time=   1.0s\n",
      "[CV 4/5; 1/12] START model__min_samples_leaf=1, model__min_samples_split=2......\n"
     ]
    },
    {
     "name": "stderr",
     "output_type": "stream",
     "text": [
      "/opt/conda/lib/python3.9/site-packages/sklearn/impute/_base.py:49: FutureWarning: Unlike other reduction functions (e.g. `skew`, `kurtosis`), the default behavior of `mode` typically preserves the axis it acts along. In SciPy 1.11.0, this behavior will change: the default value of `keepdims` will become False, the `axis` over which the statistic is taken will be eliminated, and the value None will no longer be accepted. Set `keepdims` to True or False to avoid this warning.\n",
      "  mode = stats.mode(array)\n"
     ]
    },
    {
     "name": "stdout",
     "output_type": "stream",
     "text": [
      "[CV 4/5; 1/12] END model__min_samples_leaf=1, model__min_samples_split=2; total time=   1.0s\n",
      "[CV 5/5; 1/12] START model__min_samples_leaf=1, model__min_samples_split=2......\n"
     ]
    },
    {
     "name": "stderr",
     "output_type": "stream",
     "text": [
      "/opt/conda/lib/python3.9/site-packages/sklearn/impute/_base.py:49: FutureWarning: Unlike other reduction functions (e.g. `skew`, `kurtosis`), the default behavior of `mode` typically preserves the axis it acts along. In SciPy 1.11.0, this behavior will change: the default value of `keepdims` will become False, the `axis` over which the statistic is taken will be eliminated, and the value None will no longer be accepted. Set `keepdims` to True or False to avoid this warning.\n",
      "  mode = stats.mode(array)\n"
     ]
    },
    {
     "name": "stdout",
     "output_type": "stream",
     "text": [
      "[CV 5/5; 1/12] END model__min_samples_leaf=1, model__min_samples_split=2; total time=   1.0s\n",
      "[CV 1/5; 2/12] START model__min_samples_leaf=1, model__min_samples_split=3......\n"
     ]
    },
    {
     "name": "stderr",
     "output_type": "stream",
     "text": [
      "/opt/conda/lib/python3.9/site-packages/sklearn/impute/_base.py:49: FutureWarning: Unlike other reduction functions (e.g. `skew`, `kurtosis`), the default behavior of `mode` typically preserves the axis it acts along. In SciPy 1.11.0, this behavior will change: the default value of `keepdims` will become False, the `axis` over which the statistic is taken will be eliminated, and the value None will no longer be accepted. Set `keepdims` to True or False to avoid this warning.\n",
      "  mode = stats.mode(array)\n"
     ]
    },
    {
     "name": "stdout",
     "output_type": "stream",
     "text": [
      "[CV 1/5; 2/12] END model__min_samples_leaf=1, model__min_samples_split=3; total time=   1.0s\n",
      "[CV 2/5; 2/12] START model__min_samples_leaf=1, model__min_samples_split=3......\n"
     ]
    },
    {
     "name": "stderr",
     "output_type": "stream",
     "text": [
      "/opt/conda/lib/python3.9/site-packages/sklearn/impute/_base.py:49: FutureWarning: Unlike other reduction functions (e.g. `skew`, `kurtosis`), the default behavior of `mode` typically preserves the axis it acts along. In SciPy 1.11.0, this behavior will change: the default value of `keepdims` will become False, the `axis` over which the statistic is taken will be eliminated, and the value None will no longer be accepted. Set `keepdims` to True or False to avoid this warning.\n",
      "  mode = stats.mode(array)\n"
     ]
    },
    {
     "name": "stdout",
     "output_type": "stream",
     "text": [
      "[CV 2/5; 2/12] END model__min_samples_leaf=1, model__min_samples_split=3; total time=   1.0s\n",
      "[CV 3/5; 2/12] START model__min_samples_leaf=1, model__min_samples_split=3......\n"
     ]
    },
    {
     "name": "stderr",
     "output_type": "stream",
     "text": [
      "/opt/conda/lib/python3.9/site-packages/sklearn/impute/_base.py:49: FutureWarning: Unlike other reduction functions (e.g. `skew`, `kurtosis`), the default behavior of `mode` typically preserves the axis it acts along. In SciPy 1.11.0, this behavior will change: the default value of `keepdims` will become False, the `axis` over which the statistic is taken will be eliminated, and the value None will no longer be accepted. Set `keepdims` to True or False to avoid this warning.\n",
      "  mode = stats.mode(array)\n"
     ]
    },
    {
     "name": "stdout",
     "output_type": "stream",
     "text": [
      "[CV 3/5; 2/12] END model__min_samples_leaf=1, model__min_samples_split=3; total time=   1.0s\n",
      "[CV 4/5; 2/12] START model__min_samples_leaf=1, model__min_samples_split=3......\n"
     ]
    },
    {
     "name": "stderr",
     "output_type": "stream",
     "text": [
      "/opt/conda/lib/python3.9/site-packages/sklearn/impute/_base.py:49: FutureWarning: Unlike other reduction functions (e.g. `skew`, `kurtosis`), the default behavior of `mode` typically preserves the axis it acts along. In SciPy 1.11.0, this behavior will change: the default value of `keepdims` will become False, the `axis` over which the statistic is taken will be eliminated, and the value None will no longer be accepted. Set `keepdims` to True or False to avoid this warning.\n",
      "  mode = stats.mode(array)\n"
     ]
    },
    {
     "name": "stdout",
     "output_type": "stream",
     "text": [
      "[CV 4/5; 2/12] END model__min_samples_leaf=1, model__min_samples_split=3; total time=   0.9s\n",
      "[CV 5/5; 2/12] START model__min_samples_leaf=1, model__min_samples_split=3......\n"
     ]
    },
    {
     "name": "stderr",
     "output_type": "stream",
     "text": [
      "/opt/conda/lib/python3.9/site-packages/sklearn/impute/_base.py:49: FutureWarning: Unlike other reduction functions (e.g. `skew`, `kurtosis`), the default behavior of `mode` typically preserves the axis it acts along. In SciPy 1.11.0, this behavior will change: the default value of `keepdims` will become False, the `axis` over which the statistic is taken will be eliminated, and the value None will no longer be accepted. Set `keepdims` to True or False to avoid this warning.\n",
      "  mode = stats.mode(array)\n"
     ]
    },
    {
     "name": "stdout",
     "output_type": "stream",
     "text": [
      "[CV 5/5; 2/12] END model__min_samples_leaf=1, model__min_samples_split=3; total time=   0.9s\n",
      "[CV 1/5; 3/12] START model__min_samples_leaf=1, model__min_samples_split=4......\n"
     ]
    },
    {
     "name": "stderr",
     "output_type": "stream",
     "text": [
      "/opt/conda/lib/python3.9/site-packages/sklearn/impute/_base.py:49: FutureWarning: Unlike other reduction functions (e.g. `skew`, `kurtosis`), the default behavior of `mode` typically preserves the axis it acts along. In SciPy 1.11.0, this behavior will change: the default value of `keepdims` will become False, the `axis` over which the statistic is taken will be eliminated, and the value None will no longer be accepted. Set `keepdims` to True or False to avoid this warning.\n",
      "  mode = stats.mode(array)\n"
     ]
    },
    {
     "name": "stdout",
     "output_type": "stream",
     "text": [
      "[CV 1/5; 3/12] END model__min_samples_leaf=1, model__min_samples_split=4; total time=   0.9s\n",
      "[CV 2/5; 3/12] START model__min_samples_leaf=1, model__min_samples_split=4......\n"
     ]
    },
    {
     "name": "stderr",
     "output_type": "stream",
     "text": [
      "/opt/conda/lib/python3.9/site-packages/sklearn/impute/_base.py:49: FutureWarning: Unlike other reduction functions (e.g. `skew`, `kurtosis`), the default behavior of `mode` typically preserves the axis it acts along. In SciPy 1.11.0, this behavior will change: the default value of `keepdims` will become False, the `axis` over which the statistic is taken will be eliminated, and the value None will no longer be accepted. Set `keepdims` to True or False to avoid this warning.\n",
      "  mode = stats.mode(array)\n"
     ]
    },
    {
     "name": "stdout",
     "output_type": "stream",
     "text": [
      "[CV 2/5; 3/12] END model__min_samples_leaf=1, model__min_samples_split=4; total time=   0.9s\n",
      "[CV 3/5; 3/12] START model__min_samples_leaf=1, model__min_samples_split=4......\n"
     ]
    },
    {
     "name": "stderr",
     "output_type": "stream",
     "text": [
      "/opt/conda/lib/python3.9/site-packages/sklearn/impute/_base.py:49: FutureWarning: Unlike other reduction functions (e.g. `skew`, `kurtosis`), the default behavior of `mode` typically preserves the axis it acts along. In SciPy 1.11.0, this behavior will change: the default value of `keepdims` will become False, the `axis` over which the statistic is taken will be eliminated, and the value None will no longer be accepted. Set `keepdims` to True or False to avoid this warning.\n",
      "  mode = stats.mode(array)\n"
     ]
    },
    {
     "name": "stdout",
     "output_type": "stream",
     "text": [
      "[CV 3/5; 3/12] END model__min_samples_leaf=1, model__min_samples_split=4; total time=   0.9s\n",
      "[CV 4/5; 3/12] START model__min_samples_leaf=1, model__min_samples_split=4......\n"
     ]
    },
    {
     "name": "stderr",
     "output_type": "stream",
     "text": [
      "/opt/conda/lib/python3.9/site-packages/sklearn/impute/_base.py:49: FutureWarning: Unlike other reduction functions (e.g. `skew`, `kurtosis`), the default behavior of `mode` typically preserves the axis it acts along. In SciPy 1.11.0, this behavior will change: the default value of `keepdims` will become False, the `axis` over which the statistic is taken will be eliminated, and the value None will no longer be accepted. Set `keepdims` to True or False to avoid this warning.\n",
      "  mode = stats.mode(array)\n"
     ]
    },
    {
     "name": "stdout",
     "output_type": "stream",
     "text": [
      "[CV 4/5; 3/12] END model__min_samples_leaf=1, model__min_samples_split=4; total time=   0.9s\n",
      "[CV 5/5; 3/12] START model__min_samples_leaf=1, model__min_samples_split=4......\n"
     ]
    },
    {
     "name": "stderr",
     "output_type": "stream",
     "text": [
      "/opt/conda/lib/python3.9/site-packages/sklearn/impute/_base.py:49: FutureWarning: Unlike other reduction functions (e.g. `skew`, `kurtosis`), the default behavior of `mode` typically preserves the axis it acts along. In SciPy 1.11.0, this behavior will change: the default value of `keepdims` will become False, the `axis` over which the statistic is taken will be eliminated, and the value None will no longer be accepted. Set `keepdims` to True or False to avoid this warning.\n",
      "  mode = stats.mode(array)\n"
     ]
    },
    {
     "name": "stdout",
     "output_type": "stream",
     "text": [
      "[CV 5/5; 3/12] END model__min_samples_leaf=1, model__min_samples_split=4; total time=   1.0s\n",
      "[CV 1/5; 4/12] START model__min_samples_leaf=2, model__min_samples_split=2......\n"
     ]
    },
    {
     "name": "stderr",
     "output_type": "stream",
     "text": [
      "/opt/conda/lib/python3.9/site-packages/sklearn/impute/_base.py:49: FutureWarning: Unlike other reduction functions (e.g. `skew`, `kurtosis`), the default behavior of `mode` typically preserves the axis it acts along. In SciPy 1.11.0, this behavior will change: the default value of `keepdims` will become False, the `axis` over which the statistic is taken will be eliminated, and the value None will no longer be accepted. Set `keepdims` to True or False to avoid this warning.\n",
      "  mode = stats.mode(array)\n"
     ]
    },
    {
     "name": "stdout",
     "output_type": "stream",
     "text": [
      "[CV 1/5; 4/12] END model__min_samples_leaf=2, model__min_samples_split=2; total time=   0.9s\n",
      "[CV 2/5; 4/12] START model__min_samples_leaf=2, model__min_samples_split=2......\n"
     ]
    },
    {
     "name": "stderr",
     "output_type": "stream",
     "text": [
      "/opt/conda/lib/python3.9/site-packages/sklearn/impute/_base.py:49: FutureWarning: Unlike other reduction functions (e.g. `skew`, `kurtosis`), the default behavior of `mode` typically preserves the axis it acts along. In SciPy 1.11.0, this behavior will change: the default value of `keepdims` will become False, the `axis` over which the statistic is taken will be eliminated, and the value None will no longer be accepted. Set `keepdims` to True or False to avoid this warning.\n",
      "  mode = stats.mode(array)\n"
     ]
    },
    {
     "name": "stdout",
     "output_type": "stream",
     "text": [
      "[CV 2/5; 4/12] END model__min_samples_leaf=2, model__min_samples_split=2; total time=   0.9s\n",
      "[CV 3/5; 4/12] START model__min_samples_leaf=2, model__min_samples_split=2......\n"
     ]
    },
    {
     "name": "stderr",
     "output_type": "stream",
     "text": [
      "/opt/conda/lib/python3.9/site-packages/sklearn/impute/_base.py:49: FutureWarning: Unlike other reduction functions (e.g. `skew`, `kurtosis`), the default behavior of `mode` typically preserves the axis it acts along. In SciPy 1.11.0, this behavior will change: the default value of `keepdims` will become False, the `axis` over which the statistic is taken will be eliminated, and the value None will no longer be accepted. Set `keepdims` to True or False to avoid this warning.\n",
      "  mode = stats.mode(array)\n"
     ]
    },
    {
     "name": "stdout",
     "output_type": "stream",
     "text": [
      "[CV 3/5; 4/12] END model__min_samples_leaf=2, model__min_samples_split=2; total time=   0.9s\n",
      "[CV 4/5; 4/12] START model__min_samples_leaf=2, model__min_samples_split=2......\n"
     ]
    },
    {
     "name": "stderr",
     "output_type": "stream",
     "text": [
      "/opt/conda/lib/python3.9/site-packages/sklearn/impute/_base.py:49: FutureWarning: Unlike other reduction functions (e.g. `skew`, `kurtosis`), the default behavior of `mode` typically preserves the axis it acts along. In SciPy 1.11.0, this behavior will change: the default value of `keepdims` will become False, the `axis` over which the statistic is taken will be eliminated, and the value None will no longer be accepted. Set `keepdims` to True or False to avoid this warning.\n",
      "  mode = stats.mode(array)\n"
     ]
    },
    {
     "name": "stdout",
     "output_type": "stream",
     "text": [
      "[CV 4/5; 4/12] END model__min_samples_leaf=2, model__min_samples_split=2; total time=   1.0s\n",
      "[CV 5/5; 4/12] START model__min_samples_leaf=2, model__min_samples_split=2......\n"
     ]
    },
    {
     "name": "stderr",
     "output_type": "stream",
     "text": [
      "/opt/conda/lib/python3.9/site-packages/sklearn/impute/_base.py:49: FutureWarning: Unlike other reduction functions (e.g. `skew`, `kurtosis`), the default behavior of `mode` typically preserves the axis it acts along. In SciPy 1.11.0, this behavior will change: the default value of `keepdims` will become False, the `axis` over which the statistic is taken will be eliminated, and the value None will no longer be accepted. Set `keepdims` to True or False to avoid this warning.\n",
      "  mode = stats.mode(array)\n"
     ]
    },
    {
     "name": "stdout",
     "output_type": "stream",
     "text": [
      "[CV 5/5; 4/12] END model__min_samples_leaf=2, model__min_samples_split=2; total time=   0.9s\n",
      "[CV 1/5; 5/12] START model__min_samples_leaf=2, model__min_samples_split=3......\n"
     ]
    },
    {
     "name": "stderr",
     "output_type": "stream",
     "text": [
      "/opt/conda/lib/python3.9/site-packages/sklearn/impute/_base.py:49: FutureWarning: Unlike other reduction functions (e.g. `skew`, `kurtosis`), the default behavior of `mode` typically preserves the axis it acts along. In SciPy 1.11.0, this behavior will change: the default value of `keepdims` will become False, the `axis` over which the statistic is taken will be eliminated, and the value None will no longer be accepted. Set `keepdims` to True or False to avoid this warning.\n",
      "  mode = stats.mode(array)\n"
     ]
    },
    {
     "name": "stdout",
     "output_type": "stream",
     "text": [
      "[CV 1/5; 5/12] END model__min_samples_leaf=2, model__min_samples_split=3; total time=   0.9s\n",
      "[CV 2/5; 5/12] START model__min_samples_leaf=2, model__min_samples_split=3......\n"
     ]
    },
    {
     "name": "stderr",
     "output_type": "stream",
     "text": [
      "/opt/conda/lib/python3.9/site-packages/sklearn/impute/_base.py:49: FutureWarning: Unlike other reduction functions (e.g. `skew`, `kurtosis`), the default behavior of `mode` typically preserves the axis it acts along. In SciPy 1.11.0, this behavior will change: the default value of `keepdims` will become False, the `axis` over which the statistic is taken will be eliminated, and the value None will no longer be accepted. Set `keepdims` to True or False to avoid this warning.\n",
      "  mode = stats.mode(array)\n"
     ]
    },
    {
     "name": "stdout",
     "output_type": "stream",
     "text": [
      "[CV 2/5; 5/12] END model__min_samples_leaf=2, model__min_samples_split=3; total time=   0.9s\n",
      "[CV 3/5; 5/12] START model__min_samples_leaf=2, model__min_samples_split=3......\n"
     ]
    },
    {
     "name": "stderr",
     "output_type": "stream",
     "text": [
      "/opt/conda/lib/python3.9/site-packages/sklearn/impute/_base.py:49: FutureWarning: Unlike other reduction functions (e.g. `skew`, `kurtosis`), the default behavior of `mode` typically preserves the axis it acts along. In SciPy 1.11.0, this behavior will change: the default value of `keepdims` will become False, the `axis` over which the statistic is taken will be eliminated, and the value None will no longer be accepted. Set `keepdims` to True or False to avoid this warning.\n",
      "  mode = stats.mode(array)\n"
     ]
    },
    {
     "name": "stdout",
     "output_type": "stream",
     "text": [
      "[CV 3/5; 5/12] END model__min_samples_leaf=2, model__min_samples_split=3; total time=   0.9s\n",
      "[CV 4/5; 5/12] START model__min_samples_leaf=2, model__min_samples_split=3......\n"
     ]
    },
    {
     "name": "stderr",
     "output_type": "stream",
     "text": [
      "/opt/conda/lib/python3.9/site-packages/sklearn/impute/_base.py:49: FutureWarning: Unlike other reduction functions (e.g. `skew`, `kurtosis`), the default behavior of `mode` typically preserves the axis it acts along. In SciPy 1.11.0, this behavior will change: the default value of `keepdims` will become False, the `axis` over which the statistic is taken will be eliminated, and the value None will no longer be accepted. Set `keepdims` to True or False to avoid this warning.\n",
      "  mode = stats.mode(array)\n"
     ]
    },
    {
     "name": "stdout",
     "output_type": "stream",
     "text": [
      "[CV 4/5; 5/12] END model__min_samples_leaf=2, model__min_samples_split=3; total time=   0.9s\n",
      "[CV 5/5; 5/12] START model__min_samples_leaf=2, model__min_samples_split=3......\n"
     ]
    },
    {
     "name": "stderr",
     "output_type": "stream",
     "text": [
      "/opt/conda/lib/python3.9/site-packages/sklearn/impute/_base.py:49: FutureWarning: Unlike other reduction functions (e.g. `skew`, `kurtosis`), the default behavior of `mode` typically preserves the axis it acts along. In SciPy 1.11.0, this behavior will change: the default value of `keepdims` will become False, the `axis` over which the statistic is taken will be eliminated, and the value None will no longer be accepted. Set `keepdims` to True or False to avoid this warning.\n",
      "  mode = stats.mode(array)\n"
     ]
    },
    {
     "name": "stdout",
     "output_type": "stream",
     "text": [
      "[CV 5/5; 5/12] END model__min_samples_leaf=2, model__min_samples_split=3; total time=   0.9s\n",
      "[CV 1/5; 6/12] START model__min_samples_leaf=2, model__min_samples_split=4......\n"
     ]
    },
    {
     "name": "stderr",
     "output_type": "stream",
     "text": [
      "/opt/conda/lib/python3.9/site-packages/sklearn/impute/_base.py:49: FutureWarning: Unlike other reduction functions (e.g. `skew`, `kurtosis`), the default behavior of `mode` typically preserves the axis it acts along. In SciPy 1.11.0, this behavior will change: the default value of `keepdims` will become False, the `axis` over which the statistic is taken will be eliminated, and the value None will no longer be accepted. Set `keepdims` to True or False to avoid this warning.\n",
      "  mode = stats.mode(array)\n"
     ]
    },
    {
     "name": "stdout",
     "output_type": "stream",
     "text": [
      "[CV 1/5; 6/12] END model__min_samples_leaf=2, model__min_samples_split=4; total time=   0.9s\n",
      "[CV 2/5; 6/12] START model__min_samples_leaf=2, model__min_samples_split=4......\n"
     ]
    },
    {
     "name": "stderr",
     "output_type": "stream",
     "text": [
      "/opt/conda/lib/python3.9/site-packages/sklearn/impute/_base.py:49: FutureWarning: Unlike other reduction functions (e.g. `skew`, `kurtosis`), the default behavior of `mode` typically preserves the axis it acts along. In SciPy 1.11.0, this behavior will change: the default value of `keepdims` will become False, the `axis` over which the statistic is taken will be eliminated, and the value None will no longer be accepted. Set `keepdims` to True or False to avoid this warning.\n",
      "  mode = stats.mode(array)\n"
     ]
    },
    {
     "name": "stdout",
     "output_type": "stream",
     "text": [
      "[CV 2/5; 6/12] END model__min_samples_leaf=2, model__min_samples_split=4; total time=   0.9s\n",
      "[CV 3/5; 6/12] START model__min_samples_leaf=2, model__min_samples_split=4......\n"
     ]
    },
    {
     "name": "stderr",
     "output_type": "stream",
     "text": [
      "/opt/conda/lib/python3.9/site-packages/sklearn/impute/_base.py:49: FutureWarning: Unlike other reduction functions (e.g. `skew`, `kurtosis`), the default behavior of `mode` typically preserves the axis it acts along. In SciPy 1.11.0, this behavior will change: the default value of `keepdims` will become False, the `axis` over which the statistic is taken will be eliminated, and the value None will no longer be accepted. Set `keepdims` to True or False to avoid this warning.\n",
      "  mode = stats.mode(array)\n"
     ]
    },
    {
     "name": "stdout",
     "output_type": "stream",
     "text": [
      "[CV 3/5; 6/12] END model__min_samples_leaf=2, model__min_samples_split=4; total time=   1.0s\n",
      "[CV 4/5; 6/12] START model__min_samples_leaf=2, model__min_samples_split=4......\n"
     ]
    },
    {
     "name": "stderr",
     "output_type": "stream",
     "text": [
      "/opt/conda/lib/python3.9/site-packages/sklearn/impute/_base.py:49: FutureWarning: Unlike other reduction functions (e.g. `skew`, `kurtosis`), the default behavior of `mode` typically preserves the axis it acts along. In SciPy 1.11.0, this behavior will change: the default value of `keepdims` will become False, the `axis` over which the statistic is taken will be eliminated, and the value None will no longer be accepted. Set `keepdims` to True or False to avoid this warning.\n",
      "  mode = stats.mode(array)\n"
     ]
    },
    {
     "name": "stdout",
     "output_type": "stream",
     "text": [
      "[CV 4/5; 6/12] END model__min_samples_leaf=2, model__min_samples_split=4; total time=   0.9s\n",
      "[CV 5/5; 6/12] START model__min_samples_leaf=2, model__min_samples_split=4......\n"
     ]
    },
    {
     "name": "stderr",
     "output_type": "stream",
     "text": [
      "/opt/conda/lib/python3.9/site-packages/sklearn/impute/_base.py:49: FutureWarning: Unlike other reduction functions (e.g. `skew`, `kurtosis`), the default behavior of `mode` typically preserves the axis it acts along. In SciPy 1.11.0, this behavior will change: the default value of `keepdims` will become False, the `axis` over which the statistic is taken will be eliminated, and the value None will no longer be accepted. Set `keepdims` to True or False to avoid this warning.\n",
      "  mode = stats.mode(array)\n"
     ]
    },
    {
     "name": "stdout",
     "output_type": "stream",
     "text": [
      "[CV 5/5; 6/12] END model__min_samples_leaf=2, model__min_samples_split=4; total time=   1.0s\n",
      "[CV 1/5; 7/12] START model__min_samples_leaf=3, model__min_samples_split=2......\n"
     ]
    },
    {
     "name": "stderr",
     "output_type": "stream",
     "text": [
      "/opt/conda/lib/python3.9/site-packages/sklearn/impute/_base.py:49: FutureWarning: Unlike other reduction functions (e.g. `skew`, `kurtosis`), the default behavior of `mode` typically preserves the axis it acts along. In SciPy 1.11.0, this behavior will change: the default value of `keepdims` will become False, the `axis` over which the statistic is taken will be eliminated, and the value None will no longer be accepted. Set `keepdims` to True or False to avoid this warning.\n",
      "  mode = stats.mode(array)\n"
     ]
    },
    {
     "name": "stdout",
     "output_type": "stream",
     "text": [
      "[CV 1/5; 7/12] END model__min_samples_leaf=3, model__min_samples_split=2; total time=   0.9s\n",
      "[CV 2/5; 7/12] START model__min_samples_leaf=3, model__min_samples_split=2......\n"
     ]
    },
    {
     "name": "stderr",
     "output_type": "stream",
     "text": [
      "/opt/conda/lib/python3.9/site-packages/sklearn/impute/_base.py:49: FutureWarning: Unlike other reduction functions (e.g. `skew`, `kurtosis`), the default behavior of `mode` typically preserves the axis it acts along. In SciPy 1.11.0, this behavior will change: the default value of `keepdims` will become False, the `axis` over which the statistic is taken will be eliminated, and the value None will no longer be accepted. Set `keepdims` to True or False to avoid this warning.\n",
      "  mode = stats.mode(array)\n"
     ]
    },
    {
     "name": "stdout",
     "output_type": "stream",
     "text": [
      "[CV 2/5; 7/12] END model__min_samples_leaf=3, model__min_samples_split=2; total time=   0.9s\n",
      "[CV 3/5; 7/12] START model__min_samples_leaf=3, model__min_samples_split=2......\n"
     ]
    },
    {
     "name": "stderr",
     "output_type": "stream",
     "text": [
      "/opt/conda/lib/python3.9/site-packages/sklearn/impute/_base.py:49: FutureWarning: Unlike other reduction functions (e.g. `skew`, `kurtosis`), the default behavior of `mode` typically preserves the axis it acts along. In SciPy 1.11.0, this behavior will change: the default value of `keepdims` will become False, the `axis` over which the statistic is taken will be eliminated, and the value None will no longer be accepted. Set `keepdims` to True or False to avoid this warning.\n",
      "  mode = stats.mode(array)\n"
     ]
    },
    {
     "name": "stdout",
     "output_type": "stream",
     "text": [
      "[CV 3/5; 7/12] END model__min_samples_leaf=3, model__min_samples_split=2; total time=   0.9s\n",
      "[CV 4/5; 7/12] START model__min_samples_leaf=3, model__min_samples_split=2......\n"
     ]
    },
    {
     "name": "stderr",
     "output_type": "stream",
     "text": [
      "/opt/conda/lib/python3.9/site-packages/sklearn/impute/_base.py:49: FutureWarning: Unlike other reduction functions (e.g. `skew`, `kurtosis`), the default behavior of `mode` typically preserves the axis it acts along. In SciPy 1.11.0, this behavior will change: the default value of `keepdims` will become False, the `axis` over which the statistic is taken will be eliminated, and the value None will no longer be accepted. Set `keepdims` to True or False to avoid this warning.\n",
      "  mode = stats.mode(array)\n"
     ]
    },
    {
     "name": "stdout",
     "output_type": "stream",
     "text": [
      "[CV 4/5; 7/12] END model__min_samples_leaf=3, model__min_samples_split=2; total time=   0.9s\n",
      "[CV 5/5; 7/12] START model__min_samples_leaf=3, model__min_samples_split=2......\n"
     ]
    },
    {
     "name": "stderr",
     "output_type": "stream",
     "text": [
      "/opt/conda/lib/python3.9/site-packages/sklearn/impute/_base.py:49: FutureWarning: Unlike other reduction functions (e.g. `skew`, `kurtosis`), the default behavior of `mode` typically preserves the axis it acts along. In SciPy 1.11.0, this behavior will change: the default value of `keepdims` will become False, the `axis` over which the statistic is taken will be eliminated, and the value None will no longer be accepted. Set `keepdims` to True or False to avoid this warning.\n",
      "  mode = stats.mode(array)\n"
     ]
    },
    {
     "name": "stdout",
     "output_type": "stream",
     "text": [
      "[CV 5/5; 7/12] END model__min_samples_leaf=3, model__min_samples_split=2; total time=   0.9s\n",
      "[CV 1/5; 8/12] START model__min_samples_leaf=3, model__min_samples_split=3......\n"
     ]
    },
    {
     "name": "stderr",
     "output_type": "stream",
     "text": [
      "/opt/conda/lib/python3.9/site-packages/sklearn/impute/_base.py:49: FutureWarning: Unlike other reduction functions (e.g. `skew`, `kurtosis`), the default behavior of `mode` typically preserves the axis it acts along. In SciPy 1.11.0, this behavior will change: the default value of `keepdims` will become False, the `axis` over which the statistic is taken will be eliminated, and the value None will no longer be accepted. Set `keepdims` to True or False to avoid this warning.\n",
      "  mode = stats.mode(array)\n"
     ]
    },
    {
     "name": "stdout",
     "output_type": "stream",
     "text": [
      "[CV 1/5; 8/12] END model__min_samples_leaf=3, model__min_samples_split=3; total time=   0.9s\n",
      "[CV 2/5; 8/12] START model__min_samples_leaf=3, model__min_samples_split=3......\n"
     ]
    },
    {
     "name": "stderr",
     "output_type": "stream",
     "text": [
      "/opt/conda/lib/python3.9/site-packages/sklearn/impute/_base.py:49: FutureWarning: Unlike other reduction functions (e.g. `skew`, `kurtosis`), the default behavior of `mode` typically preserves the axis it acts along. In SciPy 1.11.0, this behavior will change: the default value of `keepdims` will become False, the `axis` over which the statistic is taken will be eliminated, and the value None will no longer be accepted. Set `keepdims` to True or False to avoid this warning.\n",
      "  mode = stats.mode(array)\n"
     ]
    },
    {
     "name": "stdout",
     "output_type": "stream",
     "text": [
      "[CV 2/5; 8/12] END model__min_samples_leaf=3, model__min_samples_split=3; total time=   0.9s\n",
      "[CV 3/5; 8/12] START model__min_samples_leaf=3, model__min_samples_split=3......\n"
     ]
    },
    {
     "name": "stderr",
     "output_type": "stream",
     "text": [
      "/opt/conda/lib/python3.9/site-packages/sklearn/impute/_base.py:49: FutureWarning: Unlike other reduction functions (e.g. `skew`, `kurtosis`), the default behavior of `mode` typically preserves the axis it acts along. In SciPy 1.11.0, this behavior will change: the default value of `keepdims` will become False, the `axis` over which the statistic is taken will be eliminated, and the value None will no longer be accepted. Set `keepdims` to True or False to avoid this warning.\n",
      "  mode = stats.mode(array)\n"
     ]
    },
    {
     "name": "stdout",
     "output_type": "stream",
     "text": [
      "[CV 3/5; 8/12] END model__min_samples_leaf=3, model__min_samples_split=3; total time=   0.9s\n",
      "[CV 4/5; 8/12] START model__min_samples_leaf=3, model__min_samples_split=3......\n"
     ]
    },
    {
     "name": "stderr",
     "output_type": "stream",
     "text": [
      "/opt/conda/lib/python3.9/site-packages/sklearn/impute/_base.py:49: FutureWarning: Unlike other reduction functions (e.g. `skew`, `kurtosis`), the default behavior of `mode` typically preserves the axis it acts along. In SciPy 1.11.0, this behavior will change: the default value of `keepdims` will become False, the `axis` over which the statistic is taken will be eliminated, and the value None will no longer be accepted. Set `keepdims` to True or False to avoid this warning.\n",
      "  mode = stats.mode(array)\n"
     ]
    },
    {
     "name": "stdout",
     "output_type": "stream",
     "text": [
      "[CV 4/5; 8/12] END model__min_samples_leaf=3, model__min_samples_split=3; total time=   0.9s\n",
      "[CV 5/5; 8/12] START model__min_samples_leaf=3, model__min_samples_split=3......\n"
     ]
    },
    {
     "name": "stderr",
     "output_type": "stream",
     "text": [
      "/opt/conda/lib/python3.9/site-packages/sklearn/impute/_base.py:49: FutureWarning: Unlike other reduction functions (e.g. `skew`, `kurtosis`), the default behavior of `mode` typically preserves the axis it acts along. In SciPy 1.11.0, this behavior will change: the default value of `keepdims` will become False, the `axis` over which the statistic is taken will be eliminated, and the value None will no longer be accepted. Set `keepdims` to True or False to avoid this warning.\n",
      "  mode = stats.mode(array)\n"
     ]
    },
    {
     "name": "stdout",
     "output_type": "stream",
     "text": [
      "[CV 5/5; 8/12] END model__min_samples_leaf=3, model__min_samples_split=3; total time=   0.9s\n",
      "[CV 1/5; 9/12] START model__min_samples_leaf=3, model__min_samples_split=4......\n"
     ]
    },
    {
     "name": "stderr",
     "output_type": "stream",
     "text": [
      "/opt/conda/lib/python3.9/site-packages/sklearn/impute/_base.py:49: FutureWarning: Unlike other reduction functions (e.g. `skew`, `kurtosis`), the default behavior of `mode` typically preserves the axis it acts along. In SciPy 1.11.0, this behavior will change: the default value of `keepdims` will become False, the `axis` over which the statistic is taken will be eliminated, and the value None will no longer be accepted. Set `keepdims` to True or False to avoid this warning.\n",
      "  mode = stats.mode(array)\n"
     ]
    },
    {
     "name": "stdout",
     "output_type": "stream",
     "text": [
      "[CV 1/5; 9/12] END model__min_samples_leaf=3, model__min_samples_split=4; total time=   0.9s\n",
      "[CV 2/5; 9/12] START model__min_samples_leaf=3, model__min_samples_split=4......\n"
     ]
    },
    {
     "name": "stderr",
     "output_type": "stream",
     "text": [
      "/opt/conda/lib/python3.9/site-packages/sklearn/impute/_base.py:49: FutureWarning: Unlike other reduction functions (e.g. `skew`, `kurtosis`), the default behavior of `mode` typically preserves the axis it acts along. In SciPy 1.11.0, this behavior will change: the default value of `keepdims` will become False, the `axis` over which the statistic is taken will be eliminated, and the value None will no longer be accepted. Set `keepdims` to True or False to avoid this warning.\n",
      "  mode = stats.mode(array)\n"
     ]
    },
    {
     "name": "stdout",
     "output_type": "stream",
     "text": [
      "[CV 2/5; 9/12] END model__min_samples_leaf=3, model__min_samples_split=4; total time=   0.9s\n",
      "[CV 3/5; 9/12] START model__min_samples_leaf=3, model__min_samples_split=4......\n"
     ]
    },
    {
     "name": "stderr",
     "output_type": "stream",
     "text": [
      "/opt/conda/lib/python3.9/site-packages/sklearn/impute/_base.py:49: FutureWarning: Unlike other reduction functions (e.g. `skew`, `kurtosis`), the default behavior of `mode` typically preserves the axis it acts along. In SciPy 1.11.0, this behavior will change: the default value of `keepdims` will become False, the `axis` over which the statistic is taken will be eliminated, and the value None will no longer be accepted. Set `keepdims` to True or False to avoid this warning.\n",
      "  mode = stats.mode(array)\n"
     ]
    },
    {
     "name": "stdout",
     "output_type": "stream",
     "text": [
      "[CV 3/5; 9/12] END model__min_samples_leaf=3, model__min_samples_split=4; total time=   0.9s\n",
      "[CV 4/5; 9/12] START model__min_samples_leaf=3, model__min_samples_split=4......\n"
     ]
    },
    {
     "name": "stderr",
     "output_type": "stream",
     "text": [
      "/opt/conda/lib/python3.9/site-packages/sklearn/impute/_base.py:49: FutureWarning: Unlike other reduction functions (e.g. `skew`, `kurtosis`), the default behavior of `mode` typically preserves the axis it acts along. In SciPy 1.11.0, this behavior will change: the default value of `keepdims` will become False, the `axis` over which the statistic is taken will be eliminated, and the value None will no longer be accepted. Set `keepdims` to True or False to avoid this warning.\n",
      "  mode = stats.mode(array)\n"
     ]
    },
    {
     "name": "stdout",
     "output_type": "stream",
     "text": [
      "[CV 4/5; 9/12] END model__min_samples_leaf=3, model__min_samples_split=4; total time=   0.9s\n",
      "[CV 5/5; 9/12] START model__min_samples_leaf=3, model__min_samples_split=4......\n"
     ]
    },
    {
     "name": "stderr",
     "output_type": "stream",
     "text": [
      "/opt/conda/lib/python3.9/site-packages/sklearn/impute/_base.py:49: FutureWarning: Unlike other reduction functions (e.g. `skew`, `kurtosis`), the default behavior of `mode` typically preserves the axis it acts along. In SciPy 1.11.0, this behavior will change: the default value of `keepdims` will become False, the `axis` over which the statistic is taken will be eliminated, and the value None will no longer be accepted. Set `keepdims` to True or False to avoid this warning.\n",
      "  mode = stats.mode(array)\n"
     ]
    },
    {
     "name": "stdout",
     "output_type": "stream",
     "text": [
      "[CV 5/5; 9/12] END model__min_samples_leaf=3, model__min_samples_split=4; total time=   0.9s\n",
      "[CV 1/5; 10/12] START model__min_samples_leaf=4, model__min_samples_split=2.....\n"
     ]
    },
    {
     "name": "stderr",
     "output_type": "stream",
     "text": [
      "/opt/conda/lib/python3.9/site-packages/sklearn/impute/_base.py:49: FutureWarning: Unlike other reduction functions (e.g. `skew`, `kurtosis`), the default behavior of `mode` typically preserves the axis it acts along. In SciPy 1.11.0, this behavior will change: the default value of `keepdims` will become False, the `axis` over which the statistic is taken will be eliminated, and the value None will no longer be accepted. Set `keepdims` to True or False to avoid this warning.\n",
      "  mode = stats.mode(array)\n"
     ]
    },
    {
     "name": "stdout",
     "output_type": "stream",
     "text": [
      "[CV 1/5; 10/12] END model__min_samples_leaf=4, model__min_samples_split=2; total time=   0.9s\n",
      "[CV 2/5; 10/12] START model__min_samples_leaf=4, model__min_samples_split=2.....\n"
     ]
    },
    {
     "name": "stderr",
     "output_type": "stream",
     "text": [
      "/opt/conda/lib/python3.9/site-packages/sklearn/impute/_base.py:49: FutureWarning: Unlike other reduction functions (e.g. `skew`, `kurtosis`), the default behavior of `mode` typically preserves the axis it acts along. In SciPy 1.11.0, this behavior will change: the default value of `keepdims` will become False, the `axis` over which the statistic is taken will be eliminated, and the value None will no longer be accepted. Set `keepdims` to True or False to avoid this warning.\n",
      "  mode = stats.mode(array)\n"
     ]
    },
    {
     "name": "stdout",
     "output_type": "stream",
     "text": [
      "[CV 2/5; 10/12] END model__min_samples_leaf=4, model__min_samples_split=2; total time=   0.9s\n",
      "[CV 3/5; 10/12] START model__min_samples_leaf=4, model__min_samples_split=2.....\n"
     ]
    },
    {
     "name": "stderr",
     "output_type": "stream",
     "text": [
      "/opt/conda/lib/python3.9/site-packages/sklearn/impute/_base.py:49: FutureWarning: Unlike other reduction functions (e.g. `skew`, `kurtosis`), the default behavior of `mode` typically preserves the axis it acts along. In SciPy 1.11.0, this behavior will change: the default value of `keepdims` will become False, the `axis` over which the statistic is taken will be eliminated, and the value None will no longer be accepted. Set `keepdims` to True or False to avoid this warning.\n",
      "  mode = stats.mode(array)\n"
     ]
    },
    {
     "name": "stdout",
     "output_type": "stream",
     "text": [
      "[CV 3/5; 10/12] END model__min_samples_leaf=4, model__min_samples_split=2; total time=   0.9s\n",
      "[CV 4/5; 10/12] START model__min_samples_leaf=4, model__min_samples_split=2.....\n"
     ]
    },
    {
     "name": "stderr",
     "output_type": "stream",
     "text": [
      "/opt/conda/lib/python3.9/site-packages/sklearn/impute/_base.py:49: FutureWarning: Unlike other reduction functions (e.g. `skew`, `kurtosis`), the default behavior of `mode` typically preserves the axis it acts along. In SciPy 1.11.0, this behavior will change: the default value of `keepdims` will become False, the `axis` over which the statistic is taken will be eliminated, and the value None will no longer be accepted. Set `keepdims` to True or False to avoid this warning.\n",
      "  mode = stats.mode(array)\n"
     ]
    },
    {
     "name": "stdout",
     "output_type": "stream",
     "text": [
      "[CV 4/5; 10/12] END model__min_samples_leaf=4, model__min_samples_split=2; total time=   0.9s\n",
      "[CV 5/5; 10/12] START model__min_samples_leaf=4, model__min_samples_split=2.....\n"
     ]
    },
    {
     "name": "stderr",
     "output_type": "stream",
     "text": [
      "/opt/conda/lib/python3.9/site-packages/sklearn/impute/_base.py:49: FutureWarning: Unlike other reduction functions (e.g. `skew`, `kurtosis`), the default behavior of `mode` typically preserves the axis it acts along. In SciPy 1.11.0, this behavior will change: the default value of `keepdims` will become False, the `axis` over which the statistic is taken will be eliminated, and the value None will no longer be accepted. Set `keepdims` to True or False to avoid this warning.\n",
      "  mode = stats.mode(array)\n"
     ]
    },
    {
     "name": "stdout",
     "output_type": "stream",
     "text": [
      "[CV 5/5; 10/12] END model__min_samples_leaf=4, model__min_samples_split=2; total time=   0.9s\n",
      "[CV 1/5; 11/12] START model__min_samples_leaf=4, model__min_samples_split=3.....\n"
     ]
    },
    {
     "name": "stderr",
     "output_type": "stream",
     "text": [
      "/opt/conda/lib/python3.9/site-packages/sklearn/impute/_base.py:49: FutureWarning: Unlike other reduction functions (e.g. `skew`, `kurtosis`), the default behavior of `mode` typically preserves the axis it acts along. In SciPy 1.11.0, this behavior will change: the default value of `keepdims` will become False, the `axis` over which the statistic is taken will be eliminated, and the value None will no longer be accepted. Set `keepdims` to True or False to avoid this warning.\n",
      "  mode = stats.mode(array)\n"
     ]
    },
    {
     "name": "stdout",
     "output_type": "stream",
     "text": [
      "[CV 1/5; 11/12] END model__min_samples_leaf=4, model__min_samples_split=3; total time=   0.9s\n",
      "[CV 2/5; 11/12] START model__min_samples_leaf=4, model__min_samples_split=3.....\n"
     ]
    },
    {
     "name": "stderr",
     "output_type": "stream",
     "text": [
      "/opt/conda/lib/python3.9/site-packages/sklearn/impute/_base.py:49: FutureWarning: Unlike other reduction functions (e.g. `skew`, `kurtosis`), the default behavior of `mode` typically preserves the axis it acts along. In SciPy 1.11.0, this behavior will change: the default value of `keepdims` will become False, the `axis` over which the statistic is taken will be eliminated, and the value None will no longer be accepted. Set `keepdims` to True or False to avoid this warning.\n",
      "  mode = stats.mode(array)\n"
     ]
    },
    {
     "name": "stdout",
     "output_type": "stream",
     "text": [
      "[CV 2/5; 11/12] END model__min_samples_leaf=4, model__min_samples_split=3; total time=   0.9s\n",
      "[CV 3/5; 11/12] START model__min_samples_leaf=4, model__min_samples_split=3.....\n"
     ]
    },
    {
     "name": "stderr",
     "output_type": "stream",
     "text": [
      "/opt/conda/lib/python3.9/site-packages/sklearn/impute/_base.py:49: FutureWarning: Unlike other reduction functions (e.g. `skew`, `kurtosis`), the default behavior of `mode` typically preserves the axis it acts along. In SciPy 1.11.0, this behavior will change: the default value of `keepdims` will become False, the `axis` over which the statistic is taken will be eliminated, and the value None will no longer be accepted. Set `keepdims` to True or False to avoid this warning.\n",
      "  mode = stats.mode(array)\n"
     ]
    },
    {
     "name": "stdout",
     "output_type": "stream",
     "text": [
      "[CV 3/5; 11/12] END model__min_samples_leaf=4, model__min_samples_split=3; total time=   0.9s\n",
      "[CV 4/5; 11/12] START model__min_samples_leaf=4, model__min_samples_split=3.....\n"
     ]
    },
    {
     "name": "stderr",
     "output_type": "stream",
     "text": [
      "/opt/conda/lib/python3.9/site-packages/sklearn/impute/_base.py:49: FutureWarning: Unlike other reduction functions (e.g. `skew`, `kurtosis`), the default behavior of `mode` typically preserves the axis it acts along. In SciPy 1.11.0, this behavior will change: the default value of `keepdims` will become False, the `axis` over which the statistic is taken will be eliminated, and the value None will no longer be accepted. Set `keepdims` to True or False to avoid this warning.\n",
      "  mode = stats.mode(array)\n"
     ]
    },
    {
     "name": "stdout",
     "output_type": "stream",
     "text": [
      "[CV 4/5; 11/12] END model__min_samples_leaf=4, model__min_samples_split=3; total time=   0.9s\n",
      "[CV 5/5; 11/12] START model__min_samples_leaf=4, model__min_samples_split=3.....\n"
     ]
    },
    {
     "name": "stderr",
     "output_type": "stream",
     "text": [
      "/opt/conda/lib/python3.9/site-packages/sklearn/impute/_base.py:49: FutureWarning: Unlike other reduction functions (e.g. `skew`, `kurtosis`), the default behavior of `mode` typically preserves the axis it acts along. In SciPy 1.11.0, this behavior will change: the default value of `keepdims` will become False, the `axis` over which the statistic is taken will be eliminated, and the value None will no longer be accepted. Set `keepdims` to True or False to avoid this warning.\n",
      "  mode = stats.mode(array)\n"
     ]
    },
    {
     "name": "stdout",
     "output_type": "stream",
     "text": [
      "[CV 5/5; 11/12] END model__min_samples_leaf=4, model__min_samples_split=3; total time=   0.9s\n",
      "[CV 1/5; 12/12] START model__min_samples_leaf=4, model__min_samples_split=4.....\n"
     ]
    },
    {
     "name": "stderr",
     "output_type": "stream",
     "text": [
      "/opt/conda/lib/python3.9/site-packages/sklearn/impute/_base.py:49: FutureWarning: Unlike other reduction functions (e.g. `skew`, `kurtosis`), the default behavior of `mode` typically preserves the axis it acts along. In SciPy 1.11.0, this behavior will change: the default value of `keepdims` will become False, the `axis` over which the statistic is taken will be eliminated, and the value None will no longer be accepted. Set `keepdims` to True or False to avoid this warning.\n",
      "  mode = stats.mode(array)\n"
     ]
    },
    {
     "name": "stdout",
     "output_type": "stream",
     "text": [
      "[CV 1/5; 12/12] END model__min_samples_leaf=4, model__min_samples_split=4; total time=   0.9s\n",
      "[CV 2/5; 12/12] START model__min_samples_leaf=4, model__min_samples_split=4.....\n"
     ]
    },
    {
     "name": "stderr",
     "output_type": "stream",
     "text": [
      "/opt/conda/lib/python3.9/site-packages/sklearn/impute/_base.py:49: FutureWarning: Unlike other reduction functions (e.g. `skew`, `kurtosis`), the default behavior of `mode` typically preserves the axis it acts along. In SciPy 1.11.0, this behavior will change: the default value of `keepdims` will become False, the `axis` over which the statistic is taken will be eliminated, and the value None will no longer be accepted. Set `keepdims` to True or False to avoid this warning.\n",
      "  mode = stats.mode(array)\n"
     ]
    },
    {
     "name": "stdout",
     "output_type": "stream",
     "text": [
      "[CV 2/5; 12/12] END model__min_samples_leaf=4, model__min_samples_split=4; total time=   0.9s\n",
      "[CV 3/5; 12/12] START model__min_samples_leaf=4, model__min_samples_split=4.....\n"
     ]
    },
    {
     "name": "stderr",
     "output_type": "stream",
     "text": [
      "/opt/conda/lib/python3.9/site-packages/sklearn/impute/_base.py:49: FutureWarning: Unlike other reduction functions (e.g. `skew`, `kurtosis`), the default behavior of `mode` typically preserves the axis it acts along. In SciPy 1.11.0, this behavior will change: the default value of `keepdims` will become False, the `axis` over which the statistic is taken will be eliminated, and the value None will no longer be accepted. Set `keepdims` to True or False to avoid this warning.\n",
      "  mode = stats.mode(array)\n"
     ]
    },
    {
     "name": "stdout",
     "output_type": "stream",
     "text": [
      "[CV 3/5; 12/12] END model__min_samples_leaf=4, model__min_samples_split=4; total time=   0.9s\n",
      "[CV 4/5; 12/12] START model__min_samples_leaf=4, model__min_samples_split=4.....\n"
     ]
    },
    {
     "name": "stderr",
     "output_type": "stream",
     "text": [
      "/opt/conda/lib/python3.9/site-packages/sklearn/impute/_base.py:49: FutureWarning: Unlike other reduction functions (e.g. `skew`, `kurtosis`), the default behavior of `mode` typically preserves the axis it acts along. In SciPy 1.11.0, this behavior will change: the default value of `keepdims` will become False, the `axis` over which the statistic is taken will be eliminated, and the value None will no longer be accepted. Set `keepdims` to True or False to avoid this warning.\n",
      "  mode = stats.mode(array)\n"
     ]
    },
    {
     "name": "stdout",
     "output_type": "stream",
     "text": [
      "[CV 4/5; 12/12] END model__min_samples_leaf=4, model__min_samples_split=4; total time=   0.9s\n",
      "[CV 5/5; 12/12] START model__min_samples_leaf=4, model__min_samples_split=4.....\n"
     ]
    },
    {
     "name": "stderr",
     "output_type": "stream",
     "text": [
      "/opt/conda/lib/python3.9/site-packages/sklearn/impute/_base.py:49: FutureWarning: Unlike other reduction functions (e.g. `skew`, `kurtosis`), the default behavior of `mode` typically preserves the axis it acts along. In SciPy 1.11.0, this behavior will change: the default value of `keepdims` will become False, the `axis` over which the statistic is taken will be eliminated, and the value None will no longer be accepted. Set `keepdims` to True or False to avoid this warning.\n",
      "  mode = stats.mode(array)\n"
     ]
    },
    {
     "name": "stdout",
     "output_type": "stream",
     "text": [
      "[CV 5/5; 12/12] END model__min_samples_leaf=4, model__min_samples_split=4; total time=   0.9s\n"
     ]
    },
    {
     "name": "stderr",
     "output_type": "stream",
     "text": [
      "/opt/conda/lib/python3.9/site-packages/sklearn/impute/_base.py:49: FutureWarning: Unlike other reduction functions (e.g. `skew`, `kurtosis`), the default behavior of `mode` typically preserves the axis it acts along. In SciPy 1.11.0, this behavior will change: the default value of `keepdims` will become False, the `axis` over which the statistic is taken will be eliminated, and the value None will no longer be accepted. Set `keepdims` to True or False to avoid this warning.\n",
      "  mode = stats.mode(array)\n"
     ]
    },
    {
     "data": {
      "text/plain": [
       "GridSearchCV(cv=5,\n",
       "             estimator=Pipeline(steps=[('preprocessor',\n",
       "                                        ColumnTransformer(remainder='passthrough',\n",
       "                                                          transformers=[('ohe',\n",
       "                                                                         Pipeline(steps=[('simpleImputer_before_ord',\n",
       "                                                                                          SimpleImputer(strategy='most_frequent')),\n",
       "                                                                                         ('ord',\n",
       "                                                                                          OrdinalEncoder(handle_unknown='use_encoded_value',\n",
       "                                                                                                         unknown_value=nan)),\n",
       "                                                                                         ('simpleImputer_after_ord',\n",
       "                                                                                          SimpleImputer(strategy='most_frequent'))]),\n",
       "                                                                         ['vehicle_type',\n",
       "                                                                          'gearbox',\n",
       "                                                                          'fuel_type',\n",
       "                                                                          'brand',\n",
       "                                                                          'repaired']),\n",
       "                                                                        ('num',\n",
       "                                                                         'passthrough',\n",
       "                                                                         ['kilometer',\n",
       "                                                                          'registration_year',\n",
       "                                                                          'power'])])),\n",
       "                                       ('model',\n",
       "                                        DecisionTreeRegressor(random_state=42))]),\n",
       "             n_jobs=-1,\n",
       "             param_grid={'model__min_samples_leaf': range(1, 5),\n",
       "                         'model__min_samples_split': range(2, 5)},\n",
       "             scoring='neg_root_mean_squared_error', verbose=10)"
      ]
     },
     "execution_count": 47,
     "metadata": {},
     "output_type": "execute_result"
    }
   ],
   "source": [
    "gs_tree.fit(X_train, y_train)"
   ]
  },
  {
   "cell_type": "markdown",
   "metadata": {},
   "source": [
    "Найдём метрику на кросс-валидации."
   ]
  },
  {
   "cell_type": "code",
   "execution_count": 48,
   "metadata": {},
   "outputs": [
    {
     "data": {
      "text/plain": [
       "-1890.2680811980238"
      ]
     },
     "execution_count": 48,
     "metadata": {},
     "output_type": "execute_result"
    }
   ],
   "source": [
    "gs_tree.best_score_"
   ]
  },
  {
   "cell_type": "markdown",
   "metadata": {},
   "source": [
    "Найдём лучшие параметры."
   ]
  },
  {
   "cell_type": "code",
   "execution_count": 49,
   "metadata": {},
   "outputs": [
    {
     "data": {
      "text/plain": [
       "{'model__min_samples_leaf': 4, 'model__min_samples_split': 2}"
      ]
     },
     "execution_count": 49,
     "metadata": {},
     "output_type": "execute_result"
    }
   ],
   "source": [
    "gs_tree.best_params_"
   ]
  },
  {
   "cell_type": "markdown",
   "metadata": {},
   "source": [
    "Найдём время обучения."
   ]
  },
  {
   "cell_type": "markdown",
   "metadata": {},
   "source": [
    "Сделаем датафрейм из атрибута cv_results_."
   ]
  },
  {
   "cell_type": "code",
   "execution_count": 50,
   "metadata": {},
   "outputs": [
    {
     "data": {
      "text/html": [
       "<div>\n",
       "<style scoped>\n",
       "    .dataframe tbody tr th:only-of-type {\n",
       "        vertical-align: middle;\n",
       "    }\n",
       "\n",
       "    .dataframe tbody tr th {\n",
       "        vertical-align: top;\n",
       "    }\n",
       "\n",
       "    .dataframe thead th {\n",
       "        text-align: right;\n",
       "    }\n",
       "</style>\n",
       "<table border=\"1\" class=\"dataframe\">\n",
       "  <thead>\n",
       "    <tr style=\"text-align: right;\">\n",
       "      <th></th>\n",
       "      <th>mean_fit_time</th>\n",
       "      <th>std_fit_time</th>\n",
       "      <th>mean_score_time</th>\n",
       "      <th>std_score_time</th>\n",
       "      <th>param_model__min_samples_leaf</th>\n",
       "      <th>param_model__min_samples_split</th>\n",
       "      <th>params</th>\n",
       "      <th>split0_test_score</th>\n",
       "      <th>split1_test_score</th>\n",
       "      <th>split2_test_score</th>\n",
       "      <th>split3_test_score</th>\n",
       "      <th>split4_test_score</th>\n",
       "      <th>mean_test_score</th>\n",
       "      <th>std_test_score</th>\n",
       "      <th>rank_test_score</th>\n",
       "    </tr>\n",
       "  </thead>\n",
       "  <tbody>\n",
       "    <tr>\n",
       "      <th>0</th>\n",
       "      <td>0.890444</td>\n",
       "      <td>0.011742</td>\n",
       "      <td>0.079619</td>\n",
       "      <td>0.002826</td>\n",
       "      <td>1</td>\n",
       "      <td>2</td>\n",
       "      <td>{'model__min_samples_leaf': 1, 'model__min_sam...</td>\n",
       "      <td>-2060.854163</td>\n",
       "      <td>-2006.998325</td>\n",
       "      <td>-2046.861133</td>\n",
       "      <td>-2066.404651</td>\n",
       "      <td>-2049.431547</td>\n",
       "      <td>-2046.109964</td>\n",
       "      <td>20.835466</td>\n",
       "      <td>12</td>\n",
       "    </tr>\n",
       "    <tr>\n",
       "      <th>1</th>\n",
       "      <td>0.873712</td>\n",
       "      <td>0.015379</td>\n",
       "      <td>0.079544</td>\n",
       "      <td>0.005691</td>\n",
       "      <td>1</td>\n",
       "      <td>3</td>\n",
       "      <td>{'model__min_samples_leaf': 1, 'model__min_sam...</td>\n",
       "      <td>-2035.336010</td>\n",
       "      <td>-1980.775386</td>\n",
       "      <td>-2038.282145</td>\n",
       "      <td>-2041.463717</td>\n",
       "      <td>-2041.297767</td>\n",
       "      <td>-2027.431005</td>\n",
       "      <td>23.435815</td>\n",
       "      <td>11</td>\n",
       "    </tr>\n",
       "    <tr>\n",
       "      <th>2</th>\n",
       "      <td>0.870643</td>\n",
       "      <td>0.009336</td>\n",
       "      <td>0.075547</td>\n",
       "      <td>0.003657</td>\n",
       "      <td>1</td>\n",
       "      <td>4</td>\n",
       "      <td>{'model__min_samples_leaf': 1, 'model__min_sam...</td>\n",
       "      <td>-2009.436896</td>\n",
       "      <td>-1977.643440</td>\n",
       "      <td>-2026.585970</td>\n",
       "      <td>-2019.958838</td>\n",
       "      <td>-2032.334410</td>\n",
       "      <td>-2013.191911</td>\n",
       "      <td>19.336087</td>\n",
       "      <td>10</td>\n",
       "    </tr>\n",
       "    <tr>\n",
       "      <th>3</th>\n",
       "      <td>0.853073</td>\n",
       "      <td>0.023011</td>\n",
       "      <td>0.077155</td>\n",
       "      <td>0.006373</td>\n",
       "      <td>2</td>\n",
       "      <td>2</td>\n",
       "      <td>{'model__min_samples_leaf': 2, 'model__min_sam...</td>\n",
       "      <td>-1943.615286</td>\n",
       "      <td>-1908.966102</td>\n",
       "      <td>-1972.705850</td>\n",
       "      <td>-1958.093128</td>\n",
       "      <td>-1966.403464</td>\n",
       "      <td>-1949.956766</td>\n",
       "      <td>22.692131</td>\n",
       "      <td>7</td>\n",
       "    </tr>\n",
       "    <tr>\n",
       "      <th>4</th>\n",
       "      <td>0.844742</td>\n",
       "      <td>0.008210</td>\n",
       "      <td>0.078603</td>\n",
       "      <td>0.004981</td>\n",
       "      <td>2</td>\n",
       "      <td>3</td>\n",
       "      <td>{'model__min_samples_leaf': 2, 'model__min_sam...</td>\n",
       "      <td>-1943.615286</td>\n",
       "      <td>-1908.966102</td>\n",
       "      <td>-1972.705850</td>\n",
       "      <td>-1958.093128</td>\n",
       "      <td>-1966.403464</td>\n",
       "      <td>-1949.956766</td>\n",
       "      <td>22.692131</td>\n",
       "      <td>7</td>\n",
       "    </tr>\n",
       "    <tr>\n",
       "      <th>5</th>\n",
       "      <td>0.869543</td>\n",
       "      <td>0.023503</td>\n",
       "      <td>0.077504</td>\n",
       "      <td>0.002900</td>\n",
       "      <td>2</td>\n",
       "      <td>4</td>\n",
       "      <td>{'model__min_samples_leaf': 2, 'model__min_sam...</td>\n",
       "      <td>-1943.615286</td>\n",
       "      <td>-1908.966102</td>\n",
       "      <td>-1972.705850</td>\n",
       "      <td>-1958.093128</td>\n",
       "      <td>-1966.403464</td>\n",
       "      <td>-1949.956766</td>\n",
       "      <td>22.692131</td>\n",
       "      <td>7</td>\n",
       "    </tr>\n",
       "    <tr>\n",
       "      <th>6</th>\n",
       "      <td>0.835932</td>\n",
       "      <td>0.015753</td>\n",
       "      <td>0.077240</td>\n",
       "      <td>0.002493</td>\n",
       "      <td>3</td>\n",
       "      <td>2</td>\n",
       "      <td>{'model__min_samples_leaf': 3, 'model__min_sam...</td>\n",
       "      <td>-1917.245226</td>\n",
       "      <td>-1871.899089</td>\n",
       "      <td>-1927.758672</td>\n",
       "      <td>-1915.015694</td>\n",
       "      <td>-1930.099679</td>\n",
       "      <td>-1912.403672</td>\n",
       "      <td>21.070402</td>\n",
       "      <td>4</td>\n",
       "    </tr>\n",
       "    <tr>\n",
       "      <th>7</th>\n",
       "      <td>0.823767</td>\n",
       "      <td>0.017252</td>\n",
       "      <td>0.075268</td>\n",
       "      <td>0.009583</td>\n",
       "      <td>3</td>\n",
       "      <td>3</td>\n",
       "      <td>{'model__min_samples_leaf': 3, 'model__min_sam...</td>\n",
       "      <td>-1917.245226</td>\n",
       "      <td>-1871.899089</td>\n",
       "      <td>-1927.758672</td>\n",
       "      <td>-1915.015694</td>\n",
       "      <td>-1930.099679</td>\n",
       "      <td>-1912.403672</td>\n",
       "      <td>21.070402</td>\n",
       "      <td>4</td>\n",
       "    </tr>\n",
       "    <tr>\n",
       "      <th>8</th>\n",
       "      <td>0.854790</td>\n",
       "      <td>0.011619</td>\n",
       "      <td>0.076531</td>\n",
       "      <td>0.003981</td>\n",
       "      <td>3</td>\n",
       "      <td>4</td>\n",
       "      <td>{'model__min_samples_leaf': 3, 'model__min_sam...</td>\n",
       "      <td>-1917.245226</td>\n",
       "      <td>-1871.899089</td>\n",
       "      <td>-1927.758672</td>\n",
       "      <td>-1915.015694</td>\n",
       "      <td>-1930.099679</td>\n",
       "      <td>-1912.403672</td>\n",
       "      <td>21.070402</td>\n",
       "      <td>4</td>\n",
       "    </tr>\n",
       "    <tr>\n",
       "      <th>9</th>\n",
       "      <td>0.825142</td>\n",
       "      <td>0.016022</td>\n",
       "      <td>0.078482</td>\n",
       "      <td>0.003485</td>\n",
       "      <td>4</td>\n",
       "      <td>2</td>\n",
       "      <td>{'model__min_samples_leaf': 4, 'model__min_sam...</td>\n",
       "      <td>-1890.912153</td>\n",
       "      <td>-1846.355708</td>\n",
       "      <td>-1908.289276</td>\n",
       "      <td>-1893.465041</td>\n",
       "      <td>-1912.318229</td>\n",
       "      <td>-1890.268081</td>\n",
       "      <td>23.451671</td>\n",
       "      <td>1</td>\n",
       "    </tr>\n",
       "    <tr>\n",
       "      <th>10</th>\n",
       "      <td>0.806482</td>\n",
       "      <td>0.012602</td>\n",
       "      <td>0.073252</td>\n",
       "      <td>0.003278</td>\n",
       "      <td>4</td>\n",
       "      <td>3</td>\n",
       "      <td>{'model__min_samples_leaf': 4, 'model__min_sam...</td>\n",
       "      <td>-1890.912153</td>\n",
       "      <td>-1846.355708</td>\n",
       "      <td>-1908.289276</td>\n",
       "      <td>-1893.465041</td>\n",
       "      <td>-1912.318229</td>\n",
       "      <td>-1890.268081</td>\n",
       "      <td>23.451671</td>\n",
       "      <td>1</td>\n",
       "    </tr>\n",
       "    <tr>\n",
       "      <th>11</th>\n",
       "      <td>0.808446</td>\n",
       "      <td>0.011541</td>\n",
       "      <td>0.072513</td>\n",
       "      <td>0.003652</td>\n",
       "      <td>4</td>\n",
       "      <td>4</td>\n",
       "      <td>{'model__min_samples_leaf': 4, 'model__min_sam...</td>\n",
       "      <td>-1890.912153</td>\n",
       "      <td>-1846.355708</td>\n",
       "      <td>-1908.289276</td>\n",
       "      <td>-1893.465041</td>\n",
       "      <td>-1912.318229</td>\n",
       "      <td>-1890.268081</td>\n",
       "      <td>23.451671</td>\n",
       "      <td>1</td>\n",
       "    </tr>\n",
       "  </tbody>\n",
       "</table>\n",
       "</div>"
      ],
      "text/plain": [
       "    mean_fit_time  std_fit_time  mean_score_time  std_score_time  \\\n",
       "0        0.890444      0.011742         0.079619        0.002826   \n",
       "1        0.873712      0.015379         0.079544        0.005691   \n",
       "2        0.870643      0.009336         0.075547        0.003657   \n",
       "3        0.853073      0.023011         0.077155        0.006373   \n",
       "4        0.844742      0.008210         0.078603        0.004981   \n",
       "5        0.869543      0.023503         0.077504        0.002900   \n",
       "6        0.835932      0.015753         0.077240        0.002493   \n",
       "7        0.823767      0.017252         0.075268        0.009583   \n",
       "8        0.854790      0.011619         0.076531        0.003981   \n",
       "9        0.825142      0.016022         0.078482        0.003485   \n",
       "10       0.806482      0.012602         0.073252        0.003278   \n",
       "11       0.808446      0.011541         0.072513        0.003652   \n",
       "\n",
       "   param_model__min_samples_leaf param_model__min_samples_split  \\\n",
       "0                              1                              2   \n",
       "1                              1                              3   \n",
       "2                              1                              4   \n",
       "3                              2                              2   \n",
       "4                              2                              3   \n",
       "5                              2                              4   \n",
       "6                              3                              2   \n",
       "7                              3                              3   \n",
       "8                              3                              4   \n",
       "9                              4                              2   \n",
       "10                             4                              3   \n",
       "11                             4                              4   \n",
       "\n",
       "                                               params  split0_test_score  \\\n",
       "0   {'model__min_samples_leaf': 1, 'model__min_sam...       -2060.854163   \n",
       "1   {'model__min_samples_leaf': 1, 'model__min_sam...       -2035.336010   \n",
       "2   {'model__min_samples_leaf': 1, 'model__min_sam...       -2009.436896   \n",
       "3   {'model__min_samples_leaf': 2, 'model__min_sam...       -1943.615286   \n",
       "4   {'model__min_samples_leaf': 2, 'model__min_sam...       -1943.615286   \n",
       "5   {'model__min_samples_leaf': 2, 'model__min_sam...       -1943.615286   \n",
       "6   {'model__min_samples_leaf': 3, 'model__min_sam...       -1917.245226   \n",
       "7   {'model__min_samples_leaf': 3, 'model__min_sam...       -1917.245226   \n",
       "8   {'model__min_samples_leaf': 3, 'model__min_sam...       -1917.245226   \n",
       "9   {'model__min_samples_leaf': 4, 'model__min_sam...       -1890.912153   \n",
       "10  {'model__min_samples_leaf': 4, 'model__min_sam...       -1890.912153   \n",
       "11  {'model__min_samples_leaf': 4, 'model__min_sam...       -1890.912153   \n",
       "\n",
       "    split1_test_score  split2_test_score  split3_test_score  \\\n",
       "0        -2006.998325       -2046.861133       -2066.404651   \n",
       "1        -1980.775386       -2038.282145       -2041.463717   \n",
       "2        -1977.643440       -2026.585970       -2019.958838   \n",
       "3        -1908.966102       -1972.705850       -1958.093128   \n",
       "4        -1908.966102       -1972.705850       -1958.093128   \n",
       "5        -1908.966102       -1972.705850       -1958.093128   \n",
       "6        -1871.899089       -1927.758672       -1915.015694   \n",
       "7        -1871.899089       -1927.758672       -1915.015694   \n",
       "8        -1871.899089       -1927.758672       -1915.015694   \n",
       "9        -1846.355708       -1908.289276       -1893.465041   \n",
       "10       -1846.355708       -1908.289276       -1893.465041   \n",
       "11       -1846.355708       -1908.289276       -1893.465041   \n",
       "\n",
       "    split4_test_score  mean_test_score  std_test_score  rank_test_score  \n",
       "0        -2049.431547     -2046.109964       20.835466               12  \n",
       "1        -2041.297767     -2027.431005       23.435815               11  \n",
       "2        -2032.334410     -2013.191911       19.336087               10  \n",
       "3        -1966.403464     -1949.956766       22.692131                7  \n",
       "4        -1966.403464     -1949.956766       22.692131                7  \n",
       "5        -1966.403464     -1949.956766       22.692131                7  \n",
       "6        -1930.099679     -1912.403672       21.070402                4  \n",
       "7        -1930.099679     -1912.403672       21.070402                4  \n",
       "8        -1930.099679     -1912.403672       21.070402                4  \n",
       "9        -1912.318229     -1890.268081       23.451671                1  \n",
       "10       -1912.318229     -1890.268081       23.451671                1  \n",
       "11       -1912.318229     -1890.268081       23.451671                1  "
      ]
     },
     "execution_count": 50,
     "metadata": {},
     "output_type": "execute_result"
    }
   ],
   "source": [
    "result_tree_data = pd.DataFrame(gs_tree.cv_results_)\n",
    "result_tree_data"
   ]
  },
  {
   "cell_type": "markdown",
   "metadata": {},
   "source": [
    "Выведем время для лучшей модели."
   ]
  },
  {
   "cell_type": "code",
   "execution_count": 51,
   "metadata": {},
   "outputs": [
    {
     "data": {
      "text/html": [
       "<div>\n",
       "<style scoped>\n",
       "    .dataframe tbody tr th:only-of-type {\n",
       "        vertical-align: middle;\n",
       "    }\n",
       "\n",
       "    .dataframe tbody tr th {\n",
       "        vertical-align: top;\n",
       "    }\n",
       "\n",
       "    .dataframe thead th {\n",
       "        text-align: right;\n",
       "    }\n",
       "</style>\n",
       "<table border=\"1\" class=\"dataframe\">\n",
       "  <thead>\n",
       "    <tr style=\"text-align: right;\">\n",
       "      <th></th>\n",
       "      <th>mean_fit_time</th>\n",
       "      <th>std_fit_time</th>\n",
       "      <th>mean_score_time</th>\n",
       "      <th>std_score_time</th>\n",
       "    </tr>\n",
       "  </thead>\n",
       "  <tbody>\n",
       "    <tr>\n",
       "      <th>9</th>\n",
       "      <td>0.825142</td>\n",
       "      <td>0.016022</td>\n",
       "      <td>0.078482</td>\n",
       "      <td>0.003485</td>\n",
       "    </tr>\n",
       "  </tbody>\n",
       "</table>\n",
       "</div>"
      ],
      "text/plain": [
       "   mean_fit_time  std_fit_time  mean_score_time  std_score_time\n",
       "9       0.825142      0.016022         0.078482        0.003485"
      ]
     },
     "execution_count": 51,
     "metadata": {},
     "output_type": "execute_result"
    }
   ],
   "source": [
    "result_tree_data.loc[(result_tree_data['rank_test_score'] == 1) & (result_tree_data['params'] == gs_tree.best_params_)\n",
    "                     , 'mean_fit_time':'std_score_time']"
   ]
  },
  {
   "cell_type": "markdown",
   "metadata": {},
   "source": [
    "Время обучения на лучших гиперпараметрах равно 0.801145 секунды."
   ]
  },
  {
   "cell_type": "markdown",
   "metadata": {},
   "source": [
    "Поступим аналогично с моделью LGBMRegressor."
   ]
  },
  {
   "cell_type": "markdown",
   "metadata": {},
   "source": [
    "Создадим пайплайн для модели."
   ]
  },
  {
   "cell_type": "code",
   "execution_count": 56,
   "metadata": {},
   "outputs": [
    {
     "name": "stdout",
     "output_type": "stream",
     "text": [
      "<class 'pandas.core.frame.DataFrame'>\n",
      "Int64Index: 222097 entries, 156680 to 145820\n",
      "Data columns (total 8 columns):\n",
      " #   Column             Non-Null Count   Dtype   \n",
      "---  ------             --------------   -----   \n",
      " 0   vehicle_type       222097 non-null  category\n",
      " 1   registration_year  222097 non-null  int64   \n",
      " 2   gearbox            222097 non-null  category\n",
      " 3   power              222097 non-null  int64   \n",
      " 4   kilometer          222097 non-null  int64   \n",
      " 5   fuel_type          222097 non-null  category\n",
      " 6   brand              222097 non-null  category\n",
      " 7   repaired           222097 non-null  category\n",
      "dtypes: category(5), int64(3)\n",
      "memory usage: 7.8 MB\n"
     ]
    }
   ],
   "source": [
    "X_train_lgbm = X_train.copy()\n",
    "X_train_lgbm[cat_name] = X_train_lgbm[cat_name].astype('category')\n",
    "X_train_lgbm.info()"
   ]
  },
  {
   "cell_type": "code",
   "execution_count": 57,
   "metadata": {},
   "outputs": [],
   "source": [
    "param_grid_lgbm = {\n",
    "        'n_estimators': range(45, 50),\n",
    "        'num_leaves': range(10, 15),\n",
    "    }\n"
   ]
  },
  {
   "cell_type": "code",
   "execution_count": 58,
   "metadata": {},
   "outputs": [],
   "source": [
    "gs_lgbm = GridSearchCV(\n",
    "    estimator=LGBMRegressor(random_state=42),\n",
    "    param_grid=param_grid_lgbm,\n",
    "    n_jobs=-1,\n",
    "    cv=5,\n",
    "    scoring='neg_root_mean_squared_error',\n",
    "    verbose=10\n",
    ")"
   ]
  },
  {
   "cell_type": "code",
   "execution_count": 2,
   "metadata": {
    "scrolled": true
   },
   "outputs": [],
   "source": [
    "gs_lgbm.fit(X_train_lgbm, y_train)"
   ]
  },
  {
   "cell_type": "markdown",
   "metadata": {},
   "source": [
    "Найдём метрику на кросс-валидации."
   ]
  },
  {
   "cell_type": "code",
   "execution_count": 60,
   "metadata": {},
   "outputs": [
    {
     "data": {
      "text/plain": [
       "-1901.5634397144815"
      ]
     },
     "execution_count": 60,
     "metadata": {},
     "output_type": "execute_result"
    }
   ],
   "source": [
    "gs_lgbm.best_score_"
   ]
  },
  {
   "cell_type": "markdown",
   "metadata": {},
   "source": [
    "Найдём время обучения."
   ]
  },
  {
   "cell_type": "code",
   "execution_count": 61,
   "metadata": {},
   "outputs": [
    {
     "data": {
      "text/html": [
       "<div>\n",
       "<style scoped>\n",
       "    .dataframe tbody tr th:only-of-type {\n",
       "        vertical-align: middle;\n",
       "    }\n",
       "\n",
       "    .dataframe tbody tr th {\n",
       "        vertical-align: top;\n",
       "    }\n",
       "\n",
       "    .dataframe thead th {\n",
       "        text-align: right;\n",
       "    }\n",
       "</style>\n",
       "<table border=\"1\" class=\"dataframe\">\n",
       "  <thead>\n",
       "    <tr style=\"text-align: right;\">\n",
       "      <th></th>\n",
       "      <th>mean_fit_time</th>\n",
       "      <th>std_fit_time</th>\n",
       "      <th>mean_score_time</th>\n",
       "      <th>std_score_time</th>\n",
       "      <th>param_n_estimators</th>\n",
       "      <th>param_num_leaves</th>\n",
       "      <th>params</th>\n",
       "      <th>split0_test_score</th>\n",
       "      <th>split1_test_score</th>\n",
       "      <th>split2_test_score</th>\n",
       "      <th>split3_test_score</th>\n",
       "      <th>split4_test_score</th>\n",
       "      <th>mean_test_score</th>\n",
       "      <th>std_test_score</th>\n",
       "      <th>rank_test_score</th>\n",
       "    </tr>\n",
       "  </thead>\n",
       "  <tbody>\n",
       "    <tr>\n",
       "      <th>0</th>\n",
       "      <td>12.485084</td>\n",
       "      <td>3.586812</td>\n",
       "      <td>0.195407</td>\n",
       "      <td>0.004771</td>\n",
       "      <td>45</td>\n",
       "      <td>10</td>\n",
       "      <td>{'n_estimators': 45, 'num_leaves': 10}</td>\n",
       "      <td>-1952.985360</td>\n",
       "      <td>-1910.222338</td>\n",
       "      <td>-1966.530250</td>\n",
       "      <td>-1956.042173</td>\n",
       "      <td>-1981.530542</td>\n",
       "      <td>-1953.462133</td>\n",
       "      <td>23.812497</td>\n",
       "      <td>25</td>\n",
       "    </tr>\n",
       "    <tr>\n",
       "      <th>1</th>\n",
       "      <td>12.038996</td>\n",
       "      <td>3.102888</td>\n",
       "      <td>0.201933</td>\n",
       "      <td>0.005725</td>\n",
       "      <td>45</td>\n",
       "      <td>11</td>\n",
       "      <td>{'n_estimators': 45, 'num_leaves': 11}</td>\n",
       "      <td>-1942.089522</td>\n",
       "      <td>-1891.576223</td>\n",
       "      <td>-1950.668519</td>\n",
       "      <td>-1946.854017</td>\n",
       "      <td>-1968.965012</td>\n",
       "      <td>-1940.030659</td>\n",
       "      <td>25.880457</td>\n",
       "      <td>20</td>\n",
       "    </tr>\n",
       "    <tr>\n",
       "      <th>2</th>\n",
       "      <td>19.112879</td>\n",
       "      <td>7.523234</td>\n",
       "      <td>0.182663</td>\n",
       "      <td>0.033459</td>\n",
       "      <td>45</td>\n",
       "      <td>12</td>\n",
       "      <td>{'n_estimators': 45, 'num_leaves': 12}</td>\n",
       "      <td>-1926.823167</td>\n",
       "      <td>-1887.429938</td>\n",
       "      <td>-1938.577825</td>\n",
       "      <td>-1935.644899</td>\n",
       "      <td>-1957.575764</td>\n",
       "      <td>-1929.210318</td>\n",
       "      <td>23.173481</td>\n",
       "      <td>16</td>\n",
       "    </tr>\n",
       "    <tr>\n",
       "      <th>3</th>\n",
       "      <td>17.971698</td>\n",
       "      <td>5.146270</td>\n",
       "      <td>0.206103</td>\n",
       "      <td>0.004467</td>\n",
       "      <td>45</td>\n",
       "      <td>13</td>\n",
       "      <td>{'n_estimators': 45, 'num_leaves': 13}</td>\n",
       "      <td>-1916.206871</td>\n",
       "      <td>-1875.076307</td>\n",
       "      <td>-1927.914498</td>\n",
       "      <td>-1926.561977</td>\n",
       "      <td>-1948.824428</td>\n",
       "      <td>-1918.916816</td>\n",
       "      <td>24.344223</td>\n",
       "      <td>11</td>\n",
       "    </tr>\n",
       "    <tr>\n",
       "      <th>4</th>\n",
       "      <td>16.251927</td>\n",
       "      <td>3.868520</td>\n",
       "      <td>0.204153</td>\n",
       "      <td>0.051257</td>\n",
       "      <td>45</td>\n",
       "      <td>14</td>\n",
       "      <td>{'n_estimators': 45, 'num_leaves': 14}</td>\n",
       "      <td>-1909.710440</td>\n",
       "      <td>-1867.411677</td>\n",
       "      <td>-1927.890751</td>\n",
       "      <td>-1916.287222</td>\n",
       "      <td>-1939.136164</td>\n",
       "      <td>-1912.087251</td>\n",
       "      <td>24.497307</td>\n",
       "      <td>7</td>\n",
       "    </tr>\n",
       "  </tbody>\n",
       "</table>\n",
       "</div>"
      ],
      "text/plain": [
       "   mean_fit_time  std_fit_time  mean_score_time  std_score_time  \\\n",
       "0      12.485084      3.586812         0.195407        0.004771   \n",
       "1      12.038996      3.102888         0.201933        0.005725   \n",
       "2      19.112879      7.523234         0.182663        0.033459   \n",
       "3      17.971698      5.146270         0.206103        0.004467   \n",
       "4      16.251927      3.868520         0.204153        0.051257   \n",
       "\n",
       "  param_n_estimators param_num_leaves                                  params  \\\n",
       "0                 45               10  {'n_estimators': 45, 'num_leaves': 10}   \n",
       "1                 45               11  {'n_estimators': 45, 'num_leaves': 11}   \n",
       "2                 45               12  {'n_estimators': 45, 'num_leaves': 12}   \n",
       "3                 45               13  {'n_estimators': 45, 'num_leaves': 13}   \n",
       "4                 45               14  {'n_estimators': 45, 'num_leaves': 14}   \n",
       "\n",
       "   split0_test_score  split1_test_score  split2_test_score  split3_test_score  \\\n",
       "0       -1952.985360       -1910.222338       -1966.530250       -1956.042173   \n",
       "1       -1942.089522       -1891.576223       -1950.668519       -1946.854017   \n",
       "2       -1926.823167       -1887.429938       -1938.577825       -1935.644899   \n",
       "3       -1916.206871       -1875.076307       -1927.914498       -1926.561977   \n",
       "4       -1909.710440       -1867.411677       -1927.890751       -1916.287222   \n",
       "\n",
       "   split4_test_score  mean_test_score  std_test_score  rank_test_score  \n",
       "0       -1981.530542     -1953.462133       23.812497               25  \n",
       "1       -1968.965012     -1940.030659       25.880457               20  \n",
       "2       -1957.575764     -1929.210318       23.173481               16  \n",
       "3       -1948.824428     -1918.916816       24.344223               11  \n",
       "4       -1939.136164     -1912.087251       24.497307                7  "
      ]
     },
     "execution_count": 61,
     "metadata": {},
     "output_type": "execute_result"
    }
   ],
   "source": [
    "result_lgbm_data = pd.DataFrame(gs_lgbm.cv_results_)\n",
    "result_lgbm_data.head()"
   ]
  },
  {
   "cell_type": "code",
   "execution_count": 62,
   "metadata": {},
   "outputs": [
    {
     "data": {
      "text/html": [
       "<div>\n",
       "<style scoped>\n",
       "    .dataframe tbody tr th:only-of-type {\n",
       "        vertical-align: middle;\n",
       "    }\n",
       "\n",
       "    .dataframe tbody tr th {\n",
       "        vertical-align: top;\n",
       "    }\n",
       "\n",
       "    .dataframe thead th {\n",
       "        text-align: right;\n",
       "    }\n",
       "</style>\n",
       "<table border=\"1\" class=\"dataframe\">\n",
       "  <thead>\n",
       "    <tr style=\"text-align: right;\">\n",
       "      <th></th>\n",
       "      <th>mean_fit_time</th>\n",
       "      <th>std_fit_time</th>\n",
       "      <th>mean_score_time</th>\n",
       "      <th>std_score_time</th>\n",
       "    </tr>\n",
       "  </thead>\n",
       "  <tbody>\n",
       "    <tr>\n",
       "      <th>24</th>\n",
       "      <td>17.304394</td>\n",
       "      <td>4.682065</td>\n",
       "      <td>0.21906</td>\n",
       "      <td>0.034655</td>\n",
       "    </tr>\n",
       "  </tbody>\n",
       "</table>\n",
       "</div>"
      ],
      "text/plain": [
       "    mean_fit_time  std_fit_time  mean_score_time  std_score_time\n",
       "24      17.304394      4.682065          0.21906        0.034655"
      ]
     },
     "execution_count": 62,
     "metadata": {},
     "output_type": "execute_result"
    }
   ],
   "source": [
    "result_lgbm_data.loc[result_lgbm_data['rank_test_score'] == 1, 'mean_fit_time':'std_score_time']"
   ]
  },
  {
   "cell_type": "markdown",
   "metadata": {},
   "source": [
    "Среднее время обучения составило 17.304394 секунды."
   ]
  },
  {
   "cell_type": "markdown",
   "metadata": {},
   "source": [
    "## Анализ моделей"
   ]
  },
  {
   "cell_type": "markdown",
   "metadata": {},
   "source": [
    "Модель дерева решений оказалась точнее, к тому же она меньше обучалась."
   ]
  },
  {
   "cell_type": "markdown",
   "metadata": {},
   "source": [
    "Найдём RMSE на тестовой выборке."
   ]
  },
  {
   "cell_type": "code",
   "execution_count": 63,
   "metadata": {},
   "outputs": [],
   "source": [
    "pred = gs_tree.best_estimator_.predict(X_test)"
   ]
  },
  {
   "cell_type": "code",
   "execution_count": 64,
   "metadata": {},
   "outputs": [
    {
     "data": {
      "text/plain": [
       "1845.379113237603"
      ]
     },
     "execution_count": 64,
     "metadata": {},
     "output_type": "execute_result"
    }
   ],
   "source": [
    "mean_squared_error(y_test, pred, squared=False)"
   ]
  }
 ],
 "metadata": {
  "ExecuteTimeLog": [
   {
    "duration": 1397,
    "start_time": "2025-01-22T17:18:07.657Z"
   },
   {
    "duration": 3683,
    "start_time": "2025-01-22T17:19:51.519Z"
   },
   {
    "duration": 286,
    "start_time": "2025-01-22T17:19:57.872Z"
   },
   {
    "duration": 3348,
    "start_time": "2025-01-22T17:22:19.674Z"
   },
   {
    "duration": 140,
    "start_time": "2025-01-22T17:24:25.910Z"
   },
   {
    "duration": 127,
    "start_time": "2025-01-22T17:26:00.335Z"
   },
   {
    "duration": 21,
    "start_time": "2025-01-22T17:28:19.969Z"
   },
   {
    "duration": 41,
    "start_time": "2025-01-22T17:32:35.886Z"
   },
   {
    "duration": 158,
    "start_time": "2025-01-22T17:34:53.364Z"
   },
   {
    "duration": 237,
    "start_time": "2025-01-22T17:36:21.420Z"
   },
   {
    "duration": 24,
    "start_time": "2025-01-22T17:37:37.978Z"
   },
   {
    "duration": 14,
    "start_time": "2025-01-22T17:38:37.872Z"
   },
   {
    "duration": 12,
    "start_time": "2025-01-22T17:39:00.534Z"
   },
   {
    "duration": 126,
    "start_time": "2025-01-22T17:39:06.167Z"
   },
   {
    "duration": 86,
    "start_time": "2025-01-22T17:41:39.118Z"
   },
   {
    "duration": 189,
    "start_time": "2025-01-22T17:49:33.011Z"
   },
   {
    "duration": 281,
    "start_time": "2025-01-22T17:50:52.214Z"
   },
   {
    "duration": 20,
    "start_time": "2025-01-22T17:51:34.863Z"
   },
   {
    "duration": 2265,
    "start_time": "2025-01-22T17:51:54.230Z"
   },
   {
    "duration": 1407,
    "start_time": "2025-01-22T17:52:06.347Z"
   },
   {
    "duration": 839,
    "start_time": "2025-01-22T17:52:10.899Z"
   },
   {
    "duration": 146,
    "start_time": "2025-01-22T17:52:14.558Z"
   },
   {
    "duration": 134,
    "start_time": "2025-01-22T17:52:17.358Z"
   },
   {
    "duration": 21,
    "start_time": "2025-01-22T17:52:21.205Z"
   },
   {
    "duration": 31,
    "start_time": "2025-01-22T17:53:05.637Z"
   },
   {
    "duration": 216,
    "start_time": "2025-01-22T17:53:18.056Z"
   },
   {
    "duration": 21,
    "start_time": "2025-01-22T17:53:20.659Z"
   },
   {
    "duration": 2376,
    "start_time": "2025-01-22T18:18:12.156Z"
   },
   {
    "duration": 1368,
    "start_time": "2025-01-22T18:18:15.185Z"
   },
   {
    "duration": 836,
    "start_time": "2025-01-22T18:18:19.271Z"
   },
   {
    "duration": 141,
    "start_time": "2025-01-22T18:18:23.741Z"
   },
   {
    "duration": 138,
    "start_time": "2025-01-22T18:18:25.603Z"
   },
   {
    "duration": 21,
    "start_time": "2025-01-22T18:18:28.395Z"
   },
   {
    "duration": 25,
    "start_time": "2025-01-22T18:18:30.865Z"
   },
   {
    "duration": 54,
    "start_time": "2025-01-22T18:18:49.208Z"
   },
   {
    "duration": 21,
    "start_time": "2025-01-22T18:18:54.809Z"
   },
   {
    "duration": 120,
    "start_time": "2025-01-22T18:18:59.569Z"
   },
   {
    "duration": 104,
    "start_time": "2025-01-22T18:20:44.701Z"
   },
   {
    "duration": 5,
    "start_time": "2025-01-22T18:22:06.300Z"
   },
   {
    "duration": 4,
    "start_time": "2025-01-22T18:56:23.746Z"
   },
   {
    "duration": 96,
    "start_time": "2025-01-22T19:02:06.258Z"
   },
   {
    "duration": 96,
    "start_time": "2025-01-22T19:02:14.115Z"
   },
   {
    "duration": 104,
    "start_time": "2025-01-22T19:04:27.287Z"
   },
   {
    "duration": 98,
    "start_time": "2025-01-22T19:05:45.766Z"
   },
   {
    "duration": 7,
    "start_time": "2025-01-22T19:06:04.528Z"
   },
   {
    "duration": 4,
    "start_time": "2025-01-22T19:07:34.330Z"
   },
   {
    "duration": 7,
    "start_time": "2025-01-22T19:09:21.475Z"
   },
   {
    "duration": 3,
    "start_time": "2025-01-22T19:12:23.115Z"
   },
   {
    "duration": 18,
    "start_time": "2025-01-22T19:12:40.179Z"
   },
   {
    "duration": 97,
    "start_time": "2025-01-22T19:27:16.029Z"
   },
   {
    "duration": 4,
    "start_time": "2025-01-22T19:27:52.382Z"
   },
   {
    "duration": 6,
    "start_time": "2025-01-22T19:31:51.159Z"
   },
   {
    "duration": 6,
    "start_time": "2025-01-22T19:32:13.735Z"
   },
   {
    "duration": 7,
    "start_time": "2025-01-22T19:34:00.121Z"
   },
   {
    "duration": 4,
    "start_time": "2025-01-22T19:34:55.323Z"
   },
   {
    "duration": 4,
    "start_time": "2025-01-22T19:35:03.608Z"
   },
   {
    "duration": 4,
    "start_time": "2025-01-22T19:38:33.384Z"
   },
   {
    "duration": 3,
    "start_time": "2025-01-22T19:42:59.585Z"
   },
   {
    "duration": 56,
    "start_time": "2025-01-22T19:44:27.641Z"
   },
   {
    "duration": 132,
    "start_time": "2025-01-22T19:45:30.574Z"
   },
   {
    "duration": 67,
    "start_time": "2025-01-22T19:46:10.323Z"
   },
   {
    "duration": 129,
    "start_time": "2025-01-22T19:46:11.794Z"
   },
   {
    "duration": 4,
    "start_time": "2025-01-22T19:46:43.978Z"
   },
   {
    "duration": 3,
    "start_time": "2025-01-22T19:46:56.599Z"
   },
   {
    "duration": 4,
    "start_time": "2025-01-22T19:48:30.370Z"
   },
   {
    "duration": 5,
    "start_time": "2025-01-22T19:51:03.368Z"
   },
   {
    "duration": 1584,
    "start_time": "2025-01-22T19:57:06.163Z"
   },
   {
    "duration": 126,
    "start_time": "2025-01-22T19:57:13.780Z"
   },
   {
    "duration": 17,
    "start_time": "2025-01-22T19:58:50.958Z"
   },
   {
    "duration": 21,
    "start_time": "2025-01-22T20:02:44.802Z"
   },
   {
    "duration": 21,
    "start_time": "2025-01-22T20:05:01.245Z"
   },
   {
    "duration": 22,
    "start_time": "2025-01-22T20:05:15.328Z"
   },
   {
    "duration": 20,
    "start_time": "2025-01-22T20:10:10.345Z"
   },
   {
    "duration": 19,
    "start_time": "2025-01-22T20:10:31.541Z"
   },
   {
    "duration": 21,
    "start_time": "2025-01-22T20:10:43.999Z"
   },
   {
    "duration": 22,
    "start_time": "2025-01-22T20:11:09.781Z"
   },
   {
    "duration": 1440,
    "start_time": "2025-01-22T20:11:39.558Z"
   },
   {
    "duration": 835,
    "start_time": "2025-01-22T20:11:45.527Z"
   },
   {
    "duration": 142,
    "start_time": "2025-01-22T20:11:49.331Z"
   },
   {
    "duration": 20,
    "start_time": "2025-01-22T20:11:52.260Z"
   },
   {
    "duration": 23,
    "start_time": "2025-01-22T20:11:57.275Z"
   },
   {
    "duration": 21,
    "start_time": "2025-01-22T20:12:01.594Z"
   },
   {
    "duration": 25,
    "start_time": "2025-01-22T20:12:04.828Z"
   },
   {
    "duration": 43,
    "start_time": "2025-01-22T20:13:28.622Z"
   },
   {
    "duration": 129,
    "start_time": "2025-01-22T20:13:37.200Z"
   },
   {
    "duration": 102,
    "start_time": "2025-01-22T20:27:19.047Z"
   },
   {
    "duration": 5,
    "start_time": "2025-01-22T20:27:25.139Z"
   },
   {
    "duration": 5,
    "start_time": "2025-01-22T20:27:29.197Z"
   },
   {
    "duration": 1555,
    "start_time": "2025-01-22T20:27:47.021Z"
   },
   {
    "duration": 18,
    "start_time": "2025-01-22T20:27:49.876Z"
   },
   {
    "duration": 89,
    "start_time": "2025-01-22T20:28:53.007Z"
   },
   {
    "duration": 138,
    "start_time": "2025-01-22T20:29:34.381Z"
   },
   {
    "duration": 6,
    "start_time": "2025-01-22T20:30:48.039Z"
   },
   {
    "duration": 51,
    "start_time": "2025-01-22T20:37:57.573Z"
   },
   {
    "duration": 38,
    "start_time": "2025-01-22T20:38:55.856Z"
   },
   {
    "duration": 132,
    "start_time": "2025-01-22T20:39:12.787Z"
   },
   {
    "duration": 36,
    "start_time": "2025-01-22T20:42:46.441Z"
   },
   {
    "duration": 40,
    "start_time": "2025-01-22T20:44:03.355Z"
   },
   {
    "duration": 42,
    "start_time": "2025-01-22T20:44:40.159Z"
   },
   {
    "duration": 41,
    "start_time": "2025-01-22T20:47:52.975Z"
   },
   {
    "duration": 110,
    "start_time": "2025-01-22T20:49:43.145Z"
   },
   {
    "duration": 36,
    "start_time": "2025-01-22T20:50:47.862Z"
   },
   {
    "duration": 6,
    "start_time": "2025-01-22T20:52:12.595Z"
   },
   {
    "duration": 6,
    "start_time": "2025-01-22T20:52:45.836Z"
   },
   {
    "duration": 5,
    "start_time": "2025-01-22T20:52:53.524Z"
   },
   {
    "duration": 5,
    "start_time": "2025-01-22T20:56:02.108Z"
   },
   {
    "duration": 36,
    "start_time": "2025-01-22T20:59:40.307Z"
   },
   {
    "duration": 230,
    "start_time": "2025-01-22T21:03:30.820Z"
   },
   {
    "duration": 205,
    "start_time": "2025-01-22T21:05:19.218Z"
   },
   {
    "duration": 211,
    "start_time": "2025-01-22T21:05:23.803Z"
   },
   {
    "duration": 57,
    "start_time": "2025-01-22T21:06:20.495Z"
   },
   {
    "duration": 268,
    "start_time": "2025-01-22T21:06:44.084Z"
   },
   {
    "duration": 59,
    "start_time": "2025-01-22T21:07:00.876Z"
   },
   {
    "duration": 182,
    "start_time": "2025-01-22T21:07:03.137Z"
   },
   {
    "duration": 62,
    "start_time": "2025-01-22T21:08:01.794Z"
   },
   {
    "duration": 179,
    "start_time": "2025-01-22T21:08:04.509Z"
   },
   {
    "duration": 62,
    "start_time": "2025-01-22T21:08:16.627Z"
   },
   {
    "duration": 194,
    "start_time": "2025-01-22T21:08:18.182Z"
   },
   {
    "duration": 45,
    "start_time": "2025-01-22T21:09:27.856Z"
   },
   {
    "duration": 195,
    "start_time": "2025-01-22T21:09:28.563Z"
   },
   {
    "duration": 207,
    "start_time": "2025-01-22T21:10:25.986Z"
   },
   {
    "duration": 62,
    "start_time": "2025-01-22T21:17:11.282Z"
   },
   {
    "duration": 23,
    "start_time": "2025-01-22T21:38:59.468Z"
   },
   {
    "duration": 5,
    "start_time": "2025-01-22T21:41:17.882Z"
   },
   {
    "duration": 6,
    "start_time": "2025-01-22T21:43:11.958Z"
   },
   {
    "duration": 5,
    "start_time": "2025-01-22T21:44:20.080Z"
   },
   {
    "duration": 180,
    "start_time": "2025-01-22T21:45:02.199Z"
   },
   {
    "duration": 138,
    "start_time": "2025-01-22T21:47:06.195Z"
   },
   {
    "duration": 186,
    "start_time": "2025-01-22T21:47:15.155Z"
   },
   {
    "duration": 43,
    "start_time": "2025-01-22T21:47:40.224Z"
   },
   {
    "duration": 294,
    "start_time": "2025-01-22T21:47:48.787Z"
   },
   {
    "duration": 43,
    "start_time": "2025-01-22T21:47:57.546Z"
   },
   {
    "duration": 196,
    "start_time": "2025-01-22T21:47:58.447Z"
   },
   {
    "duration": 145,
    "start_time": "2025-01-22T21:52:22.966Z"
   },
   {
    "duration": 15,
    "start_time": "2025-01-22T21:54:36.349Z"
   },
   {
    "duration": 277,
    "start_time": "2025-01-22T21:55:31.371Z"
   },
   {
    "duration": 280,
    "start_time": "2025-01-22T21:56:01.253Z"
   },
   {
    "duration": 285,
    "start_time": "2025-01-22T21:56:31.839Z"
   },
   {
    "duration": 246,
    "start_time": "2025-01-22T21:56:55.542Z"
   },
   {
    "duration": 25,
    "start_time": "2025-01-22T21:57:39.410Z"
   },
   {
    "duration": 276,
    "start_time": "2025-01-22T21:57:51.644Z"
   },
   {
    "duration": 1167,
    "start_time": "2025-01-22T21:58:32.488Z"
   },
   {
    "duration": 2267,
    "start_time": "2025-01-22T22:04:02.712Z"
   },
   {
    "duration": 1451,
    "start_time": "2025-01-22T22:04:04.981Z"
   },
   {
    "duration": 2984,
    "start_time": "2025-01-22T22:04:06.433Z"
   },
   {
    "duration": 149,
    "start_time": "2025-01-22T22:04:09.418Z"
   },
   {
    "duration": 21,
    "start_time": "2025-01-22T22:04:09.569Z"
   },
   {
    "duration": 31,
    "start_time": "2025-01-22T22:04:09.591Z"
   },
   {
    "duration": 23,
    "start_time": "2025-01-22T22:04:09.623Z"
   },
   {
    "duration": 68,
    "start_time": "2025-01-22T22:04:09.647Z"
   },
   {
    "duration": 23,
    "start_time": "2025-01-22T22:04:09.717Z"
   },
   {
    "duration": 54,
    "start_time": "2025-01-22T22:04:09.741Z"
   },
   {
    "duration": 20,
    "start_time": "2025-01-22T22:04:09.797Z"
   },
   {
    "duration": 16,
    "start_time": "2025-01-22T22:04:09.818Z"
   },
   {
    "duration": 156,
    "start_time": "2025-01-22T22:04:09.835Z"
   },
   {
    "duration": 127,
    "start_time": "2025-01-22T22:04:09.993Z"
   },
   {
    "duration": 5,
    "start_time": "2025-01-22T22:04:10.122Z"
   },
   {
    "duration": 34,
    "start_time": "2025-01-22T22:04:10.129Z"
   },
   {
    "duration": 1545,
    "start_time": "2025-01-22T22:04:10.165Z"
   },
   {
    "duration": 18,
    "start_time": "2025-01-22T22:04:11.711Z"
   },
   {
    "duration": 48,
    "start_time": "2025-01-22T22:04:11.731Z"
   },
   {
    "duration": 139,
    "start_time": "2025-01-22T22:04:11.780Z"
   },
   {
    "duration": 43,
    "start_time": "2025-01-22T22:04:11.920Z"
   },
   {
    "duration": 37,
    "start_time": "2025-01-22T22:04:11.964Z"
   },
   {
    "duration": 37,
    "start_time": "2025-01-22T22:04:12.002Z"
   },
   {
    "duration": 224,
    "start_time": "2025-01-22T22:04:12.040Z"
   },
   {
    "duration": 52,
    "start_time": "2025-01-22T22:04:12.266Z"
   },
   {
    "duration": 198,
    "start_time": "2025-01-22T22:04:12.319Z"
   },
   {
    "duration": 69,
    "start_time": "2025-01-22T22:04:12.518Z"
   },
   {
    "duration": 194,
    "start_time": "2025-01-22T22:04:12.588Z"
   },
   {
    "duration": 281,
    "start_time": "2025-01-22T22:04:12.784Z"
   },
   {
    "duration": 54,
    "start_time": "2025-01-22T22:04:13.067Z"
   },
   {
    "duration": 190,
    "start_time": "2025-01-22T22:04:13.123Z"
   },
   {
    "duration": 152,
    "start_time": "2025-01-22T22:04:13.314Z"
   },
   {
    "duration": 182,
    "start_time": "2025-01-22T22:04:13.468Z"
   },
   {
    "duration": 52,
    "start_time": "2025-01-22T22:04:13.652Z"
   },
   {
    "duration": 215,
    "start_time": "2025-01-22T22:04:13.705Z"
   },
   {
    "duration": 63,
    "start_time": "2025-01-22T22:09:49.542Z"
   },
   {
    "duration": 4,
    "start_time": "2025-01-22T22:53:33.339Z"
   },
   {
    "duration": 15,
    "start_time": "2025-01-22T22:55:20.205Z"
   },
   {
    "duration": 3,
    "start_time": "2025-01-22T22:56:23.095Z"
   },
   {
    "duration": 109,
    "start_time": "2025-01-22T22:57:04.141Z"
   },
   {
    "duration": 10,
    "start_time": "2025-01-22T22:57:46.772Z"
   },
   {
    "duration": 4,
    "start_time": "2025-01-22T22:57:55.288Z"
   },
   {
    "duration": 11,
    "start_time": "2025-01-22T22:58:00.316Z"
   },
   {
    "duration": 2483,
    "start_time": "2025-01-22T23:00:14.355Z"
   },
   {
    "duration": 16,
    "start_time": "2025-01-22T23:00:23.846Z"
   },
   {
    "duration": 2310,
    "start_time": "2025-01-22T23:00:37.576Z"
   },
   {
    "duration": 2349,
    "start_time": "2025-01-22T23:00:39.889Z"
   },
   {
    "duration": 1444,
    "start_time": "2025-01-22T23:00:42.240Z"
   },
   {
    "duration": 886,
    "start_time": "2025-01-22T23:00:43.686Z"
   },
   {
    "duration": 155,
    "start_time": "2025-01-22T23:00:44.574Z"
   },
   {
    "duration": 25,
    "start_time": "2025-01-22T23:00:44.731Z"
   },
   {
    "duration": 24,
    "start_time": "2025-01-22T23:00:44.758Z"
   },
   {
    "duration": 21,
    "start_time": "2025-01-22T23:00:44.783Z"
   },
   {
    "duration": 71,
    "start_time": "2025-01-22T23:00:44.805Z"
   },
   {
    "duration": 25,
    "start_time": "2025-01-22T23:00:44.878Z"
   },
   {
    "duration": 71,
    "start_time": "2025-01-22T23:00:44.904Z"
   },
   {
    "duration": 20,
    "start_time": "2025-01-22T23:00:44.977Z"
   },
   {
    "duration": 22,
    "start_time": "2025-01-22T23:00:44.999Z"
   },
   {
    "duration": 167,
    "start_time": "2025-01-22T23:00:45.024Z"
   },
   {
    "duration": 125,
    "start_time": "2025-01-22T23:00:45.192Z"
   },
   {
    "duration": 5,
    "start_time": "2025-01-22T23:00:45.319Z"
   },
   {
    "duration": 10,
    "start_time": "2025-01-22T23:00:45.326Z"
   },
   {
    "duration": 1630,
    "start_time": "2025-01-22T23:00:45.337Z"
   },
   {
    "duration": 16,
    "start_time": "2025-01-22T23:00:46.969Z"
   },
   {
    "duration": 40,
    "start_time": "2025-01-22T23:00:46.987Z"
   },
   {
    "duration": 147,
    "start_time": "2025-01-22T23:00:47.028Z"
   },
   {
    "duration": 155,
    "start_time": "2025-01-22T23:00:47.177Z"
   },
   {
    "duration": 42,
    "start_time": "2025-01-22T23:00:47.334Z"
   },
   {
    "duration": 41,
    "start_time": "2025-01-22T23:00:47.378Z"
   },
   {
    "duration": 228,
    "start_time": "2025-01-22T23:00:47.421Z"
   },
   {
    "duration": 52,
    "start_time": "2025-01-22T23:00:47.651Z"
   },
   {
    "duration": 217,
    "start_time": "2025-01-22T23:00:47.705Z"
   },
   {
    "duration": 64,
    "start_time": "2025-01-22T23:00:47.924Z"
   },
   {
    "duration": 203,
    "start_time": "2025-01-22T23:00:47.990Z"
   },
   {
    "duration": 289,
    "start_time": "2025-01-22T23:00:48.195Z"
   },
   {
    "duration": 69,
    "start_time": "2025-01-22T23:00:48.485Z"
   },
   {
    "duration": 188,
    "start_time": "2025-01-22T23:00:48.556Z"
   },
   {
    "duration": 154,
    "start_time": "2025-01-22T23:00:48.754Z"
   },
   {
    "duration": 191,
    "start_time": "2025-01-22T23:00:48.910Z"
   },
   {
    "duration": 70,
    "start_time": "2025-01-22T23:00:49.104Z"
   },
   {
    "duration": 211,
    "start_time": "2025-01-22T23:00:49.175Z"
   },
   {
    "duration": 70,
    "start_time": "2025-01-22T23:00:49.387Z"
   },
   {
    "duration": 14,
    "start_time": "2025-01-22T23:00:49.459Z"
   },
   {
    "duration": 3,
    "start_time": "2025-01-22T23:00:49.475Z"
   },
   {
    "duration": 2,
    "start_time": "2025-01-22T23:00:49.480Z"
   },
   {
    "duration": 126,
    "start_time": "2025-01-22T23:00:49.486Z"
   },
   {
    "duration": 3,
    "start_time": "2025-01-22T23:01:30.450Z"
   },
   {
    "duration": 2385,
    "start_time": "2025-01-22T23:03:43.424Z"
   },
   {
    "duration": 2229,
    "start_time": "2025-01-22T23:05:22.914Z"
   },
   {
    "duration": 16,
    "start_time": "2025-01-22T23:05:37.371Z"
   },
   {
    "duration": 4,
    "start_time": "2025-01-22T23:05:45.627Z"
   },
   {
    "duration": 10,
    "start_time": "2025-01-22T23:06:04.108Z"
   },
   {
    "duration": 7,
    "start_time": "2025-01-22T23:07:03.075Z"
   },
   {
    "duration": 2,
    "start_time": "2025-01-22T23:07:09.746Z"
   },
   {
    "duration": 10,
    "start_time": "2025-01-22T23:29:01.163Z"
   },
   {
    "duration": 11,
    "start_time": "2025-01-22T23:29:11.092Z"
   },
   {
    "duration": 3,
    "start_time": "2025-01-22T23:29:18.722Z"
   },
   {
    "duration": 3,
    "start_time": "2025-01-22T23:29:25.511Z"
   },
   {
    "duration": 4,
    "start_time": "2025-01-22T23:41:25.840Z"
   },
   {
    "duration": 11,
    "start_time": "2025-01-22T23:44:31.382Z"
   },
   {
    "duration": 10,
    "start_time": "2025-01-22T23:46:04.046Z"
   },
   {
    "duration": 4,
    "start_time": "2025-01-22T23:46:11.544Z"
   },
   {
    "duration": 9,
    "start_time": "2025-01-22T23:46:17.548Z"
   },
   {
    "duration": 3,
    "start_time": "2025-01-22T23:46:37.752Z"
   },
   {
    "duration": 3,
    "start_time": "2025-01-22T23:47:05.531Z"
   },
   {
    "duration": 9,
    "start_time": "2025-01-22T23:47:10.029Z"
   },
   {
    "duration": 1519,
    "start_time": "2025-01-22T23:47:21.139Z"
   },
   {
    "duration": 3,
    "start_time": "2025-01-22T23:47:59.130Z"
   },
   {
    "duration": 1128,
    "start_time": "2025-01-22T23:48:02.097Z"
   },
   {
    "duration": 2235,
    "start_time": "2025-01-22T23:49:04.168Z"
   },
   {
    "duration": 2212,
    "start_time": "2025-01-22T23:49:06.405Z"
   },
   {
    "duration": 1351,
    "start_time": "2025-01-22T23:49:08.619Z"
   },
   {
    "duration": 847,
    "start_time": "2025-01-22T23:49:09.972Z"
   },
   {
    "duration": 141,
    "start_time": "2025-01-22T23:49:10.821Z"
   },
   {
    "duration": 23,
    "start_time": "2025-01-22T23:49:10.964Z"
   },
   {
    "duration": 21,
    "start_time": "2025-01-22T23:49:10.989Z"
   },
   {
    "duration": 21,
    "start_time": "2025-01-22T23:49:11.012Z"
   },
   {
    "duration": 56,
    "start_time": "2025-01-22T23:49:11.034Z"
   },
   {
    "duration": 21,
    "start_time": "2025-01-22T23:49:11.091Z"
   },
   {
    "duration": 58,
    "start_time": "2025-01-22T23:49:11.114Z"
   },
   {
    "duration": 21,
    "start_time": "2025-01-22T23:49:11.174Z"
   },
   {
    "duration": 6,
    "start_time": "2025-01-22T23:49:11.196Z"
   },
   {
    "duration": 157,
    "start_time": "2025-01-22T23:49:11.205Z"
   },
   {
    "duration": 97,
    "start_time": "2025-01-22T23:49:11.363Z"
   },
   {
    "duration": 6,
    "start_time": "2025-01-22T23:49:11.461Z"
   },
   {
    "duration": 18,
    "start_time": "2025-01-22T23:49:11.468Z"
   },
   {
    "duration": 1551,
    "start_time": "2025-01-22T23:49:11.487Z"
   },
   {
    "duration": 21,
    "start_time": "2025-01-22T23:49:13.040Z"
   },
   {
    "duration": 35,
    "start_time": "2025-01-22T23:49:13.063Z"
   },
   {
    "duration": 139,
    "start_time": "2025-01-22T23:49:13.099Z"
   },
   {
    "duration": 41,
    "start_time": "2025-01-22T23:49:13.239Z"
   },
   {
    "duration": 36,
    "start_time": "2025-01-22T23:49:13.282Z"
   },
   {
    "duration": 53,
    "start_time": "2025-01-22T23:49:13.319Z"
   },
   {
    "duration": 209,
    "start_time": "2025-01-22T23:49:13.373Z"
   },
   {
    "duration": 49,
    "start_time": "2025-01-22T23:49:13.583Z"
   },
   {
    "duration": 207,
    "start_time": "2025-01-22T23:49:13.634Z"
   },
   {
    "duration": 66,
    "start_time": "2025-01-22T23:49:13.842Z"
   },
   {
    "duration": 265,
    "start_time": "2025-01-22T23:49:13.910Z"
   },
   {
    "duration": 213,
    "start_time": "2025-01-22T23:49:14.177Z"
   },
   {
    "duration": 77,
    "start_time": "2025-01-22T23:49:14.393Z"
   },
   {
    "duration": 182,
    "start_time": "2025-01-22T23:49:14.472Z"
   },
   {
    "duration": 152,
    "start_time": "2025-01-22T23:49:14.655Z"
   },
   {
    "duration": 177,
    "start_time": "2025-01-22T23:49:14.809Z"
   },
   {
    "duration": 54,
    "start_time": "2025-01-22T23:49:14.987Z"
   },
   {
    "duration": 213,
    "start_time": "2025-01-22T23:49:15.042Z"
   },
   {
    "duration": 66,
    "start_time": "2025-01-22T23:49:15.256Z"
   },
   {
    "duration": 14,
    "start_time": "2025-01-22T23:49:15.323Z"
   },
   {
    "duration": 102,
    "start_time": "2025-01-22T23:49:15.354Z"
   },
   {
    "duration": 5,
    "start_time": "2025-01-22T23:49:15.458Z"
   },
   {
    "duration": 4,
    "start_time": "2025-01-22T23:49:15.467Z"
   },
   {
    "duration": 7,
    "start_time": "2025-01-22T23:49:15.473Z"
   },
   {
    "duration": 7,
    "start_time": "2025-01-22T23:49:15.482Z"
   },
   {
    "duration": 4,
    "start_time": "2025-01-22T23:49:15.490Z"
   },
   {
    "duration": 26,
    "start_time": "2025-01-22T23:49:15.495Z"
   },
   {
    "duration": 16787,
    "start_time": "2025-01-22T23:49:15.523Z"
   },
   {
    "duration": 3,
    "start_time": "2025-01-22T23:50:24.741Z"
   },
   {
    "duration": 3,
    "start_time": "2025-01-22T23:50:26.482Z"
   },
   {
    "duration": 15373,
    "start_time": "2025-01-22T23:50:27.442Z"
   },
   {
    "duration": 15372,
    "start_time": "2025-01-22T23:54:49.147Z"
   },
   {
    "duration": 4,
    "start_time": "2025-01-22T23:55:32.924Z"
   },
   {
    "duration": 3,
    "start_time": "2025-01-22T23:55:34.766Z"
   },
   {
    "duration": 16718,
    "start_time": "2025-01-22T23:55:35.557Z"
   },
   {
    "duration": 2285,
    "start_time": "2025-01-23T00:00:34.033Z"
   },
   {
    "duration": 2231,
    "start_time": "2025-01-23T00:00:36.320Z"
   },
   {
    "duration": 1593,
    "start_time": "2025-01-23T00:00:38.552Z"
   },
   {
    "duration": 834,
    "start_time": "2025-01-23T00:00:40.147Z"
   },
   {
    "duration": 143,
    "start_time": "2025-01-23T00:00:40.983Z"
   },
   {
    "duration": 29,
    "start_time": "2025-01-23T00:00:41.128Z"
   },
   {
    "duration": 21,
    "start_time": "2025-01-23T00:00:41.158Z"
   },
   {
    "duration": 23,
    "start_time": "2025-01-23T00:00:41.180Z"
   },
   {
    "duration": 69,
    "start_time": "2025-01-23T00:00:41.205Z"
   },
   {
    "duration": 22,
    "start_time": "2025-01-23T00:00:41.276Z"
   },
   {
    "duration": 44,
    "start_time": "2025-01-23T00:00:41.300Z"
   },
   {
    "duration": 20,
    "start_time": "2025-01-23T00:00:41.354Z"
   },
   {
    "duration": 122,
    "start_time": "2025-01-23T00:00:41.376Z"
   },
   {
    "duration": 150,
    "start_time": "2025-01-23T00:00:41.501Z"
   },
   {
    "duration": 103,
    "start_time": "2025-01-23T00:00:41.652Z"
   },
   {
    "duration": 6,
    "start_time": "2025-01-23T00:00:41.756Z"
   },
   {
    "duration": 6,
    "start_time": "2025-01-23T00:00:41.764Z"
   },
   {
    "duration": 1592,
    "start_time": "2025-01-23T00:00:41.771Z"
   },
   {
    "duration": 17,
    "start_time": "2025-01-23T00:00:43.365Z"
   },
   {
    "duration": 135,
    "start_time": "2025-01-23T00:00:43.383Z"
   },
   {
    "duration": 135,
    "start_time": "2025-01-23T00:00:43.519Z"
   },
   {
    "duration": 37,
    "start_time": "2025-01-23T00:00:43.656Z"
   },
   {
    "duration": 43,
    "start_time": "2025-01-23T00:00:43.694Z"
   },
   {
    "duration": 38,
    "start_time": "2025-01-23T00:00:43.754Z"
   },
   {
    "duration": 222,
    "start_time": "2025-01-23T00:00:43.793Z"
   },
   {
    "duration": 61,
    "start_time": "2025-01-23T00:00:44.017Z"
   },
   {
    "duration": 204,
    "start_time": "2025-01-23T00:00:44.079Z"
   },
   {
    "duration": 69,
    "start_time": "2025-01-23T00:00:44.285Z"
   },
   {
    "duration": 294,
    "start_time": "2025-01-23T00:00:44.355Z"
   },
   {
    "duration": 209,
    "start_time": "2025-01-23T00:00:44.651Z"
   },
   {
    "duration": 56,
    "start_time": "2025-01-23T00:00:44.862Z"
   },
   {
    "duration": 190,
    "start_time": "2025-01-23T00:00:44.920Z"
   },
   {
    "duration": 165,
    "start_time": "2025-01-23T00:00:45.112Z"
   },
   {
    "duration": 198,
    "start_time": "2025-01-23T00:00:45.279Z"
   },
   {
    "duration": 56,
    "start_time": "2025-01-23T00:00:45.479Z"
   },
   {
    "duration": 218,
    "start_time": "2025-01-23T00:00:45.537Z"
   },
   {
    "duration": 67,
    "start_time": "2025-01-23T00:00:45.756Z"
   },
   {
    "duration": 13,
    "start_time": "2025-01-23T00:00:45.825Z"
   },
   {
    "duration": 16,
    "start_time": "2025-01-23T00:00:45.840Z"
   },
   {
    "duration": 9,
    "start_time": "2025-01-23T00:00:45.857Z"
   },
   {
    "duration": 110,
    "start_time": "2025-01-23T00:00:45.869Z"
   },
   {
    "duration": 25,
    "start_time": "2025-01-23T00:00:45.981Z"
   },
   {
    "duration": 16,
    "start_time": "2025-01-23T00:00:46.008Z"
   },
   {
    "duration": 7,
    "start_time": "2025-01-23T00:00:46.025Z"
   },
   {
    "duration": 4,
    "start_time": "2025-01-23T00:00:46.034Z"
   },
   {
    "duration": 17147,
    "start_time": "2025-01-23T00:00:46.040Z"
   },
   {
    "duration": 2452,
    "start_time": "2025-01-23T00:03:45.969Z"
   },
   {
    "duration": 2254,
    "start_time": "2025-01-23T00:03:48.423Z"
   },
   {
    "duration": 1452,
    "start_time": "2025-01-23T00:03:50.679Z"
   },
   {
    "duration": 870,
    "start_time": "2025-01-23T00:03:52.133Z"
   },
   {
    "duration": 141,
    "start_time": "2025-01-23T00:03:53.006Z"
   },
   {
    "duration": 20,
    "start_time": "2025-01-23T00:03:53.153Z"
   },
   {
    "duration": 19,
    "start_time": "2025-01-23T00:03:53.175Z"
   },
   {
    "duration": 20,
    "start_time": "2025-01-23T00:03:53.195Z"
   },
   {
    "duration": 65,
    "start_time": "2025-01-23T00:03:53.217Z"
   },
   {
    "duration": 22,
    "start_time": "2025-01-23T00:03:53.283Z"
   },
   {
    "duration": 56,
    "start_time": "2025-01-23T00:03:53.307Z"
   },
   {
    "duration": 19,
    "start_time": "2025-01-23T00:03:53.365Z"
   },
   {
    "duration": 42,
    "start_time": "2025-01-23T00:03:53.386Z"
   },
   {
    "duration": 128,
    "start_time": "2025-01-23T00:03:53.430Z"
   },
   {
    "duration": 104,
    "start_time": "2025-01-23T00:03:53.560Z"
   },
   {
    "duration": 6,
    "start_time": "2025-01-23T00:03:53.666Z"
   },
   {
    "duration": 19,
    "start_time": "2025-01-23T00:03:53.673Z"
   },
   {
    "duration": 1589,
    "start_time": "2025-01-23T00:03:53.693Z"
   },
   {
    "duration": 17,
    "start_time": "2025-01-23T00:03:55.283Z"
   },
   {
    "duration": 35,
    "start_time": "2025-01-23T00:03:55.302Z"
   },
   {
    "duration": 139,
    "start_time": "2025-01-23T00:03:55.338Z"
   },
   {
    "duration": 43,
    "start_time": "2025-01-23T00:03:55.479Z"
   },
   {
    "duration": 52,
    "start_time": "2025-01-23T00:03:55.524Z"
   },
   {
    "duration": 35,
    "start_time": "2025-01-23T00:03:55.578Z"
   },
   {
    "duration": 229,
    "start_time": "2025-01-23T00:03:55.614Z"
   },
   {
    "duration": 54,
    "start_time": "2025-01-23T00:03:55.845Z"
   },
   {
    "duration": 201,
    "start_time": "2025-01-23T00:03:55.901Z"
   },
   {
    "duration": 66,
    "start_time": "2025-01-23T00:03:56.104Z"
   },
   {
    "duration": 251,
    "start_time": "2025-01-23T00:03:56.171Z"
   },
   {
    "duration": 209,
    "start_time": "2025-01-23T00:03:56.423Z"
   },
   {
    "duration": 63,
    "start_time": "2025-01-23T00:03:56.633Z"
   },
   {
    "duration": 195,
    "start_time": "2025-01-23T00:03:56.698Z"
   },
   {
    "duration": 166,
    "start_time": "2025-01-23T00:03:56.895Z"
   },
   {
    "duration": 181,
    "start_time": "2025-01-23T00:03:57.063Z"
   },
   {
    "duration": 56,
    "start_time": "2025-01-23T00:03:57.246Z"
   },
   {
    "duration": 199,
    "start_time": "2025-01-23T00:03:57.304Z"
   },
   {
    "duration": 75,
    "start_time": "2025-01-23T00:03:57.504Z"
   },
   {
    "duration": 13,
    "start_time": "2025-01-23T00:03:57.580Z"
   },
   {
    "duration": 14,
    "start_time": "2025-01-23T00:03:57.595Z"
   },
   {
    "duration": 3,
    "start_time": "2025-01-23T00:03:57.610Z"
   },
   {
    "duration": 5,
    "start_time": "2025-01-23T00:03:57.616Z"
   },
   {
    "duration": 4,
    "start_time": "2025-01-23T00:03:57.622Z"
   },
   {
    "duration": 10,
    "start_time": "2025-01-23T00:03:57.627Z"
   },
   {
    "duration": 18,
    "start_time": "2025-01-23T00:03:57.638Z"
   },
   {
    "duration": 6,
    "start_time": "2025-01-23T00:03:57.658Z"
   },
   {
    "duration": 15590,
    "start_time": "2025-01-23T00:03:57.665Z"
   },
   {
    "duration": 11,
    "start_time": "2025-01-23T00:06:37.566Z"
   },
   {
    "duration": 3,
    "start_time": "2025-01-23T00:06:46.278Z"
   },
   {
    "duration": 3,
    "start_time": "2025-01-23T00:06:47.802Z"
   },
   {
    "duration": 16507,
    "start_time": "2025-01-23T00:06:48.195Z"
   },
   {
    "duration": 4,
    "start_time": "2025-01-23T00:07:20.716Z"
   },
   {
    "duration": 3,
    "start_time": "2025-01-23T00:07:21.184Z"
   },
   {
    "duration": 16519,
    "start_time": "2025-01-23T00:07:21.982Z"
   },
   {
    "duration": 2261,
    "start_time": "2025-01-23T00:11:15.835Z"
   },
   {
    "duration": 2232,
    "start_time": "2025-01-23T00:11:18.098Z"
   },
   {
    "duration": 1432,
    "start_time": "2025-01-23T00:11:20.332Z"
   },
   {
    "duration": 862,
    "start_time": "2025-01-23T00:11:21.765Z"
   },
   {
    "duration": 134,
    "start_time": "2025-01-23T00:11:22.629Z"
   },
   {
    "duration": 20,
    "start_time": "2025-01-23T00:11:22.765Z"
   },
   {
    "duration": 19,
    "start_time": "2025-01-23T00:11:22.786Z"
   },
   {
    "duration": 20,
    "start_time": "2025-01-23T00:11:22.806Z"
   },
   {
    "duration": 67,
    "start_time": "2025-01-23T00:11:22.827Z"
   },
   {
    "duration": 25,
    "start_time": "2025-01-23T00:11:22.896Z"
   },
   {
    "duration": 62,
    "start_time": "2025-01-23T00:11:22.922Z"
   },
   {
    "duration": 19,
    "start_time": "2025-01-23T00:11:22.985Z"
   },
   {
    "duration": 6,
    "start_time": "2025-01-23T00:11:23.006Z"
   },
   {
    "duration": 146,
    "start_time": "2025-01-23T00:11:23.015Z"
   },
   {
    "duration": 111,
    "start_time": "2025-01-23T00:11:23.162Z"
   },
   {
    "duration": 7,
    "start_time": "2025-01-23T00:11:23.274Z"
   },
   {
    "duration": 13,
    "start_time": "2025-01-23T00:11:23.282Z"
   },
   {
    "duration": 1544,
    "start_time": "2025-01-23T00:11:23.297Z"
   },
   {
    "duration": 21,
    "start_time": "2025-01-23T00:11:24.843Z"
   },
   {
    "duration": 36,
    "start_time": "2025-01-23T00:11:24.866Z"
   },
   {
    "duration": 135,
    "start_time": "2025-01-23T00:11:24.903Z"
   },
   {
    "duration": 46,
    "start_time": "2025-01-23T00:11:25.039Z"
   },
   {
    "duration": 37,
    "start_time": "2025-01-23T00:11:25.086Z"
   },
   {
    "duration": 43,
    "start_time": "2025-01-23T00:11:25.125Z"
   },
   {
    "duration": 208,
    "start_time": "2025-01-23T00:11:25.169Z"
   },
   {
    "duration": 51,
    "start_time": "2025-01-23T00:11:25.379Z"
   },
   {
    "duration": 212,
    "start_time": "2025-01-23T00:11:25.431Z"
   },
   {
    "duration": 63,
    "start_time": "2025-01-23T00:11:25.645Z"
   },
   {
    "duration": 262,
    "start_time": "2025-01-23T00:11:25.709Z"
   },
   {
    "duration": 206,
    "start_time": "2025-01-23T00:11:25.972Z"
   },
   {
    "duration": 55,
    "start_time": "2025-01-23T00:11:26.180Z"
   },
   {
    "duration": 183,
    "start_time": "2025-01-23T00:11:26.236Z"
   },
   {
    "duration": 156,
    "start_time": "2025-01-23T00:11:26.421Z"
   },
   {
    "duration": 178,
    "start_time": "2025-01-23T00:11:26.578Z"
   },
   {
    "duration": 51,
    "start_time": "2025-01-23T00:11:26.757Z"
   },
   {
    "duration": 228,
    "start_time": "2025-01-23T00:11:26.809Z"
   },
   {
    "duration": 66,
    "start_time": "2025-01-23T00:11:27.038Z"
   },
   {
    "duration": 13,
    "start_time": "2025-01-23T00:11:27.106Z"
   },
   {
    "duration": 4,
    "start_time": "2025-01-23T00:11:27.121Z"
   },
   {
    "duration": 8,
    "start_time": "2025-01-23T00:11:27.126Z"
   },
   {
    "duration": 3,
    "start_time": "2025-01-23T00:11:27.153Z"
   },
   {
    "duration": 4,
    "start_time": "2025-01-23T00:11:27.157Z"
   },
   {
    "duration": 3,
    "start_time": "2025-01-23T00:11:27.162Z"
   },
   {
    "duration": 5,
    "start_time": "2025-01-23T00:11:27.166Z"
   },
   {
    "duration": 4,
    "start_time": "2025-01-23T00:11:27.172Z"
   },
   {
    "duration": 16614,
    "start_time": "2025-01-23T00:11:27.177Z"
   },
   {
    "duration": 5,
    "start_time": "2025-01-23T00:15:07.507Z"
   },
   {
    "duration": 2250,
    "start_time": "2025-01-23T00:16:11.317Z"
   },
   {
    "duration": 2243,
    "start_time": "2025-01-23T00:16:13.569Z"
   },
   {
    "duration": 1379,
    "start_time": "2025-01-23T00:16:15.814Z"
   },
   {
    "duration": 843,
    "start_time": "2025-01-23T00:16:17.194Z"
   },
   {
    "duration": 146,
    "start_time": "2025-01-23T00:16:18.039Z"
   },
   {
    "duration": 20,
    "start_time": "2025-01-23T00:16:18.187Z"
   },
   {
    "duration": 21,
    "start_time": "2025-01-23T00:16:18.209Z"
   },
   {
    "duration": 38,
    "start_time": "2025-01-23T00:16:18.231Z"
   },
   {
    "duration": 52,
    "start_time": "2025-01-23T00:16:18.270Z"
   },
   {
    "duration": 36,
    "start_time": "2025-01-23T00:16:18.324Z"
   },
   {
    "duration": 53,
    "start_time": "2025-01-23T00:16:18.362Z"
   },
   {
    "duration": 37,
    "start_time": "2025-01-23T00:16:18.417Z"
   },
   {
    "duration": 6,
    "start_time": "2025-01-23T00:16:18.456Z"
   },
   {
    "duration": 147,
    "start_time": "2025-01-23T00:16:18.465Z"
   },
   {
    "duration": 125,
    "start_time": "2025-01-23T00:16:18.614Z"
   },
   {
    "duration": 17,
    "start_time": "2025-01-23T00:16:18.741Z"
   },
   {
    "duration": 28,
    "start_time": "2025-01-23T00:16:18.760Z"
   },
   {
    "duration": 1585,
    "start_time": "2025-01-23T00:16:18.790Z"
   },
   {
    "duration": 17,
    "start_time": "2025-01-23T00:16:20.377Z"
   },
   {
    "duration": 42,
    "start_time": "2025-01-23T00:16:20.396Z"
   },
   {
    "duration": 136,
    "start_time": "2025-01-23T00:16:20.454Z"
   },
   {
    "duration": 49,
    "start_time": "2025-01-23T00:16:20.592Z"
   },
   {
    "duration": 46,
    "start_time": "2025-01-23T00:16:20.642Z"
   },
   {
    "duration": 40,
    "start_time": "2025-01-23T00:16:20.689Z"
   },
   {
    "duration": 221,
    "start_time": "2025-01-23T00:16:20.731Z"
   },
   {
    "duration": 51,
    "start_time": "2025-01-23T00:16:20.954Z"
   },
   {
    "duration": 207,
    "start_time": "2025-01-23T00:16:21.007Z"
   },
   {
    "duration": 67,
    "start_time": "2025-01-23T00:16:21.215Z"
   },
   {
    "duration": 253,
    "start_time": "2025-01-23T00:16:21.284Z"
   },
   {
    "duration": 218,
    "start_time": "2025-01-23T00:16:21.539Z"
   },
   {
    "duration": 59,
    "start_time": "2025-01-23T00:16:21.759Z"
   },
   {
    "duration": 198,
    "start_time": "2025-01-23T00:16:21.820Z"
   },
   {
    "duration": 162,
    "start_time": "2025-01-23T00:16:22.020Z"
   },
   {
    "duration": 189,
    "start_time": "2025-01-23T00:16:22.184Z"
   },
   {
    "duration": 54,
    "start_time": "2025-01-23T00:16:22.375Z"
   },
   {
    "duration": 212,
    "start_time": "2025-01-23T00:16:22.431Z"
   },
   {
    "duration": 67,
    "start_time": "2025-01-23T00:16:22.645Z"
   },
   {
    "duration": 14,
    "start_time": "2025-01-23T00:16:22.714Z"
   },
   {
    "duration": 24,
    "start_time": "2025-01-23T00:16:22.731Z"
   },
   {
    "duration": 20,
    "start_time": "2025-01-23T00:16:22.757Z"
   },
   {
    "duration": 3,
    "start_time": "2025-01-23T00:16:22.781Z"
   },
   {
    "duration": 4,
    "start_time": "2025-01-23T00:16:22.785Z"
   },
   {
    "duration": 5,
    "start_time": "2025-01-23T00:16:22.790Z"
   },
   {
    "duration": 4,
    "start_time": "2025-01-23T00:16:22.797Z"
   },
   {
    "duration": 3,
    "start_time": "2025-01-23T00:16:22.803Z"
   },
   {
    "duration": 15582,
    "start_time": "2025-01-23T00:16:22.807Z"
   },
   {
    "duration": 13,
    "start_time": "2025-01-23T00:24:05.156Z"
   },
   {
    "duration": 3,
    "start_time": "2025-01-23T00:26:41.081Z"
   },
   {
    "duration": 1429,
    "start_time": "2025-01-23T00:30:24.738Z"
   },
   {
    "duration": 829,
    "start_time": "2025-01-23T00:30:28.371Z"
   },
   {
    "duration": 149,
    "start_time": "2025-01-23T00:30:29.201Z"
   },
   {
    "duration": 20,
    "start_time": "2025-01-23T00:30:29.352Z"
   },
   {
    "duration": 21,
    "start_time": "2025-01-23T00:30:29.573Z"
   },
   {
    "duration": 21,
    "start_time": "2025-01-23T00:30:29.790Z"
   },
   {
    "duration": 49,
    "start_time": "2025-01-23T00:30:30.222Z"
   },
   {
    "duration": 24,
    "start_time": "2025-01-23T00:30:30.432Z"
   },
   {
    "duration": 45,
    "start_time": "2025-01-23T00:30:30.890Z"
   },
   {
    "duration": 21,
    "start_time": "2025-01-23T00:30:31.088Z"
   },
   {
    "duration": 7,
    "start_time": "2025-01-23T00:30:31.313Z"
   },
   {
    "duration": 131,
    "start_time": "2025-01-23T00:30:31.730Z"
   },
   {
    "duration": 109,
    "start_time": "2025-01-23T00:30:32.599Z"
   },
   {
    "duration": 6,
    "start_time": "2025-01-23T00:30:33.589Z"
   },
   {
    "duration": 5,
    "start_time": "2025-01-23T00:30:34.426Z"
   },
   {
    "duration": 1553,
    "start_time": "2025-01-23T00:30:35.301Z"
   },
   {
    "duration": 20,
    "start_time": "2025-01-23T00:30:36.856Z"
   },
   {
    "duration": 38,
    "start_time": "2025-01-23T00:30:39.804Z"
   },
   {
    "duration": 133,
    "start_time": "2025-01-23T00:30:40.166Z"
   },
   {
    "duration": 34,
    "start_time": "2025-01-23T00:30:41.120Z"
   },
   {
    "duration": 38,
    "start_time": "2025-01-23T00:30:41.929Z"
   },
   {
    "duration": 41,
    "start_time": "2025-01-23T00:30:42.766Z"
   },
   {
    "duration": 229,
    "start_time": "2025-01-23T00:30:44.255Z"
   },
   {
    "duration": 53,
    "start_time": "2025-01-23T00:30:45.140Z"
   },
   {
    "duration": 196,
    "start_time": "2025-01-23T00:30:45.946Z"
   },
   {
    "duration": 63,
    "start_time": "2025-01-23T00:30:46.901Z"
   },
   {
    "duration": 261,
    "start_time": "2025-01-23T00:30:47.255Z"
   },
   {
    "duration": 202,
    "start_time": "2025-01-23T00:30:48.539Z"
   },
   {
    "duration": 54,
    "start_time": "2025-01-23T00:30:49.327Z"
   },
   {
    "duration": 180,
    "start_time": "2025-01-23T00:30:50.627Z"
   },
   {
    "duration": 158,
    "start_time": "2025-01-23T00:30:52.208Z"
   },
   {
    "duration": 171,
    "start_time": "2025-01-23T00:30:53.434Z"
   },
   {
    "duration": 53,
    "start_time": "2025-01-23T00:30:56.455Z"
   },
   {
    "duration": 197,
    "start_time": "2025-01-23T00:30:57.744Z"
   },
   {
    "duration": 65,
    "start_time": "2025-01-23T00:31:00.500Z"
   },
   {
    "duration": 15,
    "start_time": "2025-01-23T00:31:03.608Z"
   },
   {
    "duration": 2,
    "start_time": "2025-01-23T00:31:05.725Z"
   },
   {
    "duration": 3,
    "start_time": "2025-01-23T00:31:07.773Z"
   },
   {
    "duration": 2,
    "start_time": "2025-01-23T00:31:11.569Z"
   },
   {
    "duration": 3,
    "start_time": "2025-01-23T00:31:15.992Z"
   },
   {
    "duration": 4,
    "start_time": "2025-01-23T00:31:18.904Z"
   },
   {
    "duration": 105,
    "start_time": "2025-01-23T00:31:53.504Z"
   },
   {
    "duration": 2,
    "start_time": "2025-01-23T00:36:54.939Z"
   },
   {
    "duration": 3,
    "start_time": "2025-01-23T00:37:03.431Z"
   },
   {
    "duration": 1457,
    "start_time": "2025-01-23T00:37:04.568Z"
   },
   {
    "duration": 2281,
    "start_time": "2025-01-23T00:37:28.000Z"
   },
   {
    "duration": 2301,
    "start_time": "2025-01-23T00:37:30.283Z"
   },
   {
    "duration": 1441,
    "start_time": "2025-01-23T00:37:32.586Z"
   },
   {
    "duration": 850,
    "start_time": "2025-01-23T00:37:34.029Z"
   },
   {
    "duration": 142,
    "start_time": "2025-01-23T00:37:34.881Z"
   },
   {
    "duration": 33,
    "start_time": "2025-01-23T00:37:35.024Z"
   },
   {
    "duration": 35,
    "start_time": "2025-01-23T00:37:35.059Z"
   },
   {
    "duration": 33,
    "start_time": "2025-01-23T00:37:35.095Z"
   },
   {
    "duration": 50,
    "start_time": "2025-01-23T00:37:35.129Z"
   },
   {
    "duration": 23,
    "start_time": "2025-01-23T00:37:35.180Z"
   },
   {
    "duration": 74,
    "start_time": "2025-01-23T00:37:35.204Z"
   },
   {
    "duration": 31,
    "start_time": "2025-01-23T00:37:35.280Z"
   },
   {
    "duration": 13,
    "start_time": "2025-01-23T00:37:35.313Z"
   },
   {
    "duration": 130,
    "start_time": "2025-01-23T00:37:35.328Z"
   },
   {
    "duration": 110,
    "start_time": "2025-01-23T00:37:35.460Z"
   },
   {
    "duration": 7,
    "start_time": "2025-01-23T00:37:35.572Z"
   },
   {
    "duration": 50,
    "start_time": "2025-01-23T00:37:35.580Z"
   },
   {
    "duration": 1626,
    "start_time": "2025-01-23T00:37:35.632Z"
   },
   {
    "duration": 18,
    "start_time": "2025-01-23T00:37:37.260Z"
   },
   {
    "duration": 35,
    "start_time": "2025-01-23T00:37:37.280Z"
   },
   {
    "duration": 142,
    "start_time": "2025-01-23T00:37:37.317Z"
   },
   {
    "duration": 34,
    "start_time": "2025-01-23T00:37:37.460Z"
   },
   {
    "duration": 41,
    "start_time": "2025-01-23T00:37:37.495Z"
   },
   {
    "duration": 48,
    "start_time": "2025-01-23T00:37:37.538Z"
   },
   {
    "duration": 228,
    "start_time": "2025-01-23T00:37:37.588Z"
   },
   {
    "duration": 59,
    "start_time": "2025-01-23T00:37:37.817Z"
   },
   {
    "duration": 201,
    "start_time": "2025-01-23T00:37:37.878Z"
   },
   {
    "duration": 57,
    "start_time": "2025-01-23T00:37:38.081Z"
   },
   {
    "duration": 272,
    "start_time": "2025-01-23T00:37:38.140Z"
   },
   {
    "duration": 205,
    "start_time": "2025-01-23T00:37:38.414Z"
   },
   {
    "duration": 65,
    "start_time": "2025-01-23T00:37:38.621Z"
   },
   {
    "duration": 188,
    "start_time": "2025-01-23T00:37:38.688Z"
   },
   {
    "duration": 157,
    "start_time": "2025-01-23T00:37:38.878Z"
   },
   {
    "duration": 181,
    "start_time": "2025-01-23T00:37:39.037Z"
   },
   {
    "duration": 60,
    "start_time": "2025-01-23T00:37:39.220Z"
   },
   {
    "duration": 197,
    "start_time": "2025-01-23T00:37:39.281Z"
   },
   {
    "duration": 63,
    "start_time": "2025-01-23T00:37:39.479Z"
   },
   {
    "duration": 13,
    "start_time": "2025-01-23T00:37:39.555Z"
   },
   {
    "duration": 40,
    "start_time": "2025-01-23T00:37:39.570Z"
   },
   {
    "duration": 18,
    "start_time": "2025-01-23T00:37:39.611Z"
   },
   {
    "duration": 3,
    "start_time": "2025-01-23T00:37:39.632Z"
   },
   {
    "duration": 12,
    "start_time": "2025-01-23T00:37:39.636Z"
   },
   {
    "duration": 7,
    "start_time": "2025-01-23T00:37:39.649Z"
   },
   {
    "duration": 5,
    "start_time": "2025-01-23T00:37:39.657Z"
   },
   {
    "duration": 5,
    "start_time": "2025-01-23T00:37:39.663Z"
   },
   {
    "duration": 1563,
    "start_time": "2025-01-23T00:37:39.669Z"
   },
   {
    "duration": 2253,
    "start_time": "2025-01-23T00:38:02.080Z"
   },
   {
    "duration": 2207,
    "start_time": "2025-01-23T00:38:04.335Z"
   },
   {
    "duration": 1443,
    "start_time": "2025-01-23T00:38:06.544Z"
   },
   {
    "duration": 829,
    "start_time": "2025-01-23T00:38:07.988Z"
   },
   {
    "duration": 144,
    "start_time": "2025-01-23T00:38:08.819Z"
   },
   {
    "duration": 21,
    "start_time": "2025-01-23T00:38:08.964Z"
   },
   {
    "duration": 27,
    "start_time": "2025-01-23T00:38:08.986Z"
   },
   {
    "duration": 25,
    "start_time": "2025-01-23T00:38:09.014Z"
   },
   {
    "duration": 51,
    "start_time": "2025-01-23T00:38:09.041Z"
   },
   {
    "duration": 22,
    "start_time": "2025-01-23T00:38:09.094Z"
   },
   {
    "duration": 61,
    "start_time": "2025-01-23T00:38:09.118Z"
   },
   {
    "duration": 20,
    "start_time": "2025-01-23T00:38:09.180Z"
   },
   {
    "duration": 8,
    "start_time": "2025-01-23T00:38:09.201Z"
   },
   {
    "duration": 145,
    "start_time": "2025-01-23T00:38:09.210Z"
   },
   {
    "duration": 99,
    "start_time": "2025-01-23T00:38:09.357Z"
   },
   {
    "duration": 6,
    "start_time": "2025-01-23T00:38:09.457Z"
   },
   {
    "duration": 5,
    "start_time": "2025-01-23T00:38:09.464Z"
   },
   {
    "duration": 1557,
    "start_time": "2025-01-23T00:38:09.471Z"
   },
   {
    "duration": 24,
    "start_time": "2025-01-23T00:38:11.030Z"
   },
   {
    "duration": 35,
    "start_time": "2025-01-23T00:38:11.055Z"
   },
   {
    "duration": 135,
    "start_time": "2025-01-23T00:38:11.092Z"
   },
   {
    "duration": 43,
    "start_time": "2025-01-23T00:38:11.229Z"
   },
   {
    "duration": 42,
    "start_time": "2025-01-23T00:38:11.274Z"
   },
   {
    "duration": 43,
    "start_time": "2025-01-23T00:38:11.318Z"
   },
   {
    "duration": 210,
    "start_time": "2025-01-23T00:38:11.363Z"
   },
   {
    "duration": 50,
    "start_time": "2025-01-23T00:38:11.574Z"
   },
   {
    "duration": 195,
    "start_time": "2025-01-23T00:38:11.626Z"
   },
   {
    "duration": 65,
    "start_time": "2025-01-23T00:38:11.824Z"
   },
   {
    "duration": 260,
    "start_time": "2025-01-23T00:38:11.891Z"
   },
   {
    "duration": 202,
    "start_time": "2025-01-23T00:38:12.153Z"
   },
   {
    "duration": 54,
    "start_time": "2025-01-23T00:38:12.357Z"
   },
   {
    "duration": 193,
    "start_time": "2025-01-23T00:38:12.412Z"
   },
   {
    "duration": 156,
    "start_time": "2025-01-23T00:38:12.606Z"
   },
   {
    "duration": 190,
    "start_time": "2025-01-23T00:38:12.764Z"
   },
   {
    "duration": 53,
    "start_time": "2025-01-23T00:38:12.955Z"
   },
   {
    "duration": 199,
    "start_time": "2025-01-23T00:38:13.010Z"
   },
   {
    "duration": 72,
    "start_time": "2025-01-23T00:38:13.211Z"
   },
   {
    "duration": 15,
    "start_time": "2025-01-23T00:38:13.285Z"
   },
   {
    "duration": 3,
    "start_time": "2025-01-23T00:38:13.301Z"
   },
   {
    "duration": 3,
    "start_time": "2025-01-23T00:38:13.306Z"
   },
   {
    "duration": 18,
    "start_time": "2025-01-23T00:38:13.310Z"
   },
   {
    "duration": 6,
    "start_time": "2025-01-23T00:38:13.329Z"
   },
   {
    "duration": 4,
    "start_time": "2025-01-23T00:38:13.336Z"
   },
   {
    "duration": 2,
    "start_time": "2025-01-23T00:38:13.354Z"
   },
   {
    "duration": 9,
    "start_time": "2025-01-23T00:38:13.358Z"
   },
   {
    "duration": 16773,
    "start_time": "2025-01-23T00:38:13.368Z"
   },
   {
    "duration": 3,
    "start_time": "2025-01-23T00:39:43.551Z"
   },
   {
    "duration": 16569,
    "start_time": "2025-01-23T00:39:44.695Z"
   },
   {
    "duration": 4,
    "start_time": "2025-01-23T00:41:05.962Z"
   },
   {
    "duration": 13,
    "start_time": "2025-01-23T00:41:07.354Z"
   },
   {
    "duration": 2,
    "start_time": "2025-01-23T00:43:33.864Z"
   },
   {
    "duration": 3,
    "start_time": "2025-01-23T00:44:34.883Z"
   },
   {
    "duration": 2415,
    "start_time": "2025-01-23T00:55:57.901Z"
   },
   {
    "duration": 2322,
    "start_time": "2025-01-23T00:56:00.318Z"
   },
   {
    "duration": 1510,
    "start_time": "2025-01-23T00:56:02.642Z"
   },
   {
    "duration": 878,
    "start_time": "2025-01-23T00:56:04.154Z"
   },
   {
    "duration": 140,
    "start_time": "2025-01-23T00:56:05.033Z"
   },
   {
    "duration": 26,
    "start_time": "2025-01-23T00:56:05.174Z"
   },
   {
    "duration": 30,
    "start_time": "2025-01-23T00:56:05.201Z"
   },
   {
    "duration": 48,
    "start_time": "2025-01-23T00:56:05.233Z"
   },
   {
    "duration": 53,
    "start_time": "2025-01-23T00:56:05.283Z"
   },
   {
    "duration": 22,
    "start_time": "2025-01-23T00:56:05.338Z"
   },
   {
    "duration": 51,
    "start_time": "2025-01-23T00:56:05.362Z"
   },
   {
    "duration": 20,
    "start_time": "2025-01-23T00:56:05.414Z"
   },
   {
    "duration": 26,
    "start_time": "2025-01-23T00:56:05.436Z"
   },
   {
    "duration": 132,
    "start_time": "2025-01-23T00:56:05.464Z"
   },
   {
    "duration": 109,
    "start_time": "2025-01-23T00:56:05.598Z"
   },
   {
    "duration": 6,
    "start_time": "2025-01-23T00:56:05.708Z"
   },
   {
    "duration": 9,
    "start_time": "2025-01-23T00:56:05.716Z"
   },
   {
    "duration": 1646,
    "start_time": "2025-01-23T00:56:05.727Z"
   },
   {
    "duration": 17,
    "start_time": "2025-01-23T00:56:07.375Z"
   },
   {
    "duration": 43,
    "start_time": "2025-01-23T00:56:07.394Z"
   },
   {
    "duration": 140,
    "start_time": "2025-01-23T00:56:07.438Z"
   },
   {
    "duration": 77,
    "start_time": "2025-01-23T00:56:07.580Z"
   },
   {
    "duration": 39,
    "start_time": "2025-01-23T00:56:07.658Z"
   },
   {
    "duration": 39,
    "start_time": "2025-01-23T00:56:07.698Z"
   },
   {
    "duration": 233,
    "start_time": "2025-01-23T00:56:07.753Z"
   },
   {
    "duration": 51,
    "start_time": "2025-01-23T00:56:07.987Z"
   },
   {
    "duration": 216,
    "start_time": "2025-01-23T00:56:08.039Z"
   },
   {
    "duration": 58,
    "start_time": "2025-01-23T00:56:08.258Z"
   },
   {
    "duration": 282,
    "start_time": "2025-01-23T00:56:08.318Z"
   },
   {
    "duration": 224,
    "start_time": "2025-01-23T00:56:08.601Z"
   },
   {
    "duration": 66,
    "start_time": "2025-01-23T00:56:08.827Z"
   },
   {
    "duration": 193,
    "start_time": "2025-01-23T00:56:08.895Z"
   },
   {
    "duration": 165,
    "start_time": "2025-01-23T00:56:09.089Z"
   },
   {
    "duration": 194,
    "start_time": "2025-01-23T00:56:09.255Z"
   },
   {
    "duration": 55,
    "start_time": "2025-01-23T00:56:09.453Z"
   },
   {
    "duration": 218,
    "start_time": "2025-01-23T00:56:09.509Z"
   },
   {
    "duration": 76,
    "start_time": "2025-01-23T00:56:09.729Z"
   },
   {
    "duration": 14,
    "start_time": "2025-01-23T00:56:09.807Z"
   },
   {
    "duration": 8,
    "start_time": "2025-01-23T00:56:09.822Z"
   },
   {
    "duration": 17,
    "start_time": "2025-01-23T00:56:09.832Z"
   },
   {
    "duration": 5,
    "start_time": "2025-01-23T00:56:09.851Z"
   },
   {
    "duration": 4,
    "start_time": "2025-01-23T00:56:09.858Z"
   },
   {
    "duration": 7,
    "start_time": "2025-01-23T00:56:09.863Z"
   },
   {
    "duration": 4,
    "start_time": "2025-01-23T00:56:09.871Z"
   },
   {
    "duration": 16,
    "start_time": "2025-01-23T00:56:09.876Z"
   },
   {
    "duration": 2287,
    "start_time": "2025-01-23T01:09:14.590Z"
   },
   {
    "duration": 2270,
    "start_time": "2025-01-23T01:09:16.880Z"
   },
   {
    "duration": 1497,
    "start_time": "2025-01-23T01:09:19.154Z"
   },
   {
    "duration": 864,
    "start_time": "2025-01-23T01:09:20.653Z"
   },
   {
    "duration": 155,
    "start_time": "2025-01-23T01:09:21.519Z"
   },
   {
    "duration": 22,
    "start_time": "2025-01-23T01:09:21.675Z"
   },
   {
    "duration": 25,
    "start_time": "2025-01-23T01:09:21.698Z"
   },
   {
    "duration": 40,
    "start_time": "2025-01-23T01:09:21.724Z"
   },
   {
    "duration": 55,
    "start_time": "2025-01-23T01:09:21.765Z"
   },
   {
    "duration": 42,
    "start_time": "2025-01-23T01:09:21.821Z"
   },
   {
    "duration": 55,
    "start_time": "2025-01-23T01:09:21.865Z"
   },
   {
    "duration": 35,
    "start_time": "2025-01-23T01:09:21.921Z"
   },
   {
    "duration": 8,
    "start_time": "2025-01-23T01:09:21.959Z"
   },
   {
    "duration": 149,
    "start_time": "2025-01-23T01:09:21.968Z"
   },
   {
    "duration": 121,
    "start_time": "2025-01-23T01:09:22.119Z"
   },
   {
    "duration": 18,
    "start_time": "2025-01-23T01:09:22.241Z"
   },
   {
    "duration": 30,
    "start_time": "2025-01-23T01:09:22.260Z"
   },
   {
    "duration": 1605,
    "start_time": "2025-01-23T01:09:22.291Z"
   },
   {
    "duration": 17,
    "start_time": "2025-01-23T01:09:23.898Z"
   },
   {
    "duration": 53,
    "start_time": "2025-01-23T01:09:23.917Z"
   },
   {
    "duration": 138,
    "start_time": "2025-01-23T01:09:23.971Z"
   },
   {
    "duration": 43,
    "start_time": "2025-01-23T01:09:24.111Z"
   },
   {
    "duration": 41,
    "start_time": "2025-01-23T01:09:24.155Z"
   },
   {
    "duration": 40,
    "start_time": "2025-01-23T01:09:24.197Z"
   },
   {
    "duration": 233,
    "start_time": "2025-01-23T01:09:24.254Z"
   },
   {
    "duration": 51,
    "start_time": "2025-01-23T01:09:24.489Z"
   },
   {
    "duration": 202,
    "start_time": "2025-01-23T01:09:24.542Z"
   },
   {
    "duration": 65,
    "start_time": "2025-01-23T01:09:24.745Z"
   },
   {
    "duration": 274,
    "start_time": "2025-01-23T01:09:24.811Z"
   },
   {
    "duration": 203,
    "start_time": "2025-01-23T01:09:25.086Z"
   },
   {
    "duration": 67,
    "start_time": "2025-01-23T01:09:25.291Z"
   },
   {
    "duration": 189,
    "start_time": "2025-01-23T01:09:25.359Z"
   },
   {
    "duration": 154,
    "start_time": "2025-01-23T01:09:25.550Z"
   },
   {
    "duration": 191,
    "start_time": "2025-01-23T01:09:25.705Z"
   },
   {
    "duration": 56,
    "start_time": "2025-01-23T01:09:25.898Z"
   },
   {
    "duration": 202,
    "start_time": "2025-01-23T01:09:25.956Z"
   },
   {
    "duration": 64,
    "start_time": "2025-01-23T01:09:26.160Z"
   },
   {
    "duration": 30,
    "start_time": "2025-01-23T01:09:26.225Z"
   },
   {
    "duration": 26,
    "start_time": "2025-01-23T01:09:26.257Z"
   },
   {
    "duration": 3,
    "start_time": "2025-01-23T01:09:26.286Z"
   },
   {
    "duration": 2,
    "start_time": "2025-01-23T01:09:26.291Z"
   },
   {
    "duration": 15,
    "start_time": "2025-01-23T01:09:26.295Z"
   },
   {
    "duration": 9,
    "start_time": "2025-01-23T01:09:26.312Z"
   },
   {
    "duration": 6,
    "start_time": "2025-01-23T01:09:26.322Z"
   },
   {
    "duration": 6,
    "start_time": "2025-01-23T01:09:26.329Z"
   },
   {
    "duration": 2549,
    "start_time": "2025-01-23T01:26:38.759Z"
   },
   {
    "duration": 2356,
    "start_time": "2025-01-23T01:26:41.310Z"
   },
   {
    "duration": 1500,
    "start_time": "2025-01-23T01:26:43.668Z"
   },
   {
    "duration": 879,
    "start_time": "2025-01-23T01:26:45.170Z"
   },
   {
    "duration": 148,
    "start_time": "2025-01-23T01:26:46.054Z"
   },
   {
    "duration": 22,
    "start_time": "2025-01-23T01:26:46.204Z"
   },
   {
    "duration": 33,
    "start_time": "2025-01-23T01:26:46.227Z"
   },
   {
    "duration": 21,
    "start_time": "2025-01-23T01:26:46.261Z"
   },
   {
    "duration": 53,
    "start_time": "2025-01-23T01:26:46.284Z"
   },
   {
    "duration": 40,
    "start_time": "2025-01-23T01:26:46.338Z"
   },
   {
    "duration": 102,
    "start_time": "2025-01-23T01:26:46.379Z"
   },
   {
    "duration": 21,
    "start_time": "2025-01-23T01:26:46.482Z"
   },
   {
    "duration": 9,
    "start_time": "2025-01-23T01:26:46.504Z"
   },
   {
    "duration": 151,
    "start_time": "2025-01-23T01:26:46.516Z"
   },
   {
    "duration": 127,
    "start_time": "2025-01-23T01:26:46.668Z"
   },
   {
    "duration": 5,
    "start_time": "2025-01-23T01:26:46.797Z"
   },
   {
    "duration": 29,
    "start_time": "2025-01-23T01:26:46.804Z"
   },
   {
    "duration": 1645,
    "start_time": "2025-01-23T01:26:46.835Z"
   },
   {
    "duration": 17,
    "start_time": "2025-01-23T01:26:48.482Z"
   },
   {
    "duration": 56,
    "start_time": "2025-01-23T01:26:48.501Z"
   },
   {
    "duration": 142,
    "start_time": "2025-01-23T01:26:48.559Z"
   },
   {
    "duration": 36,
    "start_time": "2025-01-23T01:26:48.703Z"
   },
   {
    "duration": 109,
    "start_time": "2025-01-23T01:26:48.754Z"
   },
   {
    "duration": 42,
    "start_time": "2025-01-23T01:26:48.865Z"
   },
   {
    "duration": 233,
    "start_time": "2025-01-23T01:26:48.909Z"
   },
   {
    "duration": 63,
    "start_time": "2025-01-23T01:26:49.143Z"
   },
   {
    "duration": 215,
    "start_time": "2025-01-23T01:26:49.208Z"
   },
   {
    "duration": 70,
    "start_time": "2025-01-23T01:26:49.424Z"
   },
   {
    "duration": 285,
    "start_time": "2025-01-23T01:26:49.496Z"
   },
   {
    "duration": 218,
    "start_time": "2025-01-23T01:26:49.782Z"
   },
   {
    "duration": 73,
    "start_time": "2025-01-23T01:26:50.001Z"
   },
   {
    "duration": 191,
    "start_time": "2025-01-23T01:26:50.076Z"
   },
   {
    "duration": 160,
    "start_time": "2025-01-23T01:26:50.268Z"
   },
   {
    "duration": 195,
    "start_time": "2025-01-23T01:26:50.430Z"
   },
   {
    "duration": 62,
    "start_time": "2025-01-23T01:26:50.627Z"
   },
   {
    "duration": 206,
    "start_time": "2025-01-23T01:26:50.691Z"
   },
   {
    "duration": 80,
    "start_time": "2025-01-23T01:26:50.898Z"
   },
   {
    "duration": 15,
    "start_time": "2025-01-23T01:26:50.980Z"
   },
   {
    "duration": 27,
    "start_time": "2025-01-23T01:26:50.996Z"
   },
   {
    "duration": 15,
    "start_time": "2025-01-23T01:26:51.024Z"
   },
   {
    "duration": 3,
    "start_time": "2025-01-23T01:26:51.043Z"
   },
   {
    "duration": 6,
    "start_time": "2025-01-23T01:26:51.047Z"
   },
   {
    "duration": 7,
    "start_time": "2025-01-23T01:26:51.054Z"
   },
   {
    "duration": 9,
    "start_time": "2025-01-23T01:26:51.062Z"
   },
   {
    "duration": 5,
    "start_time": "2025-01-23T01:26:51.072Z"
   },
   {
    "duration": 2311,
    "start_time": "2025-01-23T01:29:26.475Z"
   },
   {
    "duration": 2263,
    "start_time": "2025-01-23T01:29:28.788Z"
   },
   {
    "duration": 1455,
    "start_time": "2025-01-23T01:29:31.053Z"
   },
   {
    "duration": 872,
    "start_time": "2025-01-23T01:29:32.509Z"
   },
   {
    "duration": 154,
    "start_time": "2025-01-23T01:29:33.383Z"
   },
   {
    "duration": 25,
    "start_time": "2025-01-23T01:29:33.538Z"
   },
   {
    "duration": 21,
    "start_time": "2025-01-23T01:29:33.565Z"
   },
   {
    "duration": 51,
    "start_time": "2025-01-23T01:29:33.587Z"
   },
   {
    "duration": 57,
    "start_time": "2025-01-23T01:29:33.639Z"
   },
   {
    "duration": 26,
    "start_time": "2025-01-23T01:29:33.697Z"
   },
   {
    "duration": 114,
    "start_time": "2025-01-23T01:29:33.724Z"
   },
   {
    "duration": 21,
    "start_time": "2025-01-23T01:29:33.839Z"
   },
   {
    "duration": 20,
    "start_time": "2025-01-23T01:29:33.861Z"
   },
   {
    "duration": 136,
    "start_time": "2025-01-23T01:29:33.884Z"
   },
   {
    "duration": 123,
    "start_time": "2025-01-23T01:29:34.021Z"
   },
   {
    "duration": 7,
    "start_time": "2025-01-23T01:29:34.153Z"
   },
   {
    "duration": 42,
    "start_time": "2025-01-23T01:29:34.161Z"
   },
   {
    "duration": 1644,
    "start_time": "2025-01-23T01:29:34.204Z"
   },
   {
    "duration": 17,
    "start_time": "2025-01-23T01:29:35.850Z"
   },
   {
    "duration": 56,
    "start_time": "2025-01-23T01:29:35.868Z"
   },
   {
    "duration": 147,
    "start_time": "2025-01-23T01:29:35.925Z"
   },
   {
    "duration": 34,
    "start_time": "2025-01-23T01:29:36.074Z"
   },
   {
    "duration": 55,
    "start_time": "2025-01-23T01:29:36.110Z"
   },
   {
    "duration": 50,
    "start_time": "2025-01-23T01:29:36.167Z"
   },
   {
    "duration": 227,
    "start_time": "2025-01-23T01:29:36.219Z"
   },
   {
    "duration": 56,
    "start_time": "2025-01-23T01:29:36.448Z"
   },
   {
    "duration": 207,
    "start_time": "2025-01-23T01:29:36.506Z"
   },
   {
    "duration": 69,
    "start_time": "2025-01-23T01:29:36.715Z"
   },
   {
    "duration": 290,
    "start_time": "2025-01-23T01:29:36.786Z"
   },
   {
    "duration": 217,
    "start_time": "2025-01-23T01:29:37.078Z"
   },
   {
    "duration": 71,
    "start_time": "2025-01-23T01:29:37.297Z"
   },
   {
    "duration": 190,
    "start_time": "2025-01-23T01:29:37.370Z"
   },
   {
    "duration": 164,
    "start_time": "2025-01-23T01:29:37.562Z"
   },
   {
    "duration": 201,
    "start_time": "2025-01-23T01:29:37.727Z"
   },
   {
    "duration": 63,
    "start_time": "2025-01-23T01:29:37.929Z"
   },
   {
    "duration": 208,
    "start_time": "2025-01-23T01:29:37.994Z"
   },
   {
    "duration": 82,
    "start_time": "2025-01-23T01:29:38.203Z"
   },
   {
    "duration": 15,
    "start_time": "2025-01-23T01:29:38.286Z"
   },
   {
    "duration": 21,
    "start_time": "2025-01-23T01:29:38.303Z"
   },
   {
    "duration": 74,
    "start_time": "2025-01-23T01:29:38.326Z"
   },
   {
    "duration": 24,
    "start_time": "2025-01-23T01:29:38.403Z"
   },
   {
    "duration": 6,
    "start_time": "2025-01-23T01:29:38.428Z"
   },
   {
    "duration": 8,
    "start_time": "2025-01-23T01:29:38.436Z"
   },
   {
    "duration": 10,
    "start_time": "2025-01-23T01:29:38.445Z"
   },
   {
    "duration": 114,
    "start_time": "2025-01-23T01:29:38.456Z"
   },
   {
    "duration": 0,
    "start_time": "2025-01-23T01:29:38.571Z"
   },
   {
    "duration": 0,
    "start_time": "2025-01-23T01:29:38.573Z"
   },
   {
    "duration": 2350,
    "start_time": "2025-01-23T01:30:50.579Z"
   },
   {
    "duration": 2260,
    "start_time": "2025-01-23T01:30:52.931Z"
   },
   {
    "duration": 1381,
    "start_time": "2025-01-23T01:30:55.193Z"
   },
   {
    "duration": 870,
    "start_time": "2025-01-23T01:30:56.575Z"
   },
   {
    "duration": 151,
    "start_time": "2025-01-23T01:30:57.447Z"
   },
   {
    "duration": 21,
    "start_time": "2025-01-23T01:30:57.600Z"
   },
   {
    "duration": 34,
    "start_time": "2025-01-23T01:30:57.622Z"
   },
   {
    "duration": 24,
    "start_time": "2025-01-23T01:30:57.657Z"
   },
   {
    "duration": 78,
    "start_time": "2025-01-23T01:30:57.683Z"
   },
   {
    "duration": 26,
    "start_time": "2025-01-23T01:30:57.763Z"
   },
   {
    "duration": 64,
    "start_time": "2025-01-23T01:30:57.791Z"
   },
   {
    "duration": 21,
    "start_time": "2025-01-23T01:30:57.857Z"
   },
   {
    "duration": 7,
    "start_time": "2025-01-23T01:30:57.880Z"
   },
   {
    "duration": 155,
    "start_time": "2025-01-23T01:30:57.890Z"
   },
   {
    "duration": 130,
    "start_time": "2025-01-23T01:30:58.047Z"
   },
   {
    "duration": 5,
    "start_time": "2025-01-23T01:30:58.179Z"
   },
   {
    "duration": 19,
    "start_time": "2025-01-23T01:30:58.186Z"
   },
   {
    "duration": 1597,
    "start_time": "2025-01-23T01:30:58.207Z"
   },
   {
    "duration": 18,
    "start_time": "2025-01-23T01:30:59.806Z"
   },
   {
    "duration": 54,
    "start_time": "2025-01-23T01:30:59.825Z"
   },
   {
    "duration": 136,
    "start_time": "2025-01-23T01:30:59.880Z"
   },
   {
    "duration": 87,
    "start_time": "2025-01-23T01:31:00.017Z"
   },
   {
    "duration": 55,
    "start_time": "2025-01-23T01:31:00.105Z"
   },
   {
    "duration": 40,
    "start_time": "2025-01-23T01:31:00.162Z"
   },
   {
    "duration": 223,
    "start_time": "2025-01-23T01:31:00.203Z"
   },
   {
    "duration": 60,
    "start_time": "2025-01-23T01:31:00.428Z"
   },
   {
    "duration": 204,
    "start_time": "2025-01-23T01:31:00.490Z"
   },
   {
    "duration": 69,
    "start_time": "2025-01-23T01:31:00.695Z"
   },
   {
    "duration": 273,
    "start_time": "2025-01-23T01:31:00.766Z"
   },
   {
    "duration": 207,
    "start_time": "2025-01-23T01:31:01.041Z"
   },
   {
    "duration": 60,
    "start_time": "2025-01-23T01:31:01.253Z"
   },
   {
    "duration": 191,
    "start_time": "2025-01-23T01:31:01.314Z"
   },
   {
    "duration": 162,
    "start_time": "2025-01-23T01:31:01.507Z"
   },
   {
    "duration": 187,
    "start_time": "2025-01-23T01:31:01.671Z"
   },
   {
    "duration": 56,
    "start_time": "2025-01-23T01:31:01.860Z"
   },
   {
    "duration": 221,
    "start_time": "2025-01-23T01:31:01.917Z"
   },
   {
    "duration": 75,
    "start_time": "2025-01-23T01:31:02.139Z"
   },
   {
    "duration": 15,
    "start_time": "2025-01-23T01:31:02.216Z"
   },
   {
    "duration": 55,
    "start_time": "2025-01-23T01:31:02.232Z"
   },
   {
    "duration": 41,
    "start_time": "2025-01-23T01:31:02.288Z"
   },
   {
    "duration": 115,
    "start_time": "2025-01-23T01:31:02.333Z"
   },
   {
    "duration": 24,
    "start_time": "2025-01-23T01:31:02.450Z"
   },
   {
    "duration": 38,
    "start_time": "2025-01-23T01:31:02.476Z"
   },
   {
    "duration": 9,
    "start_time": "2025-01-23T01:31:02.516Z"
   },
   {
    "duration": 3,
    "start_time": "2025-01-23T01:31:02.527Z"
   },
   {
    "duration": 41,
    "start_time": "2025-01-23T01:31:02.532Z"
   },
   {
    "duration": 2288,
    "start_time": "2025-01-23T01:35:36.912Z"
   },
   {
    "duration": 2335,
    "start_time": "2025-01-23T01:35:39.203Z"
   },
   {
    "duration": 1475,
    "start_time": "2025-01-23T01:35:41.540Z"
   },
   {
    "duration": 891,
    "start_time": "2025-01-23T01:35:43.017Z"
   },
   {
    "duration": 159,
    "start_time": "2025-01-23T01:35:43.912Z"
   },
   {
    "duration": 22,
    "start_time": "2025-01-23T01:35:44.073Z"
   },
   {
    "duration": 23,
    "start_time": "2025-01-23T01:35:44.097Z"
   },
   {
    "duration": 39,
    "start_time": "2025-01-23T01:35:44.122Z"
   },
   {
    "duration": 54,
    "start_time": "2025-01-23T01:35:44.163Z"
   },
   {
    "duration": 42,
    "start_time": "2025-01-23T01:35:44.218Z"
   },
   {
    "duration": 54,
    "start_time": "2025-01-23T01:35:44.262Z"
   },
   {
    "duration": 36,
    "start_time": "2025-01-23T01:35:44.318Z"
   },
   {
    "duration": 28,
    "start_time": "2025-01-23T01:35:44.356Z"
   },
   {
    "duration": 150,
    "start_time": "2025-01-23T01:35:44.389Z"
   },
   {
    "duration": 127,
    "start_time": "2025-01-23T01:35:44.540Z"
   },
   {
    "duration": 6,
    "start_time": "2025-01-23T01:35:44.668Z"
   },
   {
    "duration": 6,
    "start_time": "2025-01-23T01:35:44.675Z"
   },
   {
    "duration": 1646,
    "start_time": "2025-01-23T01:35:44.682Z"
   },
   {
    "duration": 25,
    "start_time": "2025-01-23T01:35:46.329Z"
   },
   {
    "duration": 40,
    "start_time": "2025-01-23T01:35:46.356Z"
   },
   {
    "duration": 148,
    "start_time": "2025-01-23T01:35:46.397Z"
   },
   {
    "duration": 39,
    "start_time": "2025-01-23T01:35:46.546Z"
   },
   {
    "duration": 42,
    "start_time": "2025-01-23T01:35:46.587Z"
   },
   {
    "duration": 63,
    "start_time": "2025-01-23T01:35:46.631Z"
   },
   {
    "duration": 252,
    "start_time": "2025-01-23T01:35:46.696Z"
   },
   {
    "duration": 53,
    "start_time": "2025-01-23T01:35:46.954Z"
   },
   {
    "duration": 218,
    "start_time": "2025-01-23T01:35:47.009Z"
   },
   {
    "duration": 71,
    "start_time": "2025-01-23T01:35:47.229Z"
   },
   {
    "duration": 278,
    "start_time": "2025-01-23T01:35:47.301Z"
   },
   {
    "duration": 222,
    "start_time": "2025-01-23T01:35:47.581Z"
   },
   {
    "duration": 70,
    "start_time": "2025-01-23T01:35:47.806Z"
   },
   {
    "duration": 202,
    "start_time": "2025-01-23T01:35:47.878Z"
   },
   {
    "duration": 163,
    "start_time": "2025-01-23T01:35:48.082Z"
   },
   {
    "duration": 193,
    "start_time": "2025-01-23T01:35:48.247Z"
   },
   {
    "duration": 63,
    "start_time": "2025-01-23T01:35:48.442Z"
   },
   {
    "duration": 215,
    "start_time": "2025-01-23T01:35:48.507Z"
   },
   {
    "duration": 81,
    "start_time": "2025-01-23T01:35:48.724Z"
   },
   {
    "duration": 16,
    "start_time": "2025-01-23T01:35:48.807Z"
   },
   {
    "duration": 41,
    "start_time": "2025-01-23T01:35:48.825Z"
   },
   {
    "duration": 3,
    "start_time": "2025-01-23T01:35:48.868Z"
   },
   {
    "duration": 2,
    "start_time": "2025-01-23T01:35:48.876Z"
   },
   {
    "duration": 10,
    "start_time": "2025-01-23T01:35:48.879Z"
   },
   {
    "duration": 4,
    "start_time": "2025-01-23T01:35:48.890Z"
   },
   {
    "duration": 13,
    "start_time": "2025-01-23T01:35:48.895Z"
   },
   {
    "duration": 4,
    "start_time": "2025-01-23T01:35:48.909Z"
   },
   {
    "duration": 6,
    "start_time": "2025-01-23T01:35:48.915Z"
   },
   {
    "duration": 2330,
    "start_time": "2025-01-23T01:37:39.370Z"
   },
   {
    "duration": 2311,
    "start_time": "2025-01-23T01:37:41.702Z"
   },
   {
    "duration": 1441,
    "start_time": "2025-01-23T01:37:44.014Z"
   },
   {
    "duration": 881,
    "start_time": "2025-01-23T01:37:45.457Z"
   },
   {
    "duration": 152,
    "start_time": "2025-01-23T01:37:46.341Z"
   },
   {
    "duration": 22,
    "start_time": "2025-01-23T01:37:46.495Z"
   },
   {
    "duration": 22,
    "start_time": "2025-01-23T01:37:46.519Z"
   },
   {
    "duration": 21,
    "start_time": "2025-01-23T01:37:46.554Z"
   },
   {
    "duration": 55,
    "start_time": "2025-01-23T01:37:46.577Z"
   },
   {
    "duration": 39,
    "start_time": "2025-01-23T01:37:46.633Z"
   },
   {
    "duration": 54,
    "start_time": "2025-01-23T01:37:46.674Z"
   },
   {
    "duration": 38,
    "start_time": "2025-01-23T01:37:46.730Z"
   },
   {
    "duration": 43,
    "start_time": "2025-01-23T01:37:46.770Z"
   },
   {
    "duration": 202,
    "start_time": "2025-01-23T01:37:46.817Z"
   },
   {
    "duration": 119,
    "start_time": "2025-01-23T01:37:47.020Z"
   },
   {
    "duration": 16,
    "start_time": "2025-01-23T01:37:47.141Z"
   },
   {
    "duration": 12,
    "start_time": "2025-01-23T01:37:47.159Z"
   },
   {
    "duration": 1634,
    "start_time": "2025-01-23T01:37:47.173Z"
   },
   {
    "duration": 20,
    "start_time": "2025-01-23T01:37:48.808Z"
   },
   {
    "duration": 72,
    "start_time": "2025-01-23T01:37:48.830Z"
   },
   {
    "duration": 132,
    "start_time": "2025-01-23T01:37:48.904Z"
   },
   {
    "duration": 39,
    "start_time": "2025-01-23T01:37:49.038Z"
   },
   {
    "duration": 46,
    "start_time": "2025-01-23T01:37:49.078Z"
   },
   {
    "duration": 49,
    "start_time": "2025-01-23T01:37:49.125Z"
   },
   {
    "duration": 227,
    "start_time": "2025-01-23T01:37:49.176Z"
   },
   {
    "duration": 61,
    "start_time": "2025-01-23T01:37:49.405Z"
   },
   {
    "duration": 208,
    "start_time": "2025-01-23T01:37:49.467Z"
   },
   {
    "duration": 60,
    "start_time": "2025-01-23T01:37:49.677Z"
   },
   {
    "duration": 287,
    "start_time": "2025-01-23T01:37:49.739Z"
   },
   {
    "duration": 213,
    "start_time": "2025-01-23T01:37:50.027Z"
   },
   {
    "duration": 68,
    "start_time": "2025-01-23T01:37:50.242Z"
   },
   {
    "duration": 197,
    "start_time": "2025-01-23T01:37:50.311Z"
   },
   {
    "duration": 161,
    "start_time": "2025-01-23T01:37:50.509Z"
   },
   {
    "duration": 192,
    "start_time": "2025-01-23T01:37:50.671Z"
   },
   {
    "duration": 54,
    "start_time": "2025-01-23T01:37:50.865Z"
   },
   {
    "duration": 223,
    "start_time": "2025-01-23T01:37:50.921Z"
   },
   {
    "duration": 71,
    "start_time": "2025-01-23T01:37:51.146Z"
   },
   {
    "duration": 15,
    "start_time": "2025-01-23T01:37:51.219Z"
   },
   {
    "duration": 23,
    "start_time": "2025-01-23T01:37:51.236Z"
   },
   {
    "duration": 38,
    "start_time": "2025-01-23T01:37:51.260Z"
   },
   {
    "duration": 91,
    "start_time": "2025-01-23T01:37:51.301Z"
   },
   {
    "duration": 22,
    "start_time": "2025-01-23T01:37:51.393Z"
   },
   {
    "duration": 11,
    "start_time": "2025-01-23T01:37:51.417Z"
   },
   {
    "duration": 6,
    "start_time": "2025-01-23T01:37:51.429Z"
   },
   {
    "duration": 6,
    "start_time": "2025-01-23T01:37:51.437Z"
   },
   {
    "duration": 4,
    "start_time": "2025-01-23T01:37:51.444Z"
   },
   {
    "duration": 2337,
    "start_time": "2025-01-23T01:39:29.210Z"
   },
   {
    "duration": 2401,
    "start_time": "2025-01-23T01:39:31.549Z"
   },
   {
    "duration": 1431,
    "start_time": "2025-01-23T01:39:33.953Z"
   },
   {
    "duration": 869,
    "start_time": "2025-01-23T01:39:35.386Z"
   },
   {
    "duration": 139,
    "start_time": "2025-01-23T01:39:36.257Z"
   },
   {
    "duration": 57,
    "start_time": "2025-01-23T01:39:36.397Z"
   },
   {
    "duration": 23,
    "start_time": "2025-01-23T01:39:36.455Z"
   },
   {
    "duration": 30,
    "start_time": "2025-01-23T01:39:36.479Z"
   },
   {
    "duration": 72,
    "start_time": "2025-01-23T01:39:36.511Z"
   },
   {
    "duration": 23,
    "start_time": "2025-01-23T01:39:36.585Z"
   },
   {
    "duration": 60,
    "start_time": "2025-01-23T01:39:36.610Z"
   },
   {
    "duration": 20,
    "start_time": "2025-01-23T01:39:36.672Z"
   },
   {
    "duration": 24,
    "start_time": "2025-01-23T01:39:36.693Z"
   },
   {
    "duration": 151,
    "start_time": "2025-01-23T01:39:36.719Z"
   },
   {
    "duration": 111,
    "start_time": "2025-01-23T01:39:36.872Z"
   },
   {
    "duration": 5,
    "start_time": "2025-01-23T01:39:36.984Z"
   },
   {
    "duration": 35,
    "start_time": "2025-01-23T01:39:36.991Z"
   },
   {
    "duration": 1600,
    "start_time": "2025-01-23T01:39:37.028Z"
   },
   {
    "duration": 27,
    "start_time": "2025-01-23T01:39:38.630Z"
   },
   {
    "duration": 38,
    "start_time": "2025-01-23T01:39:38.658Z"
   },
   {
    "duration": 144,
    "start_time": "2025-01-23T01:39:38.698Z"
   },
   {
    "duration": 70,
    "start_time": "2025-01-23T01:39:38.843Z"
   },
   {
    "duration": 48,
    "start_time": "2025-01-23T01:39:38.914Z"
   },
   {
    "duration": 37,
    "start_time": "2025-01-23T01:39:38.964Z"
   },
   {
    "duration": 224,
    "start_time": "2025-01-23T01:39:39.003Z"
   },
   {
    "duration": 59,
    "start_time": "2025-01-23T01:39:39.229Z"
   },
   {
    "duration": 212,
    "start_time": "2025-01-23T01:39:39.290Z"
   },
   {
    "duration": 67,
    "start_time": "2025-01-23T01:39:39.504Z"
   },
   {
    "duration": 270,
    "start_time": "2025-01-23T01:39:39.573Z"
   },
   {
    "duration": 218,
    "start_time": "2025-01-23T01:39:39.845Z"
   },
   {
    "duration": 61,
    "start_time": "2025-01-23T01:39:40.066Z"
   },
   {
    "duration": 198,
    "start_time": "2025-01-23T01:39:40.129Z"
   },
   {
    "duration": 163,
    "start_time": "2025-01-23T01:39:40.328Z"
   },
   {
    "duration": 188,
    "start_time": "2025-01-23T01:39:40.493Z"
   },
   {
    "duration": 54,
    "start_time": "2025-01-23T01:39:40.683Z"
   },
   {
    "duration": 210,
    "start_time": "2025-01-23T01:39:40.739Z"
   },
   {
    "duration": 69,
    "start_time": "2025-01-23T01:39:40.953Z"
   },
   {
    "duration": 16,
    "start_time": "2025-01-23T01:39:41.023Z"
   },
   {
    "duration": 3,
    "start_time": "2025-01-23T01:39:41.053Z"
   },
   {
    "duration": 4,
    "start_time": "2025-01-23T01:39:41.058Z"
   },
   {
    "duration": 3,
    "start_time": "2025-01-23T01:39:41.066Z"
   },
   {
    "duration": 6,
    "start_time": "2025-01-23T01:39:41.070Z"
   },
   {
    "duration": 9,
    "start_time": "2025-01-23T01:39:41.077Z"
   },
   {
    "duration": 4,
    "start_time": "2025-01-23T01:39:41.087Z"
   },
   {
    "duration": 13,
    "start_time": "2025-01-23T01:39:41.092Z"
   },
   {
    "duration": 13,
    "start_time": "2025-01-23T01:39:41.106Z"
   },
   {
    "duration": 2308,
    "start_time": "2025-01-23T01:41:12.613Z"
   },
   {
    "duration": 2313,
    "start_time": "2025-01-23T01:41:14.924Z"
   },
   {
    "duration": 1738,
    "start_time": "2025-01-23T01:41:17.239Z"
   },
   {
    "duration": 895,
    "start_time": "2025-01-23T01:41:18.979Z"
   },
   {
    "duration": 142,
    "start_time": "2025-01-23T01:41:19.876Z"
   },
   {
    "duration": 35,
    "start_time": "2025-01-23T01:41:20.020Z"
   },
   {
    "duration": 21,
    "start_time": "2025-01-23T01:41:20.056Z"
   },
   {
    "duration": 35,
    "start_time": "2025-01-23T01:41:20.078Z"
   },
   {
    "duration": 60,
    "start_time": "2025-01-23T01:41:20.115Z"
   },
   {
    "duration": 25,
    "start_time": "2025-01-23T01:41:20.176Z"
   },
   {
    "duration": 64,
    "start_time": "2025-01-23T01:41:20.202Z"
   },
   {
    "duration": 21,
    "start_time": "2025-01-23T01:41:20.267Z"
   },
   {
    "duration": 7,
    "start_time": "2025-01-23T01:41:20.290Z"
   },
   {
    "duration": 145,
    "start_time": "2025-01-23T01:41:20.300Z"
   },
   {
    "duration": 125,
    "start_time": "2025-01-23T01:41:20.454Z"
   },
   {
    "duration": 6,
    "start_time": "2025-01-23T01:41:20.580Z"
   },
   {
    "duration": 13,
    "start_time": "2025-01-23T01:41:20.587Z"
   },
   {
    "duration": 1632,
    "start_time": "2025-01-23T01:41:20.602Z"
   },
   {
    "duration": 22,
    "start_time": "2025-01-23T01:41:22.236Z"
   },
   {
    "duration": 52,
    "start_time": "2025-01-23T01:41:22.259Z"
   },
   {
    "duration": 143,
    "start_time": "2025-01-23T01:41:22.312Z"
   },
   {
    "duration": 35,
    "start_time": "2025-01-23T01:41:22.456Z"
   },
   {
    "duration": 43,
    "start_time": "2025-01-23T01:41:22.492Z"
   },
   {
    "duration": 52,
    "start_time": "2025-01-23T01:41:22.537Z"
   },
   {
    "duration": 231,
    "start_time": "2025-01-23T01:41:22.590Z"
   },
   {
    "duration": 63,
    "start_time": "2025-01-23T01:41:22.823Z"
   },
   {
    "duration": 213,
    "start_time": "2025-01-23T01:41:22.888Z"
   },
   {
    "duration": 68,
    "start_time": "2025-01-23T01:41:23.103Z"
   },
   {
    "duration": 271,
    "start_time": "2025-01-23T01:41:23.172Z"
   },
   {
    "duration": 217,
    "start_time": "2025-01-23T01:41:23.445Z"
   },
   {
    "duration": 63,
    "start_time": "2025-01-23T01:41:23.664Z"
   },
   {
    "duration": 198,
    "start_time": "2025-01-23T01:41:23.729Z"
   },
   {
    "duration": 162,
    "start_time": "2025-01-23T01:41:23.929Z"
   },
   {
    "duration": 195,
    "start_time": "2025-01-23T01:41:24.093Z"
   },
   {
    "duration": 64,
    "start_time": "2025-01-23T01:41:24.290Z"
   },
   {
    "duration": 226,
    "start_time": "2025-01-23T01:41:24.356Z"
   },
   {
    "duration": 74,
    "start_time": "2025-01-23T01:41:24.584Z"
   },
   {
    "duration": 14,
    "start_time": "2025-01-23T01:41:24.660Z"
   },
   {
    "duration": 4,
    "start_time": "2025-01-23T01:41:24.675Z"
   },
   {
    "duration": 5,
    "start_time": "2025-01-23T01:41:24.680Z"
   },
   {
    "duration": 3,
    "start_time": "2025-01-23T01:41:24.688Z"
   },
   {
    "duration": 15,
    "start_time": "2025-01-23T01:41:24.692Z"
   },
   {
    "duration": 24,
    "start_time": "2025-01-23T01:41:24.709Z"
   },
   {
    "duration": 4,
    "start_time": "2025-01-23T01:41:24.734Z"
   },
   {
    "duration": 6,
    "start_time": "2025-01-23T01:41:24.739Z"
   },
   {
    "duration": 4,
    "start_time": "2025-01-23T01:41:24.746Z"
   },
   {
    "duration": 1577,
    "start_time": "2025-01-23T01:49:34.066Z"
   },
   {
    "duration": 894,
    "start_time": "2025-01-23T01:49:40.458Z"
   },
   {
    "duration": 151,
    "start_time": "2025-01-23T01:49:41.354Z"
   },
   {
    "duration": 21,
    "start_time": "2025-01-23T01:49:41.507Z"
   },
   {
    "duration": 35,
    "start_time": "2025-01-23T01:49:41.530Z"
   },
   {
    "duration": 21,
    "start_time": "2025-01-23T01:49:41.633Z"
   },
   {
    "duration": 49,
    "start_time": "2025-01-23T01:49:42.046Z"
   },
   {
    "duration": 25,
    "start_time": "2025-01-23T01:49:42.242Z"
   },
   {
    "duration": 44,
    "start_time": "2025-01-23T01:49:42.695Z"
   },
   {
    "duration": 22,
    "start_time": "2025-01-23T01:49:42.916Z"
   },
   {
    "duration": 6,
    "start_time": "2025-01-23T01:49:43.150Z"
   },
   {
    "duration": 133,
    "start_time": "2025-01-23T01:49:43.559Z"
   },
   {
    "duration": 114,
    "start_time": "2025-01-23T01:49:45.314Z"
   },
   {
    "duration": 6,
    "start_time": "2025-01-23T01:49:47.703Z"
   },
   {
    "duration": 5,
    "start_time": "2025-01-23T01:49:50.044Z"
   },
   {
    "duration": 1619,
    "start_time": "2025-01-23T01:49:50.484Z"
   },
   {
    "duration": 19,
    "start_time": "2025-01-23T01:49:52.104Z"
   },
   {
    "duration": 63,
    "start_time": "2025-01-23T01:49:52.125Z"
   },
   {
    "duration": 141,
    "start_time": "2025-01-23T01:49:52.190Z"
   },
   {
    "duration": 35,
    "start_time": "2025-01-23T01:49:54.254Z"
   },
   {
    "duration": 41,
    "start_time": "2025-01-23T01:49:56.630Z"
   },
   {
    "duration": 41,
    "start_time": "2025-01-23T01:49:57.095Z"
   },
   {
    "duration": 220,
    "start_time": "2025-01-23T01:49:59.132Z"
   },
   {
    "duration": 52,
    "start_time": "2025-01-23T01:49:59.553Z"
   },
   {
    "duration": 208,
    "start_time": "2025-01-23T01:49:59.988Z"
   },
   {
    "duration": 60,
    "start_time": "2025-01-23T01:50:00.421Z"
   },
   {
    "duration": 279,
    "start_time": "2025-01-23T01:50:00.652Z"
   },
   {
    "duration": 204,
    "start_time": "2025-01-23T01:50:02.843Z"
   },
   {
    "duration": 57,
    "start_time": "2025-01-23T01:50:13.346Z"
   },
   {
    "duration": 190,
    "start_time": "2025-01-23T01:50:15.419Z"
   },
   {
    "duration": 152,
    "start_time": "2025-01-23T01:50:48.065Z"
   },
   {
    "duration": 190,
    "start_time": "2025-01-23T01:50:49.591Z"
   },
   {
    "duration": 54,
    "start_time": "2025-01-23T01:50:52.121Z"
   },
   {
    "duration": 202,
    "start_time": "2025-01-23T01:50:54.542Z"
   },
   {
    "duration": 72,
    "start_time": "2025-01-23T01:51:00.389Z"
   },
   {
    "duration": 4,
    "start_time": "2025-01-23T01:51:09.533Z"
   },
   {
    "duration": 2,
    "start_time": "2025-01-23T01:51:52.019Z"
   },
   {
    "duration": 4,
    "start_time": "2025-01-23T01:53:03.579Z"
   },
   {
    "duration": 3,
    "start_time": "2025-01-23T01:54:27.141Z"
   },
   {
    "duration": 3,
    "start_time": "2025-01-23T01:54:28.501Z"
   },
   {
    "duration": 2,
    "start_time": "2025-01-23T01:54:38.664Z"
   },
   {
    "duration": 3,
    "start_time": "2025-01-23T01:54:40.394Z"
   },
   {
    "duration": 3,
    "start_time": "2025-01-23T01:54:50.727Z"
   },
   {
    "duration": 3,
    "start_time": "2025-01-23T01:54:52.837Z"
   },
   {
    "duration": 3,
    "start_time": "2025-01-23T01:54:53.270Z"
   },
   {
    "duration": 3,
    "start_time": "2025-01-23T01:54:53.773Z"
   },
   {
    "duration": 2289,
    "start_time": "2025-01-23T01:55:59.327Z"
   },
   {
    "duration": 2224,
    "start_time": "2025-01-23T01:56:01.618Z"
   },
   {
    "duration": 1440,
    "start_time": "2025-01-23T01:56:03.844Z"
   },
   {
    "duration": 860,
    "start_time": "2025-01-23T01:56:05.286Z"
   },
   {
    "duration": 147,
    "start_time": "2025-01-23T01:56:06.148Z"
   },
   {
    "duration": 21,
    "start_time": "2025-01-23T01:56:06.297Z"
   },
   {
    "duration": 32,
    "start_time": "2025-01-23T01:56:06.320Z"
   },
   {
    "duration": 36,
    "start_time": "2025-01-23T01:56:06.354Z"
   },
   {
    "duration": 68,
    "start_time": "2025-01-23T01:56:06.391Z"
   },
   {
    "duration": 24,
    "start_time": "2025-01-23T01:56:06.460Z"
   },
   {
    "duration": 84,
    "start_time": "2025-01-23T01:56:06.485Z"
   },
   {
    "duration": 20,
    "start_time": "2025-01-23T01:56:06.571Z"
   },
   {
    "duration": 37,
    "start_time": "2025-01-23T01:56:06.592Z"
   },
   {
    "duration": 146,
    "start_time": "2025-01-23T01:56:06.632Z"
   },
   {
    "duration": 140,
    "start_time": "2025-01-23T01:56:06.780Z"
   },
   {
    "duration": 12,
    "start_time": "2025-01-23T01:56:06.921Z"
   },
   {
    "duration": 5,
    "start_time": "2025-01-23T01:56:06.935Z"
   },
   {
    "duration": 1608,
    "start_time": "2025-01-23T01:56:06.941Z"
   },
   {
    "duration": 17,
    "start_time": "2025-01-23T01:56:08.553Z"
   },
   {
    "duration": 41,
    "start_time": "2025-01-23T01:56:08.572Z"
   },
   {
    "duration": 154,
    "start_time": "2025-01-23T01:56:08.615Z"
   },
   {
    "duration": 35,
    "start_time": "2025-01-23T01:56:08.771Z"
   },
   {
    "duration": 60,
    "start_time": "2025-01-23T01:56:08.808Z"
   },
   {
    "duration": 39,
    "start_time": "2025-01-23T01:56:08.870Z"
   },
   {
    "duration": 217,
    "start_time": "2025-01-23T01:56:08.910Z"
   },
   {
    "duration": 58,
    "start_time": "2025-01-23T01:56:09.129Z"
   },
   {
    "duration": 189,
    "start_time": "2025-01-23T01:56:09.189Z"
   },
   {
    "duration": 59,
    "start_time": "2025-01-23T01:56:09.380Z"
   },
   {
    "duration": 270,
    "start_time": "2025-01-23T01:56:09.440Z"
   },
   {
    "duration": 201,
    "start_time": "2025-01-23T01:56:09.712Z"
   },
   {
    "duration": 67,
    "start_time": "2025-01-23T01:56:09.914Z"
   },
   {
    "duration": 192,
    "start_time": "2025-01-23T01:56:09.982Z"
   },
   {
    "duration": 155,
    "start_time": "2025-01-23T01:56:10.176Z"
   },
   {
    "duration": 178,
    "start_time": "2025-01-23T01:56:10.332Z"
   },
   {
    "duration": 60,
    "start_time": "2025-01-23T01:56:10.511Z"
   },
   {
    "duration": 195,
    "start_time": "2025-01-23T01:56:10.573Z"
   },
   {
    "duration": 62,
    "start_time": "2025-01-23T01:56:10.770Z"
   },
   {
    "duration": 26,
    "start_time": "2025-01-23T01:56:10.834Z"
   },
   {
    "duration": 3,
    "start_time": "2025-01-23T01:56:10.861Z"
   },
   {
    "duration": 4,
    "start_time": "2025-01-23T01:56:10.865Z"
   },
   {
    "duration": 2,
    "start_time": "2025-01-23T01:56:10.872Z"
   },
   {
    "duration": 3,
    "start_time": "2025-01-23T01:56:10.876Z"
   },
   {
    "duration": 6,
    "start_time": "2025-01-23T01:56:10.880Z"
   },
   {
    "duration": 5,
    "start_time": "2025-01-23T01:56:10.888Z"
   },
   {
    "duration": 3,
    "start_time": "2025-01-23T01:56:10.894Z"
   },
   {
    "duration": 4,
    "start_time": "2025-01-23T01:56:10.898Z"
   },
   {
    "duration": 2236,
    "start_time": "2025-01-23T01:58:08.460Z"
   },
   {
    "duration": 2235,
    "start_time": "2025-01-23T01:58:10.698Z"
   },
   {
    "duration": 1444,
    "start_time": "2025-01-23T01:58:12.935Z"
   },
   {
    "duration": 825,
    "start_time": "2025-01-23T01:58:14.381Z"
   },
   {
    "duration": 152,
    "start_time": "2025-01-23T01:58:15.208Z"
   },
   {
    "duration": 23,
    "start_time": "2025-01-23T01:58:15.361Z"
   },
   {
    "duration": 23,
    "start_time": "2025-01-23T01:58:15.386Z"
   },
   {
    "duration": 27,
    "start_time": "2025-01-23T01:58:15.411Z"
   },
   {
    "duration": 49,
    "start_time": "2025-01-23T01:58:15.454Z"
   },
   {
    "duration": 23,
    "start_time": "2025-01-23T01:58:15.507Z"
   },
   {
    "duration": 56,
    "start_time": "2025-01-23T01:58:15.531Z"
   },
   {
    "duration": 20,
    "start_time": "2025-01-23T01:58:15.589Z"
   },
   {
    "duration": 13,
    "start_time": "2025-01-23T01:58:15.610Z"
   },
   {
    "duration": 151,
    "start_time": "2025-01-23T01:58:15.625Z"
   },
   {
    "duration": 144,
    "start_time": "2025-01-23T01:58:15.778Z"
   },
   {
    "duration": 6,
    "start_time": "2025-01-23T01:58:15.924Z"
   },
   {
    "duration": 6,
    "start_time": "2025-01-23T01:58:15.932Z"
   },
   {
    "duration": 1625,
    "start_time": "2025-01-23T01:58:15.940Z"
   },
   {
    "duration": 18,
    "start_time": "2025-01-23T01:58:17.567Z"
   },
   {
    "duration": 36,
    "start_time": "2025-01-23T01:58:17.586Z"
   },
   {
    "duration": 152,
    "start_time": "2025-01-23T01:58:17.624Z"
   },
   {
    "duration": 35,
    "start_time": "2025-01-23T01:58:17.777Z"
   },
   {
    "duration": 53,
    "start_time": "2025-01-23T01:58:17.813Z"
   },
   {
    "duration": 37,
    "start_time": "2025-01-23T01:58:17.868Z"
   },
   {
    "duration": 221,
    "start_time": "2025-01-23T01:58:17.907Z"
   },
   {
    "duration": 58,
    "start_time": "2025-01-23T01:58:18.129Z"
   },
   {
    "duration": 195,
    "start_time": "2025-01-23T01:58:18.189Z"
   },
   {
    "duration": 67,
    "start_time": "2025-01-23T01:58:18.387Z"
   },
   {
    "duration": 259,
    "start_time": "2025-01-23T01:58:18.455Z"
   },
   {
    "duration": 203,
    "start_time": "2025-01-23T01:58:18.716Z"
   },
   {
    "duration": 64,
    "start_time": "2025-01-23T01:58:18.921Z"
   },
   {
    "duration": 176,
    "start_time": "2025-01-23T01:58:18.987Z"
   },
   {
    "duration": 161,
    "start_time": "2025-01-23T01:58:19.164Z"
   },
   {
    "duration": 186,
    "start_time": "2025-01-23T01:58:19.327Z"
   },
   {
    "duration": 63,
    "start_time": "2025-01-23T01:58:19.515Z"
   },
   {
    "duration": 205,
    "start_time": "2025-01-23T01:58:19.580Z"
   },
   {
    "duration": 77,
    "start_time": "2025-01-23T01:58:19.786Z"
   },
   {
    "duration": 14,
    "start_time": "2025-01-23T01:58:19.865Z"
   },
   {
    "duration": 3,
    "start_time": "2025-01-23T01:58:19.881Z"
   },
   {
    "duration": 22,
    "start_time": "2025-01-23T01:58:19.886Z"
   },
   {
    "duration": 14,
    "start_time": "2025-01-23T01:58:19.909Z"
   },
   {
    "duration": 15,
    "start_time": "2025-01-23T01:58:19.924Z"
   },
   {
    "duration": 6,
    "start_time": "2025-01-23T01:58:19.940Z"
   },
   {
    "duration": 4,
    "start_time": "2025-01-23T01:58:19.947Z"
   },
   {
    "duration": 7,
    "start_time": "2025-01-23T01:58:19.953Z"
   },
   {
    "duration": 89,
    "start_time": "2025-01-23T01:58:19.961Z"
   },
   {
    "duration": 0,
    "start_time": "2025-01-23T01:58:20.052Z"
   },
   {
    "duration": 88,
    "start_time": "2025-01-23T01:58:38.854Z"
   },
   {
    "duration": 2,
    "start_time": "2025-01-23T01:58:45.559Z"
   },
   {
    "duration": 80,
    "start_time": "2025-01-23T01:59:02.829Z"
   },
   {
    "duration": 111,
    "start_time": "2025-01-23T02:00:32.677Z"
   },
   {
    "duration": 3,
    "start_time": "2025-01-23T02:00:41.422Z"
   },
   {
    "duration": 2363,
    "start_time": "2025-01-23T02:04:49.165Z"
   },
   {
    "duration": 2329,
    "start_time": "2025-01-23T02:04:51.530Z"
   },
   {
    "duration": 1444,
    "start_time": "2025-01-23T02:04:53.861Z"
   },
   {
    "duration": 884,
    "start_time": "2025-01-23T02:04:55.306Z"
   },
   {
    "duration": 144,
    "start_time": "2025-01-23T02:04:56.192Z"
   },
   {
    "duration": 25,
    "start_time": "2025-01-23T02:04:56.338Z"
   },
   {
    "duration": 20,
    "start_time": "2025-01-23T02:04:56.365Z"
   },
   {
    "duration": 21,
    "start_time": "2025-01-23T02:04:56.387Z"
   },
   {
    "duration": 66,
    "start_time": "2025-01-23T02:04:56.410Z"
   },
   {
    "duration": 25,
    "start_time": "2025-01-23T02:04:56.478Z"
   },
   {
    "duration": 60,
    "start_time": "2025-01-23T02:04:56.504Z"
   },
   {
    "duration": 21,
    "start_time": "2025-01-23T02:04:56.566Z"
   },
   {
    "duration": 12,
    "start_time": "2025-01-23T02:04:56.588Z"
   },
   {
    "duration": 143,
    "start_time": "2025-01-23T02:04:56.602Z"
   },
   {
    "duration": 124,
    "start_time": "2025-01-23T02:04:56.746Z"
   },
   {
    "duration": 6,
    "start_time": "2025-01-23T02:04:56.872Z"
   },
   {
    "duration": 71,
    "start_time": "2025-01-23T02:04:56.882Z"
   },
   {
    "duration": 1630,
    "start_time": "2025-01-23T02:04:56.955Z"
   },
   {
    "duration": 17,
    "start_time": "2025-01-23T02:04:58.587Z"
   },
   {
    "duration": 51,
    "start_time": "2025-01-23T02:04:58.606Z"
   },
   {
    "duration": 141,
    "start_time": "2025-01-23T02:04:58.658Z"
   },
   {
    "duration": 98,
    "start_time": "2025-01-23T02:04:58.801Z"
   },
   {
    "duration": 83,
    "start_time": "2025-01-23T02:04:58.900Z"
   },
   {
    "duration": 37,
    "start_time": "2025-01-23T02:04:58.985Z"
   },
   {
    "duration": 231,
    "start_time": "2025-01-23T02:04:59.023Z"
   },
   {
    "duration": 54,
    "start_time": "2025-01-23T02:04:59.255Z"
   },
   {
    "duration": 210,
    "start_time": "2025-01-23T02:04:59.311Z"
   },
   {
    "duration": 68,
    "start_time": "2025-01-23T02:04:59.523Z"
   },
   {
    "duration": 282,
    "start_time": "2025-01-23T02:04:59.593Z"
   },
   {
    "duration": 216,
    "start_time": "2025-01-23T02:04:59.877Z"
   },
   {
    "duration": 71,
    "start_time": "2025-01-23T02:05:00.095Z"
   },
   {
    "duration": 196,
    "start_time": "2025-01-23T02:05:00.168Z"
   },
   {
    "duration": 167,
    "start_time": "2025-01-23T02:05:00.366Z"
   },
   {
    "duration": 190,
    "start_time": "2025-01-23T02:05:00.535Z"
   },
   {
    "duration": 68,
    "start_time": "2025-01-23T02:05:00.727Z"
   },
   {
    "duration": 218,
    "start_time": "2025-01-23T02:05:00.797Z"
   },
   {
    "duration": 84,
    "start_time": "2025-01-23T02:05:01.017Z"
   },
   {
    "duration": 16,
    "start_time": "2025-01-23T02:05:01.103Z"
   },
   {
    "duration": 37,
    "start_time": "2025-01-23T02:05:01.121Z"
   },
   {
    "duration": 39,
    "start_time": "2025-01-23T02:05:01.159Z"
   },
   {
    "duration": 48,
    "start_time": "2025-01-23T02:05:01.202Z"
   },
   {
    "duration": 141,
    "start_time": "2025-01-23T02:05:01.252Z"
   },
   {
    "duration": 0,
    "start_time": "2025-01-23T02:05:01.395Z"
   },
   {
    "duration": 0,
    "start_time": "2025-01-23T02:05:01.396Z"
   },
   {
    "duration": 0,
    "start_time": "2025-01-23T02:05:01.398Z"
   },
   {
    "duration": 0,
    "start_time": "2025-01-23T02:05:01.399Z"
   },
   {
    "duration": 0,
    "start_time": "2025-01-23T02:05:01.401Z"
   },
   {
    "duration": 3,
    "start_time": "2025-01-23T02:05:18.674Z"
   },
   {
    "duration": 3,
    "start_time": "2025-01-23T02:05:21.564Z"
   },
   {
    "duration": 3,
    "start_time": "2025-01-23T02:05:23.488Z"
   },
   {
    "duration": 2,
    "start_time": "2025-01-23T02:05:23.799Z"
   },
   {
    "duration": 3,
    "start_time": "2025-01-23T02:05:24.220Z"
   },
   {
    "duration": 2248,
    "start_time": "2025-01-23T02:08:26.814Z"
   },
   {
    "duration": 2212,
    "start_time": "2025-01-23T02:08:29.065Z"
   },
   {
    "duration": 1387,
    "start_time": "2025-01-23T02:08:31.281Z"
   },
   {
    "duration": 828,
    "start_time": "2025-01-23T02:08:32.670Z"
   },
   {
    "duration": 139,
    "start_time": "2025-01-23T02:08:33.499Z"
   },
   {
    "duration": 27,
    "start_time": "2025-01-23T02:08:33.639Z"
   },
   {
    "duration": 20,
    "start_time": "2025-01-23T02:08:33.667Z"
   },
   {
    "duration": 32,
    "start_time": "2025-01-23T02:08:33.688Z"
   },
   {
    "duration": 60,
    "start_time": "2025-01-23T02:08:33.721Z"
   },
   {
    "duration": 23,
    "start_time": "2025-01-23T02:08:33.782Z"
   },
   {
    "duration": 72,
    "start_time": "2025-01-23T02:08:33.807Z"
   },
   {
    "duration": 20,
    "start_time": "2025-01-23T02:08:33.880Z"
   },
   {
    "duration": 11,
    "start_time": "2025-01-23T02:08:33.903Z"
   },
   {
    "duration": 133,
    "start_time": "2025-01-23T02:08:33.916Z"
   },
   {
    "duration": 119,
    "start_time": "2025-01-23T02:08:34.050Z"
   },
   {
    "duration": 5,
    "start_time": "2025-01-23T02:08:34.171Z"
   },
   {
    "duration": 6,
    "start_time": "2025-01-23T02:08:34.177Z"
   },
   {
    "duration": 1582,
    "start_time": "2025-01-23T02:08:34.184Z"
   },
   {
    "duration": 17,
    "start_time": "2025-01-23T02:08:35.768Z"
   },
   {
    "duration": 54,
    "start_time": "2025-01-23T02:08:35.786Z"
   },
   {
    "duration": 141,
    "start_time": "2025-01-23T02:08:35.842Z"
   },
   {
    "duration": 35,
    "start_time": "2025-01-23T02:08:35.984Z"
   },
   {
    "duration": 50,
    "start_time": "2025-01-23T02:08:36.020Z"
   },
   {
    "duration": 47,
    "start_time": "2025-01-23T02:08:36.071Z"
   },
   {
    "duration": 207,
    "start_time": "2025-01-23T02:08:36.119Z"
   },
   {
    "duration": 54,
    "start_time": "2025-01-23T02:08:36.328Z"
   },
   {
    "duration": 205,
    "start_time": "2025-01-23T02:08:36.384Z"
   },
   {
    "duration": 64,
    "start_time": "2025-01-23T02:08:36.590Z"
   },
   {
    "duration": 270,
    "start_time": "2025-01-23T02:08:36.655Z"
   },
   {
    "duration": 207,
    "start_time": "2025-01-23T02:08:36.927Z"
   },
   {
    "duration": 64,
    "start_time": "2025-01-23T02:08:37.136Z"
   },
   {
    "duration": 183,
    "start_time": "2025-01-23T02:08:37.202Z"
   },
   {
    "duration": 159,
    "start_time": "2025-01-23T02:08:37.387Z"
   },
   {
    "duration": 183,
    "start_time": "2025-01-23T02:08:37.547Z"
   },
   {
    "duration": 63,
    "start_time": "2025-01-23T02:08:37.732Z"
   },
   {
    "duration": 211,
    "start_time": "2025-01-23T02:08:37.797Z"
   },
   {
    "duration": 75,
    "start_time": "2025-01-23T02:08:38.010Z"
   },
   {
    "duration": 13,
    "start_time": "2025-01-23T02:08:38.087Z"
   },
   {
    "duration": 20,
    "start_time": "2025-01-23T02:08:38.101Z"
   },
   {
    "duration": 6,
    "start_time": "2025-01-23T02:08:38.124Z"
   },
   {
    "duration": 6,
    "start_time": "2025-01-23T02:08:38.131Z"
   },
   {
    "duration": 20,
    "start_time": "2025-01-23T02:08:38.138Z"
   },
   {
    "duration": 18,
    "start_time": "2025-01-23T02:08:38.160Z"
   },
   {
    "duration": 36,
    "start_time": "2025-01-23T02:08:38.180Z"
   },
   {
    "duration": 31,
    "start_time": "2025-01-23T02:08:38.218Z"
   },
   {
    "duration": 19,
    "start_time": "2025-01-23T02:08:38.250Z"
   },
   {
    "duration": 2347,
    "start_time": "2025-01-23T02:09:32.274Z"
   },
   {
    "duration": 2333,
    "start_time": "2025-01-23T02:09:34.624Z"
   },
   {
    "duration": 1452,
    "start_time": "2025-01-23T02:09:36.959Z"
   },
   {
    "duration": 889,
    "start_time": "2025-01-23T02:09:38.413Z"
   },
   {
    "duration": 139,
    "start_time": "2025-01-23T02:09:39.304Z"
   },
   {
    "duration": 30,
    "start_time": "2025-01-23T02:09:39.444Z"
   },
   {
    "duration": 31,
    "start_time": "2025-01-23T02:09:39.476Z"
   },
   {
    "duration": 44,
    "start_time": "2025-01-23T02:09:39.508Z"
   },
   {
    "duration": 46,
    "start_time": "2025-01-23T02:09:39.554Z"
   },
   {
    "duration": 23,
    "start_time": "2025-01-23T02:09:39.602Z"
   },
   {
    "duration": 56,
    "start_time": "2025-01-23T02:09:39.626Z"
   },
   {
    "duration": 21,
    "start_time": "2025-01-23T02:09:39.684Z"
   },
   {
    "duration": 9,
    "start_time": "2025-01-23T02:09:39.707Z"
   },
   {
    "duration": 154,
    "start_time": "2025-01-23T02:09:39.719Z"
   },
   {
    "duration": 114,
    "start_time": "2025-01-23T02:09:39.875Z"
   },
   {
    "duration": 5,
    "start_time": "2025-01-23T02:09:39.991Z"
   },
   {
    "duration": 4,
    "start_time": "2025-01-23T02:09:39.998Z"
   },
   {
    "duration": 1651,
    "start_time": "2025-01-23T02:09:40.004Z"
   },
   {
    "duration": 17,
    "start_time": "2025-01-23T02:09:41.657Z"
   },
   {
    "duration": 40,
    "start_time": "2025-01-23T02:09:41.676Z"
   },
   {
    "duration": 142,
    "start_time": "2025-01-23T02:09:41.718Z"
   },
   {
    "duration": 35,
    "start_time": "2025-01-23T02:09:41.861Z"
   },
   {
    "duration": 59,
    "start_time": "2025-01-23T02:09:41.898Z"
   },
   {
    "duration": 38,
    "start_time": "2025-01-23T02:09:41.958Z"
   },
   {
    "duration": 233,
    "start_time": "2025-01-23T02:09:41.998Z"
   },
   {
    "duration": 60,
    "start_time": "2025-01-23T02:09:42.233Z"
   },
   {
    "duration": 205,
    "start_time": "2025-01-23T02:09:42.295Z"
   },
   {
    "duration": 71,
    "start_time": "2025-01-23T02:09:42.501Z"
   },
   {
    "duration": 280,
    "start_time": "2025-01-23T02:09:42.574Z"
   },
   {
    "duration": 215,
    "start_time": "2025-01-23T02:09:42.855Z"
   },
   {
    "duration": 57,
    "start_time": "2025-01-23T02:09:43.072Z"
   },
   {
    "duration": 200,
    "start_time": "2025-01-23T02:09:43.131Z"
   },
   {
    "duration": 168,
    "start_time": "2025-01-23T02:09:43.332Z"
   },
   {
    "duration": 197,
    "start_time": "2025-01-23T02:09:43.502Z"
   },
   {
    "duration": 63,
    "start_time": "2025-01-23T02:09:43.700Z"
   },
   {
    "duration": 209,
    "start_time": "2025-01-23T02:09:43.765Z"
   },
   {
    "duration": 80,
    "start_time": "2025-01-23T02:09:43.976Z"
   },
   {
    "duration": 15,
    "start_time": "2025-01-23T02:09:44.057Z"
   },
   {
    "duration": 5,
    "start_time": "2025-01-23T02:09:44.074Z"
   },
   {
    "duration": 19,
    "start_time": "2025-01-23T02:09:44.080Z"
   },
   {
    "duration": 12,
    "start_time": "2025-01-23T02:09:44.102Z"
   },
   {
    "duration": 12,
    "start_time": "2025-01-23T02:09:44.116Z"
   },
   {
    "duration": 85,
    "start_time": "2025-01-23T02:09:44.129Z"
   },
   {
    "duration": 0,
    "start_time": "2025-01-23T02:09:44.216Z"
   },
   {
    "duration": 0,
    "start_time": "2025-01-23T02:09:44.217Z"
   },
   {
    "duration": 0,
    "start_time": "2025-01-23T02:09:44.219Z"
   },
   {
    "duration": 0,
    "start_time": "2025-01-23T02:09:44.220Z"
   },
   {
    "duration": 4,
    "start_time": "2025-01-23T02:10:10.037Z"
   },
   {
    "duration": 3,
    "start_time": "2025-01-23T02:10:11.863Z"
   },
   {
    "duration": 3,
    "start_time": "2025-01-23T02:10:13.244Z"
   },
   {
    "duration": 3,
    "start_time": "2025-01-23T02:10:14.624Z"
   },
   {
    "duration": 158,
    "start_time": "2025-01-23T02:10:15.275Z"
   },
   {
    "duration": 4,
    "start_time": "2025-01-23T02:10:29.292Z"
   },
   {
    "duration": 3,
    "start_time": "2025-01-23T02:10:29.767Z"
   },
   {
    "duration": 2,
    "start_time": "2025-01-23T02:10:31.271Z"
   },
   {
    "duration": 3,
    "start_time": "2025-01-23T02:10:31.724Z"
   },
   {
    "duration": 3,
    "start_time": "2025-01-23T02:10:33.084Z"
   },
   {
    "duration": 2309,
    "start_time": "2025-01-23T02:12:03.654Z"
   },
   {
    "duration": 2333,
    "start_time": "2025-01-23T02:12:05.965Z"
   },
   {
    "duration": 1395,
    "start_time": "2025-01-23T02:12:08.300Z"
   },
   {
    "duration": 906,
    "start_time": "2025-01-23T02:12:09.696Z"
   },
   {
    "duration": 153,
    "start_time": "2025-01-23T02:12:10.604Z"
   },
   {
    "duration": 22,
    "start_time": "2025-01-23T02:12:10.758Z"
   },
   {
    "duration": 24,
    "start_time": "2025-01-23T02:12:10.781Z"
   },
   {
    "duration": 28,
    "start_time": "2025-01-23T02:12:10.807Z"
   },
   {
    "duration": 67,
    "start_time": "2025-01-23T02:12:10.836Z"
   },
   {
    "duration": 25,
    "start_time": "2025-01-23T02:12:10.905Z"
   },
   {
    "duration": 90,
    "start_time": "2025-01-23T02:12:10.931Z"
   },
   {
    "duration": 22,
    "start_time": "2025-01-23T02:12:11.022Z"
   },
   {
    "duration": 12,
    "start_time": "2025-01-23T02:12:11.046Z"
   },
   {
    "duration": 142,
    "start_time": "2025-01-23T02:12:11.061Z"
   },
   {
    "duration": 133,
    "start_time": "2025-01-23T02:12:11.204Z"
   },
   {
    "duration": 15,
    "start_time": "2025-01-23T02:12:11.339Z"
   },
   {
    "duration": 9,
    "start_time": "2025-01-23T02:12:11.356Z"
   },
   {
    "duration": 1659,
    "start_time": "2025-01-23T02:12:11.366Z"
   },
   {
    "duration": 18,
    "start_time": "2025-01-23T02:12:13.026Z"
   },
   {
    "duration": 58,
    "start_time": "2025-01-23T02:12:13.045Z"
   },
   {
    "duration": 137,
    "start_time": "2025-01-23T02:12:13.104Z"
   },
   {
    "duration": 40,
    "start_time": "2025-01-23T02:12:13.243Z"
   },
   {
    "duration": 57,
    "start_time": "2025-01-23T02:12:13.284Z"
   },
   {
    "duration": 41,
    "start_time": "2025-01-23T02:12:13.343Z"
   },
   {
    "duration": 223,
    "start_time": "2025-01-23T02:12:13.385Z"
   },
   {
    "duration": 65,
    "start_time": "2025-01-23T02:12:13.611Z"
   },
   {
    "duration": 211,
    "start_time": "2025-01-23T02:12:13.678Z"
   },
   {
    "duration": 70,
    "start_time": "2025-01-23T02:12:13.890Z"
   },
   {
    "duration": 279,
    "start_time": "2025-01-23T02:12:13.961Z"
   },
   {
    "duration": 221,
    "start_time": "2025-01-23T02:12:14.241Z"
   },
   {
    "duration": 61,
    "start_time": "2025-01-23T02:12:14.464Z"
   },
   {
    "duration": 205,
    "start_time": "2025-01-23T02:12:14.527Z"
   },
   {
    "duration": 166,
    "start_time": "2025-01-23T02:12:14.733Z"
   },
   {
    "duration": 191,
    "start_time": "2025-01-23T02:12:14.901Z"
   },
   {
    "duration": 64,
    "start_time": "2025-01-23T02:12:15.094Z"
   },
   {
    "duration": 214,
    "start_time": "2025-01-23T02:12:15.159Z"
   },
   {
    "duration": 67,
    "start_time": "2025-01-23T02:12:15.374Z"
   },
   {
    "duration": 24,
    "start_time": "2025-01-23T02:12:15.443Z"
   },
   {
    "duration": 7,
    "start_time": "2025-01-23T02:12:15.469Z"
   },
   {
    "duration": 13,
    "start_time": "2025-01-23T02:12:15.478Z"
   },
   {
    "duration": 5,
    "start_time": "2025-01-23T02:12:15.495Z"
   },
   {
    "duration": 14,
    "start_time": "2025-01-23T02:12:15.502Z"
   },
   {
    "duration": 11,
    "start_time": "2025-01-23T02:12:15.517Z"
   },
   {
    "duration": 11,
    "start_time": "2025-01-23T02:12:15.530Z"
   },
   {
    "duration": 9,
    "start_time": "2025-01-23T02:12:15.543Z"
   },
   {
    "duration": 116,
    "start_time": "2025-01-23T02:12:15.554Z"
   },
   {
    "duration": 0,
    "start_time": "2025-01-23T02:12:15.672Z"
   },
   {
    "duration": 2,
    "start_time": "2025-01-23T02:12:41.398Z"
   },
   {
    "duration": 3,
    "start_time": "2025-01-23T02:12:41.878Z"
   },
   {
    "duration": 2,
    "start_time": "2025-01-23T02:12:42.158Z"
   },
   {
    "duration": 3,
    "start_time": "2025-01-23T02:12:44.081Z"
   },
   {
    "duration": 2332,
    "start_time": "2025-01-23T02:14:52.700Z"
   },
   {
    "duration": 2288,
    "start_time": "2025-01-23T02:14:55.034Z"
   },
   {
    "duration": 1502,
    "start_time": "2025-01-23T02:14:57.324Z"
   },
   {
    "duration": 888,
    "start_time": "2025-01-23T02:14:58.828Z"
   },
   {
    "duration": 145,
    "start_time": "2025-01-23T02:14:59.718Z"
   },
   {
    "duration": 46,
    "start_time": "2025-01-23T02:14:59.865Z"
   },
   {
    "duration": 23,
    "start_time": "2025-01-23T02:14:59.913Z"
   },
   {
    "duration": 26,
    "start_time": "2025-01-23T02:14:59.937Z"
   },
   {
    "duration": 46,
    "start_time": "2025-01-23T02:14:59.965Z"
   },
   {
    "duration": 24,
    "start_time": "2025-01-23T02:15:00.012Z"
   },
   {
    "duration": 86,
    "start_time": "2025-01-23T02:15:00.038Z"
   },
   {
    "duration": 51,
    "start_time": "2025-01-23T02:15:00.126Z"
   },
   {
    "duration": 32,
    "start_time": "2025-01-23T02:15:00.178Z"
   },
   {
    "duration": 168,
    "start_time": "2025-01-23T02:15:00.213Z"
   },
   {
    "duration": 109,
    "start_time": "2025-01-23T02:15:00.382Z"
   },
   {
    "duration": 6,
    "start_time": "2025-01-23T02:15:00.493Z"
   },
   {
    "duration": 48,
    "start_time": "2025-01-23T02:15:00.500Z"
   },
   {
    "duration": 1649,
    "start_time": "2025-01-23T02:15:00.550Z"
   },
   {
    "duration": 18,
    "start_time": "2025-01-23T02:15:02.201Z"
   },
   {
    "duration": 71,
    "start_time": "2025-01-23T02:15:02.221Z"
   },
   {
    "duration": 150,
    "start_time": "2025-01-23T02:15:02.294Z"
   },
   {
    "duration": 35,
    "start_time": "2025-01-23T02:15:02.446Z"
   },
   {
    "duration": 100,
    "start_time": "2025-01-23T02:15:02.482Z"
   },
   {
    "duration": 71,
    "start_time": "2025-01-23T02:15:02.584Z"
   },
   {
    "duration": 216,
    "start_time": "2025-01-23T02:15:02.656Z"
   },
   {
    "duration": 54,
    "start_time": "2025-01-23T02:15:02.874Z"
   },
   {
    "duration": 219,
    "start_time": "2025-01-23T02:15:02.929Z"
   },
   {
    "duration": 62,
    "start_time": "2025-01-23T02:15:03.153Z"
   },
   {
    "duration": 279,
    "start_time": "2025-01-23T02:15:03.216Z"
   },
   {
    "duration": 214,
    "start_time": "2025-01-23T02:15:03.497Z"
   },
   {
    "duration": 68,
    "start_time": "2025-01-23T02:15:03.713Z"
   },
   {
    "duration": 194,
    "start_time": "2025-01-23T02:15:03.782Z"
   },
   {
    "duration": 169,
    "start_time": "2025-01-23T02:15:03.978Z"
   },
   {
    "duration": 183,
    "start_time": "2025-01-23T02:15:04.149Z"
   },
   {
    "duration": 66,
    "start_time": "2025-01-23T02:15:04.334Z"
   },
   {
    "duration": 218,
    "start_time": "2025-01-23T02:15:04.402Z"
   },
   {
    "duration": 76,
    "start_time": "2025-01-23T02:15:04.622Z"
   },
   {
    "duration": 18,
    "start_time": "2025-01-23T02:15:04.700Z"
   },
   {
    "duration": 10,
    "start_time": "2025-01-23T02:15:04.719Z"
   },
   {
    "duration": 6,
    "start_time": "2025-01-23T02:15:04.731Z"
   },
   {
    "duration": 3,
    "start_time": "2025-01-23T02:15:04.741Z"
   },
   {
    "duration": 34,
    "start_time": "2025-01-23T02:15:04.745Z"
   },
   {
    "duration": 14,
    "start_time": "2025-01-23T02:15:04.780Z"
   },
   {
    "duration": 35,
    "start_time": "2025-01-23T02:15:04.795Z"
   },
   {
    "duration": 2419,
    "start_time": "2025-01-23T02:18:19.714Z"
   },
   {
    "duration": 2465,
    "start_time": "2025-01-23T02:18:22.135Z"
   },
   {
    "duration": 1401,
    "start_time": "2025-01-23T02:18:24.602Z"
   },
   {
    "duration": 904,
    "start_time": "2025-01-23T02:18:26.005Z"
   },
   {
    "duration": 150,
    "start_time": "2025-01-23T02:18:26.911Z"
   },
   {
    "duration": 21,
    "start_time": "2025-01-23T02:18:27.063Z"
   },
   {
    "duration": 23,
    "start_time": "2025-01-23T02:18:27.086Z"
   },
   {
    "duration": 28,
    "start_time": "2025-01-23T02:18:27.110Z"
   },
   {
    "duration": 55,
    "start_time": "2025-01-23T02:18:27.140Z"
   },
   {
    "duration": 25,
    "start_time": "2025-01-23T02:18:27.197Z"
   },
   {
    "duration": 62,
    "start_time": "2025-01-23T02:18:27.223Z"
   },
   {
    "duration": 20,
    "start_time": "2025-01-23T02:18:27.287Z"
   },
   {
    "duration": 9,
    "start_time": "2025-01-23T02:18:27.309Z"
   },
   {
    "duration": 145,
    "start_time": "2025-01-23T02:18:27.321Z"
   },
   {
    "duration": 123,
    "start_time": "2025-01-23T02:18:27.467Z"
   },
   {
    "duration": 6,
    "start_time": "2025-01-23T02:18:27.592Z"
   },
   {
    "duration": 5,
    "start_time": "2025-01-23T02:18:27.600Z"
   },
   {
    "duration": 1641,
    "start_time": "2025-01-23T02:18:27.607Z"
   },
   {
    "duration": 18,
    "start_time": "2025-01-23T02:18:29.253Z"
   },
   {
    "duration": 45,
    "start_time": "2025-01-23T02:18:29.272Z"
   },
   {
    "duration": 143,
    "start_time": "2025-01-23T02:18:29.318Z"
   },
   {
    "duration": 37,
    "start_time": "2025-01-23T02:18:29.462Z"
   },
   {
    "duration": 51,
    "start_time": "2025-01-23T02:18:29.500Z"
   },
   {
    "duration": 39,
    "start_time": "2025-01-23T02:18:29.552Z"
   },
   {
    "duration": 235,
    "start_time": "2025-01-23T02:18:29.592Z"
   },
   {
    "duration": 62,
    "start_time": "2025-01-23T02:18:29.829Z"
   },
   {
    "duration": 204,
    "start_time": "2025-01-23T02:18:29.893Z"
   },
   {
    "duration": 69,
    "start_time": "2025-01-23T02:18:30.098Z"
   },
   {
    "duration": 282,
    "start_time": "2025-01-23T02:18:30.169Z"
   },
   {
    "duration": 212,
    "start_time": "2025-01-23T02:18:30.452Z"
   },
   {
    "duration": 58,
    "start_time": "2025-01-23T02:18:30.665Z"
   },
   {
    "duration": 203,
    "start_time": "2025-01-23T02:18:30.724Z"
   },
   {
    "duration": 161,
    "start_time": "2025-01-23T02:18:30.928Z"
   },
   {
    "duration": 190,
    "start_time": "2025-01-23T02:18:31.091Z"
   },
   {
    "duration": 55,
    "start_time": "2025-01-23T02:18:31.282Z"
   },
   {
    "duration": 222,
    "start_time": "2025-01-23T02:18:31.339Z"
   },
   {
    "duration": 72,
    "start_time": "2025-01-23T02:18:31.563Z"
   },
   {
    "duration": 28,
    "start_time": "2025-01-23T02:18:31.636Z"
   },
   {
    "duration": 27,
    "start_time": "2025-01-23T02:18:31.666Z"
   },
   {
    "duration": 21,
    "start_time": "2025-01-23T02:18:31.695Z"
   },
   {
    "duration": 7,
    "start_time": "2025-01-23T02:18:31.720Z"
   },
   {
    "duration": 6,
    "start_time": "2025-01-23T02:18:31.729Z"
   },
   {
    "duration": 18,
    "start_time": "2025-01-23T02:18:31.737Z"
   },
   {
    "duration": 19,
    "start_time": "2025-01-23T02:18:31.757Z"
   },
   {
    "duration": 674099,
    "start_time": "2025-01-23T02:18:31.778Z"
   },
   {
    "duration": 4,
    "start_time": "2025-01-23T02:30:30.328Z"
   },
   {
    "duration": 8,
    "start_time": "2025-01-23T02:31:19.301Z"
   },
   {
    "duration": 111,
    "start_time": "2025-01-23T02:34:12.444Z"
   },
   {
    "duration": 8,
    "start_time": "2025-01-23T02:34:16.284Z"
   },
   {
    "duration": 4,
    "start_time": "2025-01-23T02:34:56.416Z"
   },
   {
    "duration": 7,
    "start_time": "2025-01-23T02:35:08.850Z"
   },
   {
    "duration": 5,
    "start_time": "2025-01-23T02:37:18.757Z"
   },
   {
    "duration": 3,
    "start_time": "2025-01-23T02:46:48.567Z"
   },
   {
    "duration": 3,
    "start_time": "2025-01-23T02:48:09.635Z"
   },
   {
    "duration": 3,
    "start_time": "2025-01-23T02:49:34.213Z"
   },
   {
    "duration": 10,
    "start_time": "2025-01-23T02:49:38.222Z"
   },
   {
    "duration": 10,
    "start_time": "2025-01-23T02:49:57.649Z"
   },
   {
    "duration": 3,
    "start_time": "2025-01-23T02:50:10.773Z"
   },
   {
    "duration": 39,
    "start_time": "2025-01-23T02:51:27.009Z"
   },
   {
    "duration": 3,
    "start_time": "2025-01-23T02:51:52.813Z"
   },
   {
    "duration": 3,
    "start_time": "2025-01-23T02:51:53.172Z"
   },
   {
    "duration": 3,
    "start_time": "2025-01-23T02:51:53.520Z"
   },
   {
    "duration": 164775,
    "start_time": "2025-01-23T02:51:55.008Z"
   },
   {
    "duration": 16,
    "start_time": "2025-01-23T02:55:07.346Z"
   },
   {
    "duration": 9,
    "start_time": "2025-01-23T02:55:26.775Z"
   },
   {
    "duration": 4,
    "start_time": "2025-01-23T02:55:33.999Z"
   },
   {
    "duration": 4,
    "start_time": "2025-01-23T02:56:32.835Z"
   },
   {
    "duration": 14,
    "start_time": "2025-01-23T02:58:13.345Z"
   },
   {
    "duration": 180,
    "start_time": "2025-01-23T02:59:04.346Z"
   },
   {
    "duration": 5,
    "start_time": "2025-01-23T02:59:54.302Z"
   },
   {
    "duration": 4019,
    "start_time": "2025-01-23T10:37:04.974Z"
   },
   {
    "duration": 2546,
    "start_time": "2025-01-23T10:37:16.047Z"
   },
   {
    "duration": 1588,
    "start_time": "2025-01-23T10:37:22.046Z"
   },
   {
    "duration": 993,
    "start_time": "2025-01-23T10:37:24.922Z"
   },
   {
    "duration": 114,
    "start_time": "2025-01-23T10:38:12.405Z"
   },
   {
    "duration": 4,
    "start_time": "2025-01-23T10:44:08.121Z"
   },
   {
    "duration": 9,
    "start_time": "2025-01-23T10:44:45.091Z"
   },
   {
    "duration": 4,
    "start_time": "2025-01-23T10:48:09.368Z"
   },
   {
    "duration": 73,
    "start_time": "2025-01-23T10:52:34.637Z"
   },
   {
    "duration": 67,
    "start_time": "2025-01-23T10:53:10.983Z"
   },
   {
    "duration": 28,
    "start_time": "2025-01-23T10:56:11.878Z"
   },
   {
    "duration": 29,
    "start_time": "2025-01-23T10:56:35.213Z"
   },
   {
    "duration": 29,
    "start_time": "2025-01-23T10:57:32.972Z"
   },
   {
    "duration": 700,
    "start_time": "2025-01-23T10:57:40.445Z"
   },
   {
    "duration": 61,
    "start_time": "2025-01-23T10:57:43.735Z"
   },
   {
    "duration": 1115,
    "start_time": "2025-01-23T10:58:48.946Z"
   },
   {
    "duration": 4,
    "start_time": "2025-01-23T11:02:27.324Z"
   },
   {
    "duration": 123,
    "start_time": "2025-01-23T11:02:37.981Z"
   },
   {
    "duration": 19,
    "start_time": "2025-01-23T11:02:51.770Z"
   },
   {
    "duration": 18,
    "start_time": "2025-01-23T11:03:00.551Z"
   },
   {
    "duration": 19,
    "start_time": "2025-01-23T11:03:08.564Z"
   },
   {
    "duration": 43,
    "start_time": "2025-01-23T11:03:30.348Z"
   },
   {
    "duration": 25,
    "start_time": "2025-01-23T11:03:36.063Z"
   },
   {
    "duration": 58,
    "start_time": "2025-01-23T11:03:46.043Z"
   },
   {
    "duration": 20,
    "start_time": "2025-01-23T11:03:53.805Z"
   },
   {
    "duration": 120,
    "start_time": "2025-01-23T11:03:59.488Z"
   },
   {
    "duration": 165,
    "start_time": "2025-01-23T11:12:36.844Z"
   },
   {
    "duration": 5,
    "start_time": "2025-01-23T11:12:41.713Z"
   },
   {
    "duration": 4,
    "start_time": "2025-01-23T11:12:49.694Z"
   },
   {
    "duration": 1287,
    "start_time": "2025-01-23T11:13:19.329Z"
   },
   {
    "duration": 1569,
    "start_time": "2025-01-23T11:13:53.611Z"
   },
   {
    "duration": 17,
    "start_time": "2025-01-23T11:14:00.821Z"
   },
   {
    "duration": 33,
    "start_time": "2025-01-23T11:14:25.441Z"
   },
   {
    "duration": 118,
    "start_time": "2025-01-23T11:14:26.752Z"
   },
   {
    "duration": 30,
    "start_time": "2025-01-23T11:14:32.494Z"
   },
   {
    "duration": 35,
    "start_time": "2025-01-23T11:14:41.276Z"
   },
   {
    "duration": 34,
    "start_time": "2025-01-23T11:14:48.976Z"
   },
   {
    "duration": 318,
    "start_time": "2025-01-23T11:15:01.625Z"
   },
   {
    "duration": 48,
    "start_time": "2025-01-23T11:15:07.877Z"
   },
   {
    "duration": 185,
    "start_time": "2025-01-23T11:15:16.169Z"
   },
   {
    "duration": 58,
    "start_time": "2025-01-23T11:15:28.708Z"
   },
   {
    "duration": 181,
    "start_time": "2025-01-23T11:15:30.072Z"
   },
   {
    "duration": 197,
    "start_time": "2025-01-23T11:15:35.522Z"
   },
   {
    "duration": 11,
    "start_time": "2025-01-23T11:16:52.974Z"
   },
   {
    "duration": 9,
    "start_time": "2025-01-23T11:17:27.440Z"
   },
   {
    "duration": 113,
    "start_time": "2025-01-23T11:17:45.741Z"
   },
   {
    "duration": 12,
    "start_time": "2025-01-23T11:18:18.129Z"
   },
   {
    "duration": 171,
    "start_time": "2025-01-23T11:19:30.040Z"
   },
   {
    "duration": 182,
    "start_time": "2025-01-23T11:19:47.609Z"
   },
   {
    "duration": 180,
    "start_time": "2025-01-23T11:26:48.457Z"
   },
   {
    "duration": 203,
    "start_time": "2025-01-23T11:27:33.906Z"
   },
   {
    "duration": 41,
    "start_time": "2025-01-23T11:27:46.881Z"
   },
   {
    "duration": 262,
    "start_time": "2025-01-23T11:27:54.235Z"
   },
   {
    "duration": 58,
    "start_time": "2025-01-23T11:28:20.644Z"
   },
   {
    "duration": 184,
    "start_time": "2025-01-23T11:28:25.274Z"
   },
   {
    "duration": 104,
    "start_time": "2025-01-23T11:54:14.969Z"
   },
   {
    "duration": 2608,
    "start_time": "2025-01-23T11:56:29.814Z"
   },
   {
    "duration": 2609,
    "start_time": "2025-01-23T11:56:33.616Z"
   },
   {
    "duration": 1350,
    "start_time": "2025-01-23T11:56:38.205Z"
   },
   {
    "duration": 766,
    "start_time": "2025-01-23T11:56:42.104Z"
   },
   {
    "duration": 4,
    "start_time": "2025-01-23T11:56:47.069Z"
   },
   {
    "duration": 116,
    "start_time": "2025-01-23T11:56:49.331Z"
   },
   {
    "duration": 18,
    "start_time": "2025-01-23T11:56:51.240Z"
   },
   {
    "duration": 18,
    "start_time": "2025-01-23T11:56:52.433Z"
   },
   {
    "duration": 19,
    "start_time": "2025-01-23T11:56:52.975Z"
   },
   {
    "duration": 44,
    "start_time": "2025-01-23T11:56:55.147Z"
   },
   {
    "duration": 24,
    "start_time": "2025-01-23T11:57:02.725Z"
   },
   {
    "duration": 45,
    "start_time": "2025-01-23T11:57:05.763Z"
   },
   {
    "duration": 18,
    "start_time": "2025-01-23T11:57:07.801Z"
   },
   {
    "duration": 107,
    "start_time": "2025-01-23T11:57:09.697Z"
   },
   {
    "duration": 91,
    "start_time": "2025-01-23T11:57:12.767Z"
   },
   {
    "duration": 5,
    "start_time": "2025-01-23T11:57:14.630Z"
   },
   {
    "duration": 5,
    "start_time": "2025-01-23T11:57:17.461Z"
   },
   {
    "duration": 1499,
    "start_time": "2025-01-23T11:57:20.354Z"
   },
   {
    "duration": 15,
    "start_time": "2025-01-23T11:57:24.683Z"
   },
   {
    "duration": 32,
    "start_time": "2025-01-23T11:57:26.635Z"
   },
   {
    "duration": 29,
    "start_time": "2025-01-23T11:57:28.826Z"
   },
   {
    "duration": 33,
    "start_time": "2025-01-23T11:57:30.734Z"
   },
   {
    "duration": 35,
    "start_time": "2025-01-23T11:57:32.815Z"
   },
   {
    "duration": 195,
    "start_time": "2025-01-23T11:57:38.059Z"
   },
   {
    "duration": 49,
    "start_time": "2025-01-23T11:57:40.606Z"
   },
   {
    "duration": 186,
    "start_time": "2025-01-23T11:57:42.767Z"
   },
   {
    "duration": 56,
    "start_time": "2025-01-23T11:57:52.414Z"
   },
   {
    "duration": 230,
    "start_time": "2025-01-23T11:57:53.585Z"
   },
   {
    "duration": 181,
    "start_time": "2025-01-23T11:57:56.130Z"
   },
   {
    "duration": 167,
    "start_time": "2025-01-23T11:57:59.147Z"
   },
   {
    "duration": 52,
    "start_time": "2025-01-23T11:58:08.823Z"
   },
   {
    "duration": 171,
    "start_time": "2025-01-23T11:58:10.883Z"
   },
   {
    "duration": 52,
    "start_time": "2025-01-23T11:58:16.954Z"
   },
   {
    "duration": 181,
    "start_time": "2025-01-23T11:58:18.780Z"
   },
   {
    "duration": 99,
    "start_time": "2025-01-23T11:58:25.482Z"
   },
   {
    "duration": 19,
    "start_time": "2025-01-23T11:59:42.067Z"
   },
   {
    "duration": 324,
    "start_time": "2025-01-23T12:06:09.290Z"
   },
   {
    "duration": 2723,
    "start_time": "2025-01-23T12:06:57.212Z"
   },
   {
    "duration": 2815,
    "start_time": "2025-01-23T12:07:30.353Z"
   },
   {
    "duration": 67,
    "start_time": "2025-01-23T12:08:59.534Z"
   },
   {
    "duration": 79,
    "start_time": "2025-01-23T12:09:05.350Z"
   },
   {
    "duration": 22,
    "start_time": "2025-01-23T12:09:13.505Z"
   },
   {
    "duration": 206,
    "start_time": "2025-01-23T12:09:22.678Z"
   },
   {
    "duration": 2740,
    "start_time": "2025-01-23T12:10:19.617Z"
   },
   {
    "duration": 62,
    "start_time": "2025-01-23T12:11:59.598Z"
   },
   {
    "duration": 20,
    "start_time": "2025-01-23T12:12:03.571Z"
   },
   {
    "duration": 26,
    "start_time": "2025-01-23T12:12:37.194Z"
   },
   {
    "duration": 64,
    "start_time": "2025-01-23T12:12:48.263Z"
   },
   {
    "duration": 2,
    "start_time": "2025-01-23T12:16:59.467Z"
   },
   {
    "duration": 10,
    "start_time": "2025-01-23T12:17:31.221Z"
   },
   {
    "duration": 4,
    "start_time": "2025-01-23T12:18:00.230Z"
   },
   {
    "duration": 3,
    "start_time": "2025-01-23T12:18:11.852Z"
   },
   {
    "duration": 8,
    "start_time": "2025-01-23T12:18:36.609Z"
   },
   {
    "duration": 3,
    "start_time": "2025-01-23T12:18:46.001Z"
   },
   {
    "duration": 2,
    "start_time": "2025-01-23T12:19:00.366Z"
   },
   {
    "duration": 3,
    "start_time": "2025-01-23T12:19:42.397Z"
   },
   {
    "duration": 9,
    "start_time": "2025-01-23T12:20:12.142Z"
   },
   {
    "duration": 3,
    "start_time": "2025-01-23T12:20:16.113Z"
   },
   {
    "duration": 3,
    "start_time": "2025-01-23T12:20:16.622Z"
   },
   {
    "duration": 3,
    "start_time": "2025-01-23T12:20:19.782Z"
   },
   {
    "duration": 56665,
    "start_time": "2025-01-23T12:20:25.419Z"
   },
   {
    "duration": 3,
    "start_time": "2025-01-23T12:21:30.821Z"
   },
   {
    "duration": 8,
    "start_time": "2025-01-23T12:21:49.672Z"
   },
   {
    "duration": 3,
    "start_time": "2025-01-23T12:24:43.145Z"
   },
   {
    "duration": 19,
    "start_time": "2025-01-23T12:25:32.385Z"
   },
   {
    "duration": 18,
    "start_time": "2025-01-23T12:28:17.868Z"
   },
   {
    "duration": 12,
    "start_time": "2025-01-23T12:29:25.993Z"
   },
   {
    "duration": 9,
    "start_time": "2025-01-23T12:30:27.441Z"
   },
   {
    "duration": 2,
    "start_time": "2025-01-23T12:34:57.439Z"
   },
   {
    "duration": 2,
    "start_time": "2025-01-23T12:35:21.466Z"
   },
   {
    "duration": 3,
    "start_time": "2025-01-23T12:35:30.753Z"
   },
   {
    "duration": 2,
    "start_time": "2025-01-23T12:35:51.121Z"
   },
   {
    "duration": 3,
    "start_time": "2025-01-23T12:35:52.861Z"
   },
   {
    "duration": 34601,
    "start_time": "2025-01-23T12:36:31.673Z"
   },
   {
    "duration": 44,
    "start_time": "2025-01-23T12:39:46.559Z"
   },
   {
    "duration": 91,
    "start_time": "2025-01-23T12:41:05.664Z"
   },
   {
    "duration": 92,
    "start_time": "2025-01-23T12:42:05.195Z"
   },
   {
    "duration": 74,
    "start_time": "2025-01-23T12:42:26.922Z"
   },
   {
    "duration": 99,
    "start_time": "2025-01-23T12:43:58.519Z"
   },
   {
    "duration": 28472,
    "start_time": "2025-01-23T12:44:09.789Z"
   },
   {
    "duration": 3,
    "start_time": "2025-01-23T12:50:50.986Z"
   },
   {
    "duration": 3,
    "start_time": "2025-01-23T12:51:13.898Z"
   },
   {
    "duration": 2,
    "start_time": "2025-01-23T12:51:14.308Z"
   },
   {
    "duration": 2,
    "start_time": "2025-01-23T12:51:20.402Z"
   },
   {
    "duration": 3,
    "start_time": "2025-01-23T12:51:25.074Z"
   },
   {
    "duration": 21,
    "start_time": "2025-01-23T12:51:33.699Z"
   },
   {
    "duration": 28165,
    "start_time": "2025-01-23T12:51:39.141Z"
   },
   {
    "duration": 3,
    "start_time": "2025-01-23T12:52:54.129Z"
   },
   {
    "duration": 3,
    "start_time": "2025-01-23T12:52:55.891Z"
   },
   {
    "duration": 2,
    "start_time": "2025-01-23T12:52:59.410Z"
   },
   {
    "duration": 2,
    "start_time": "2025-01-23T12:53:00.925Z"
   },
   {
    "duration": 18,
    "start_time": "2025-01-23T12:53:02.154Z"
   },
   {
    "duration": 21,
    "start_time": "2025-01-23T12:53:10.997Z"
   },
   {
    "duration": 28003,
    "start_time": "2025-01-23T12:53:12.602Z"
   },
   {
    "duration": 2,
    "start_time": "2025-01-23T12:54:46.404Z"
   },
   {
    "duration": 2,
    "start_time": "2025-01-23T12:54:53.577Z"
   },
   {
    "duration": 2,
    "start_time": "2025-01-23T12:54:55.941Z"
   },
   {
    "duration": 3,
    "start_time": "2025-01-23T12:54:58.084Z"
   },
   {
    "duration": 21,
    "start_time": "2025-01-23T12:55:03.486Z"
   },
   {
    "duration": 150878,
    "start_time": "2025-01-23T12:55:05.126Z"
   },
   {
    "duration": 3,
    "start_time": "2025-01-23T13:00:23.118Z"
   },
   {
    "duration": 3,
    "start_time": "2025-01-23T13:00:25.629Z"
   },
   {
    "duration": 3,
    "start_time": "2025-01-23T13:00:27.876Z"
   },
   {
    "duration": 3,
    "start_time": "2025-01-23T13:00:30.658Z"
   },
   {
    "duration": 20,
    "start_time": "2025-01-23T13:00:32.475Z"
   },
   {
    "duration": 27537,
    "start_time": "2025-01-23T13:00:33.663Z"
   },
   {
    "duration": 9,
    "start_time": "2025-01-23T13:03:10.797Z"
   },
   {
    "duration": 2,
    "start_time": "2025-01-23T13:09:51.108Z"
   },
   {
    "duration": 3,
    "start_time": "2025-01-23T13:09:52.942Z"
   },
   {
    "duration": 3,
    "start_time": "2025-01-23T13:09:57.779Z"
   },
   {
    "duration": 3,
    "start_time": "2025-01-23T13:10:04.522Z"
   },
   {
    "duration": 2596,
    "start_time": "2025-01-23T13:11:25.050Z"
   },
   {
    "duration": 2562,
    "start_time": "2025-01-23T13:11:27.648Z"
   },
   {
    "duration": 1353,
    "start_time": "2025-01-23T13:11:30.212Z"
   },
   {
    "duration": 764,
    "start_time": "2025-01-23T13:11:31.567Z"
   },
   {
    "duration": 4,
    "start_time": "2025-01-23T13:11:32.332Z"
   },
   {
    "duration": 160,
    "start_time": "2025-01-23T13:11:32.338Z"
   },
   {
    "duration": 18,
    "start_time": "2025-01-23T13:11:32.500Z"
   },
   {
    "duration": 37,
    "start_time": "2025-01-23T13:11:32.520Z"
   },
   {
    "duration": 20,
    "start_time": "2025-01-23T13:11:32.558Z"
   },
   {
    "duration": 67,
    "start_time": "2025-01-23T13:11:32.580Z"
   },
   {
    "duration": 25,
    "start_time": "2025-01-23T13:11:32.649Z"
   },
   {
    "duration": 43,
    "start_time": "2025-01-23T13:11:32.676Z"
   },
   {
    "duration": 33,
    "start_time": "2025-01-23T13:11:32.720Z"
   },
   {
    "duration": 117,
    "start_time": "2025-01-23T13:11:32.754Z"
   },
   {
    "duration": 108,
    "start_time": "2025-01-23T13:11:32.872Z"
   },
   {
    "duration": 5,
    "start_time": "2025-01-23T13:11:32.981Z"
   },
   {
    "duration": 35,
    "start_time": "2025-01-23T13:11:32.987Z"
   },
   {
    "duration": 1555,
    "start_time": "2025-01-23T13:11:33.023Z"
   },
   {
    "duration": 15,
    "start_time": "2025-01-23T13:11:34.579Z"
   },
   {
    "duration": 50,
    "start_time": "2025-01-23T13:11:34.596Z"
   },
   {
    "duration": 112,
    "start_time": "2025-01-23T13:11:34.647Z"
   },
   {
    "duration": 30,
    "start_time": "2025-01-23T13:11:34.760Z"
   },
   {
    "duration": 44,
    "start_time": "2025-01-23T13:11:34.792Z"
   },
   {
    "duration": 43,
    "start_time": "2025-01-23T13:11:34.838Z"
   },
   {
    "duration": 209,
    "start_time": "2025-01-23T13:11:34.882Z"
   },
   {
    "duration": 52,
    "start_time": "2025-01-23T13:11:35.093Z"
   },
   {
    "duration": 188,
    "start_time": "2025-01-23T13:11:35.153Z"
   },
   {
    "duration": 62,
    "start_time": "2025-01-23T13:11:35.345Z"
   },
   {
    "duration": 235,
    "start_time": "2025-01-23T13:11:35.409Z"
   },
   {
    "duration": 207,
    "start_time": "2025-01-23T13:11:35.645Z"
   },
   {
    "duration": 173,
    "start_time": "2025-01-23T13:11:35.854Z"
   },
   {
    "duration": 61,
    "start_time": "2025-01-23T13:11:36.028Z"
   },
   {
    "duration": 170,
    "start_time": "2025-01-23T13:11:36.090Z"
   },
   {
    "duration": 51,
    "start_time": "2025-01-23T13:11:36.261Z"
   },
   {
    "duration": 191,
    "start_time": "2025-01-23T13:11:36.313Z"
   },
   {
    "duration": 99,
    "start_time": "2025-01-23T13:11:36.505Z"
   },
   {
    "duration": 36,
    "start_time": "2025-01-23T13:11:36.605Z"
   },
   {
    "duration": 2766,
    "start_time": "2025-01-23T13:11:36.643Z"
   },
   {
    "duration": 60,
    "start_time": "2025-01-23T13:11:39.410Z"
   },
   {
    "duration": 3,
    "start_time": "2025-01-23T13:11:39.472Z"
   },
   {
    "duration": 31,
    "start_time": "2025-01-23T13:11:39.476Z"
   },
   {
    "duration": 19,
    "start_time": "2025-01-23T13:11:39.508Z"
   },
   {
    "duration": 13,
    "start_time": "2025-01-23T13:11:39.528Z"
   },
   {
    "duration": 13,
    "start_time": "2025-01-23T13:11:39.542Z"
   },
   {
    "duration": 6,
    "start_time": "2025-01-23T13:11:39.556Z"
   },
   {
    "duration": 58180,
    "start_time": "2025-01-23T13:11:39.564Z"
   },
   {
    "duration": 8,
    "start_time": "2025-01-23T13:12:37.746Z"
   },
   {
    "duration": 20,
    "start_time": "2025-01-23T13:12:37.755Z"
   },
   {
    "duration": 32,
    "start_time": "2025-01-23T13:12:37.776Z"
   },
   {
    "duration": 15,
    "start_time": "2025-01-23T13:12:37.809Z"
   },
   {
    "duration": 9,
    "start_time": "2025-01-23T13:12:37.825Z"
   },
   {
    "duration": 16,
    "start_time": "2025-01-23T13:12:37.835Z"
   },
   {
    "duration": 18,
    "start_time": "2025-01-23T13:12:37.852Z"
   },
   {
    "duration": 16,
    "start_time": "2025-01-23T13:12:37.872Z"
   },
   {
    "duration": 105,
    "start_time": "2025-01-23T13:12:37.889Z"
   },
   {
    "duration": 2682,
    "start_time": "2025-01-23T13:19:17.126Z"
   },
   {
    "duration": 2539,
    "start_time": "2025-01-23T13:19:19.810Z"
   },
   {
    "duration": 1402,
    "start_time": "2025-01-23T13:19:22.351Z"
   },
   {
    "duration": 812,
    "start_time": "2025-01-23T13:19:23.755Z"
   },
   {
    "duration": 5,
    "start_time": "2025-01-23T13:19:24.568Z"
   },
   {
    "duration": 134,
    "start_time": "2025-01-23T13:19:24.574Z"
   },
   {
    "duration": 19,
    "start_time": "2025-01-23T13:19:24.710Z"
   },
   {
    "duration": 36,
    "start_time": "2025-01-23T13:19:24.731Z"
   },
   {
    "duration": 34,
    "start_time": "2025-01-23T13:19:24.769Z"
   },
   {
    "duration": 88,
    "start_time": "2025-01-23T13:19:24.806Z"
   },
   {
    "duration": 26,
    "start_time": "2025-01-23T13:19:24.895Z"
   },
   {
    "duration": 65,
    "start_time": "2025-01-23T13:19:24.923Z"
   },
   {
    "duration": 19,
    "start_time": "2025-01-23T13:19:24.990Z"
   },
   {
    "duration": 135,
    "start_time": "2025-01-23T13:19:25.010Z"
   },
   {
    "duration": 111,
    "start_time": "2025-01-23T13:19:25.152Z"
   },
   {
    "duration": 5,
    "start_time": "2025-01-23T13:19:25.266Z"
   },
   {
    "duration": 20,
    "start_time": "2025-01-23T13:19:25.273Z"
   },
   {
    "duration": 1477,
    "start_time": "2025-01-23T13:19:25.295Z"
   },
   {
    "duration": 16,
    "start_time": "2025-01-23T13:19:26.773Z"
   },
   {
    "duration": 115,
    "start_time": "2025-01-23T13:19:26.790Z"
   },
   {
    "duration": 111,
    "start_time": "2025-01-23T13:19:26.906Z"
   },
   {
    "duration": 36,
    "start_time": "2025-01-23T13:19:27.019Z"
   },
   {
    "duration": 44,
    "start_time": "2025-01-23T13:19:27.057Z"
   },
   {
    "duration": 38,
    "start_time": "2025-01-23T13:19:27.103Z"
   },
   {
    "duration": 203,
    "start_time": "2025-01-23T13:19:27.142Z"
   },
   {
    "duration": 54,
    "start_time": "2025-01-23T13:19:27.347Z"
   },
   {
    "duration": 193,
    "start_time": "2025-01-23T13:19:27.403Z"
   },
   {
    "duration": 65,
    "start_time": "2025-01-23T13:19:27.601Z"
   },
   {
    "duration": 238,
    "start_time": "2025-01-23T13:19:27.667Z"
   },
   {
    "duration": 203,
    "start_time": "2025-01-23T13:19:27.907Z"
   },
   {
    "duration": 173,
    "start_time": "2025-01-23T13:19:28.112Z"
   },
   {
    "duration": 52,
    "start_time": "2025-01-23T13:19:28.286Z"
   },
   {
    "duration": 179,
    "start_time": "2025-01-23T13:19:28.339Z"
   },
   {
    "duration": 54,
    "start_time": "2025-01-23T13:19:28.520Z"
   },
   {
    "duration": 187,
    "start_time": "2025-01-23T13:19:28.575Z"
   },
   {
    "duration": 108,
    "start_time": "2025-01-23T13:19:28.764Z"
   },
   {
    "duration": 18,
    "start_time": "2025-01-23T13:19:28.873Z"
   },
   {
    "duration": 2752,
    "start_time": "2025-01-23T13:19:28.892Z"
   },
   {
    "duration": 57,
    "start_time": "2025-01-23T13:19:31.653Z"
   },
   {
    "duration": 2,
    "start_time": "2025-01-23T13:19:31.712Z"
   },
   {
    "duration": 38,
    "start_time": "2025-01-23T13:19:31.716Z"
   },
   {
    "duration": 6,
    "start_time": "2025-01-23T13:19:31.755Z"
   },
   {
    "duration": 5,
    "start_time": "2025-01-23T13:19:31.762Z"
   },
   {
    "duration": 25,
    "start_time": "2025-01-23T13:19:31.769Z"
   },
   {
    "duration": 17,
    "start_time": "2025-01-23T13:19:31.795Z"
   },
   {
    "duration": 56813,
    "start_time": "2025-01-23T13:19:31.814Z"
   },
   {
    "duration": 3,
    "start_time": "2025-01-23T13:20:28.628Z"
   },
   {
    "duration": 15,
    "start_time": "2025-01-23T13:20:28.633Z"
   },
   {
    "duration": 21,
    "start_time": "2025-01-23T13:20:28.649Z"
   },
   {
    "duration": 21,
    "start_time": "2025-01-23T13:20:28.671Z"
   },
   {
    "duration": 6,
    "start_time": "2025-01-23T13:20:28.694Z"
   },
   {
    "duration": 7,
    "start_time": "2025-01-23T13:20:28.701Z"
   },
   {
    "duration": 4,
    "start_time": "2025-01-23T13:20:28.710Z"
   },
   {
    "duration": 6,
    "start_time": "2025-01-23T13:20:28.715Z"
   },
   {
    "duration": 110,
    "start_time": "2025-01-23T13:20:28.722Z"
   },
   {
    "duration": 530328,
    "start_time": "2025-01-23T13:20:28.834Z"
   },
   {
    "duration": 4,
    "start_time": "2025-01-23T13:29:19.164Z"
   },
   {
    "duration": 22,
    "start_time": "2025-01-23T13:29:19.170Z"
   },
   {
    "duration": 147,
    "start_time": "2025-01-23T13:29:19.193Z"
   },
   {
    "duration": 0,
    "start_time": "2025-01-23T13:29:19.341Z"
   },
   {
    "duration": 4,
    "start_time": "2025-01-23T13:31:20.008Z"
   },
   {
    "duration": 27,
    "start_time": "2025-01-23T13:32:05.601Z"
   },
   {
    "duration": 16,
    "start_time": "2025-01-23T13:32:14.546Z"
   },
   {
    "duration": 9,
    "start_time": "2025-01-23T13:32:48.372Z"
   },
   {
    "duration": 124,
    "start_time": "2025-01-23T13:34:32.134Z"
   },
   {
    "duration": 4,
    "start_time": "2025-01-23T13:34:34.350Z"
   },
   {
    "duration": 8214,
    "start_time": "2025-01-23T17:47:36.506Z"
   },
   {
    "duration": 2901,
    "start_time": "2025-01-23T17:47:44.722Z"
   },
   {
    "duration": 5321,
    "start_time": "2025-01-23T17:47:47.625Z"
   },
   {
    "duration": 861,
    "start_time": "2025-01-23T17:47:52.947Z"
   },
   {
    "duration": 60,
    "start_time": "2025-01-23T17:47:53.810Z"
   },
   {
    "duration": 3911,
    "start_time": "2025-01-24T11:08:07.618Z"
   },
   {
    "duration": 2457,
    "start_time": "2025-01-24T11:08:13.154Z"
   },
   {
    "duration": 1688,
    "start_time": "2025-01-24T11:08:18.437Z"
   },
   {
    "duration": 909,
    "start_time": "2025-01-24T11:08:24.248Z"
   },
   {
    "duration": 76,
    "start_time": "2025-01-24T11:08:42.042Z"
   },
   {
    "duration": 154,
    "start_time": "2025-01-24T11:08:45.821Z"
   },
   {
    "duration": 59,
    "start_time": "2025-01-24T11:09:07.322Z"
   },
   {
    "duration": 154,
    "start_time": "2025-01-24T11:09:09.844Z"
   },
   {
    "duration": 22,
    "start_time": "2025-01-24T11:09:20.416Z"
   },
   {
    "duration": 28,
    "start_time": "2025-01-24T11:09:24.755Z"
   },
   {
    "duration": 23,
    "start_time": "2025-01-24T11:09:35.763Z"
   },
   {
    "duration": 57,
    "start_time": "2025-01-24T11:09:46.004Z"
   },
   {
    "duration": 27,
    "start_time": "2025-01-24T11:09:48.844Z"
   },
   {
    "duration": 59,
    "start_time": "2025-01-24T11:09:52.216Z"
   },
   {
    "duration": 24,
    "start_time": "2025-01-24T11:09:55.618Z"
   },
   {
    "duration": 146,
    "start_time": "2025-01-24T11:09:58.033Z"
   },
   {
    "duration": 119,
    "start_time": "2025-01-24T11:10:08.982Z"
   },
   {
    "duration": 146,
    "start_time": "2025-01-24T11:10:19.702Z"
   },
   {
    "duration": 7,
    "start_time": "2025-01-24T11:10:22.986Z"
   },
   {
    "duration": 5,
    "start_time": "2025-01-24T11:10:26.777Z"
   },
   {
    "duration": 1923,
    "start_time": "2025-01-24T11:10:41.938Z"
   },
   {
    "duration": 19,
    "start_time": "2025-01-24T11:10:49.607Z"
   },
   {
    "duration": 45,
    "start_time": "2025-01-24T11:11:00.758Z"
   },
   {
    "duration": 39,
    "start_time": "2025-01-24T11:11:03.466Z"
   },
   {
    "duration": 43,
    "start_time": "2025-01-24T11:11:07.086Z"
   },
   {
    "duration": 42,
    "start_time": "2025-01-24T11:11:18.821Z"
   },
   {
    "duration": 239,
    "start_time": "2025-01-24T11:11:22.292Z"
   },
   {
    "duration": 184,
    "start_time": "2025-01-24T11:11:25.332Z"
   },
   {
    "duration": 222,
    "start_time": "2025-01-24T11:11:27.819Z"
   },
   {
    "duration": 65,
    "start_time": "2025-01-24T11:11:30.822Z"
   },
   {
    "duration": 294,
    "start_time": "2025-01-24T11:11:32.512Z"
   },
   {
    "duration": 218,
    "start_time": "2025-01-24T11:11:43.162Z"
   },
   {
    "duration": 199,
    "start_time": "2025-01-24T11:11:55.875Z"
   },
   {
    "duration": 53,
    "start_time": "2025-01-24T11:12:05.330Z"
   },
   {
    "duration": 210,
    "start_time": "2025-01-24T11:12:12.730Z"
   },
   {
    "duration": 43,
    "start_time": "2025-01-24T11:12:23.304Z"
   },
   {
    "duration": 218,
    "start_time": "2025-01-24T11:12:24.701Z"
   },
   {
    "duration": 135,
    "start_time": "2025-01-24T11:13:40.355Z"
   },
   {
    "duration": 22,
    "start_time": "2025-01-24T11:14:13.147Z"
   },
   {
    "duration": 344,
    "start_time": "2025-01-24T11:14:56.621Z"
   },
   {
    "duration": 10,
    "start_time": "2025-01-24T11:16:10.751Z"
   },
   {
    "duration": 321,
    "start_time": "2025-01-24T11:16:19.674Z"
   },
   {
    "duration": 339,
    "start_time": "2025-01-24T11:17:22.740Z"
   },
   {
    "duration": 322,
    "start_time": "2025-01-24T11:17:39.282Z"
   },
   {
    "duration": 348,
    "start_time": "2025-01-24T11:20:01.250Z"
   },
   {
    "duration": 4044,
    "start_time": "2025-01-24T11:20:07.170Z"
   },
   {
    "duration": 69,
    "start_time": "2025-01-24T11:20:21.117Z"
   },
   {
    "duration": 3,
    "start_time": "2025-01-24T11:20:54.440Z"
   },
   {
    "duration": 4,
    "start_time": "2025-01-24T11:21:37.072Z"
   },
   {
    "duration": 3,
    "start_time": "2025-01-24T11:21:42.537Z"
   },
   {
    "duration": 3,
    "start_time": "2025-01-24T11:22:13.430Z"
   },
   {
    "duration": 2,
    "start_time": "2025-01-24T11:22:33.971Z"
   },
   {
    "duration": 3,
    "start_time": "2025-01-24T11:22:47.567Z"
   },
   {
    "duration": 12810,
    "start_time": "2025-01-24T11:22:50.743Z"
   },
   {
    "duration": 11,
    "start_time": "2025-01-24T11:25:46.370Z"
   },
   {
    "duration": 3,
    "start_time": "2025-01-24T11:30:54.338Z"
   },
   {
    "duration": 3,
    "start_time": "2025-01-24T11:41:58.597Z"
   },
   {
    "duration": 3,
    "start_time": "2025-01-24T11:42:02.493Z"
   },
   {
    "duration": 2,
    "start_time": "2025-01-24T11:42:04.441Z"
   },
   {
    "duration": 3,
    "start_time": "2025-01-24T11:42:06.394Z"
   },
   {
    "duration": 13543,
    "start_time": "2025-01-24T11:42:08.239Z"
   },
   {
    "duration": 3,
    "start_time": "2025-01-24T11:43:50.459Z"
   },
   {
    "duration": 4,
    "start_time": "2025-01-24T11:43:52.563Z"
   },
   {
    "duration": 3,
    "start_time": "2025-01-24T11:43:54.569Z"
   },
   {
    "duration": 3,
    "start_time": "2025-01-24T11:43:57.124Z"
   },
   {
    "duration": 3,
    "start_time": "2025-01-24T11:43:58.696Z"
   },
   {
    "duration": 4,
    "start_time": "2025-01-24T11:44:01.486Z"
   },
   {
    "duration": 27901,
    "start_time": "2025-01-24T11:44:03.436Z"
   },
   {
    "duration": 3,
    "start_time": "2025-01-24T11:45:32.826Z"
   },
   {
    "duration": 3,
    "start_time": "2025-01-24T11:45:35.100Z"
   },
   {
    "duration": 3,
    "start_time": "2025-01-24T11:45:36.720Z"
   },
   {
    "duration": 3,
    "start_time": "2025-01-24T11:45:38.358Z"
   },
   {
    "duration": 29567,
    "start_time": "2025-01-24T11:45:40.115Z"
   },
   {
    "duration": 69,
    "start_time": "2025-01-24T11:46:47.735Z"
   },
   {
    "duration": 2606,
    "start_time": "2025-01-24T11:48:00.896Z"
   },
   {
    "duration": 2550,
    "start_time": "2025-01-24T11:48:03.504Z"
   },
   {
    "duration": 1594,
    "start_time": "2025-01-24T11:48:07.869Z"
   },
   {
    "duration": 989,
    "start_time": "2025-01-24T11:48:12.400Z"
   },
   {
    "duration": 63,
    "start_time": "2025-01-24T11:48:17.402Z"
   },
   {
    "duration": 160,
    "start_time": "2025-01-24T11:48:19.241Z"
   },
   {
    "duration": 24,
    "start_time": "2025-01-24T11:48:22.259Z"
   },
   {
    "duration": 22,
    "start_time": "2025-01-24T11:48:23.502Z"
   },
   {
    "duration": 23,
    "start_time": "2025-01-24T11:48:23.906Z"
   },
   {
    "duration": 60,
    "start_time": "2025-01-24T11:48:26.103Z"
   },
   {
    "duration": 30,
    "start_time": "2025-01-24T11:48:27.240Z"
   },
   {
    "duration": 70,
    "start_time": "2025-01-24T11:48:29.736Z"
   },
   {
    "duration": 24,
    "start_time": "2025-01-24T11:48:31.906Z"
   },
   {
    "duration": 152,
    "start_time": "2025-01-24T11:48:34.302Z"
   },
   {
    "duration": 130,
    "start_time": "2025-01-24T11:48:39.701Z"
   },
   {
    "duration": 8,
    "start_time": "2025-01-24T11:48:42.322Z"
   },
   {
    "duration": 5,
    "start_time": "2025-01-24T11:48:44.452Z"
   },
   {
    "duration": 1797,
    "start_time": "2025-01-24T11:48:47.334Z"
   },
   {
    "duration": 21,
    "start_time": "2025-01-24T11:48:55.497Z"
   },
   {
    "duration": 45,
    "start_time": "2025-01-24T11:48:57.292Z"
   },
   {
    "duration": 39,
    "start_time": "2025-01-24T11:48:59.176Z"
   },
   {
    "duration": 46,
    "start_time": "2025-01-24T11:49:00.697Z"
   },
   {
    "duration": 45,
    "start_time": "2025-01-24T11:49:02.130Z"
   },
   {
    "duration": 239,
    "start_time": "2025-01-24T11:49:04.503Z"
   },
   {
    "duration": 69,
    "start_time": "2025-01-24T11:49:06.537Z"
   },
   {
    "duration": 254,
    "start_time": "2025-01-24T11:49:08.184Z"
   },
   {
    "duration": 65,
    "start_time": "2025-01-24T11:49:27.225Z"
   },
   {
    "duration": 322,
    "start_time": "2025-01-24T11:49:28.158Z"
   },
   {
    "duration": 242,
    "start_time": "2025-01-24T11:49:30.436Z"
   },
   {
    "duration": 211,
    "start_time": "2025-01-24T11:49:33.882Z"
   },
   {
    "duration": 57,
    "start_time": "2025-01-24T11:49:36.303Z"
   },
   {
    "duration": 232,
    "start_time": "2025-01-24T11:49:38.027Z"
   },
   {
    "duration": 42,
    "start_time": "2025-01-24T11:49:39.462Z"
   },
   {
    "duration": 229,
    "start_time": "2025-01-24T11:49:39.738Z"
   },
   {
    "duration": 127,
    "start_time": "2025-01-24T11:50:02.584Z"
   },
   {
    "duration": 28,
    "start_time": "2025-01-24T11:50:05.106Z"
   },
   {
    "duration": 3328,
    "start_time": "2025-01-24T11:50:15.052Z"
   },
   {
    "duration": 75,
    "start_time": "2025-01-24T11:50:21.010Z"
   },
   {
    "duration": 57,
    "start_time": "2025-01-24T11:50:23.858Z"
   },
   {
    "duration": 2,
    "start_time": "2025-01-24T11:50:26.420Z"
   },
   {
    "duration": 4,
    "start_time": "2025-01-24T11:50:29.581Z"
   },
   {
    "duration": 3,
    "start_time": "2025-01-24T11:50:36.442Z"
   },
   {
    "duration": 3,
    "start_time": "2025-01-24T11:50:39.096Z"
   },
   {
    "duration": 3,
    "start_time": "2025-01-24T11:50:40.889Z"
   },
   {
    "duration": 3,
    "start_time": "2025-01-24T11:50:42.638Z"
   },
   {
    "duration": 55091,
    "start_time": "2025-01-24T11:50:45.390Z"
   },
   {
    "duration": 3,
    "start_time": "2025-01-24T11:53:32.586Z"
   },
   {
    "duration": 4,
    "start_time": "2025-01-24T11:53:34.984Z"
   },
   {
    "duration": 21,
    "start_time": "2025-01-24T11:53:39.205Z"
   },
   {
    "duration": 11,
    "start_time": "2025-01-24T11:53:41.859Z"
   },
   {
    "duration": 10,
    "start_time": "2025-01-24T11:56:33.325Z"
   },
   {
    "duration": 120,
    "start_time": "2025-01-24T11:58:21.562Z"
   },
   {
    "duration": 3,
    "start_time": "2025-01-24T11:59:01.569Z"
   },
   {
    "duration": 90,
    "start_time": "2025-01-24T11:59:02.895Z"
   },
   {
    "duration": 4,
    "start_time": "2025-01-24T11:59:23.949Z"
   },
   {
    "duration": 2634,
    "start_time": "2025-01-24T12:04:33.244Z"
   },
   {
    "duration": 2989,
    "start_time": "2025-01-24T12:04:35.881Z"
   },
   {
    "duration": 1617,
    "start_time": "2025-01-24T12:04:38.872Z"
   },
   {
    "duration": 988,
    "start_time": "2025-01-24T12:04:40.491Z"
   },
   {
    "duration": 73,
    "start_time": "2025-01-24T12:04:41.481Z"
   },
   {
    "duration": 157,
    "start_time": "2025-01-24T12:04:41.555Z"
   },
   {
    "duration": 40,
    "start_time": "2025-01-24T12:04:41.714Z"
   },
   {
    "duration": 56,
    "start_time": "2025-01-24T12:04:41.756Z"
   },
   {
    "duration": 36,
    "start_time": "2025-01-24T12:04:41.814Z"
   },
   {
    "duration": 62,
    "start_time": "2025-01-24T12:04:41.853Z"
   },
   {
    "duration": 34,
    "start_time": "2025-01-24T12:04:41.917Z"
   },
   {
    "duration": 58,
    "start_time": "2025-01-24T12:04:41.953Z"
   },
   {
    "duration": 23,
    "start_time": "2025-01-24T12:04:42.013Z"
   },
   {
    "duration": 149,
    "start_time": "2025-01-24T12:04:42.049Z"
   },
   {
    "duration": 136,
    "start_time": "2025-01-24T12:04:42.200Z"
   },
   {
    "duration": 11,
    "start_time": "2025-01-24T12:04:42.339Z"
   },
   {
    "duration": 11,
    "start_time": "2025-01-24T12:04:42.351Z"
   },
   {
    "duration": 1876,
    "start_time": "2025-01-24T12:04:42.364Z"
   },
   {
    "duration": 22,
    "start_time": "2025-01-24T12:04:44.242Z"
   },
   {
    "duration": 89,
    "start_time": "2025-01-24T12:04:44.265Z"
   },
   {
    "duration": 197,
    "start_time": "2025-01-24T12:04:44.356Z"
   },
   {
    "duration": 40,
    "start_time": "2025-01-24T12:04:44.554Z"
   },
   {
    "duration": 65,
    "start_time": "2025-01-24T12:04:44.596Z"
   },
   {
    "duration": 43,
    "start_time": "2025-01-24T12:04:44.663Z"
   },
   {
    "duration": 275,
    "start_time": "2025-01-24T12:04:44.708Z"
   },
   {
    "duration": 81,
    "start_time": "2025-01-24T12:04:44.985Z"
   },
   {
    "duration": 239,
    "start_time": "2025-01-24T12:04:45.067Z"
   },
   {
    "duration": 78,
    "start_time": "2025-01-24T12:04:45.310Z"
   },
   {
    "duration": 318,
    "start_time": "2025-01-24T12:04:45.390Z"
   },
   {
    "duration": 255,
    "start_time": "2025-01-24T12:04:45.710Z"
   },
   {
    "duration": 224,
    "start_time": "2025-01-24T12:04:45.967Z"
   },
   {
    "duration": 67,
    "start_time": "2025-01-24T12:04:46.192Z"
   },
   {
    "duration": 220,
    "start_time": "2025-01-24T12:04:46.261Z"
   },
   {
    "duration": 67,
    "start_time": "2025-01-24T12:04:46.482Z"
   },
   {
    "duration": 230,
    "start_time": "2025-01-24T12:04:46.551Z"
   },
   {
    "duration": 168,
    "start_time": "2025-01-24T12:04:46.783Z"
   },
   {
    "duration": 20,
    "start_time": "2025-01-24T12:04:46.953Z"
   },
   {
    "duration": 3403,
    "start_time": "2025-01-24T12:04:46.974Z"
   },
   {
    "duration": 87,
    "start_time": "2025-01-24T12:04:50.378Z"
   },
   {
    "duration": 73,
    "start_time": "2025-01-24T12:04:50.466Z"
   },
   {
    "duration": 3,
    "start_time": "2025-01-24T12:04:50.541Z"
   },
   {
    "duration": 5,
    "start_time": "2025-01-24T12:04:50.545Z"
   },
   {
    "duration": 13,
    "start_time": "2025-01-24T12:04:50.551Z"
   },
   {
    "duration": 21,
    "start_time": "2025-01-24T12:04:50.566Z"
   },
   {
    "duration": 61,
    "start_time": "2025-01-24T12:04:50.588Z"
   },
   {
    "duration": 31,
    "start_time": "2025-01-24T12:04:50.651Z"
   },
   {
    "duration": 56729,
    "start_time": "2025-01-24T12:04:50.684Z"
   },
   {
    "duration": 4,
    "start_time": "2025-01-24T12:05:47.415Z"
   },
   {
    "duration": 29,
    "start_time": "2025-01-24T12:05:47.420Z"
   },
   {
    "duration": 22,
    "start_time": "2025-01-24T12:05:47.450Z"
   },
   {
    "duration": 14,
    "start_time": "2025-01-24T12:05:47.474Z"
   },
   {
    "duration": 123,
    "start_time": "2025-01-24T12:05:47.489Z"
   },
   {
    "duration": 2,
    "start_time": "2025-01-24T12:05:47.614Z"
   },
   {
    "duration": 26,
    "start_time": "2025-01-24T12:05:47.618Z"
   },
   {
    "duration": 70362,
    "start_time": "2025-01-24T12:05:47.650Z"
   },
   {
    "duration": 0,
    "start_time": "2025-01-24T12:06:58.014Z"
   },
   {
    "duration": 0,
    "start_time": "2025-01-24T12:06:58.016Z"
   },
   {
    "duration": 0,
    "start_time": "2025-01-24T12:06:58.018Z"
   },
   {
    "duration": 0,
    "start_time": "2025-01-24T12:06:58.019Z"
   },
   {
    "duration": 0,
    "start_time": "2025-01-24T12:06:58.020Z"
   },
   {
    "duration": 117,
    "start_time": "2025-01-24T12:07:13.041Z"
   },
   {
    "duration": 3,
    "start_time": "2025-01-24T12:07:15.982Z"
   },
   {
    "duration": 3,
    "start_time": "2025-01-24T12:07:18.049Z"
   },
   {
    "duration": 1920324,
    "start_time": "2025-01-24T12:07:20.124Z"
   },
   {
    "duration": 6,
    "start_time": "2025-01-24T12:39:30.245Z"
   },
   {
    "duration": 19,
    "start_time": "2025-01-24T12:39:45.684Z"
   },
   {
    "duration": 15,
    "start_time": "2025-01-24T12:39:48.249Z"
   },
   {
    "duration": 127,
    "start_time": "2025-01-24T12:40:32.145Z"
   },
   {
    "duration": 6,
    "start_time": "2025-01-24T12:40:33.862Z"
   },
   {
    "duration": 53,
    "start_time": "2025-01-24T13:46:36.648Z"
   },
   {
    "duration": 3,
    "start_time": "2025-01-24T13:46:39.743Z"
   }
  ],
  "kernelspec": {
   "display_name": "Python [conda env:base] *",
   "language": "python",
   "name": "conda-base-py"
  },
  "language_info": {
   "codemirror_mode": {
    "name": "ipython",
    "version": 3
   },
   "file_extension": ".py",
   "mimetype": "text/x-python",
   "name": "python",
   "nbconvert_exporter": "python",
   "pygments_lexer": "ipython3",
   "version": "3.12.3"
  },
  "toc": {
   "base_numbering": 1,
   "nav_menu": {},
   "number_sections": true,
   "sideBar": true,
   "skip_h1_title": true,
   "title_cell": "Table of Contents",
   "title_sidebar": "Contents",
   "toc_cell": false,
   "toc_position": {},
   "toc_section_display": true,
   "toc_window_display": false
  }
 },
 "nbformat": 4,
 "nbformat_minor": 4
}
