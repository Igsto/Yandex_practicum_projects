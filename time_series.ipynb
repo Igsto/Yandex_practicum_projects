{
 "cells": [
  {
   "cell_type": "markdown",
   "metadata": {
    "toc": true
   },
   "source": [
    "<h1>Содержание<span class=\"tocSkip\"></span></h1>\n",
    "<div class=\"toc\"><ul class=\"toc-item\"><li><span><a href=\"#Подготовка\" data-toc-modified-id=\"Подготовка-1\"><span class=\"toc-item-num\">1&nbsp;&nbsp;</span>Подготовка</a></span></li><li><span><a href=\"#Анализ\" data-toc-modified-id=\"Анализ-2\"><span class=\"toc-item-num\">2&nbsp;&nbsp;</span>Анализ</a></span></li><li><span><a href=\"#Обучение\" data-toc-modified-id=\"Обучение-3\"><span class=\"toc-item-num\">3&nbsp;&nbsp;</span>Обучение</a></span></li><li><span><a href=\"#Тестирование\" data-toc-modified-id=\"Тестирование-4\"><span class=\"toc-item-num\">4&nbsp;&nbsp;</span>Тестирование</a></span></li><li><span><a href=\"#Чек-лист-проверки\" data-toc-modified-id=\"Чек-лист-проверки-5\"><span class=\"toc-item-num\">5&nbsp;&nbsp;</span>Чек-лист проверки</a></span></li></ul></div>"
   ]
  },
  {
   "cell_type": "markdown",
   "metadata": {},
   "source": [
    "#  Прогнозирование заказов такси"
   ]
  },
  {
   "cell_type": "markdown",
   "metadata": {},
   "source": [
    "Компания «Чётенькое такси» собрала исторические данные о заказах такси в аэропортах. Чтобы привлекать больше водителей в период пиковой нагрузки, нужно спрогнозировать количество заказов такси на следующий час. Постройте модель для такого предсказания.\n",
    "\n",
    "Значение метрики *RMSE* на тестовой выборке должно быть не больше 48.\n",
    "\n",
    "Вам нужно:\n",
    "\n",
    "1. Загрузить данные и выполнить их ресемплирование по одному часу.\n",
    "2. Проанализировать данные.\n",
    "3. Обучить разные модели с различными гиперпараметрами. Сделать тестовую выборку размером 10% от исходных данных.\n",
    "4. Проверить данные на тестовой выборке и сделать выводы.\n",
    "\n",
    "\n",
    "Данные лежат в файле `taxi.csv`. Количество заказов находится в столбце `num_orders` (от англ. *number of orders*, «число заказов»)."
   ]
  },
  {
   "cell_type": "markdown",
   "metadata": {},
   "source": [
    "Сначала загрузим необходимые библиотеки."
   ]
  },
  {
   "cell_type": "code",
   "execution_count": 1,
   "metadata": {},
   "outputs": [
    {
     "name": "stdout",
     "output_type": "stream",
     "text": [
      "Note: you may need to restart the kernel to use updated packages.\n"
     ]
    }
   ],
   "source": [
    "pip install scikit-learn -q"
   ]
  },
  {
   "cell_type": "code",
   "execution_count": 42,
   "metadata": {},
   "outputs": [],
   "source": [
    "#pandas для работы с датафреймами\n",
    "import pandas as pd\n",
    "#математические библиотеки\n",
    "import math\n",
    "import numpy as np\n",
    "#графики\n",
    "from scipy import stats as st\n",
    "import matplotlib.pyplot as plt\n",
    "import seaborn as sns\n",
    "#sklearn\n",
    "from sklearn.svm import SVR\n",
    "from sklearn.linear_model import LinearRegression\n",
    "from sklearn.model_selection import train_test_split, GridSearchCV\n",
    "from sklearn.preprocessing import StandardScaler, OrdinalEncoder\n",
    "from sklearn.tree import DecisionTreeRegressor\n",
    "from sklearn.metrics import (\n",
    "    mean_squared_error,\n",
    "    make_scorer\n",
    ")\n",
    "\n",
    "from sklearn.pipeline import Pipeline\n",
    "from sklearn.compose import ColumnTransformer\n",
    "\n",
    "from sklearn.impute import SimpleImputer\n",
    "#lgmb\n",
    "from lightgbm import LGBMRegressor\n",
    "# регулярные выражения\n",
    "import re\n",
    "from statsmodels.tsa.seasonal import seasonal_decompose\n",
    "from sklearn.model_selection import TimeSeriesSplit"
   ]
  },
  {
   "cell_type": "markdown",
   "metadata": {},
   "source": [
    "## Подготовка"
   ]
  },
  {
   "cell_type": "markdown",
   "metadata": {},
   "source": [
    "Загрузим данные."
   ]
  },
  {
   "cell_type": "code",
   "execution_count": 3,
   "metadata": {},
   "outputs": [
    {
     "data": {
      "text/html": [
       "<div>\n",
       "<style scoped>\n",
       "    .dataframe tbody tr th:only-of-type {\n",
       "        vertical-align: middle;\n",
       "    }\n",
       "\n",
       "    .dataframe tbody tr th {\n",
       "        vertical-align: top;\n",
       "    }\n",
       "\n",
       "    .dataframe thead th {\n",
       "        text-align: right;\n",
       "    }\n",
       "</style>\n",
       "<table border=\"1\" class=\"dataframe\">\n",
       "  <thead>\n",
       "    <tr style=\"text-align: right;\">\n",
       "      <th></th>\n",
       "      <th>datetime</th>\n",
       "      <th>num_orders</th>\n",
       "    </tr>\n",
       "  </thead>\n",
       "  <tbody>\n",
       "    <tr>\n",
       "      <th>0</th>\n",
       "      <td>2018-03-01 00:00:00</td>\n",
       "      <td>9</td>\n",
       "    </tr>\n",
       "    <tr>\n",
       "      <th>1</th>\n",
       "      <td>2018-03-01 00:10:00</td>\n",
       "      <td>14</td>\n",
       "    </tr>\n",
       "    <tr>\n",
       "      <th>2</th>\n",
       "      <td>2018-03-01 00:20:00</td>\n",
       "      <td>28</td>\n",
       "    </tr>\n",
       "    <tr>\n",
       "      <th>3</th>\n",
       "      <td>2018-03-01 00:30:00</td>\n",
       "      <td>20</td>\n",
       "    </tr>\n",
       "    <tr>\n",
       "      <th>4</th>\n",
       "      <td>2018-03-01 00:40:00</td>\n",
       "      <td>32</td>\n",
       "    </tr>\n",
       "  </tbody>\n",
       "</table>\n",
       "</div>"
      ],
      "text/plain": [
       "              datetime  num_orders\n",
       "0  2018-03-01 00:00:00           9\n",
       "1  2018-03-01 00:10:00          14\n",
       "2  2018-03-01 00:20:00          28\n",
       "3  2018-03-01 00:30:00          20\n",
       "4  2018-03-01 00:40:00          32"
      ]
     },
     "execution_count": 3,
     "metadata": {},
     "output_type": "execute_result"
    }
   ],
   "source": [
    "data = pd.read_csv('/datasets/taxi.csv')\n",
    "data.head()"
   ]
  },
  {
   "cell_type": "markdown",
   "metadata": {},
   "source": [
    "Рассмотрим типы столбцов."
   ]
  },
  {
   "cell_type": "code",
   "execution_count": 4,
   "metadata": {},
   "outputs": [
    {
     "name": "stdout",
     "output_type": "stream",
     "text": [
      "<class 'pandas.core.frame.DataFrame'>\n",
      "RangeIndex: 26496 entries, 0 to 26495\n",
      "Data columns (total 2 columns):\n",
      " #   Column      Non-Null Count  Dtype \n",
      "---  ------      --------------  ----- \n",
      " 0   datetime    26496 non-null  object\n",
      " 1   num_orders  26496 non-null  int64 \n",
      "dtypes: int64(1), object(1)\n",
      "memory usage: 414.1+ KB\n"
     ]
    }
   ],
   "source": [
    "data.info()"
   ]
  },
  {
   "cell_type": "markdown",
   "metadata": {},
   "source": [
    "Тип столбца с датой и временем object, преобразуем его."
   ]
  },
  {
   "cell_type": "code",
   "execution_count": 5,
   "metadata": {},
   "outputs": [
    {
     "name": "stdout",
     "output_type": "stream",
     "text": [
      "<class 'pandas.core.frame.DataFrame'>\n",
      "RangeIndex: 26496 entries, 0 to 26495\n",
      "Data columns (total 2 columns):\n",
      " #   Column      Non-Null Count  Dtype         \n",
      "---  ------      --------------  -----         \n",
      " 0   datetime    26496 non-null  datetime64[ns]\n",
      " 1   num_orders  26496 non-null  int64         \n",
      "dtypes: datetime64[ns](1), int64(1)\n",
      "memory usage: 414.1 KB\n"
     ]
    }
   ],
   "source": [
    "data['datetime'] = data['datetime'].astype('datetime64')\n",
    "data.info()"
   ]
  },
  {
   "cell_type": "markdown",
   "metadata": {},
   "source": [
    "Установиим дату как индекс."
   ]
  },
  {
   "cell_type": "code",
   "execution_count": 6,
   "metadata": {},
   "outputs": [
    {
     "data": {
      "text/html": [
       "<div>\n",
       "<style scoped>\n",
       "    .dataframe tbody tr th:only-of-type {\n",
       "        vertical-align: middle;\n",
       "    }\n",
       "\n",
       "    .dataframe tbody tr th {\n",
       "        vertical-align: top;\n",
       "    }\n",
       "\n",
       "    .dataframe thead th {\n",
       "        text-align: right;\n",
       "    }\n",
       "</style>\n",
       "<table border=\"1\" class=\"dataframe\">\n",
       "  <thead>\n",
       "    <tr style=\"text-align: right;\">\n",
       "      <th></th>\n",
       "      <th>num_orders</th>\n",
       "    </tr>\n",
       "    <tr>\n",
       "      <th>datetime</th>\n",
       "      <th></th>\n",
       "    </tr>\n",
       "  </thead>\n",
       "  <tbody>\n",
       "    <tr>\n",
       "      <th>2018-03-01 00:00:00</th>\n",
       "      <td>9</td>\n",
       "    </tr>\n",
       "    <tr>\n",
       "      <th>2018-03-01 00:10:00</th>\n",
       "      <td>14</td>\n",
       "    </tr>\n",
       "    <tr>\n",
       "      <th>2018-03-01 00:20:00</th>\n",
       "      <td>28</td>\n",
       "    </tr>\n",
       "    <tr>\n",
       "      <th>2018-03-01 00:30:00</th>\n",
       "      <td>20</td>\n",
       "    </tr>\n",
       "    <tr>\n",
       "      <th>2018-03-01 00:40:00</th>\n",
       "      <td>32</td>\n",
       "    </tr>\n",
       "    <tr>\n",
       "      <th>...</th>\n",
       "      <td>...</td>\n",
       "    </tr>\n",
       "    <tr>\n",
       "      <th>2018-08-31 23:10:00</th>\n",
       "      <td>32</td>\n",
       "    </tr>\n",
       "    <tr>\n",
       "      <th>2018-08-31 23:20:00</th>\n",
       "      <td>24</td>\n",
       "    </tr>\n",
       "    <tr>\n",
       "      <th>2018-08-31 23:30:00</th>\n",
       "      <td>27</td>\n",
       "    </tr>\n",
       "    <tr>\n",
       "      <th>2018-08-31 23:40:00</th>\n",
       "      <td>39</td>\n",
       "    </tr>\n",
       "    <tr>\n",
       "      <th>2018-08-31 23:50:00</th>\n",
       "      <td>53</td>\n",
       "    </tr>\n",
       "  </tbody>\n",
       "</table>\n",
       "<p>26496 rows × 1 columns</p>\n",
       "</div>"
      ],
      "text/plain": [
       "                     num_orders\n",
       "datetime                       \n",
       "2018-03-01 00:00:00           9\n",
       "2018-03-01 00:10:00          14\n",
       "2018-03-01 00:20:00          28\n",
       "2018-03-01 00:30:00          20\n",
       "2018-03-01 00:40:00          32\n",
       "...                         ...\n",
       "2018-08-31 23:10:00          32\n",
       "2018-08-31 23:20:00          24\n",
       "2018-08-31 23:30:00          27\n",
       "2018-08-31 23:40:00          39\n",
       "2018-08-31 23:50:00          53\n",
       "\n",
       "[26496 rows x 1 columns]"
      ]
     },
     "execution_count": 6,
     "metadata": {},
     "output_type": "execute_result"
    }
   ],
   "source": [
    "data = data.set_index('datetime')\n",
    "data"
   ]
  },
  {
   "cell_type": "markdown",
   "metadata": {},
   "source": [
    "Ресемплируем данные по одному часу."
   ]
  },
  {
   "cell_type": "code",
   "execution_count": 7,
   "metadata": {},
   "outputs": [
    {
     "data": {
      "text/html": [
       "<div>\n",
       "<style scoped>\n",
       "    .dataframe tbody tr th:only-of-type {\n",
       "        vertical-align: middle;\n",
       "    }\n",
       "\n",
       "    .dataframe tbody tr th {\n",
       "        vertical-align: top;\n",
       "    }\n",
       "\n",
       "    .dataframe thead th {\n",
       "        text-align: right;\n",
       "    }\n",
       "</style>\n",
       "<table border=\"1\" class=\"dataframe\">\n",
       "  <thead>\n",
       "    <tr style=\"text-align: right;\">\n",
       "      <th></th>\n",
       "      <th>num_orders</th>\n",
       "    </tr>\n",
       "    <tr>\n",
       "      <th>datetime</th>\n",
       "      <th></th>\n",
       "    </tr>\n",
       "  </thead>\n",
       "  <tbody>\n",
       "    <tr>\n",
       "      <th>2018-03-01 00:00:00</th>\n",
       "      <td>124</td>\n",
       "    </tr>\n",
       "    <tr>\n",
       "      <th>2018-03-01 01:00:00</th>\n",
       "      <td>85</td>\n",
       "    </tr>\n",
       "    <tr>\n",
       "      <th>2018-03-01 02:00:00</th>\n",
       "      <td>71</td>\n",
       "    </tr>\n",
       "    <tr>\n",
       "      <th>2018-03-01 03:00:00</th>\n",
       "      <td>66</td>\n",
       "    </tr>\n",
       "    <tr>\n",
       "      <th>2018-03-01 04:00:00</th>\n",
       "      <td>43</td>\n",
       "    </tr>\n",
       "    <tr>\n",
       "      <th>...</th>\n",
       "      <td>...</td>\n",
       "    </tr>\n",
       "    <tr>\n",
       "      <th>2018-08-31 19:00:00</th>\n",
       "      <td>136</td>\n",
       "    </tr>\n",
       "    <tr>\n",
       "      <th>2018-08-31 20:00:00</th>\n",
       "      <td>154</td>\n",
       "    </tr>\n",
       "    <tr>\n",
       "      <th>2018-08-31 21:00:00</th>\n",
       "      <td>159</td>\n",
       "    </tr>\n",
       "    <tr>\n",
       "      <th>2018-08-31 22:00:00</th>\n",
       "      <td>223</td>\n",
       "    </tr>\n",
       "    <tr>\n",
       "      <th>2018-08-31 23:00:00</th>\n",
       "      <td>205</td>\n",
       "    </tr>\n",
       "  </tbody>\n",
       "</table>\n",
       "<p>4416 rows × 1 columns</p>\n",
       "</div>"
      ],
      "text/plain": [
       "                     num_orders\n",
       "datetime                       \n",
       "2018-03-01 00:00:00         124\n",
       "2018-03-01 01:00:00          85\n",
       "2018-03-01 02:00:00          71\n",
       "2018-03-01 03:00:00          66\n",
       "2018-03-01 04:00:00          43\n",
       "...                         ...\n",
       "2018-08-31 19:00:00         136\n",
       "2018-08-31 20:00:00         154\n",
       "2018-08-31 21:00:00         159\n",
       "2018-08-31 22:00:00         223\n",
       "2018-08-31 23:00:00         205\n",
       "\n",
       "[4416 rows x 1 columns]"
      ]
     },
     "execution_count": 7,
     "metadata": {},
     "output_type": "execute_result"
    }
   ],
   "source": [
    "data_resampled = data.resample('1H').sum()\n",
    "data_resampled"
   ]
  },
  {
   "cell_type": "markdown",
   "metadata": {},
   "source": [
    "## Анализ"
   ]
  },
  {
   "cell_type": "markdown",
   "metadata": {},
   "source": [
    "Построим график временного ряда со скользящим среднем в две недели."
   ]
  },
  {
   "cell_type": "code",
   "execution_count": 8,
   "metadata": {},
   "outputs": [
    {
     "data": {
      "image/png": "[encoded data removed]",
      "text/plain": [
       "<Figure size 864x576 with 1 Axes>"
      ]
     },
     "metadata": {
      "needs_background": "light"
     },
     "output_type": "display_data"
    }
   ],
   "source": [
    "plt.figure(figsize=(12, 8))\n",
    "#ax = data.rolling(24*7*2).mean().plot()\n",
    "plt.plot(data_resampled.rolling(24*7*2).mean())\n",
    "plt.grid()\n",
    "#ax.set_xlabel('Месяц');"
   ]
  },
  {
   "cell_type": "markdown",
   "metadata": {},
   "source": [
    "График похож на параболу или экспоненту, на глаз определить сложно. Это можно учесть при составлении модели машинного обучения используя в качестве модели метод опорных векторов и в качестве ядра полином второй степени или экспоненту."
   ]
  },
  {
   "cell_type": "markdown",
   "metadata": {},
   "source": [
    "Найдём треды и сезонность с помощью функции seasonal_decompose."
   ]
  },
  {
   "cell_type": "code",
   "execution_count": 9,
   "metadata": {},
   "outputs": [],
   "source": [
    "decomposed = seasonal_decompose(data_resampled)"
   ]
  },
  {
   "cell_type": "markdown",
   "metadata": {},
   "source": [
    "Посмотрим треды"
   ]
  },
  {
   "cell_type": "code",
   "execution_count": 10,
   "metadata": {},
   "outputs": [
    {
     "data": {
      "image/png": "[encoded data removed]",
      "text/plain": [
       "<Figure size 864x576 with 1 Axes>"
      ]
     },
     "metadata": {
      "needs_background": "light"
     },
     "output_type": "display_data"
    }
   ],
   "source": [
    "plt.figure(figsize=(12, 8))\n",
    "plt.plot(decomposed.trend)\n",
    "plt.grid()"
   ]
  },
  {
   "cell_type": "markdown",
   "metadata": {},
   "source": [
    "За март тренд не увеличился, однако потом тренд начинает возрастать. "
   ]
  },
  {
   "cell_type": "markdown",
   "metadata": {},
   "source": [
    "Посмотрим сезонность за сутки."
   ]
  },
  {
   "cell_type": "code",
   "execution_count": 22,
   "metadata": {},
   "outputs": [
    {
     "data": {
      "image/png": "[encoded data removed]",
      "text/plain": [
       "<Figure size 864x576 with 1 Axes>"
      ]
     },
     "metadata": {
      "needs_background": "light"
     },
     "output_type": "display_data"
    }
   ],
   "source": [
    "plt.figure(figsize=(12, 8))\n",
    "plt.plot(decomposed.seasonal['2018-03-01 00:00:00':'2018-03-02 00:00:00'])\n",
    "plt.grid()"
   ]
  },
  {
   "cell_type": "markdown",
   "metadata": {},
   "source": [
    "В полночь заказов больше всего, после чего сезонность убывает до 6 утра, в 6 утра наблюдается минимум. Далее сезонность возрастает, с 9 утра до 9 вечера сезонность изменяется незначительно, после чего возрастает. "
   ]
  },
  {
   "cell_type": "markdown",
   "metadata": {},
   "source": [
    "Посмотрим сезонность за неделю, для чего ресемплируем данные."
   ]
  },
  {
   "cell_type": "code",
   "execution_count": 33,
   "metadata": {},
   "outputs": [
    {
     "data": {
      "image/png": "[encoded data removed]",
      "text/plain": [
       "<Figure size 864x576 with 1 Axes>"
      ]
     },
     "metadata": {
      "needs_background": "light"
     },
     "output_type": "display_data"
    }
   ],
   "source": [
    "data_resampled_week = data.resample('1D').sum()\n",
    "decomposed_week = seasonal_decompose(data_resampled_week)\n",
    "\n",
    "plt.figure(figsize=(12, 8))\n",
    "plt.plot(decomposed_week.seasonal['2018-03-05':'2018-03-12'])\n",
    "plt.grid()"
   ]
  },
  {
   "cell_type": "markdown",
   "metadata": {},
   "source": [
    "Больше всего заказов в понедельник, затем график опускается до вторника, где наблюдается минимум. Со вторника до пятницы количество заказов возрастает, далее убывает до воскресенья."
   ]
  },
  {
   "cell_type": "markdown",
   "metadata": {},
   "source": [
    "Рассмотрим остатки."
   ]
  },
  {
   "cell_type": "code",
   "execution_count": 62,
   "metadata": {},
   "outputs": [
    {
     "data": {
      "image/png": "[encoded data removed]",
      "text/plain": [
       "<Figure size 864x576 with 1 Axes>"
      ]
     },
     "metadata": {
      "needs_background": "light"
     },
     "output_type": "display_data"
    }
   ],
   "source": [
    "plt.figure(figsize=(12, 8))\n",
    "plt.plot(decomposed.resid['2018-03-01 00:00:00':'2018-03-02 00:00:00'])\n",
    "plt.grid()"
   ]
  },
  {
   "cell_type": "markdown",
   "metadata": {},
   "source": [
    "## Обучение"
   ]
  },
  {
   "cell_type": "markdown",
   "metadata": {},
   "source": [
    "Сезонность изменяется за часы и недели, тренд изменяется по месяцам. На основе этого добавим в датафрейм столбцы час, день, день недели и месяц."
   ]
  },
  {
   "cell_type": "code",
   "execution_count": 34,
   "metadata": {},
   "outputs": [
    {
     "data": {
      "text/html": [
       "<div>\n",
       "<style scoped>\n",
       "    .dataframe tbody tr th:only-of-type {\n",
       "        vertical-align: middle;\n",
       "    }\n",
       "\n",
       "    .dataframe tbody tr th {\n",
       "        vertical-align: top;\n",
       "    }\n",
       "\n",
       "    .dataframe thead th {\n",
       "        text-align: right;\n",
       "    }\n",
       "</style>\n",
       "<table border=\"1\" class=\"dataframe\">\n",
       "  <thead>\n",
       "    <tr style=\"text-align: right;\">\n",
       "      <th></th>\n",
       "      <th>num_orders</th>\n",
       "      <th>month</th>\n",
       "      <th>day</th>\n",
       "      <th>dayofweek</th>\n",
       "      <th>hour</th>\n",
       "    </tr>\n",
       "    <tr>\n",
       "      <th>datetime</th>\n",
       "      <th></th>\n",
       "      <th></th>\n",
       "      <th></th>\n",
       "      <th></th>\n",
       "      <th></th>\n",
       "    </tr>\n",
       "  </thead>\n",
       "  <tbody>\n",
       "    <tr>\n",
       "      <th>2018-03-01 00:00:00</th>\n",
       "      <td>124</td>\n",
       "      <td>3</td>\n",
       "      <td>1</td>\n",
       "      <td>3</td>\n",
       "      <td>0</td>\n",
       "    </tr>\n",
       "    <tr>\n",
       "      <th>2018-03-01 01:00:00</th>\n",
       "      <td>85</td>\n",
       "      <td>3</td>\n",
       "      <td>1</td>\n",
       "      <td>3</td>\n",
       "      <td>1</td>\n",
       "    </tr>\n",
       "    <tr>\n",
       "      <th>2018-03-01 02:00:00</th>\n",
       "      <td>71</td>\n",
       "      <td>3</td>\n",
       "      <td>1</td>\n",
       "      <td>3</td>\n",
       "      <td>2</td>\n",
       "    </tr>\n",
       "    <tr>\n",
       "      <th>2018-03-01 03:00:00</th>\n",
       "      <td>66</td>\n",
       "      <td>3</td>\n",
       "      <td>1</td>\n",
       "      <td>3</td>\n",
       "      <td>3</td>\n",
       "    </tr>\n",
       "    <tr>\n",
       "      <th>2018-03-01 04:00:00</th>\n",
       "      <td>43</td>\n",
       "      <td>3</td>\n",
       "      <td>1</td>\n",
       "      <td>3</td>\n",
       "      <td>4</td>\n",
       "    </tr>\n",
       "  </tbody>\n",
       "</table>\n",
       "</div>"
      ],
      "text/plain": [
       "                     num_orders  month  day  dayofweek  hour\n",
       "datetime                                                    \n",
       "2018-03-01 00:00:00         124      3    1          3     0\n",
       "2018-03-01 01:00:00          85      3    1          3     1\n",
       "2018-03-01 02:00:00          71      3    1          3     2\n",
       "2018-03-01 03:00:00          66      3    1          3     3\n",
       "2018-03-01 04:00:00          43      3    1          3     4"
      ]
     },
     "execution_count": 34,
     "metadata": {},
     "output_type": "execute_result"
    }
   ],
   "source": [
    "data_resampled['month'] = data_resampled.index.month\n",
    "data_resampled['day'] = data_resampled.index.day\n",
    "data_resampled['dayofweek'] = data_resampled.index.dayofweek\n",
    "data_resampled['hour'] = data_resampled.index.hour\n",
    "data_resampled.head()"
   ]
  },
  {
   "cell_type": "markdown",
   "metadata": {},
   "source": [
    "Добавим лаги для часа, дня и недели."
   ]
  },
  {
   "cell_type": "code",
   "execution_count": 35,
   "metadata": {},
   "outputs": [],
   "source": [
    "for lag in [1, 24, 24*7]:\n",
    "    data_resampled['lag_{}'.format(lag)] = data_resampled['num_orders'].shift(lag)"
   ]
  },
  {
   "cell_type": "code",
   "execution_count": 36,
   "metadata": {},
   "outputs": [
    {
     "data": {
      "image/png": "[encoded data removed]",
      "text/plain": [
       "<Figure size 1332x432 with 1 Axes>"
      ]
     },
     "metadata": {
      "needs_background": "light"
     },
     "output_type": "display_data"
    }
   ],
   "source": [
    "# Код ревьюера\n",
    "from statsmodels.graphics import tsaplots\n",
    "\n",
    "taxi = pd.read_csv(\"/datasets/taxi.csv\", index_col=[0], parse_dates=[0]).resample('1H').sum()\n",
    "ts = taxi['num_orders']\n",
    "\n",
    "fig = tsaplots.plot_acf(ts,lags= 190)\n",
    "fig.set_size_inches(18.5, 6)\n",
    "plt.ylim(-.1, 1.1)\n",
    "plt.show() "
   ]
  },
  {
   "cell_type": "markdown",
   "metadata": {},
   "source": [
    "Разделим данные на тренировочную и тестовую выборки."
   ]
  },
  {
   "cell_type": "code",
   "execution_count": null,
   "metadata": {},
   "outputs": [],
   "source": []
  },
  {
   "cell_type": "code",
   "execution_count": 37,
   "metadata": {},
   "outputs": [
    {
     "data": {
      "text/html": [
       "<div>\n",
       "<style scoped>\n",
       "    .dataframe tbody tr th:only-of-type {\n",
       "        vertical-align: middle;\n",
       "    }\n",
       "\n",
       "    .dataframe tbody tr th {\n",
       "        vertical-align: top;\n",
       "    }\n",
       "\n",
       "    .dataframe thead th {\n",
       "        text-align: right;\n",
       "    }\n",
       "</style>\n",
       "<table border=\"1\" class=\"dataframe\">\n",
       "  <thead>\n",
       "    <tr style=\"text-align: right;\">\n",
       "      <th></th>\n",
       "      <th>num_orders</th>\n",
       "      <th>month</th>\n",
       "      <th>day</th>\n",
       "      <th>dayofweek</th>\n",
       "      <th>hour</th>\n",
       "      <th>lag_1</th>\n",
       "      <th>lag_24</th>\n",
       "      <th>lag_168</th>\n",
       "    </tr>\n",
       "    <tr>\n",
       "      <th>datetime</th>\n",
       "      <th></th>\n",
       "      <th></th>\n",
       "      <th></th>\n",
       "      <th></th>\n",
       "      <th></th>\n",
       "      <th></th>\n",
       "      <th></th>\n",
       "      <th></th>\n",
       "    </tr>\n",
       "  </thead>\n",
       "  <tbody>\n",
       "    <tr>\n",
       "      <th>2018-03-01 00:00:00</th>\n",
       "      <td>124</td>\n",
       "      <td>3</td>\n",
       "      <td>1</td>\n",
       "      <td>3</td>\n",
       "      <td>0</td>\n",
       "      <td>NaN</td>\n",
       "      <td>NaN</td>\n",
       "      <td>NaN</td>\n",
       "    </tr>\n",
       "    <tr>\n",
       "      <th>2018-03-01 01:00:00</th>\n",
       "      <td>85</td>\n",
       "      <td>3</td>\n",
       "      <td>1</td>\n",
       "      <td>3</td>\n",
       "      <td>1</td>\n",
       "      <td>124.0</td>\n",
       "      <td>NaN</td>\n",
       "      <td>NaN</td>\n",
       "    </tr>\n",
       "    <tr>\n",
       "      <th>2018-03-01 02:00:00</th>\n",
       "      <td>71</td>\n",
       "      <td>3</td>\n",
       "      <td>1</td>\n",
       "      <td>3</td>\n",
       "      <td>2</td>\n",
       "      <td>85.0</td>\n",
       "      <td>NaN</td>\n",
       "      <td>NaN</td>\n",
       "    </tr>\n",
       "    <tr>\n",
       "      <th>2018-03-01 03:00:00</th>\n",
       "      <td>66</td>\n",
       "      <td>3</td>\n",
       "      <td>1</td>\n",
       "      <td>3</td>\n",
       "      <td>3</td>\n",
       "      <td>71.0</td>\n",
       "      <td>NaN</td>\n",
       "      <td>NaN</td>\n",
       "    </tr>\n",
       "    <tr>\n",
       "      <th>2018-03-01 04:00:00</th>\n",
       "      <td>43</td>\n",
       "      <td>3</td>\n",
       "      <td>1</td>\n",
       "      <td>3</td>\n",
       "      <td>4</td>\n",
       "      <td>66.0</td>\n",
       "      <td>NaN</td>\n",
       "      <td>NaN</td>\n",
       "    </tr>\n",
       "  </tbody>\n",
       "</table>\n",
       "</div>"
      ],
      "text/plain": [
       "                     num_orders  month  day  dayofweek  hour  lag_1  lag_24  \\\n",
       "datetime                                                                      \n",
       "2018-03-01 00:00:00         124      3    1          3     0    NaN     NaN   \n",
       "2018-03-01 01:00:00          85      3    1          3     1  124.0     NaN   \n",
       "2018-03-01 02:00:00          71      3    1          3     2   85.0     NaN   \n",
       "2018-03-01 03:00:00          66      3    1          3     3   71.0     NaN   \n",
       "2018-03-01 04:00:00          43      3    1          3     4   66.0     NaN   \n",
       "\n",
       "                     lag_168  \n",
       "datetime                      \n",
       "2018-03-01 00:00:00      NaN  \n",
       "2018-03-01 01:00:00      NaN  \n",
       "2018-03-01 02:00:00      NaN  \n",
       "2018-03-01 03:00:00      NaN  \n",
       "2018-03-01 04:00:00      NaN  "
      ]
     },
     "execution_count": 37,
     "metadata": {},
     "output_type": "execute_result"
    }
   ],
   "source": [
    "train, test = train_test_split(\n",
    "    data_resampled,\n",
    "    test_size=0.1,\n",
    "    shuffle=False)\n",
    "train.head()"
   ]
  },
  {
   "cell_type": "markdown",
   "metadata": {},
   "source": [
    "Уберём пропуски в train."
   ]
  },
  {
   "cell_type": "code",
   "execution_count": 65,
   "metadata": {},
   "outputs": [
    {
     "data": {
      "text/html": [
       "<div>\n",
       "<style scoped>\n",
       "    .dataframe tbody tr th:only-of-type {\n",
       "        vertical-align: middle;\n",
       "    }\n",
       "\n",
       "    .dataframe tbody tr th {\n",
       "        vertical-align: top;\n",
       "    }\n",
       "\n",
       "    .dataframe thead th {\n",
       "        text-align: right;\n",
       "    }\n",
       "</style>\n",
       "<table border=\"1\" class=\"dataframe\">\n",
       "  <thead>\n",
       "    <tr style=\"text-align: right;\">\n",
       "      <th></th>\n",
       "      <th>num_orders</th>\n",
       "      <th>month</th>\n",
       "      <th>day</th>\n",
       "      <th>dayofweek</th>\n",
       "      <th>hour</th>\n",
       "      <th>lag_1</th>\n",
       "      <th>lag_24</th>\n",
       "      <th>lag_168</th>\n",
       "    </tr>\n",
       "    <tr>\n",
       "      <th>datetime</th>\n",
       "      <th></th>\n",
       "      <th></th>\n",
       "      <th></th>\n",
       "      <th></th>\n",
       "      <th></th>\n",
       "      <th></th>\n",
       "      <th></th>\n",
       "      <th></th>\n",
       "    </tr>\n",
       "  </thead>\n",
       "  <tbody>\n",
       "    <tr>\n",
       "      <th>2018-03-08 00:00:00</th>\n",
       "      <td>143</td>\n",
       "      <td>3</td>\n",
       "      <td>8</td>\n",
       "      <td>3</td>\n",
       "      <td>0</td>\n",
       "      <td>94.0</td>\n",
       "      <td>100.0</td>\n",
       "      <td>124.0</td>\n",
       "    </tr>\n",
       "    <tr>\n",
       "      <th>2018-03-08 01:00:00</th>\n",
       "      <td>78</td>\n",
       "      <td>3</td>\n",
       "      <td>8</td>\n",
       "      <td>3</td>\n",
       "      <td>1</td>\n",
       "      <td>143.0</td>\n",
       "      <td>121.0</td>\n",
       "      <td>85.0</td>\n",
       "    </tr>\n",
       "    <tr>\n",
       "      <th>2018-03-08 02:00:00</th>\n",
       "      <td>65</td>\n",
       "      <td>3</td>\n",
       "      <td>8</td>\n",
       "      <td>3</td>\n",
       "      <td>2</td>\n",
       "      <td>78.0</td>\n",
       "      <td>24.0</td>\n",
       "      <td>71.0</td>\n",
       "    </tr>\n",
       "    <tr>\n",
       "      <th>2018-03-08 03:00:00</th>\n",
       "      <td>68</td>\n",
       "      <td>3</td>\n",
       "      <td>8</td>\n",
       "      <td>3</td>\n",
       "      <td>3</td>\n",
       "      <td>65.0</td>\n",
       "      <td>66.0</td>\n",
       "      <td>66.0</td>\n",
       "    </tr>\n",
       "    <tr>\n",
       "      <th>2018-03-08 04:00:00</th>\n",
       "      <td>60</td>\n",
       "      <td>3</td>\n",
       "      <td>8</td>\n",
       "      <td>3</td>\n",
       "      <td>4</td>\n",
       "      <td>68.0</td>\n",
       "      <td>73.0</td>\n",
       "      <td>43.0</td>\n",
       "    </tr>\n",
       "    <tr>\n",
       "      <th>...</th>\n",
       "      <td>...</td>\n",
       "      <td>...</td>\n",
       "      <td>...</td>\n",
       "      <td>...</td>\n",
       "      <td>...</td>\n",
       "      <td>...</td>\n",
       "      <td>...</td>\n",
       "      <td>...</td>\n",
       "    </tr>\n",
       "    <tr>\n",
       "      <th>2018-08-13 09:00:00</th>\n",
       "      <td>137</td>\n",
       "      <td>8</td>\n",
       "      <td>13</td>\n",
       "      <td>0</td>\n",
       "      <td>9</td>\n",
       "      <td>91.0</td>\n",
       "      <td>108.0</td>\n",
       "      <td>136.0</td>\n",
       "    </tr>\n",
       "    <tr>\n",
       "      <th>2018-08-13 10:00:00</th>\n",
       "      <td>156</td>\n",
       "      <td>8</td>\n",
       "      <td>13</td>\n",
       "      <td>0</td>\n",
       "      <td>10</td>\n",
       "      <td>137.0</td>\n",
       "      <td>108.0</td>\n",
       "      <td>124.0</td>\n",
       "    </tr>\n",
       "    <tr>\n",
       "      <th>2018-08-13 11:00:00</th>\n",
       "      <td>144</td>\n",
       "      <td>8</td>\n",
       "      <td>13</td>\n",
       "      <td>0</td>\n",
       "      <td>11</td>\n",
       "      <td>156.0</td>\n",
       "      <td>81.0</td>\n",
       "      <td>131.0</td>\n",
       "    </tr>\n",
       "    <tr>\n",
       "      <th>2018-08-13 12:00:00</th>\n",
       "      <td>92</td>\n",
       "      <td>8</td>\n",
       "      <td>13</td>\n",
       "      <td>0</td>\n",
       "      <td>12</td>\n",
       "      <td>144.0</td>\n",
       "      <td>123.0</td>\n",
       "      <td>87.0</td>\n",
       "    </tr>\n",
       "    <tr>\n",
       "      <th>2018-08-13 13:00:00</th>\n",
       "      <td>119</td>\n",
       "      <td>8</td>\n",
       "      <td>13</td>\n",
       "      <td>0</td>\n",
       "      <td>13</td>\n",
       "      <td>92.0</td>\n",
       "      <td>120.0</td>\n",
       "      <td>104.0</td>\n",
       "    </tr>\n",
       "  </tbody>\n",
       "</table>\n",
       "<p>3806 rows × 8 columns</p>\n",
       "</div>"
      ],
      "text/plain": [
       "                     num_orders  month  day  dayofweek  hour  lag_1  lag_24  \\\n",
       "datetime                                                                      \n",
       "2018-03-08 00:00:00         143      3    8          3     0   94.0   100.0   \n",
       "2018-03-08 01:00:00          78      3    8          3     1  143.0   121.0   \n",
       "2018-03-08 02:00:00          65      3    8          3     2   78.0    24.0   \n",
       "2018-03-08 03:00:00          68      3    8          3     3   65.0    66.0   \n",
       "2018-03-08 04:00:00          60      3    8          3     4   68.0    73.0   \n",
       "...                         ...    ...  ...        ...   ...    ...     ...   \n",
       "2018-08-13 09:00:00         137      8   13          0     9   91.0   108.0   \n",
       "2018-08-13 10:00:00         156      8   13          0    10  137.0   108.0   \n",
       "2018-08-13 11:00:00         144      8   13          0    11  156.0    81.0   \n",
       "2018-08-13 12:00:00          92      8   13          0    12  144.0   123.0   \n",
       "2018-08-13 13:00:00         119      8   13          0    13   92.0   120.0   \n",
       "\n",
       "                     lag_168  \n",
       "datetime                      \n",
       "2018-03-08 00:00:00    124.0  \n",
       "2018-03-08 01:00:00     85.0  \n",
       "2018-03-08 02:00:00     71.0  \n",
       "2018-03-08 03:00:00     66.0  \n",
       "2018-03-08 04:00:00     43.0  \n",
       "...                      ...  \n",
       "2018-08-13 09:00:00    136.0  \n",
       "2018-08-13 10:00:00    124.0  \n",
       "2018-08-13 11:00:00    131.0  \n",
       "2018-08-13 12:00:00     87.0  \n",
       "2018-08-13 13:00:00    104.0  \n",
       "\n",
       "[3806 rows x 8 columns]"
      ]
     },
     "execution_count": 65,
     "metadata": {},
     "output_type": "execute_result"
    }
   ],
   "source": [
    "train = train.dropna()\n",
    "train"
   ]
  },
  {
   "cell_type": "markdown",
   "metadata": {},
   "source": [
    "Выделим входные и целевые признаки."
   ]
  },
  {
   "cell_type": "code",
   "execution_count": 69,
   "metadata": {},
   "outputs": [],
   "source": [
    "X_train = train.drop('num_orders', axis=1)\n",
    "X_test = test.drop('num_orders', axis=1)\n",
    "y_train = train['num_orders']\n",
    "y_test = test['num_orders']"
   ]
  },
  {
   "cell_type": "markdown",
   "metadata": {},
   "source": [
    "Создадим пайплайны для различных моделей."
   ]
  },
  {
   "cell_type": "markdown",
   "metadata": {},
   "source": [
    "Начнём с DecisionTreeRegressor."
   ]
  },
  {
   "cell_type": "code",
   "execution_count": 40,
   "metadata": {},
   "outputs": [],
   "source": [
    "param_grid_tree = [\n",
    "    {\n",
    "        'min_samples_split': range(2, 10),\n",
    "        'min_samples_leaf': range(1, 10)\n",
    "    }\n",
    "]"
   ]
  },
  {
   "cell_type": "code",
   "execution_count": 43,
   "metadata": {},
   "outputs": [],
   "source": [
    "tscv = TimeSeriesSplit(n_splits=5)\n",
    "\n",
    "gs_tree = GridSearchCV(\n",
    "    estimator=DecisionTreeRegressor(),\n",
    "    param_grid=param_grid_tree,\n",
    "    n_jobs=-1,\n",
    "    cv=tscv,\n",
    "    scoring='neg_root_mean_squared_error',\n",
    "    error_score='raise'\n",
    ")"
   ]
  },
  {
   "cell_type": "code",
   "execution_count": 44,
   "metadata": {},
   "outputs": [
    {
     "data": {
      "text/plain": [
       "GridSearchCV(cv=TimeSeriesSplit(gap=0, max_train_size=None, n_splits=5, test_size=None),\n",
       "             error_score='raise', estimator=DecisionTreeRegressor(), n_jobs=-1,\n",
       "             param_grid=[{'min_samples_leaf': range(1, 10),\n",
       "                          'min_samples_split': range(2, 10)}],\n",
       "             scoring='neg_root_mean_squared_error')"
      ]
     },
     "execution_count": 44,
     "metadata": {},
     "output_type": "execute_result"
    }
   ],
   "source": [
    "gs_tree.fit(X_train, y_train)"
   ]
  },
  {
   "cell_type": "code",
   "execution_count": 45,
   "metadata": {},
   "outputs": [
    {
     "data": {
      "text/plain": [
       "{'min_samples_leaf': 9, 'min_samples_split': 6}"
      ]
     },
     "execution_count": 45,
     "metadata": {},
     "output_type": "execute_result"
    }
   ],
   "source": [
    "gs_tree.best_params_"
   ]
  },
  {
   "cell_type": "markdown",
   "metadata": {},
   "source": [
    "Найдём метрику на валидационной выборке."
   ]
  },
  {
   "cell_type": "code",
   "execution_count": 46,
   "metadata": {},
   "outputs": [
    {
     "data": {
      "text/plain": [
       "-26.356508238467335"
      ]
     },
     "execution_count": 46,
     "metadata": {},
     "output_type": "execute_result"
    }
   ],
   "source": [
    "gs_tree.best_score_"
   ]
  },
  {
   "cell_type": "markdown",
   "metadata": {},
   "source": [
    "Попробуем SVR."
   ]
  },
  {
   "cell_type": "code",
   "execution_count": 47,
   "metadata": {},
   "outputs": [],
   "source": [
    "param_grid_svr = [\n",
    "    {\n",
    "        'kernel': ['linear', 'poly', 'rbf'],\n",
    "        'degree': [2, 3, 4]\n",
    "    }\n",
    "]"
   ]
  },
  {
   "cell_type": "code",
   "execution_count": 49,
   "metadata": {},
   "outputs": [],
   "source": [
    "gs_svr = GridSearchCV(\n",
    "    estimator=SVR(),\n",
    "    param_grid=param_grid_svr,\n",
    "    n_jobs=-1,\n",
    "    cv=tscv,\n",
    "    scoring='neg_root_mean_squared_error',\n",
    "    error_score='raise',\n",
    "    verbose=10\n",
    ")"
   ]
  },
  {
   "cell_type": "code",
   "execution_count": 50,
   "metadata": {},
   "outputs": [
    {
     "name": "stdout",
     "output_type": "stream",
     "text": [
      "Fitting 5 folds for each of 9 candidates, totalling 45 fits\n",
      "[CV 1/5; 1/9] START degree=2, kernel=linear.....................................\n",
      "[CV 1/5; 1/9] END ...................degree=2, kernel=linear; total time=   0.3s\n",
      "[CV 2/5; 1/9] START degree=2, kernel=linear.....................................\n",
      "[CV 2/5; 1/9] END ...................degree=2, kernel=linear; total time=   0.9s\n",
      "[CV 3/5; 1/9] START degree=2, kernel=linear.....................................\n",
      "[CV 3/5; 1/9] END ...................degree=2, kernel=linear; total time=   1.9s\n",
      "[CV 4/5; 1/9] START degree=2, kernel=linear.....................................\n",
      "[CV 4/5; 1/9] END ...................degree=2, kernel=linear; total time=   3.8s\n",
      "[CV 5/5; 1/9] START degree=2, kernel=linear.....................................\n",
      "[CV 5/5; 1/9] END ...................degree=2, kernel=linear; total time=   5.8s\n",
      "[CV 1/5; 2/9] START degree=2, kernel=poly.......................................\n",
      "[CV 1/5; 2/9] END .....................degree=2, kernel=poly; total time=   0.0s\n",
      "[CV 2/5; 2/9] START degree=2, kernel=poly.......................................\n",
      "[CV 2/5; 2/9] END .....................degree=2, kernel=poly; total time=   0.1s\n",
      "[CV 3/5; 2/9] START degree=2, kernel=poly.......................................\n",
      "[CV 3/5; 2/9] END .....................degree=2, kernel=poly; total time=   0.1s\n",
      "[CV 4/5; 2/9] START degree=2, kernel=poly.......................................\n",
      "[CV 4/5; 2/9] END .....................degree=2, kernel=poly; total time=   0.3s\n",
      "[CV 5/5; 2/9] START degree=2, kernel=poly.......................................\n",
      "[CV 5/5; 2/9] END .....................degree=2, kernel=poly; total time=   0.4s\n",
      "[CV 1/5; 3/9] START degree=2, kernel=rbf........................................\n",
      "[CV 1/5; 3/9] END ......................degree=2, kernel=rbf; total time=   0.0s\n",
      "[CV 2/5; 3/9] START degree=2, kernel=rbf........................................\n",
      "[CV 2/5; 3/9] END ......................degree=2, kernel=rbf; total time=   0.1s\n",
      "[CV 3/5; 3/9] START degree=2, kernel=rbf........................................\n",
      "[CV 3/5; 3/9] END ......................degree=2, kernel=rbf; total time=   0.2s\n",
      "[CV 4/5; 3/9] START degree=2, kernel=rbf........................................\n",
      "[CV 4/5; 3/9] END ......................degree=2, kernel=rbf; total time=   0.3s\n",
      "[CV 5/5; 3/9] START degree=2, kernel=rbf........................................\n",
      "[CV 5/5; 3/9] END ......................degree=2, kernel=rbf; total time=   0.5s\n",
      "[CV 1/5; 4/9] START degree=3, kernel=linear.....................................\n",
      "[CV 1/5; 4/9] END ...................degree=3, kernel=linear; total time=   0.3s\n",
      "[CV 2/5; 4/9] START degree=3, kernel=linear.....................................\n",
      "[CV 2/5; 4/9] END ...................degree=3, kernel=linear; total time=   0.8s\n",
      "[CV 3/5; 4/9] START degree=3, kernel=linear.....................................\n",
      "[CV 3/5; 4/9] END ...................degree=3, kernel=linear; total time=   1.9s\n",
      "[CV 4/5; 4/9] START degree=3, kernel=linear.....................................\n",
      "[CV 4/5; 4/9] END ...................degree=3, kernel=linear; total time=   3.9s\n",
      "[CV 5/5; 4/9] START degree=3, kernel=linear.....................................\n",
      "[CV 5/5; 4/9] END ...................degree=3, kernel=linear; total time=   5.8s\n",
      "[CV 1/5; 5/9] START degree=3, kernel=poly.......................................\n",
      "[CV 1/5; 5/9] END .....................degree=3, kernel=poly; total time=   0.0s\n",
      "[CV 2/5; 5/9] START degree=3, kernel=poly.......................................\n",
      "[CV 2/5; 5/9] END .....................degree=3, kernel=poly; total time=   0.1s\n",
      "[CV 3/5; 5/9] START degree=3, kernel=poly.......................................\n",
      "[CV 3/5; 5/9] END .....................degree=3, kernel=poly; total time=   0.2s\n",
      "[CV 4/5; 5/9] START degree=3, kernel=poly.......................................\n",
      "[CV 4/5; 5/9] END .....................degree=3, kernel=poly; total time=   0.3s\n",
      "[CV 5/5; 5/9] START degree=3, kernel=poly.......................................\n",
      "[CV 5/5; 5/9] END .....................degree=3, kernel=poly; total time=   0.4s\n",
      "[CV 1/5; 6/9] START degree=3, kernel=rbf........................................\n",
      "[CV 1/5; 6/9] END ......................degree=3, kernel=rbf; total time=   0.0s\n",
      "[CV 2/5; 6/9] START degree=3, kernel=rbf........................................\n",
      "[CV 2/5; 6/9] END ......................degree=3, kernel=rbf; total time=   0.1s\n",
      "[CV 3/5; 6/9] START degree=3, kernel=rbf........................................\n",
      "[CV 3/5; 6/9] END ......................degree=3, kernel=rbf; total time=   0.2s\n",
      "[CV 4/5; 6/9] START degree=3, kernel=rbf........................................\n",
      "[CV 4/5; 6/9] END ......................degree=3, kernel=rbf; total time=   0.3s\n",
      "[CV 5/5; 6/9] START degree=3, kernel=rbf........................................\n",
      "[CV 5/5; 6/9] END ......................degree=3, kernel=rbf; total time=   0.5s\n",
      "[CV 1/5; 7/9] START degree=4, kernel=linear.....................................\n",
      "[CV 1/5; 7/9] END ...................degree=4, kernel=linear; total time=   0.3s\n",
      "[CV 2/5; 7/9] START degree=4, kernel=linear.....................................\n",
      "[CV 2/5; 7/9] END ...................degree=4, kernel=linear; total time=   0.9s\n",
      "[CV 3/5; 7/9] START degree=4, kernel=linear.....................................\n",
      "[CV 3/5; 7/9] END ...................degree=4, kernel=linear; total time=   2.0s\n",
      "[CV 4/5; 7/9] START degree=4, kernel=linear.....................................\n",
      "[CV 4/5; 7/9] END ...................degree=4, kernel=linear; total time=   3.8s\n",
      "[CV 5/5; 7/9] START degree=4, kernel=linear.....................................\n",
      "[CV 5/5; 7/9] END ...................degree=4, kernel=linear; total time=   5.8s\n",
      "[CV 1/5; 8/9] START degree=4, kernel=poly.......................................\n",
      "[CV 1/5; 8/9] END .....................degree=4, kernel=poly; total time=   0.0s\n",
      "[CV 2/5; 8/9] START degree=4, kernel=poly.......................................\n",
      "[CV 2/5; 8/9] END .....................degree=4, kernel=poly; total time=   0.1s\n",
      "[CV 3/5; 8/9] START degree=4, kernel=poly.......................................\n",
      "[CV 3/5; 8/9] END .....................degree=4, kernel=poly; total time=   0.3s\n",
      "[CV 4/5; 8/9] START degree=4, kernel=poly.......................................\n",
      "[CV 4/5; 8/9] END .....................degree=4, kernel=poly; total time=   0.4s\n",
      "[CV 5/5; 8/9] START degree=4, kernel=poly.......................................\n",
      "[CV 5/5; 8/9] END .....................degree=4, kernel=poly; total time=   0.6s\n",
      "[CV 1/5; 9/9] START degree=4, kernel=rbf........................................\n",
      "[CV 1/5; 9/9] END ......................degree=4, kernel=rbf; total time=   0.0s\n",
      "[CV 2/5; 9/9] START degree=4, kernel=rbf........................................\n",
      "[CV 2/5; 9/9] END ......................degree=4, kernel=rbf; total time=   0.1s\n",
      "[CV 3/5; 9/9] START degree=4, kernel=rbf........................................\n",
      "[CV 3/5; 9/9] END ......................degree=4, kernel=rbf; total time=   0.2s\n",
      "[CV 4/5; 9/9] START degree=4, kernel=rbf........................................\n",
      "[CV 4/5; 9/9] END ......................degree=4, kernel=rbf; total time=   0.3s\n",
      "[CV 5/5; 9/9] START degree=4, kernel=rbf........................................\n",
      "[CV 5/5; 9/9] END ......................degree=4, kernel=rbf; total time=   0.5s\n"
     ]
    },
    {
     "data": {
      "text/plain": [
       "GridSearchCV(cv=TimeSeriesSplit(gap=0, max_train_size=None, n_splits=5, test_size=None),\n",
       "             error_score='raise', estimator=SVR(), n_jobs=-1,\n",
       "             param_grid=[{'degree': [2, 3, 4],\n",
       "                          'kernel': ['linear', 'poly', 'rbf']}],\n",
       "             scoring='neg_root_mean_squared_error', verbose=10)"
      ]
     },
     "execution_count": 50,
     "metadata": {},
     "output_type": "execute_result"
    }
   ],
   "source": [
    "gs_svr.fit(X_train, y_train)"
   ]
  },
  {
   "cell_type": "markdown",
   "metadata": {},
   "source": [
    "Найдём метрику на валидационной выборке."
   ]
  },
  {
   "cell_type": "code",
   "execution_count": 51,
   "metadata": {},
   "outputs": [
    {
     "data": {
      "text/plain": [
       "-23.51354210462552"
      ]
     },
     "execution_count": 51,
     "metadata": {},
     "output_type": "execute_result"
    }
   ],
   "source": [
    "gs_svr.best_score_"
   ]
  },
  {
   "cell_type": "markdown",
   "metadata": {},
   "source": [
    "Посмотрим какое ядро у лучшей модели."
   ]
  },
  {
   "cell_type": "code",
   "execution_count": 52,
   "metadata": {},
   "outputs": [
    {
     "data": {
      "text/plain": [
       "{'degree': 2, 'kernel': 'linear'}"
      ]
     },
     "execution_count": 52,
     "metadata": {},
     "output_type": "execute_result"
    }
   ],
   "source": [
    "gs_svr.best_params_"
   ]
  },
  {
   "cell_type": "markdown",
   "metadata": {},
   "source": [
    "У лучшей модели оказалось линейное ядро."
   ]
  },
  {
   "cell_type": "markdown",
   "metadata": {},
   "source": [
    "Модель SVR показала лучшую метрику, будем её использовать на тестовой выборке."
   ]
  },
  {
   "cell_type": "code",
   "execution_count": 53,
   "metadata": {},
   "outputs": [],
   "source": [
    "model = gs_svr.best_estimator_"
   ]
  },
  {
   "cell_type": "markdown",
   "metadata": {},
   "source": [
    "## Тестирование"
   ]
  },
  {
   "cell_type": "markdown",
   "metadata": {},
   "source": [
    "Найдём метрику RMSE на тестовой выборке."
   ]
  },
  {
   "cell_type": "code",
   "execution_count": 70,
   "metadata": {},
   "outputs": [],
   "source": [
    "predict = model.predict(X_test)"
   ]
  },
  {
   "cell_type": "code",
   "execution_count": 71,
   "metadata": {},
   "outputs": [
    {
     "data": {
      "text/plain": [
       "36.18449734634172"
      ]
     },
     "execution_count": 71,
     "metadata": {},
     "output_type": "execute_result"
    }
   ],
   "source": [
    "mean_squared_error(y_test, predict, squared=False)"
   ]
  },
  {
   "cell_type": "markdown",
   "metadata": {},
   "source": [
    "Построим график временного ряда чтобы оценить качество модели, однако теперь в качестве скользящего среднего возьмём одни сутки."
   ]
  },
  {
   "cell_type": "code",
   "execution_count": 72,
   "metadata": {},
   "outputs": [
    {
     "data": {
      "text/html": [
       "<div>\n",
       "<style scoped>\n",
       "    .dataframe tbody tr th:only-of-type {\n",
       "        vertical-align: middle;\n",
       "    }\n",
       "\n",
       "    .dataframe tbody tr th {\n",
       "        vertical-align: top;\n",
       "    }\n",
       "\n",
       "    .dataframe thead th {\n",
       "        text-align: right;\n",
       "    }\n",
       "</style>\n",
       "<table border=\"1\" class=\"dataframe\">\n",
       "  <thead>\n",
       "    <tr style=\"text-align: right;\">\n",
       "      <th></th>\n",
       "      <th>num_orders</th>\n",
       "    </tr>\n",
       "    <tr>\n",
       "      <th>datetime</th>\n",
       "      <th></th>\n",
       "    </tr>\n",
       "  </thead>\n",
       "  <tbody>\n",
       "    <tr>\n",
       "      <th>2018-08-13 14:00:00</th>\n",
       "      <td>102</td>\n",
       "    </tr>\n",
       "    <tr>\n",
       "      <th>2018-08-13 15:00:00</th>\n",
       "      <td>175</td>\n",
       "    </tr>\n",
       "    <tr>\n",
       "      <th>2018-08-13 16:00:00</th>\n",
       "      <td>144</td>\n",
       "    </tr>\n",
       "    <tr>\n",
       "      <th>2018-08-13 17:00:00</th>\n",
       "      <td>152</td>\n",
       "    </tr>\n",
       "    <tr>\n",
       "      <th>2018-08-13 18:00:00</th>\n",
       "      <td>104</td>\n",
       "    </tr>\n",
       "  </tbody>\n",
       "</table>\n",
       "</div>"
      ],
      "text/plain": [
       "                     num_orders\n",
       "datetime                       \n",
       "2018-08-13 14:00:00         102\n",
       "2018-08-13 15:00:00         175\n",
       "2018-08-13 16:00:00         144\n",
       "2018-08-13 17:00:00         152\n",
       "2018-08-13 18:00:00         104"
      ]
     },
     "execution_count": 72,
     "metadata": {},
     "output_type": "execute_result"
    }
   ],
   "source": [
    "y_test_df = pd.DataFrame(y_test)\n",
    "y_test_df.head()"
   ]
  },
  {
   "cell_type": "code",
   "execution_count": 73,
   "metadata": {},
   "outputs": [
    {
     "data": {
      "text/html": [
       "<div>\n",
       "<style scoped>\n",
       "    .dataframe tbody tr th:only-of-type {\n",
       "        vertical-align: middle;\n",
       "    }\n",
       "\n",
       "    .dataframe tbody tr th {\n",
       "        vertical-align: top;\n",
       "    }\n",
       "\n",
       "    .dataframe thead th {\n",
       "        text-align: right;\n",
       "    }\n",
       "</style>\n",
       "<table border=\"1\" class=\"dataframe\">\n",
       "  <thead>\n",
       "    <tr style=\"text-align: right;\">\n",
       "      <th></th>\n",
       "      <th>num_orders</th>\n",
       "      <th>num_orders_pred</th>\n",
       "    </tr>\n",
       "    <tr>\n",
       "      <th>datetime</th>\n",
       "      <th></th>\n",
       "      <th></th>\n",
       "    </tr>\n",
       "  </thead>\n",
       "  <tbody>\n",
       "    <tr>\n",
       "      <th>2018-08-13 14:00:00</th>\n",
       "      <td>102</td>\n",
       "      <td>104.628201</td>\n",
       "    </tr>\n",
       "    <tr>\n",
       "      <th>2018-08-13 15:00:00</th>\n",
       "      <td>175</td>\n",
       "      <td>123.269269</td>\n",
       "    </tr>\n",
       "    <tr>\n",
       "      <th>2018-08-13 16:00:00</th>\n",
       "      <td>144</td>\n",
       "      <td>182.423953</td>\n",
       "    </tr>\n",
       "    <tr>\n",
       "      <th>2018-08-13 17:00:00</th>\n",
       "      <td>152</td>\n",
       "      <td>130.324569</td>\n",
       "    </tr>\n",
       "    <tr>\n",
       "      <th>2018-08-13 18:00:00</th>\n",
       "      <td>104</td>\n",
       "      <td>96.293273</td>\n",
       "    </tr>\n",
       "  </tbody>\n",
       "</table>\n",
       "</div>"
      ],
      "text/plain": [
       "                     num_orders  num_orders_pred\n",
       "datetime                                        \n",
       "2018-08-13 14:00:00         102       104.628201\n",
       "2018-08-13 15:00:00         175       123.269269\n",
       "2018-08-13 16:00:00         144       182.423953\n",
       "2018-08-13 17:00:00         152       130.324569\n",
       "2018-08-13 18:00:00         104        96.293273"
      ]
     },
     "execution_count": 73,
     "metadata": {},
     "output_type": "execute_result"
    }
   ],
   "source": [
    "y_test_df['num_orders_pred'] = predict\n",
    "y_test_df.head()"
   ]
  },
  {
   "cell_type": "code",
   "execution_count": 74,
   "metadata": {},
   "outputs": [
    {
     "data": {
      "image/png": "[encoded data removed]",
      "text/plain": [
       "<Figure size 864x576 with 1 Axes>"
      ]
     },
     "metadata": {
      "needs_background": "light"
     },
     "output_type": "display_data"
    }
   ],
   "source": [
    "plt.figure(figsize=(12, 8))\n",
    "plt.plot(y_test_df.rolling(24).mean())\n",
    "plt.grid()\n",
    "plt.legend(('test', 'pred'));"
   ]
  },
  {
   "cell_type": "markdown",
   "metadata": {},
   "source": [
    "Виднеютстя небольшие различия, чтобы узнать на каких данных модель ошибается сильнее выделим графики тренда и сезонности."
   ]
  },
  {
   "cell_type": "code",
   "execution_count": 78,
   "metadata": {},
   "outputs": [],
   "source": [
    "decomposed_test = seasonal_decompose(y_test_df['num_orders'])\n",
    "decomposed_pred = seasonal_decompose(y_test_df['num_orders_pred'])"
   ]
  },
  {
   "cell_type": "code",
   "execution_count": 79,
   "metadata": {},
   "outputs": [
    {
     "data": {
      "image/png": "[encoded data removed]",
      "text/plain": [
       "<Figure size 864x576 with 1 Axes>"
      ]
     },
     "metadata": {
      "needs_background": "light"
     },
     "output_type": "display_data"
    }
   ],
   "source": [
    "plt.figure(figsize=(12, 8))\n",
    "plt.plot(decomposed_test.trend)\n",
    "plt.plot(decomposed_pred.trend)\n",
    "plt.grid()"
   ]
  },
  {
   "cell_type": "markdown",
   "metadata": {},
   "source": [
    "Модель не везде учитывает колебания тренда."
   ]
  },
  {
   "cell_type": "code",
   "execution_count": 77,
   "metadata": {},
   "outputs": [
    {
     "data": {
      "image/png": "[encoded data removed]",
      "text/plain": [
       "<Figure size 864x576 with 1 Axes>"
      ]
     },
     "metadata": {
      "needs_background": "light"
     },
     "output_type": "display_data"
    }
   ],
   "source": [
    "plt.figure(figsize=(12, 8))\n",
    "plt.plot(decomposed_test.seasonal['2018-08-15 00:00:00':'2018-08-16 00:00:00'])\n",
    "plt.plot(decomposed_pred.seasonal['2018-08-15 00:00:00':'2018-08-16 00:00:00'])\n",
    "plt.grid()"
   ]
  },
  {
   "cell_type": "markdown",
   "metadata": {},
   "source": [
    "Модель хорошо предсказывает колебания по часам."
   ]
  }
 ],
 "metadata": {
  "ExecuteTimeLog": [
   {
    "duration": 4068,
    "start_time": "2025-01-24T14:56:17.800Z"
   },
   {
    "duration": 2573,
    "start_time": "2025-01-24T14:56:27.171Z"
   },
   {
    "duration": 1804,
    "start_time": "2025-01-24T14:56:40.454Z"
   },
   {
    "duration": 91,
    "start_time": "2025-01-24T14:57:23.664Z"
   },
   {
    "duration": 132,
    "start_time": "2025-01-24T15:00:39.908Z"
   },
   {
    "duration": 14,
    "start_time": "2025-01-24T15:01:59.535Z"
   },
   {
    "duration": 6,
    "start_time": "2025-01-24T15:02:16.471Z"
   },
   {
    "duration": 19,
    "start_time": "2025-01-24T15:04:00.300Z"
   },
   {
    "duration": 12,
    "start_time": "2025-01-24T15:04:07.085Z"
   },
   {
    "duration": 11,
    "start_time": "2025-01-24T15:07:59.762Z"
   },
   {
    "duration": 15,
    "start_time": "2025-01-24T15:08:05.891Z"
   },
   {
    "duration": 1481,
    "start_time": "2025-01-24T15:10:16.629Z"
   },
   {
    "duration": 5,
    "start_time": "2025-01-24T15:12:39.402Z"
   },
   {
    "duration": 8,
    "start_time": "2025-01-24T15:16:36.529Z"
   },
   {
    "duration": 4,
    "start_time": "2025-01-24T15:16:55.122Z"
   },
   {
    "duration": 6,
    "start_time": "2025-01-24T15:24:48.089Z"
   },
   {
    "duration": 776,
    "start_time": "2025-01-24T15:24:54.078Z"
   },
   {
    "duration": 653,
    "start_time": "2025-01-24T15:25:27.786Z"
   },
   {
    "duration": 649,
    "start_time": "2025-01-24T15:25:42.698Z"
   },
   {
    "duration": 728,
    "start_time": "2025-01-24T15:26:08.871Z"
   },
   {
    "duration": 626,
    "start_time": "2025-01-24T15:26:31.231Z"
   },
   {
    "duration": 645,
    "start_time": "2025-01-24T15:26:51.430Z"
   },
   {
    "duration": 778,
    "start_time": "2025-01-24T15:27:59.574Z"
   },
   {
    "duration": 654,
    "start_time": "2025-01-24T15:28:12.311Z"
   },
   {
    "duration": 616,
    "start_time": "2025-01-24T15:29:02.256Z"
   },
   {
    "duration": 752,
    "start_time": "2025-01-24T15:29:09.604Z"
   },
   {
    "duration": 258,
    "start_time": "2025-01-24T15:30:01.429Z"
   },
   {
    "duration": 196,
    "start_time": "2025-01-24T15:30:15.490Z"
   },
   {
    "duration": 179,
    "start_time": "2025-01-24T15:31:07.269Z"
   },
   {
    "duration": 6,
    "start_time": "2025-01-24T15:52:31.055Z"
   },
   {
    "duration": 5,
    "start_time": "2025-01-24T15:56:57.006Z"
   },
   {
    "duration": 3,
    "start_time": "2025-01-24T16:12:08.247Z"
   },
   {
    "duration": 4,
    "start_time": "2025-01-24T16:15:52.511Z"
   },
   {
    "duration": 3,
    "start_time": "2025-01-24T16:17:27.277Z"
   },
   {
    "duration": 11,
    "start_time": "2025-01-24T16:18:49.770Z"
   },
   {
    "duration": 3,
    "start_time": "2025-01-24T16:18:56.623Z"
   },
   {
    "duration": 16,
    "start_time": "2025-01-24T16:19:45.498Z"
   },
   {
    "duration": 17,
    "start_time": "2025-01-24T16:19:56.544Z"
   },
   {
    "duration": 3,
    "start_time": "2025-01-24T16:20:09.659Z"
   },
   {
    "duration": 4,
    "start_time": "2025-01-24T16:20:11.296Z"
   },
   {
    "duration": 13,
    "start_time": "2025-01-24T16:20:12.558Z"
   },
   {
    "duration": 15,
    "start_time": "2025-01-24T16:20:36.135Z"
   },
   {
    "duration": 3,
    "start_time": "2025-01-24T16:23:07.023Z"
   },
   {
    "duration": 13,
    "start_time": "2025-01-24T16:23:07.582Z"
   },
   {
    "duration": 14,
    "start_time": "2025-01-24T16:23:24.398Z"
   },
   {
    "duration": 19,
    "start_time": "2025-01-24T16:24:21.773Z"
   },
   {
    "duration": 11,
    "start_time": "2025-01-24T16:25:08.075Z"
   },
   {
    "duration": 3,
    "start_time": "2025-01-24T16:25:44.921Z"
   },
   {
    "duration": 3,
    "start_time": "2025-01-24T16:25:45.704Z"
   },
   {
    "duration": 20,
    "start_time": "2025-01-24T16:25:46.521Z"
   },
   {
    "duration": 9,
    "start_time": "2025-01-24T16:28:58.733Z"
   },
   {
    "duration": 3,
    "start_time": "2025-01-24T16:30:36.278Z"
   },
   {
    "duration": 24,
    "start_time": "2025-01-24T16:30:36.891Z"
   },
   {
    "duration": 24,
    "start_time": "2025-01-24T16:32:07.873Z"
   },
   {
    "duration": 3,
    "start_time": "2025-01-24T16:33:21.982Z"
   },
   {
    "duration": 13,
    "start_time": "2025-01-24T16:33:22.480Z"
   },
   {
    "duration": 2,
    "start_time": "2025-01-24T16:33:43.869Z"
   },
   {
    "duration": 3,
    "start_time": "2025-01-24T16:33:45.448Z"
   },
   {
    "duration": 3,
    "start_time": "2025-01-24T16:33:47.046Z"
   },
   {
    "duration": 13,
    "start_time": "2025-01-24T16:33:47.631Z"
   },
   {
    "duration": 4,
    "start_time": "2025-01-24T16:35:54.565Z"
   },
   {
    "duration": 12,
    "start_time": "2025-01-24T16:36:02.764Z"
   },
   {
    "duration": 14,
    "start_time": "2025-01-24T16:36:08.492Z"
   },
   {
    "duration": 3,
    "start_time": "2025-01-24T16:36:19.443Z"
   },
   {
    "duration": 4,
    "start_time": "2025-01-24T16:36:21.680Z"
   },
   {
    "duration": 3,
    "start_time": "2025-01-24T16:36:23.575Z"
   },
   {
    "duration": 15,
    "start_time": "2025-01-24T16:36:24.431Z"
   },
   {
    "duration": 11,
    "start_time": "2025-01-24T16:37:49.722Z"
   },
   {
    "duration": 15,
    "start_time": "2025-01-24T16:38:26.978Z"
   },
   {
    "duration": 3,
    "start_time": "2025-01-24T16:38:55.717Z"
   },
   {
    "duration": 24,
    "start_time": "2025-01-24T16:38:56.251Z"
   },
   {
    "duration": 8,
    "start_time": "2025-01-24T16:39:16.821Z"
   },
   {
    "duration": 22,
    "start_time": "2025-01-24T16:39:25.090Z"
   },
   {
    "duration": 3,
    "start_time": "2025-01-24T16:39:34.398Z"
   },
   {
    "duration": 13,
    "start_time": "2025-01-24T16:39:34.769Z"
   },
   {
    "duration": 13,
    "start_time": "2025-01-24T16:41:16.862Z"
   },
   {
    "duration": 10,
    "start_time": "2025-01-24T16:41:58.061Z"
   },
   {
    "duration": 16,
    "start_time": "2025-01-24T16:42:09.445Z"
   },
   {
    "duration": 17,
    "start_time": "2025-01-24T16:42:45.410Z"
   },
   {
    "duration": 11,
    "start_time": "2025-01-24T16:44:21.561Z"
   },
   {
    "duration": 4,
    "start_time": "2025-01-24T16:44:42.286Z"
   },
   {
    "duration": 2622,
    "start_time": "2025-01-24T16:52:33.880Z"
   },
   {
    "duration": 1635,
    "start_time": "2025-01-24T16:52:36.506Z"
   },
   {
    "duration": 43,
    "start_time": "2025-01-24T16:52:38.143Z"
   },
   {
    "duration": 13,
    "start_time": "2025-01-24T16:52:38.189Z"
   },
   {
    "duration": 18,
    "start_time": "2025-01-24T16:52:38.204Z"
   },
   {
    "duration": 11,
    "start_time": "2025-01-24T16:52:38.224Z"
   },
   {
    "duration": 20,
    "start_time": "2025-01-24T16:52:38.237Z"
   },
   {
    "duration": 32,
    "start_time": "2025-01-24T16:52:38.259Z"
   },
   {
    "duration": 12,
    "start_time": "2025-01-24T16:52:38.293Z"
   },
   {
    "duration": 7,
    "start_time": "2025-01-24T16:52:38.308Z"
   },
   {
    "duration": 410,
    "start_time": "2025-01-24T16:52:38.317Z"
   },
   {
    "duration": 0,
    "start_time": "2025-01-24T16:52:38.729Z"
   },
   {
    "duration": 0,
    "start_time": "2025-01-24T16:52:38.731Z"
   },
   {
    "duration": 0,
    "start_time": "2025-01-24T16:52:38.733Z"
   },
   {
    "duration": 0,
    "start_time": "2025-01-24T16:52:38.734Z"
   },
   {
    "duration": 0,
    "start_time": "2025-01-24T16:52:38.736Z"
   },
   {
    "duration": 188,
    "start_time": "2025-01-24T16:52:58.713Z"
   },
   {
    "duration": 178,
    "start_time": "2025-01-24T16:53:13.564Z"
   },
   {
    "duration": 9,
    "start_time": "2025-01-24T16:53:16.293Z"
   },
   {
    "duration": 3,
    "start_time": "2025-01-24T16:53:18.563Z"
   },
   {
    "duration": 3,
    "start_time": "2025-01-24T16:53:20.307Z"
   },
   {
    "duration": 3,
    "start_time": "2025-01-24T16:53:22.583Z"
   },
   {
    "duration": 15,
    "start_time": "2025-01-24T16:53:23.019Z"
   },
   {
    "duration": 6,
    "start_time": "2025-01-24T17:01:47.991Z"
   },
   {
    "duration": 12,
    "start_time": "2025-01-24T17:03:32.537Z"
   },
   {
    "duration": 13,
    "start_time": "2025-01-24T17:04:19.721Z"
   },
   {
    "duration": 2579,
    "start_time": "2025-01-24T17:04:27.032Z"
   },
   {
    "duration": 1488,
    "start_time": "2025-01-24T17:04:29.615Z"
   },
   {
    "duration": 43,
    "start_time": "2025-01-24T17:04:31.104Z"
   },
   {
    "duration": 13,
    "start_time": "2025-01-24T17:04:31.149Z"
   },
   {
    "duration": 33,
    "start_time": "2025-01-24T17:04:31.164Z"
   },
   {
    "duration": 35,
    "start_time": "2025-01-24T17:04:31.199Z"
   },
   {
    "duration": 35,
    "start_time": "2025-01-24T17:04:31.236Z"
   },
   {
    "duration": 6,
    "start_time": "2025-01-24T17:04:31.273Z"
   },
   {
    "duration": 26,
    "start_time": "2025-01-24T17:04:31.281Z"
   },
   {
    "duration": 7,
    "start_time": "2025-01-24T17:04:31.309Z"
   },
   {
    "duration": 265,
    "start_time": "2025-01-24T17:04:31.318Z"
   },
   {
    "duration": 9,
    "start_time": "2025-01-24T17:04:31.585Z"
   },
   {
    "duration": 23,
    "start_time": "2025-01-24T17:04:31.595Z"
   },
   {
    "duration": 13,
    "start_time": "2025-01-24T17:04:31.620Z"
   },
   {
    "duration": 14,
    "start_time": "2025-01-24T17:04:31.635Z"
   },
   {
    "duration": 131,
    "start_time": "2025-01-24T17:04:31.650Z"
   },
   {
    "duration": 10,
    "start_time": "2025-01-24T17:05:07.364Z"
   },
   {
    "duration": 12,
    "start_time": "2025-01-24T17:06:16.317Z"
   },
   {
    "duration": 14,
    "start_time": "2025-01-24T17:08:45.644Z"
   },
   {
    "duration": 13,
    "start_time": "2025-01-24T17:14:40.942Z"
   },
   {
    "duration": 2550,
    "start_time": "2025-01-24T17:14:46.226Z"
   },
   {
    "duration": 1577,
    "start_time": "2025-01-24T17:14:48.779Z"
   },
   {
    "duration": 42,
    "start_time": "2025-01-24T17:14:50.361Z"
   },
   {
    "duration": 13,
    "start_time": "2025-01-24T17:14:50.404Z"
   },
   {
    "duration": 44,
    "start_time": "2025-01-24T17:14:50.419Z"
   },
   {
    "duration": 41,
    "start_time": "2025-01-24T17:14:50.465Z"
   },
   {
    "duration": 19,
    "start_time": "2025-01-24T17:14:50.508Z"
   },
   {
    "duration": 6,
    "start_time": "2025-01-24T17:14:50.528Z"
   },
   {
    "duration": 10,
    "start_time": "2025-01-24T17:14:50.537Z"
   },
   {
    "duration": 22,
    "start_time": "2025-01-24T17:14:50.548Z"
   },
   {
    "duration": 300,
    "start_time": "2025-01-24T17:14:50.571Z"
   },
   {
    "duration": 14,
    "start_time": "2025-01-24T17:14:50.873Z"
   },
   {
    "duration": 48,
    "start_time": "2025-01-24T17:14:50.889Z"
   },
   {
    "duration": 12,
    "start_time": "2025-01-24T17:14:50.939Z"
   },
   {
    "duration": 26,
    "start_time": "2025-01-24T17:14:50.953Z"
   },
   {
    "duration": 130,
    "start_time": "2025-01-24T17:14:50.980Z"
   },
   {
    "duration": 2621,
    "start_time": "2025-01-24T18:04:42.838Z"
   },
   {
    "duration": 1569,
    "start_time": "2025-01-24T18:04:45.462Z"
   },
   {
    "duration": 42,
    "start_time": "2025-01-24T18:04:47.033Z"
   },
   {
    "duration": 13,
    "start_time": "2025-01-24T18:04:47.077Z"
   },
   {
    "duration": 64,
    "start_time": "2025-01-24T18:04:47.092Z"
   },
   {
    "duration": 17,
    "start_time": "2025-01-24T18:04:47.158Z"
   },
   {
    "duration": 29,
    "start_time": "2025-01-24T18:04:47.177Z"
   },
   {
    "duration": 6,
    "start_time": "2025-01-24T18:04:47.208Z"
   },
   {
    "duration": 18,
    "start_time": "2025-01-24T18:04:47.216Z"
   },
   {
    "duration": 14,
    "start_time": "2025-01-24T18:04:47.235Z"
   },
   {
    "duration": 267,
    "start_time": "2025-01-24T18:04:47.250Z"
   },
   {
    "duration": 9,
    "start_time": "2025-01-24T18:04:47.519Z"
   },
   {
    "duration": 5,
    "start_time": "2025-01-24T18:04:47.530Z"
   },
   {
    "duration": 5,
    "start_time": "2025-01-24T18:04:47.538Z"
   },
   {
    "duration": 12,
    "start_time": "2025-01-24T18:04:47.544Z"
   },
   {
    "duration": 145,
    "start_time": "2025-01-24T18:04:47.558Z"
   },
   {
    "duration": 6,
    "start_time": "2025-01-24T18:05:20.634Z"
   },
   {
    "duration": 2600,
    "start_time": "2025-01-24T18:05:29.046Z"
   },
   {
    "duration": 1564,
    "start_time": "2025-01-24T18:05:34.216Z"
   },
   {
    "duration": 44,
    "start_time": "2025-01-24T18:05:36.634Z"
   },
   {
    "duration": 9,
    "start_time": "2025-01-24T18:05:37.510Z"
   },
   {
    "duration": 13,
    "start_time": "2025-01-24T18:05:42.568Z"
   },
   {
    "duration": 17,
    "start_time": "2025-01-24T18:05:45.305Z"
   },
   {
    "duration": 12,
    "start_time": "2025-01-24T18:05:47.346Z"
   },
   {
    "duration": 16,
    "start_time": "2025-01-24T18:07:11.710Z"
   },
   {
    "duration": 7,
    "start_time": "2025-01-24T18:07:14.658Z"
   },
   {
    "duration": 4,
    "start_time": "2025-01-24T18:07:16.420Z"
   },
   {
    "duration": 6,
    "start_time": "2025-01-24T18:07:19.472Z"
   },
   {
    "duration": 270,
    "start_time": "2025-01-24T18:07:29.261Z"
   },
   {
    "duration": 10,
    "start_time": "2025-01-24T18:07:59.808Z"
   },
   {
    "duration": 3,
    "start_time": "2025-01-24T18:08:11.851Z"
   },
   {
    "duration": 3,
    "start_time": "2025-01-24T18:08:13.456Z"
   },
   {
    "duration": 3,
    "start_time": "2025-01-24T18:08:15.440Z"
   },
   {
    "duration": 8,
    "start_time": "2025-01-24T18:08:45.858Z"
   },
   {
    "duration": 125,
    "start_time": "2025-01-24T18:08:52.618Z"
   },
   {
    "duration": 15,
    "start_time": "2025-01-24T18:09:35.530Z"
   },
   {
    "duration": 14,
    "start_time": "2025-01-24T18:10:03.807Z"
   },
   {
    "duration": 3,
    "start_time": "2025-01-24T18:11:30.472Z"
   },
   {
    "duration": 4,
    "start_time": "2025-01-24T18:11:30.916Z"
   },
   {
    "duration": 3,
    "start_time": "2025-01-24T18:11:32.870Z"
   },
   {
    "duration": 10,
    "start_time": "2025-01-24T18:11:34.534Z"
   },
   {
    "duration": 13,
    "start_time": "2025-01-24T18:11:35.698Z"
   },
   {
    "duration": 79,
    "start_time": "2025-01-24T18:12:24.745Z"
   },
   {
    "duration": 3,
    "start_time": "2025-01-24T18:13:08.479Z"
   },
   {
    "duration": 3,
    "start_time": "2025-01-24T18:13:47.009Z"
   },
   {
    "duration": 3,
    "start_time": "2025-01-24T18:13:47.485Z"
   },
   {
    "duration": 25,
    "start_time": "2025-01-24T18:14:04.515Z"
   },
   {
    "duration": 29,
    "start_time": "2025-01-24T18:14:19.692Z"
   },
   {
    "duration": 27,
    "start_time": "2025-01-24T18:15:10.045Z"
   },
   {
    "duration": 11,
    "start_time": "2025-01-24T18:15:21.220Z"
   },
   {
    "duration": 9,
    "start_time": "2025-01-24T18:15:30.485Z"
   },
   {
    "duration": 22,
    "start_time": "2025-01-24T18:15:37.956Z"
   },
   {
    "duration": 28,
    "start_time": "2025-01-24T18:16:04.277Z"
   },
   {
    "duration": 11,
    "start_time": "2025-01-24T18:26:38.855Z"
   },
   {
    "duration": 13,
    "start_time": "2025-01-24T18:26:57.661Z"
   },
   {
    "duration": 27,
    "start_time": "2025-01-24T18:28:49.165Z"
   },
   {
    "duration": 2603,
    "start_time": "2025-01-24T18:34:47.302Z"
   },
   {
    "duration": 1545,
    "start_time": "2025-01-24T18:34:51.386Z"
   },
   {
    "duration": 43,
    "start_time": "2025-01-24T18:34:55.835Z"
   },
   {
    "duration": 13,
    "start_time": "2025-01-24T18:34:57.632Z"
   },
   {
    "duration": 16,
    "start_time": "2025-01-24T18:34:59.774Z"
   },
   {
    "duration": 10,
    "start_time": "2025-01-24T18:35:02.863Z"
   },
   {
    "duration": 15,
    "start_time": "2025-01-24T18:35:05.718Z"
   },
   {
    "duration": 126,
    "start_time": "2025-01-24T18:37:19.496Z"
   },
   {
    "duration": 6,
    "start_time": "2025-01-24T18:37:31.486Z"
   },
   {
    "duration": 14,
    "start_time": "2025-01-24T18:38:34.717Z"
   },
   {
    "duration": 15,
    "start_time": "2025-01-24T18:38:50.611Z"
   },
   {
    "duration": 270,
    "start_time": "2025-01-24T18:39:12.397Z"
   },
   {
    "duration": 13,
    "start_time": "2025-01-24T18:42:21.839Z"
   },
   {
    "duration": 11,
    "start_time": "2025-01-24T18:45:30.184Z"
   },
   {
    "duration": 8,
    "start_time": "2025-01-24T18:45:36.368Z"
   },
   {
    "duration": 13,
    "start_time": "2025-01-24T18:50:05.257Z"
   },
   {
    "duration": 16,
    "start_time": "2025-01-24T18:50:13.187Z"
   },
   {
    "duration": 14,
    "start_time": "2025-01-24T18:51:24.690Z"
   },
   {
    "duration": 16,
    "start_time": "2025-01-24T18:52:02.258Z"
   },
   {
    "duration": 15,
    "start_time": "2025-01-24T18:52:19.495Z"
   },
   {
    "duration": 2,
    "start_time": "2025-01-24T18:53:31.143Z"
   },
   {
    "duration": 4,
    "start_time": "2025-01-24T18:53:32.494Z"
   },
   {
    "duration": 3,
    "start_time": "2025-01-24T18:53:37.861Z"
   },
   {
    "duration": 15,
    "start_time": "2025-01-24T18:53:49.608Z"
   },
   {
    "duration": 3,
    "start_time": "2025-01-24T18:54:09.003Z"
   },
   {
    "duration": 3,
    "start_time": "2025-01-24T18:54:12.152Z"
   },
   {
    "duration": 31,
    "start_time": "2025-01-24T18:54:12.883Z"
   },
   {
    "duration": 53,
    "start_time": "2025-01-24T18:54:29.625Z"
   },
   {
    "duration": 5,
    "start_time": "2025-01-24T18:56:51.267Z"
   },
   {
    "duration": 3,
    "start_time": "2025-01-24T18:56:53.349Z"
   },
   {
    "duration": 4,
    "start_time": "2025-01-24T18:56:54.562Z"
   },
   {
    "duration": 4,
    "start_time": "2025-01-24T18:56:56.513Z"
   },
   {
    "duration": 13,
    "start_time": "2025-01-24T18:56:58.437Z"
   },
   {
    "duration": 6753,
    "start_time": "2025-01-24T18:57:05.291Z"
   },
   {
    "duration": 4,
    "start_time": "2025-01-24T18:57:40.924Z"
   },
   {
    "duration": 3,
    "start_time": "2025-01-24T18:59:01.655Z"
   },
   {
    "duration": 3,
    "start_time": "2025-01-24T19:03:00.214Z"
   },
   {
    "duration": 3,
    "start_time": "2025-01-24T19:03:23.925Z"
   },
   {
    "duration": 22,
    "start_time": "2025-01-24T19:03:41.325Z"
   },
   {
    "duration": 3,
    "start_time": "2025-01-24T19:03:52.986Z"
   },
   {
    "duration": 46052,
    "start_time": "2025-01-24T19:03:54.059Z"
   },
   {
    "duration": 3,
    "start_time": "2025-01-24T19:05:00.943Z"
   },
   {
    "duration": 65105,
    "start_time": "2025-01-24T19:05:02.335Z"
   },
   {
    "duration": 4,
    "start_time": "2025-01-24T19:07:24.620Z"
   },
   {
    "duration": 4,
    "start_time": "2025-01-24T19:08:33.061Z"
   },
   {
    "duration": 2,
    "start_time": "2025-01-24T19:11:42.282Z"
   },
   {
    "duration": 3,
    "start_time": "2025-01-24T19:11:43.755Z"
   },
   {
    "duration": 168284,
    "start_time": "2025-01-24T19:11:44.747Z"
   },
   {
    "duration": 4,
    "start_time": "2025-01-24T19:14:37.553Z"
   },
   {
    "duration": 4,
    "start_time": "2025-01-24T19:14:40.096Z"
   },
   {
    "duration": 3,
    "start_time": "2025-01-24T19:15:50.061Z"
   },
   {
    "duration": 270,
    "start_time": "2025-01-24T19:16:46.940Z"
   },
   {
    "duration": 5,
    "start_time": "2025-01-24T19:17:32.688Z"
   },
   {
    "duration": 5,
    "start_time": "2025-01-24T19:17:52.115Z"
   },
   {
    "duration": 6,
    "start_time": "2025-01-24T19:19:08.131Z"
   },
   {
    "duration": 7,
    "start_time": "2025-01-24T19:20:13.912Z"
   },
   {
    "duration": 9,
    "start_time": "2025-01-24T19:20:58.840Z"
   },
   {
    "duration": 195,
    "start_time": "2025-01-24T19:21:47.002Z"
   },
   {
    "duration": 202,
    "start_time": "2025-01-24T19:23:00.856Z"
   },
   {
    "duration": 295,
    "start_time": "2025-01-24T19:24:22.118Z"
   },
   {
    "duration": 260,
    "start_time": "2025-01-24T19:25:21.745Z"
   },
   {
    "duration": 219,
    "start_time": "2025-01-24T19:25:31.037Z"
   },
   {
    "duration": 1078,
    "start_time": "2025-01-24T19:59:13.934Z"
   },
   {
    "duration": 3204,
    "start_time": "2025-01-24T19:59:18.117Z"
   },
   {
    "duration": 1916,
    "start_time": "2025-01-24T19:59:21.324Z"
   },
   {
    "duration": 151,
    "start_time": "2025-01-24T19:59:23.242Z"
   },
   {
    "duration": 14,
    "start_time": "2025-01-24T19:59:23.395Z"
   },
   {
    "duration": 18,
    "start_time": "2025-01-24T19:59:23.412Z"
   },
   {
    "duration": 12,
    "start_time": "2025-01-24T19:59:23.432Z"
   },
   {
    "duration": 18,
    "start_time": "2025-01-24T19:59:23.459Z"
   },
   {
    "duration": 296,
    "start_time": "2025-01-24T19:59:23.479Z"
   },
   {
    "duration": 13,
    "start_time": "2025-01-24T19:59:23.777Z"
   },
   {
    "duration": 12,
    "start_time": "2025-01-24T19:59:23.791Z"
   },
   {
    "duration": 501,
    "start_time": "2025-01-24T19:59:23.805Z"
   },
   {
    "duration": 2567,
    "start_time": "2025-01-24T21:21:44.199Z"
   },
   {
    "duration": 1540,
    "start_time": "2025-01-24T21:21:49.464Z"
   },
   {
    "duration": 43,
    "start_time": "2025-01-24T21:22:01.295Z"
   },
   {
    "duration": 13,
    "start_time": "2025-01-24T21:22:03.024Z"
   },
   {
    "duration": 17,
    "start_time": "2025-01-24T21:22:04.815Z"
   },
   {
    "duration": 10,
    "start_time": "2025-01-24T21:22:06.887Z"
   },
   {
    "duration": 15,
    "start_time": "2025-01-24T21:22:14.665Z"
   },
   {
    "duration": 264,
    "start_time": "2025-01-24T21:31:45.168Z"
   },
   {
    "duration": 26,
    "start_time": "2025-01-24T21:33:33.894Z"
   },
   {
    "duration": 127,
    "start_time": "2025-01-24T21:34:18.614Z"
   },
   {
    "duration": 169,
    "start_time": "2025-01-24T21:34:42.392Z"
   },
   {
    "duration": 7,
    "start_time": "2025-01-24T21:34:51.654Z"
   },
   {
    "duration": 194,
    "start_time": "2025-01-24T21:35:48.692Z"
   },
   {
    "duration": 264,
    "start_time": "2025-01-24T21:36:48.684Z"
   },
   {
    "duration": 7,
    "start_time": "2025-01-24T21:41:02.025Z"
   },
   {
    "duration": 2839,
    "start_time": "2025-01-25T13:30:27.407Z"
   },
   {
    "duration": 1661,
    "start_time": "2025-01-25T13:30:32.437Z"
   },
   {
    "duration": 95,
    "start_time": "2025-01-25T13:30:45.829Z"
   },
   {
    "duration": 14,
    "start_time": "2025-01-25T13:30:48.423Z"
   },
   {
    "duration": 17,
    "start_time": "2025-01-25T13:30:50.474Z"
   },
   {
    "duration": 10,
    "start_time": "2025-01-25T13:30:52.650Z"
   },
   {
    "duration": 16,
    "start_time": "2025-01-25T13:30:55.424Z"
   },
   {
    "duration": 240,
    "start_time": "2025-01-25T13:30:58.513Z"
   },
   {
    "duration": 8,
    "start_time": "2025-01-25T13:31:10.357Z"
   },
   {
    "duration": 201,
    "start_time": "2025-01-25T13:31:12.383Z"
   },
   {
    "duration": 7,
    "start_time": "2025-01-25T13:32:20.353Z"
   },
   {
    "duration": 11,
    "start_time": "2025-01-25T13:33:16.597Z"
   },
   {
    "duration": 184,
    "start_time": "2025-01-25T13:33:28.651Z"
   },
   {
    "duration": 267,
    "start_time": "2025-01-25T13:39:16.959Z"
   },
   {
    "duration": 300,
    "start_time": "2025-01-25T13:41:07.539Z"
   },
   {
    "duration": 298,
    "start_time": "2025-01-25T13:41:27.435Z"
   },
   {
    "duration": 314,
    "start_time": "2025-01-25T13:41:41.491Z"
   },
   {
    "duration": 315,
    "start_time": "2025-01-25T13:44:29.434Z"
   },
   {
    "duration": 316,
    "start_time": "2025-01-25T13:45:32.243Z"
   },
   {
    "duration": 9,
    "start_time": "2025-01-25T13:47:38.431Z"
   },
   {
    "duration": 12,
    "start_time": "2025-01-25T13:47:48.839Z"
   },
   {
    "duration": 196,
    "start_time": "2025-01-25T13:48:26.738Z"
   },
   {
    "duration": 146,
    "start_time": "2025-01-25T13:57:24.712Z"
   },
   {
    "duration": 17,
    "start_time": "2025-01-25T14:00:51.639Z"
   },
   {
    "duration": 12,
    "start_time": "2025-01-25T14:01:29.604Z"
   },
   {
    "duration": 10,
    "start_time": "2025-01-25T14:01:47.085Z"
   },
   {
    "duration": 16,
    "start_time": "2025-01-25T14:01:51.773Z"
   },
   {
    "duration": 16,
    "start_time": "2025-01-25T14:02:29.987Z"
   },
   {
    "duration": 18,
    "start_time": "2025-01-25T14:03:53.559Z"
   },
   {
    "duration": 13,
    "start_time": "2025-01-25T14:04:40.130Z"
   },
   {
    "duration": 22,
    "start_time": "2025-01-25T14:04:57.392Z"
   },
   {
    "duration": 192,
    "start_time": "2025-01-25T14:05:07.752Z"
   },
   {
    "duration": 207,
    "start_time": "2025-01-25T14:07:46.530Z"
   },
   {
    "duration": 14,
    "start_time": "2025-01-25T14:13:33.497Z"
   },
   {
    "duration": 7,
    "start_time": "2025-01-25T14:17:28.650Z"
   },
   {
    "duration": 371,
    "start_time": "2025-01-25T14:18:50.782Z"
   },
   {
    "duration": 13,
    "start_time": "2025-01-25T14:19:11.836Z"
   },
   {
    "duration": 14,
    "start_time": "2025-01-25T14:19:19.326Z"
   },
   {
    "duration": 5,
    "start_time": "2025-01-25T14:19:22.443Z"
   },
   {
    "duration": 3,
    "start_time": "2025-01-25T14:19:29.529Z"
   },
   {
    "duration": 3,
    "start_time": "2025-01-25T14:19:31.985Z"
   },
   {
    "duration": 5,
    "start_time": "2025-01-25T14:20:32.874Z"
   },
   {
    "duration": 3,
    "start_time": "2025-01-25T14:21:01.456Z"
   },
   {
    "duration": 3779,
    "start_time": "2025-01-25T14:21:05.420Z"
   },
   {
    "duration": 5,
    "start_time": "2025-01-25T14:21:13.250Z"
   },
   {
    "duration": 4,
    "start_time": "2025-01-25T14:21:15.544Z"
   },
   {
    "duration": 3,
    "start_time": "2025-01-25T14:21:21.522Z"
   },
   {
    "duration": 3,
    "start_time": "2025-01-25T14:21:28.298Z"
   },
   {
    "duration": 4,
    "start_time": "2025-01-25T14:21:42.543Z"
   },
   {
    "duration": 53253,
    "start_time": "2025-01-25T14:21:44.561Z"
   },
   {
    "duration": 4,
    "start_time": "2025-01-25T14:22:40.987Z"
   },
   {
    "duration": 4,
    "start_time": "2025-01-25T14:22:43.596Z"
   },
   {
    "duration": 3,
    "start_time": "2025-01-25T14:23:05.050Z"
   },
   {
    "duration": 245,
    "start_time": "2025-01-25T14:23:08.397Z"
   },
   {
    "duration": 6,
    "start_time": "2025-01-25T14:23:09.799Z"
   },
   {
    "duration": 10,
    "start_time": "2025-01-25T14:23:13.366Z"
   },
   {
    "duration": 10,
    "start_time": "2025-01-25T14:23:14.630Z"
   },
   {
    "duration": 200,
    "start_time": "2025-01-25T14:23:24.289Z"
   },
   {
    "duration": 7,
    "start_time": "2025-01-25T14:26:42.957Z"
   },
   {
    "duration": 9,
    "start_time": "2025-01-25T14:27:04.665Z"
   },
   {
    "duration": 200,
    "start_time": "2025-01-25T14:28:10.460Z"
   },
   {
    "duration": 159,
    "start_time": "2025-01-25T14:28:27.921Z"
   },
   {
    "duration": 194,
    "start_time": "2025-01-25T14:29:41.233Z"
   },
   {
    "duration": 153,
    "start_time": "2025-01-25T14:30:25.269Z"
   },
   {
    "duration": 18,
    "start_time": "2025-01-25T14:31:59.484Z"
   },
   {
    "duration": 16,
    "start_time": "2025-01-25T14:32:01.701Z"
   },
   {
    "duration": 6,
    "start_time": "2025-01-25T14:32:46.231Z"
   },
   {
    "duration": 5,
    "start_time": "2025-01-25T14:33:00.569Z"
   },
   {
    "duration": 6,
    "start_time": "2025-01-25T14:33:19.309Z"
   },
   {
    "duration": 30,
    "start_time": "2025-01-25T14:33:27.233Z"
   },
   {
    "duration": 5,
    "start_time": "2025-01-25T14:33:28.169Z"
   },
   {
    "duration": 8,
    "start_time": "2025-01-25T14:33:34.501Z"
   },
   {
    "duration": 9,
    "start_time": "2025-01-25T14:33:36.112Z"
   },
   {
    "duration": 224,
    "start_time": "2025-01-25T14:33:37.796Z"
   },
   {
    "duration": 13,
    "start_time": "2025-01-25T14:33:55.021Z"
   },
   {
    "duration": 144,
    "start_time": "2025-01-25T14:33:56.286Z"
   },
   {
    "duration": 192,
    "start_time": "2025-01-25T14:34:24.535Z"
   },
   {
    "duration": 9,
    "start_time": "2025-01-25T14:34:56.298Z"
   },
   {
    "duration": 216,
    "start_time": "2025-01-25T14:35:24.822Z"
   }
  ],
  "kernelspec": {
   "display_name": "Python [conda env:base] *",
   "language": "python",
   "name": "conda-base-py"
  },
  "language_info": {
   "codemirror_mode": {
    "name": "ipython",
    "version": 3
   },
   "file_extension": ".py",
   "mimetype": "text/x-python",
   "name": "python",
   "nbconvert_exporter": "python",
   "pygments_lexer": "ipython3",
   "version": "3.12.3"
  },
  "toc": {
   "base_numbering": 1,
   "nav_menu": {},
   "number_sections": true,
   "sideBar": true,
   "skip_h1_title": true,
   "title_cell": "Содержание",
   "title_sidebar": "Contents",
   "toc_cell": true,
   "toc_position": {},
   "toc_section_display": true,
   "toc_window_display": false
  }
 },
 "nbformat": 4,
 "nbformat_minor": 4
}
